{
  "nbformat": 4,
  "nbformat_minor": 0,
  "metadata": {
    "colab": {
      "name": " Iris.ipynb",
      "provenance": [],
      "collapsed_sections": [],
      "toc_visible": true,
      "include_colab_link": true
    },
    "kernelspec": {
      "display_name": "Python 3",
      "language": "python",
      "name": "python3"
    }
  },
  "cells": [
    {
      "cell_type": "markdown",
      "metadata": {
        "id": "view-in-github",
        "colab_type": "text"
      },
      "source": [
        "<a href=\"https://colab.research.google.com/github/ericnsoares/PUCBIMaster/blob/main/Iris.ipynb\" target=\"_parent\"><img src=\"https://colab.research.google.com/assets/colab-badge.svg\" alt=\"Open In Colab\"/></a>"
      ]
    },
    {
      "cell_type": "markdown",
      "metadata": {
        "id": "WjZWHSzCtp2z"
      },
      "source": [
        "# Análise de Previsão de Churn\n"
      ]
    },
    {
      "cell_type": "markdown",
      "metadata": {
        "id": "ydXN3414swlV"
      },
      "source": [
        "Neste script iremos prever a espécie de uma planta usando o algoritmo KNN (K Nearest Neighbor)."
      ]
    },
    {
      "cell_type": "markdown",
      "metadata": {
        "id": "5lHhXR-pswlX"
      },
      "source": [
        "# Setup\n",
        "\n",
        "##Importar bibliotecas necessárias"
      ]
    },
    {
      "cell_type": "code",
      "metadata": {
        "id": "ag4v_UQIswla"
      },
      "source": [
        "import pandas as pd\n",
        "from sklearn.model_selection import train_test_split\n",
        "from sklearn.neighbors import KNeighborsClassifier\n",
        "from sklearn.metrics import accuracy_score"
      ],
      "execution_count": 1,
      "outputs": []
    },
    {
      "cell_type": "markdown",
      "metadata": {
        "id": "B8F2degOswlh"
      },
      "source": [
        "# Exercício 1\n",
        "\n",
        "Carregue o arquivo csv chamado 'Iris.csv' usando pandas e salve a base em uma variável chamada df. (dica: pd.read_csv('<nome_da_base.csv>')) Imprima as primeiras 10 linhas do dataframe e verifique se tudo foi carregado corretamente. (dica: df.head())"
      ]
    },
    {
      "cell_type": "code",
      "metadata": {
        "id": "-Hd5KRvgswll"
      },
      "source": [
        "df = pd.read_csv(\"_Iris.csv\")"
      ],
      "execution_count": 2,
      "outputs": []
    },
    {
      "cell_type": "code",
      "metadata": {
        "id": "q7HbT-5EupWg",
        "colab": {
          "base_uri": "https://localhost:8080/"
        },
        "outputId": "5f1802f0-e6da-47f8-9960-4f47017406d6"
      },
      "source": [
        "print(df.head(10))\r\n"
      ],
      "execution_count": 3,
      "outputs": [
        {
          "output_type": "stream",
          "text": [
            "   SepalLengthCm  SepalWidthCm  PetalLengthCm  PetalWidthCm      Species\n",
            "0            5.1           3.5            1.4           0.2  Iris-setosa\n",
            "1            4.9           3.0            1.4           0.2  Iris-setosa\n",
            "2            4.7           3.2            1.3           0.2  Iris-setosa\n",
            "3            4.6           3.1            1.5           0.2  Iris-setosa\n",
            "4            5.0           3.6            1.4           0.2  Iris-setosa\n",
            "5            5.4           3.9            1.7           0.4  Iris-setosa\n",
            "6            4.6           3.4            1.4           0.3  Iris-setosa\n",
            "7            5.0           3.4            1.5           0.2  Iris-setosa\n",
            "8            4.4           2.9            1.4           0.2  Iris-setosa\n",
            "9            4.9           3.1            1.5           0.1  Iris-setosa\n"
          ],
          "name": "stdout"
        }
      ]
    },
    {
      "cell_type": "markdown",
      "metadata": {
        "id": "8PrIHYtoswlr"
      },
      "source": [
        "# Exercício 2: \n",
        "\n",
        "Que coluna indica a espécie da planta? Quantas plantas existem na sua base de dados? (dica: len(?))\n"
      ]
    },
    {
      "cell_type": "code",
      "metadata": {
        "id": "2t2_eZmPswly",
        "colab": {
          "base_uri": "https://localhost:8080/"
        },
        "outputId": "472cbff6-f98c-4cf6-e802-e782c9b56b5b"
      },
      "source": [
        "#coluna rótulo: <Species>\n",
        "print(df.Species)\n",
        "# número de plantas:\n",
        "print (len(df))\n"
      ],
      "execution_count": 11,
      "outputs": [
        {
          "output_type": "stream",
          "text": [
            "0         Iris-setosa\n",
            "1         Iris-setosa\n",
            "2         Iris-setosa\n",
            "3         Iris-setosa\n",
            "4         Iris-setosa\n",
            "            ...      \n",
            "145    Iris-virginica\n",
            "146    Iris-virginica\n",
            "147    Iris-virginica\n",
            "148    Iris-virginica\n",
            "149    Iris-virginica\n",
            "Name: Species, Length: 150, dtype: object\n",
            "150\n"
          ],
          "name": "stdout"
        }
      ]
    },
    {
      "cell_type": "markdown",
      "metadata": {
        "id": "JeRk9vKYswl3"
      },
      "source": [
        "# Exercício 3:\n",
        "\n",
        "Use df.describe() para explorar cada coluna. Todos devem ser igual a 150 pois não temos missing values!!"
      ]
    },
    {
      "cell_type": "code",
      "metadata": {
        "id": "a5qWKHvQswl5",
        "colab": {
          "base_uri": "https://localhost:8080/",
          "height": 284
        },
        "outputId": "ea109e31-42a6-4eda-f984-9414b75228c6"
      },
      "source": [
        "df.describe()"
      ],
      "execution_count": 6,
      "outputs": [
        {
          "output_type": "execute_result",
          "data": {
            "text/html": [
              "<div>\n",
              "<style scoped>\n",
              "    .dataframe tbody tr th:only-of-type {\n",
              "        vertical-align: middle;\n",
              "    }\n",
              "\n",
              "    .dataframe tbody tr th {\n",
              "        vertical-align: top;\n",
              "    }\n",
              "\n",
              "    .dataframe thead th {\n",
              "        text-align: right;\n",
              "    }\n",
              "</style>\n",
              "<table border=\"1\" class=\"dataframe\">\n",
              "  <thead>\n",
              "    <tr style=\"text-align: right;\">\n",
              "      <th></th>\n",
              "      <th>SepalLengthCm</th>\n",
              "      <th>SepalWidthCm</th>\n",
              "      <th>PetalLengthCm</th>\n",
              "      <th>PetalWidthCm</th>\n",
              "    </tr>\n",
              "  </thead>\n",
              "  <tbody>\n",
              "    <tr>\n",
              "      <th>count</th>\n",
              "      <td>150.000000</td>\n",
              "      <td>150.000000</td>\n",
              "      <td>150.000000</td>\n",
              "      <td>150.000000</td>\n",
              "    </tr>\n",
              "    <tr>\n",
              "      <th>mean</th>\n",
              "      <td>5.843333</td>\n",
              "      <td>3.054000</td>\n",
              "      <td>3.758667</td>\n",
              "      <td>1.198667</td>\n",
              "    </tr>\n",
              "    <tr>\n",
              "      <th>std</th>\n",
              "      <td>0.828066</td>\n",
              "      <td>0.433594</td>\n",
              "      <td>1.764420</td>\n",
              "      <td>0.763161</td>\n",
              "    </tr>\n",
              "    <tr>\n",
              "      <th>min</th>\n",
              "      <td>4.300000</td>\n",
              "      <td>2.000000</td>\n",
              "      <td>1.000000</td>\n",
              "      <td>0.100000</td>\n",
              "    </tr>\n",
              "    <tr>\n",
              "      <th>25%</th>\n",
              "      <td>5.100000</td>\n",
              "      <td>2.800000</td>\n",
              "      <td>1.600000</td>\n",
              "      <td>0.300000</td>\n",
              "    </tr>\n",
              "    <tr>\n",
              "      <th>50%</th>\n",
              "      <td>5.800000</td>\n",
              "      <td>3.000000</td>\n",
              "      <td>4.350000</td>\n",
              "      <td>1.300000</td>\n",
              "    </tr>\n",
              "    <tr>\n",
              "      <th>75%</th>\n",
              "      <td>6.400000</td>\n",
              "      <td>3.300000</td>\n",
              "      <td>5.100000</td>\n",
              "      <td>1.800000</td>\n",
              "    </tr>\n",
              "    <tr>\n",
              "      <th>max</th>\n",
              "      <td>7.900000</td>\n",
              "      <td>4.400000</td>\n",
              "      <td>6.900000</td>\n",
              "      <td>2.500000</td>\n",
              "    </tr>\n",
              "  </tbody>\n",
              "</table>\n",
              "</div>"
            ],
            "text/plain": [
              "       SepalLengthCm  SepalWidthCm  PetalLengthCm  PetalWidthCm\n",
              "count     150.000000    150.000000     150.000000    150.000000\n",
              "mean        5.843333      3.054000       3.758667      1.198667\n",
              "std         0.828066      0.433594       1.764420      0.763161\n",
              "min         4.300000      2.000000       1.000000      0.100000\n",
              "25%         5.100000      2.800000       1.600000      0.300000\n",
              "50%         5.800000      3.000000       4.350000      1.300000\n",
              "75%         6.400000      3.300000       5.100000      1.800000\n",
              "max         7.900000      4.400000       6.900000      2.500000"
            ]
          },
          "metadata": {
            "tags": []
          },
          "execution_count": 6
        }
      ]
    },
    {
      "cell_type": "markdown",
      "metadata": {
        "id": "mNR9bQfLswmJ"
      },
      "source": [
        "# Exercício 5:\n",
        "\n",
        "Verifique o número de colunas da base de dados (dica: df.shape)\n",
        "\n",
        "Separe a base de dados em atributos de entrada e rótulos. Associe os atributos a variável X e os rótulos a variável y.\n",
        "\n",
        "Verifique as primeiras linhas das bases separadas."
      ]
    },
    {
      "cell_type": "code",
      "metadata": {
        "id": "RvWTW-005MGr",
        "colab": {
          "base_uri": "https://localhost:8080/"
        },
        "outputId": "a3e9cafc-a655-4ffe-8767-de221d6dbd11"
      },
      "source": [
        "print(df.shape) #Retorna uma tupla q representa a dimensionalidade (linhas X Colunas) do DataFrame\r\n",
        "print(df.shape[1]) #A quantidade de colunas é o segundo valor da tupla"
      ],
      "execution_count": 15,
      "outputs": [
        {
          "output_type": "stream",
          "text": [
            "(150, 5)\n",
            "5\n"
          ],
          "name": "stdout"
        }
      ]
    },
    {
      "cell_type": "code",
      "metadata": {
        "id": "Lgm8IgGgswmM",
        "colab": {
          "base_uri": "https://localhost:8080/"
        },
        "outputId": "65ba8f4e-7de1-4ea6-84fc-6cc3c48329bf"
      },
      "source": [
        "x = df.iloc[:, 0:4]\n",
        "print (\"x:\\n\", x)\n",
        "y = df.loc[:, 'Species']\n",
        "print (\"y:\\n\", y)"
      ],
      "execution_count": 28,
      "outputs": [
        {
          "output_type": "stream",
          "text": [
            "x:\n",
            "      SepalLengthCm  SepalWidthCm  PetalLengthCm  PetalWidthCm\n",
            "0              5.1           3.5            1.4           0.2\n",
            "1              4.9           3.0            1.4           0.2\n",
            "2              4.7           3.2            1.3           0.2\n",
            "3              4.6           3.1            1.5           0.2\n",
            "4              5.0           3.6            1.4           0.2\n",
            "..             ...           ...            ...           ...\n",
            "145            6.7           3.0            5.2           2.3\n",
            "146            6.3           2.5            5.0           1.9\n",
            "147            6.5           3.0            5.2           2.0\n",
            "148            6.2           3.4            5.4           2.3\n",
            "149            5.9           3.0            5.1           1.8\n",
            "\n",
            "[150 rows x 4 columns]\n",
            "y:\n",
            " 0         Iris-setosa\n",
            "1         Iris-setosa\n",
            "2         Iris-setosa\n",
            "3         Iris-setosa\n",
            "4         Iris-setosa\n",
            "            ...      \n",
            "145    Iris-virginica\n",
            "146    Iris-virginica\n",
            "147    Iris-virginica\n",
            "148    Iris-virginica\n",
            "149    Iris-virginica\n",
            "Name: Species, Length: 150, dtype: object\n"
          ],
          "name": "stdout"
        }
      ]
    },
    {
      "cell_type": "code",
      "metadata": {
        "id": "nFS8g3U95gVQ",
        "colab": {
          "base_uri": "https://localhost:8080/"
        },
        "outputId": "bf6096fe-d48d-4fa2-cbb8-9effa9dd351d"
      },
      "source": [
        "# primeiras linhas de X\r\n",
        "print(x.head())"
      ],
      "execution_count": 29,
      "outputs": [
        {
          "output_type": "stream",
          "text": [
            "   SepalLengthCm  SepalWidthCm  PetalLengthCm  PetalWidthCm\n",
            "0            5.1           3.5            1.4           0.2\n",
            "1            4.9           3.0            1.4           0.2\n",
            "2            4.7           3.2            1.3           0.2\n",
            "3            4.6           3.1            1.5           0.2\n",
            "4            5.0           3.6            1.4           0.2\n"
          ],
          "name": "stdout"
        }
      ]
    },
    {
      "cell_type": "code",
      "metadata": {
        "id": "x7MKn5Zk5jSp",
        "colab": {
          "base_uri": "https://localhost:8080/"
        },
        "outputId": "822969f6-c536-4eeb-8843-57075e4c8f55"
      },
      "source": [
        "# primeiras linhas de y\r\n",
        "print(y.head())"
      ],
      "execution_count": 31,
      "outputs": [
        {
          "output_type": "stream",
          "text": [
            "0    Iris-setosa\n",
            "1    Iris-setosa\n",
            "2    Iris-setosa\n",
            "3    Iris-setosa\n",
            "4    Iris-setosa\n",
            "Name: Species, dtype: object\n"
          ],
          "name": "stdout"
        }
      ]
    },
    {
      "cell_type": "markdown",
      "metadata": {
        "id": "dtmjyFBRswmT"
      },
      "source": [
        "# Exercício 6: \n",
        "\n",
        "Separa a base de treino (70%) e teste (30%) e associe-as as variáveis X_train, X_test, y_train, y_test (dica: train_test_split(X,y, test_size=0.3))"
      ]
    },
    {
      "cell_type": "code",
      "metadata": {
        "id": "vNasDqZ-swmZ"
      },
      "source": [
        ""
      ],
      "execution_count": null,
      "outputs": []
    },
    {
      "cell_type": "markdown",
      "metadata": {
        "id": "tYkjU-cMswmd"
      },
      "source": [
        "# Exercício 7: \n",
        "\n",
        "Crie um classificador KNN com 5 vizinhos. (hint: KNeighborsClassifier(n_neighbors=5))"
      ]
    },
    {
      "cell_type": "code",
      "metadata": {
        "id": "6HHTH2Iuswmf"
      },
      "source": [
        "knn = "
      ],
      "execution_count": null,
      "outputs": []
    },
    {
      "cell_type": "markdown",
      "metadata": {
        "id": "EMic1KSyswmj"
      },
      "source": [
        "# Exercício 8:\n",
        "\n",
        "Apresente a base de treino para ajustar o modelo. (hint: knn.fit(<'base_de_treino_atributos'>, <'base_de_treino_rotulos'>))"
      ]
    },
    {
      "cell_type": "code",
      "metadata": {
        "id": "frU84hhPswmm"
      },
      "source": [
        "knn = "
      ],
      "execution_count": null,
      "outputs": []
    },
    {
      "cell_type": "markdown",
      "metadata": {
        "id": "ryUcU5vOswms"
      },
      "source": [
        "# Exercício 9:\n",
        "\n",
        "Use o modelo para fazer previsões na base de teste. Associe os resultados de previsão a variável y_pred. Dica: knn.predict(<'atributos de teste'>)"
      ]
    },
    {
      "cell_type": "code",
      "metadata": {
        "id": "9hxSvQcKswmx"
      },
      "source": [
        "y_pred = "
      ],
      "execution_count": null,
      "outputs": []
    },
    {
      "cell_type": "markdown",
      "metadata": {
        "id": "5WfVRPM3swm3"
      },
      "source": [
        "# Exercício 10:\n",
        "\n",
        "Determine quão acurado é o seu modelo. (dica: accuracy_score(<'rotulo_real'>, <'rotulo_previsto'>))"
      ]
    },
    {
      "cell_type": "code",
      "metadata": {
        "id": "REC5DKkOswm4"
      },
      "source": [
        ""
      ],
      "execution_count": null,
      "outputs": []
    }
  ]
}