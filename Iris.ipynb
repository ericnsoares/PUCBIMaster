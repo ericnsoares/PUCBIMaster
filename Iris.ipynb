{
  "nbformat": 4,
  "nbformat_minor": 0,
  "metadata": {
    "colab": {
      "name": " Iris.ipynb",
      "provenance": [],
      "collapsed_sections": [],
      "toc_visible": true,
      "include_colab_link": true
    },
    "kernelspec": {
      "display_name": "Python 3",
      "language": "python",
      "name": "python3"
    }
  },
  "cells": [
    {
      "cell_type": "markdown",
      "metadata": {
        "id": "view-in-github",
        "colab_type": "text"
      },
      "source": [
        "<a href=\"https://colab.research.google.com/github/ericnsoares/PUCBIMaster/blob/main/Iris.ipynb\" target=\"_parent\"><img src=\"https://colab.research.google.com/assets/colab-badge.svg\" alt=\"Open In Colab\"/></a>"
      ]
    },
    {
      "cell_type": "markdown",
      "metadata": {
        "id": "WjZWHSzCtp2z"
      },
      "source": [
        "# Análise de Previsão de Churn\n"
      ]
    },
    {
      "cell_type": "markdown",
      "metadata": {
        "id": "ydXN3414swlV"
      },
      "source": [
        "Neste script iremos prever a espécie de uma planta usando o algoritmo KNN (K Nearest Neighbor)."
      ]
    },
    {
      "cell_type": "markdown",
      "metadata": {
        "id": "5lHhXR-pswlX"
      },
      "source": [
        "# Setup\n",
        "\n",
        "##Importar bibliotecas necessárias"
      ]
    },
    {
      "cell_type": "code",
      "metadata": {
        "id": "ag4v_UQIswla"
      },
      "source": [
        "import pandas as pd\n",
        "from sklearn.model_selection import train_test_split\n",
        "from sklearn.neighbors import KNeighborsClassifier\n",
        "from sklearn.metrics import accuracy_score"
      ],
      "execution_count": 1,
      "outputs": []
    },
    {
      "cell_type": "markdown",
      "metadata": {
        "id": "B8F2degOswlh"
      },
      "source": [
        "# Exercício 1\n",
        "\n",
        "Carregue o arquivo csv chamado 'Iris.csv' usando pandas e salve a base em uma variável chamada df. (dica: pd.read_csv('<nome_da_base.csv>')) Imprima as primeiras 10 linhas do dataframe e verifique se tudo foi carregado corretamente. (dica: df.head())"
      ]
    },
    {
      "cell_type": "code",
      "metadata": {
        "id": "-Hd5KRvgswll"
      },
      "source": [
        "df = pd.read_csv(\"_Iris.csv\")"
      ],
      "execution_count": 2,
      "outputs": []
    },
    {
      "cell_type": "code",
      "metadata": {
        "id": "q7HbT-5EupWg",
        "outputId": "9dce8221-4280-4f4b-b771-6bed6a3701fe",
        "colab": {
          "base_uri": "https://localhost:8080/"
        }
      },
      "source": [
        "print(df.head(10))\r\n"
      ],
      "execution_count": 4,
      "outputs": [
        {
          "output_type": "stream",
          "text": [
            "   SepalLengthCm  SepalWidthCm  PetalLengthCm  PetalWidthCm      Species\n",
            "0            5.1           3.5            1.4           0.2  Iris-setosa\n",
            "1            4.9           3.0            1.4           0.2  Iris-setosa\n",
            "2            4.7           3.2            1.3           0.2  Iris-setosa\n",
            "3            4.6           3.1            1.5           0.2  Iris-setosa\n",
            "4            5.0           3.6            1.4           0.2  Iris-setosa\n",
            "5            5.4           3.9            1.7           0.4  Iris-setosa\n",
            "6            4.6           3.4            1.4           0.3  Iris-setosa\n",
            "7            5.0           3.4            1.5           0.2  Iris-setosa\n",
            "8            4.4           2.9            1.4           0.2  Iris-setosa\n",
            "9            4.9           3.1            1.5           0.1  Iris-setosa\n"
          ],
          "name": "stdout"
        }
      ]
    },
    {
      "cell_type": "markdown",
      "metadata": {
        "id": "8PrIHYtoswlr"
      },
      "source": [
        "# Exercício 2: \n",
        "\n",
        "Que coluna indica a espécie da planta? Quantas plantas existem na sua base de dados? (dica: len(?))\n"
      ]
    },
    {
      "cell_type": "code",
      "metadata": {
        "id": "2t2_eZmPswly"
      },
      "source": [
        "#coluna rótulo: <qual é?>\n",
        "# número de plantas:\n"
      ],
      "execution_count": null,
      "outputs": []
    },
    {
      "cell_type": "markdown",
      "metadata": {
        "id": "JeRk9vKYswl3"
      },
      "source": [
        "# Exercício 3:\n",
        "\n",
        "Use df.describe() para explorar cada coluna. Todos devem ser igual a 150 pois não temos missing values!!"
      ]
    },
    {
      "cell_type": "code",
      "metadata": {
        "id": "a5qWKHvQswl5"
      },
      "source": [
        ""
      ],
      "execution_count": null,
      "outputs": []
    },
    {
      "cell_type": "markdown",
      "metadata": {
        "id": "mNR9bQfLswmJ"
      },
      "source": [
        "# Exercício 5:\n",
        "\n",
        "Verifique o número de colunas da base de dados (dica: df.shape)\n",
        "\n",
        "Separe a base de dados em atributos de entrada e rótulos. Associe os atributos a variável X e os rótulos a variável y.\n",
        "\n",
        "Verifique as primeiras linhas das bases separadas."
      ]
    },
    {
      "cell_type": "code",
      "metadata": {
        "id": "RvWTW-005MGr"
      },
      "source": [
        ""
      ],
      "execution_count": null,
      "outputs": []
    },
    {
      "cell_type": "code",
      "metadata": {
        "id": "Lgm8IgGgswmM"
      },
      "source": [
        "X = \n",
        "y = "
      ],
      "execution_count": null,
      "outputs": []
    },
    {
      "cell_type": "code",
      "metadata": {
        "id": "nFS8g3U95gVQ"
      },
      "source": [
        "# primeiras linhas de X"
      ],
      "execution_count": null,
      "outputs": []
    },
    {
      "cell_type": "code",
      "metadata": {
        "id": "x7MKn5Zk5jSp"
      },
      "source": [
        "# primeiras linhas de y"
      ],
      "execution_count": null,
      "outputs": []
    },
    {
      "cell_type": "markdown",
      "metadata": {
        "id": "dtmjyFBRswmT"
      },
      "source": [
        "# Exercício 6: \n",
        "\n",
        "Separa a base de treino (70%) e teste (30%) e associe-as as variáveis X_train, X_test, y_train, y_test (dica: train_test_split(X,y, test_size=0.3))"
      ]
    },
    {
      "cell_type": "code",
      "metadata": {
        "id": "vNasDqZ-swmZ"
      },
      "source": [
        ""
      ],
      "execution_count": null,
      "outputs": []
    },
    {
      "cell_type": "markdown",
      "metadata": {
        "id": "tYkjU-cMswmd"
      },
      "source": [
        "# Exercício 7: \n",
        "\n",
        "Crie um classificador KNN com 5 vizinhos. (hint: KNeighborsClassifier(n_neighbors=5))"
      ]
    },
    {
      "cell_type": "code",
      "metadata": {
        "id": "6HHTH2Iuswmf"
      },
      "source": [
        "knn = "
      ],
      "execution_count": null,
      "outputs": []
    },
    {
      "cell_type": "markdown",
      "metadata": {
        "id": "EMic1KSyswmj"
      },
      "source": [
        "# Exercício 8:\n",
        "\n",
        "Apresente a base de treino para ajustar o modelo. (hint: knn.fit(<'base_de_treino_atributos'>, <'base_de_treino_rotulos'>))"
      ]
    },
    {
      "cell_type": "code",
      "metadata": {
        "id": "frU84hhPswmm"
      },
      "source": [
        "knn = "
      ],
      "execution_count": null,
      "outputs": []
    },
    {
      "cell_type": "markdown",
      "metadata": {
        "id": "ryUcU5vOswms"
      },
      "source": [
        "# Exercício 9:\n",
        "\n",
        "Use o modelo para fazer previsões na base de teste. Associe os resultados de previsão a variável y_pred. Dica: knn.predict(<'atributos de teste'>)"
      ]
    },
    {
      "cell_type": "code",
      "metadata": {
        "id": "9hxSvQcKswmx"
      },
      "source": [
        "y_pred = "
      ],
      "execution_count": null,
      "outputs": []
    },
    {
      "cell_type": "markdown",
      "metadata": {
        "id": "5WfVRPM3swm3"
      },
      "source": [
        "# Exercício 10:\n",
        "\n",
        "Determine quão acurado é o seu modelo. (dica: accuracy_score(<'rotulo_real'>, <'rotulo_previsto'>))"
      ]
    },
    {
      "cell_type": "code",
      "metadata": {
        "id": "REC5DKkOswm4"
      },
      "source": [
        ""
      ],
      "execution_count": null,
      "outputs": []
    }
  ]
}