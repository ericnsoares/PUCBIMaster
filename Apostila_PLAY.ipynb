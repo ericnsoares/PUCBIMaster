{
  "nbformat": 4,
  "nbformat_minor": 0,
  "metadata": {
    "kernelspec": {
      "display_name": "Python 3",
      "language": "python",
      "name": "python3"
    },
    "language_info": {
      "codemirror_mode": {
        "name": "ipython",
        "version": 3
      },
      "file_extension": ".py",
      "mimetype": "text/x-python",
      "name": "python",
      "nbconvert_exporter": "python",
      "pygments_lexer": "ipython3",
      "version": "3.7.6"
    },
    "colab": {
      "name": "Apostila - PLAY.ipynb",
      "provenance": [],
      "include_colab_link": true
    }
  },
  "cells": [
    {
      "cell_type": "markdown",
      "metadata": {
        "id": "view-in-github",
        "colab_type": "text"
      },
      "source": [
        "<a href=\"https://colab.research.google.com/github/ericnsoares/PUCBIMaster/blob/main/Apostila_PLAY.ipynb\" target=\"_parent\"><img src=\"https://colab.research.google.com/assets/colab-badge.svg\" alt=\"Open In Colab\"/></a>"
      ]
    },
    {
      "cell_type": "markdown",
      "metadata": {
        "id": "9ryroIwi7koi"
      },
      "source": [
        "<img src='Imagens/Logo-PLAY.png' height=\"200\" width=\"150\" align=\"left\" >\n",
        "<img src='Imagens/Logo-ICA.png' height=\"275\" width=\"175\" align=\"right\" >\n"
      ]
    },
    {
      "cell_type": "markdown",
      "metadata": {
        "id": "Omi8J4SkCO3w"
      },
      "source": [
        "Montando o drive"
      ]
    },
    {
      "cell_type": "code",
      "metadata": {
        "colab": {
          "base_uri": "https://localhost:8080/"
        },
        "id": "dzYb2LRqCP_e",
        "outputId": "dbf3dbe5-d97b-489f-e6e5-b6c7fb4607cd"
      },
      "source": [
        "from google.colab import drive\r\n",
        "drive.mount(\"/content/drive\")"
      ],
      "execution_count": 4,
      "outputs": [
        {
          "output_type": "stream",
          "text": [
            "Mounted at /content/drive\n"
          ],
          "name": "stdout"
        }
      ]
    },
    {
      "cell_type": "code",
      "metadata": {
        "id": "1Ql9nf-0DUG8"
      },
      "source": [
        "import os\r\n",
        "os.chdir(\"/content/drive/My Drive/Treinamento/PUCBIMaster/PYTHON\")"
      ],
      "execution_count": 25,
      "outputs": []
    },
    {
      "cell_type": "code",
      "metadata": {
        "colab": {
          "base_uri": "https://localhost:8080/"
        },
        "id": "iPxm4zQdCsGu",
        "outputId": "6026c5aa-a484-4def-b512-1c8f7bb4b53f"
      },
      "source": [
        "!ls \r\n"
      ],
      "execution_count": 26,
      "outputs": [
        {
          "output_type": "stream",
          "text": [
            "'Apostila - PLAY.ipynb'  'INTRODUÇÃO A LÓGICA DE PROGRAMAÇÃO COM PYTHON'\n",
            "'Criando ambientes.pdf'  'Jupyter Notebook.pdf'\n",
            " emagrecimento.txt\t 'SAD - PLAY - 2020.2 - Exercícios.pdf'\n",
            " IMAGENS\t\t 'SAD - PLAY - 2021.1.pdf'\n"
          ],
          "name": "stdout"
        }
      ]
    },
    {
      "cell_type": "markdown",
      "metadata": {
        "id": "LxNk4QrN7kpB"
      },
      "source": [
        "# Programação Lúdica de Aplicações em Python\n",
        "\n",
        "    - Apostila contendo as informações e métodos das funções básicas do Python!"
      ]
    },
    {
      "cell_type": "markdown",
      "metadata": {
        "id": "l_SruwL77kpE"
      },
      "source": [
        "\n",
        "\n",
        "# Tipos de dados\n",
        "\n",
        "\n",
        "\n",
        "Um tipo de dado\tdefine uma coleção de dados\tde objetos e um conjunto de\toperações predefinidas nestes dados de objetos.\n",
        "- Exemplo: nome, endereço, valor, tipo,\tescopo,\ttempo de vida\t\n"
      ]
    },
    {
      "cell_type": "markdown",
      "metadata": {
        "id": "aSfQz-xp7kpI"
      },
      "source": [
        "<img src='Imagens/Tipos-de-dados.jpg' height=\"750\" width=\"600\" align=\"center\" >\n"
      ]
    },
    {
      "cell_type": "markdown",
      "metadata": {
        "id": "dG9683KU7kpL"
      },
      "source": [
        "### Comandos úteis\n",
        "- **print( )**: método utilizado para imprimir no browser a informação que está send passada como parâmetro\n",
        "- **type( )**: método utilizado para identificar o tipo de dado que está sendo passado como parâmetro "
      ]
    },
    {
      "cell_type": "markdown",
      "metadata": {
        "id": "WoA7lX4j7kpN"
      },
      "source": [
        "## Dados tipo None\n",
        "- None é o valor nulo em Python. se uma função não devolve explicitamente um valor, ela devolverá None\n",
        "- None também é um valor default comum para argumentos de funções\n",
        "\n",
        "**Obs**: valor **DEFAULT** é o valor padrão da variável definida na função, esse valor pode ser alterado passando um novo valor como argumento, caso esse argumento não seja mdificado ele permanecerá como o valor padrão. \n"
      ]
    },
    {
      "cell_type": "code",
      "metadata": {
        "id": "L10dPqMx7kpQ"
      },
      "source": [
        "# Exemplo\n",
        "def valor_none(a, b, c = None):\n",
        "    result = a + b\n",
        "    if c is not None:\n",
        "        result = result * c\n",
        "    return result"
      ],
      "execution_count": 1,
      "outputs": []
    },
    {
      "cell_type": "code",
      "metadata": {
        "scrolled": true,
        "colab": {
          "base_uri": "https://localhost:8080/"
        },
        "id": "skGT8gzS7kpS",
        "outputId": "258ca5e9-f727-46a2-d2af-af7a60599759"
      },
      "source": [
        "# Não é passado nenhum valor para o parêmntro c\n",
        "valor_none(1,2)"
      ],
      "execution_count": 2,
      "outputs": [
        {
          "output_type": "execute_result",
          "data": {
            "text/plain": [
              "3"
            ]
          },
          "metadata": {
            "tags": []
          },
          "execution_count": 2
        }
      ]
    },
    {
      "cell_type": "code",
      "metadata": {
        "colab": {
          "base_uri": "https://localhost:8080/"
        },
        "id": "8LQXVbEf7kpX",
        "outputId": "67a44cc1-c4fa-46a9-e84f-a19dafbc02ee"
      },
      "source": [
        "# Neste caso, é atribuido um novo valor para a variável c, com isso, a variável c passa a possuir um valor diferente de None \n",
        "valor_none(1,2,2)"
      ],
      "execution_count": 3,
      "outputs": [
        {
          "output_type": "execute_result",
          "data": {
            "text/plain": [
              "6"
            ]
          },
          "metadata": {
            "tags": []
          },
          "execution_count": 3
        }
      ]
    },
    {
      "cell_type": "code",
      "metadata": {
        "id": "WrMXWI7h7kpb",
        "outputId": "d45e591e-7338-4538-eba7-3256018a04b6"
      },
      "source": [
        "c = None\n",
        "type(None)"
      ],
      "execution_count": null,
      "outputs": [
        {
          "output_type": "execute_result",
          "data": {
            "text/plain": [
              "NoneType"
            ]
          },
          "metadata": {
            "tags": []
          },
          "execution_count": 12
        }
      ]
    },
    {
      "cell_type": "markdown",
      "metadata": {
        "id": "WZovQGHZ7kpe"
      },
      "source": [
        "**Obs**: Mais a frente aprenderemos mais a respeito de funções e métodos ( def )"
      ]
    },
    {
      "cell_type": "markdown",
      "metadata": {
        "id": "6efzJjQB7kpg"
      },
      "source": [
        "## Dados tipo str\n",
        "- Muitas pessoas utilizam o Python devido a sua grande gama de recursos eficazes para o processamento de strings\n",
        "- Podem ser definidas utilizando aspas simples (' ') ou aspas duplas (\" \")\n",
        "- Para strings com multiplas linhas, podemos utilizar aspas triplas ( ' ' ' ou \" \" \" )\n",
        "\n",
        "**Obs**: Teremos um notebook para estudar mais a fundo esse tipo de dado"
      ]
    },
    {
      "cell_type": "code",
      "metadata": {
        "collapsed": true,
        "id": "uFnS8nrA7kpi"
      },
      "source": [
        "string_1 = 'Hoje'\n",
        "string_2 = \"Depois\"\n",
        "string_3 = '''Ninguém é tao grande que não possa aprender, \n",
        "nem tão pequeno que não possa ensinar!'''\n",
        "string_4 = '1'\n",
        "string_5 = \"2.5\""
      ],
      "execution_count": 27,
      "outputs": []
    },
    {
      "cell_type": "code",
      "metadata": {
        "id": "aFIy3y3s7kpu",
        "outputId": "297e26f0-4d48-4cd2-921c-b958f36810ae"
      },
      "source": [
        "type(string_1)"
      ],
      "execution_count": null,
      "outputs": [
        {
          "output_type": "execute_result",
          "data": {
            "text/plain": [
              "str"
            ]
          },
          "metadata": {
            "tags": []
          },
          "execution_count": 20
        }
      ]
    },
    {
      "cell_type": "code",
      "metadata": {
        "id": "mkFNJ7RA7kpx",
        "outputId": "7a4f1da8-6f61-436c-e4b1-44ce2567c95b"
      },
      "source": [
        "type(string_2)"
      ],
      "execution_count": null,
      "outputs": [
        {
          "output_type": "execute_result",
          "data": {
            "text/plain": [
              "str"
            ]
          },
          "metadata": {
            "tags": []
          },
          "execution_count": 21
        }
      ]
    },
    {
      "cell_type": "code",
      "metadata": {
        "colab": {
          "base_uri": "https://localhost:8080/"
        },
        "id": "6O1d6VlH7kpz",
        "outputId": "7fd74605-1fcf-4c74-ca39-e51ab92a2ce8"
      },
      "source": [
        "print(type(string_3),string_3)\r\n"
      ],
      "execution_count": 29,
      "outputs": [
        {
          "output_type": "stream",
          "text": [
            "<class 'str'> Ninguém é tao grande que não possa aprender, \n",
            "nem tão pequeno que não possa ensinar!\n"
          ],
          "name": "stdout"
        }
      ]
    },
    {
      "cell_type": "code",
      "metadata": {
        "id": "lswmrHL67kp1",
        "outputId": "a82af009-0348-4b0c-aa7c-2526b8b0a6c8"
      },
      "source": [
        "type(string_4)"
      ],
      "execution_count": null,
      "outputs": [
        {
          "output_type": "execute_result",
          "data": {
            "text/plain": [
              "str"
            ]
          },
          "metadata": {
            "tags": []
          },
          "execution_count": 24
        }
      ]
    },
    {
      "cell_type": "code",
      "metadata": {
        "id": "Pfq33xE67kp3",
        "outputId": "35e24d15-c656-402a-f246-307cb31d7604"
      },
      "source": [
        "type(string_5)"
      ],
      "execution_count": null,
      "outputs": [
        {
          "output_type": "execute_result",
          "data": {
            "text/plain": [
              "str"
            ]
          },
          "metadata": {
            "tags": []
          },
          "execution_count": 25
        }
      ]
    },
    {
      "cell_type": "markdown",
      "metadata": {
        "id": "nVHRZCmZ7kp6"
      },
      "source": [
        "## Dados tipo float\n",
        "- Números de ponto flutuante são números reais, representados com casas decimais\n",
        "- Podem ser expressos com notação científica\n",
        "- Podem ser positivos ou negativos"
      ]
    },
    {
      "cell_type": "code",
      "metadata": {
        "id": "vrD7pkJB7kp8",
        "outputId": "62fd2582-2f51-470d-dadf-c888f362dbb9"
      },
      "source": [
        "float_1 = 1.5\n",
        "type(float_1)"
      ],
      "execution_count": null,
      "outputs": [
        {
          "output_type": "execute_result",
          "data": {
            "text/plain": [
              "float"
            ]
          },
          "metadata": {
            "tags": []
          },
          "execution_count": 28
        }
      ]
    },
    {
      "cell_type": "code",
      "metadata": {
        "id": "DLSCOTkC7kp_",
        "outputId": "2c789ab4-fc06-41e7-e5fa-f929e8e24d0b"
      },
      "source": [
        "float_2 = 1.5e-5\n",
        "type(float_2)"
      ],
      "execution_count": null,
      "outputs": [
        {
          "output_type": "execute_result",
          "data": {
            "text/plain": [
              "float"
            ]
          },
          "metadata": {
            "tags": []
          },
          "execution_count": 26
        }
      ]
    },
    {
      "cell_type": "code",
      "metadata": {
        "id": "RPhkhg4o7kqB",
        "outputId": "09ad9a8d-389a-48a5-c8bc-b44002cee25a"
      },
      "source": [
        "float_3 = -3.57\n",
        "type(float_3)"
      ],
      "execution_count": null,
      "outputs": [
        {
          "output_type": "execute_result",
          "data": {
            "text/plain": [
              "float"
            ]
          },
          "metadata": {
            "tags": []
          },
          "execution_count": 39
        }
      ]
    },
    {
      "cell_type": "markdown",
      "metadata": {
        "id": "dRtwW5Z87kqD"
      },
      "source": [
        "## Dados tipo bool"
      ]
    },
    {
      "cell_type": "code",
      "metadata": {
        "id": "tbzuUq_47kqF",
        "outputId": "e4e3652a-9edd-4c4a-87cd-3be25485ea39"
      },
      "source": [
        "a = True\n",
        "type(a)"
      ],
      "execution_count": null,
      "outputs": [
        {
          "output_type": "execute_result",
          "data": {
            "text/plain": [
              "bool"
            ]
          },
          "metadata": {
            "tags": []
          },
          "execution_count": 29
        }
      ]
    },
    {
      "cell_type": "code",
      "metadata": {
        "colab": {
          "base_uri": "https://localhost:8080/"
        },
        "id": "p71OKPf97kqG",
        "outputId": "06befdcb-35b8-4abf-df18-7bb7e84ac5fb"
      },
      "source": [
        "a=True\n",
        "b = False\n",
        "type(b)\n",
        "print(a,b, a or b, a and b)\n"
      ],
      "execution_count": 36,
      "outputs": [
        {
          "output_type": "stream",
          "text": [
            "True False True False\n"
          ],
          "name": "stdout"
        }
      ]
    },
    {
      "cell_type": "code",
      "metadata": {
        "collapsed": true,
        "id": "moPGcQWF7kqI"
      },
      "source": [
        "bool_1 = 1\n",
        "bool_2 = 1\n",
        "bool_3 = 2"
      ],
      "execution_count": null,
      "outputs": []
    },
    {
      "cell_type": "code",
      "metadata": {
        "scrolled": true,
        "id": "dvcCxDLS7kqJ",
        "outputId": "003cc182-33d3-49e8-cb6e-6ebd467d3a90"
      },
      "source": [
        "print(type(bool_1), type(bool_2))"
      ],
      "execution_count": null,
      "outputs": [
        {
          "output_type": "stream",
          "text": [
            "<class 'int'> <class 'int'>\n"
          ],
          "name": "stdout"
        }
      ]
    },
    {
      "cell_type": "code",
      "metadata": {
        "id": "UPzRkf8D7kqL",
        "outputId": "89109384-3cdc-4ac8-d6a6-985b3086ea80"
      },
      "source": [
        "bool_1 == bool_2"
      ],
      "execution_count": null,
      "outputs": [
        {
          "output_type": "execute_result",
          "data": {
            "text/plain": [
              "True"
            ]
          },
          "metadata": {
            "tags": []
          },
          "execution_count": 34
        }
      ]
    },
    {
      "cell_type": "code",
      "metadata": {
        "scrolled": true,
        "id": "hNdGyfRv7kqO",
        "outputId": "fe47c264-bec7-45f2-922b-2d2aa8d868f5"
      },
      "source": [
        "type(bool_1 == bool_2)"
      ],
      "execution_count": null,
      "outputs": [
        {
          "output_type": "execute_result",
          "data": {
            "text/plain": [
              "bool"
            ]
          },
          "metadata": {
            "tags": []
          },
          "execution_count": 35
        }
      ]
    },
    {
      "cell_type": "code",
      "metadata": {
        "id": "D8KLfkaS7kqQ",
        "outputId": "159727c9-6ab9-4e7b-9f18-eee7f284ec8f"
      },
      "source": [
        "print(type(bool_1), type(bool_3))"
      ],
      "execution_count": null,
      "outputs": [
        {
          "output_type": "stream",
          "text": [
            "<class 'int'> <class 'int'>\n"
          ],
          "name": "stdout"
        }
      ]
    },
    {
      "cell_type": "code",
      "metadata": {
        "id": "kfpvBhoe7kqS",
        "outputId": "81624bf3-9165-4726-c095-45eed2e83265"
      },
      "source": [
        "bool_1 == bool_3"
      ],
      "execution_count": null,
      "outputs": [
        {
          "output_type": "execute_result",
          "data": {
            "text/plain": [
              "False"
            ]
          },
          "metadata": {
            "tags": []
          },
          "execution_count": 37
        }
      ]
    },
    {
      "cell_type": "code",
      "metadata": {
        "id": "oE7WcKzL7kqU",
        "outputId": "b7c419ba-c9bc-4307-88f4-c2e65f832a4a"
      },
      "source": [
        "type(bool_1 == bool_3)"
      ],
      "execution_count": null,
      "outputs": [
        {
          "output_type": "execute_result",
          "data": {
            "text/plain": [
              "bool"
            ]
          },
          "metadata": {
            "tags": []
          },
          "execution_count": 38
        }
      ]
    },
    {
      "cell_type": "markdown",
      "metadata": {
        "id": "As1e_o1G7kqW"
      },
      "source": [
        "## Dados tipo int"
      ]
    },
    {
      "cell_type": "code",
      "metadata": {
        "id": "Rp2XwS9o7kqY",
        "outputId": "736d1065-b7d4-4f89-8230-80f685420e07"
      },
      "source": [
        "int_1 = 1\n",
        "type(int_1)"
      ],
      "execution_count": null,
      "outputs": [
        {
          "output_type": "execute_result",
          "data": {
            "text/plain": [
              "int"
            ]
          },
          "metadata": {
            "tags": []
          },
          "execution_count": 40
        }
      ]
    },
    {
      "cell_type": "code",
      "metadata": {
        "id": "F9i9WUtF7kqa",
        "outputId": "40ca0e58-69f2-4d3f-ecea-c108688cdce6"
      },
      "source": [
        "int_2 = 0\n",
        "type(int_2)"
      ],
      "execution_count": null,
      "outputs": [
        {
          "output_type": "execute_result",
          "data": {
            "text/plain": [
              "int"
            ]
          },
          "metadata": {
            "tags": []
          },
          "execution_count": 41
        }
      ]
    },
    {
      "cell_type": "code",
      "metadata": {
        "id": "HakHCZP87kqc",
        "outputId": "ce783acd-0dd2-41e8-d27e-aad1c2902ce3"
      },
      "source": [
        "int_3 = -6\n",
        "type(int_3)"
      ],
      "execution_count": null,
      "outputs": [
        {
          "output_type": "execute_result",
          "data": {
            "text/plain": [
              "int"
            ]
          },
          "metadata": {
            "tags": []
          },
          "execution_count": 42
        }
      ]
    },
    {
      "cell_type": "markdown",
      "metadata": {
        "id": "Xh3H9GJG7kqd"
      },
      "source": [
        "## Dados tipo complexo\n",
        "\n",
        "Número complexos possuem utilização reestrita, mas são um tipo de dado em Python"
      ]
    },
    {
      "cell_type": "code",
      "metadata": {
        "id": "yRA3HLVb7kqh",
        "outputId": "8a264e05-4b3b-4a20-a8cb-dc0621d056cb"
      },
      "source": [
        "complexo_1 = 1 + 4j\n",
        "type(complexo_1)"
      ],
      "execution_count": null,
      "outputs": [
        {
          "output_type": "execute_result",
          "data": {
            "text/plain": [
              "complex"
            ]
          },
          "metadata": {
            "tags": []
          },
          "execution_count": 3
        }
      ]
    },
    {
      "cell_type": "code",
      "metadata": {
        "id": "hi7_qsDa7kqj",
        "outputId": "1c093e8f-555e-4a07-98ab-fdfbd1955ffb"
      },
      "source": [
        "complexo_2 = -1j\n",
        "type(complexo_2)"
      ],
      "execution_count": null,
      "outputs": [
        {
          "output_type": "execute_result",
          "data": {
            "text/plain": [
              "complex"
            ]
          },
          "metadata": {
            "tags": []
          },
          "execution_count": 4
        }
      ]
    },
    {
      "cell_type": "markdown",
      "metadata": {
        "id": "xWpXNtIp7kqn"
      },
      "source": [
        "### Observação\n",
        "\n",
        "Existem outros tipos de dados, um pouco mais complexos, e estes serão abordados mais a frente.\n",
        "\n",
        "- Listas\n",
        "- Dicionários\n",
        "- Arrays\n",
        "- Séries\n",
        "- DataFrames\n"
      ]
    },
    {
      "cell_type": "markdown",
      "metadata": {
        "collapsed": true,
        "id": "p53TumI87kqq"
      },
      "source": [
        "# Formatação de impressão\n",
        "\n",
        "    - Nesta parte, abordaremos brevemente as várias maneiras de formatar suas declarações impressas. À medida que você codifica mais e mais, você provavelmente deseja ter declarações de impressão que possam incluir uma variável em uma declaração de string impressa.\n",
        "\n",
        "    - O exemplo mais básico de uma declaração de impressão é:"
      ]
    },
    {
      "cell_type": "code",
      "metadata": {
        "id": "N2siK3fE7kqs",
        "outputId": "33cb48c2-045b-4adf-8fcb-fda13dbb9dff"
      },
      "source": [
        "print('Isso é uma frase')"
      ],
      "execution_count": null,
      "outputs": [
        {
          "output_type": "stream",
          "text": [
            "Isso é uma frase\n"
          ],
          "name": "stdout"
        }
      ]
    },
    {
      "cell_type": "markdown",
      "metadata": {
        "id": "TOwwhSbH7kqt"
      },
      "source": [
        "## Strings\n",
        "Você pode usar o %s para formatar strings em suas instruções de impressão."
      ]
    },
    {
      "cell_type": "code",
      "metadata": {
        "id": "KdeZqyeO7kqu",
        "outputId": "f036c8bb-dab1-4af5-c272-7dedf69d0b32"
      },
      "source": [
        "s = 'frase'\n",
        "print('Isso é uma %s' %(s))"
      ],
      "execution_count": null,
      "outputs": [
        {
          "output_type": "stream",
          "text": [
            "Isso é uma frase\n"
          ],
          "name": "stdout"
        }
      ]
    },
    {
      "cell_type": "markdown",
      "metadata": {
        "id": "C8CxWo5e7kq1"
      },
      "source": [
        "## Números de ponto flutuante\n",
        "Os números de ponto flutuante usam o formato %n1.n2f\n",
        "- n1 é o número mínimo total de dígitos que a cadeia deve conter (estes podem ser preenchidos com espaço em branco se o número inteiro não tiver esses muitos dígitos. \n",
        "- n2 é a quantidade de casas decimais que serão mostradas\n",
        "\n",
        "Vamos ver alguns exemplos:"
      ]
    },
    {
      "cell_type": "code",
      "metadata": {
        "id": "qaliiUAb7kq3",
        "outputId": "2fe78250-ee32-48c4-9c22-ad42bda4e4ce"
      },
      "source": [
        "print('Números de ponto flutuante: %1.2f' %(13.144))"
      ],
      "execution_count": null,
      "outputs": [
        {
          "output_type": "stream",
          "text": [
            "Números de ponto flutuante: 13.14\n"
          ],
          "name": "stdout"
        }
      ]
    },
    {
      "cell_type": "markdown",
      "metadata": {
        "id": "kcX5Q4km7kq5"
      },
      "source": [
        "**Observação:** é importante observarmos que a regra da matemática de aproximação numérica é respeitada"
      ]
    },
    {
      "cell_type": "code",
      "metadata": {
        "id": "BhX6DsBl7kq6",
        "outputId": "8df32651-a048-4453-e091-031a1cd6f487"
      },
      "source": [
        "print('Números de ponto flutuante: %1.2f' %(13.146))"
      ],
      "execution_count": null,
      "outputs": [
        {
          "output_type": "stream",
          "text": [
            "Números de ponto flutuante: 13.15\n"
          ],
          "name": "stdout"
        }
      ]
    },
    {
      "cell_type": "code",
      "metadata": {
        "id": "5997y-Ih7kq9",
        "outputId": "23b3d60a-b6ce-4a67-90f0-39db3e98d4f2"
      },
      "source": [
        "print('Números de ponto flutuante: %1.0f' %(13.144))"
      ],
      "execution_count": null,
      "outputs": [
        {
          "output_type": "stream",
          "text": [
            "Números de ponto flutuante: 13\n"
          ],
          "name": "stdout"
        }
      ]
    },
    {
      "cell_type": "code",
      "metadata": {
        "id": "zzsDE5v27krB",
        "outputId": "84d36db4-8f35-4fb4-976f-f9188995d2af"
      },
      "source": [
        "print('Números de ponto flutuante: %1.5f' %(13.144))"
      ],
      "execution_count": null,
      "outputs": [
        {
          "output_type": "stream",
          "text": [
            "Números de ponto flutuante: 13.14400\n"
          ],
          "name": "stdout"
        }
      ]
    },
    {
      "cell_type": "code",
      "metadata": {
        "id": "nCQarJWZ7krE",
        "outputId": "9917be60-2b30-4177-e05e-205cc849263f"
      },
      "source": [
        "print('Números de ponto flutuante: %10.2f' %(13.144))"
      ],
      "execution_count": null,
      "outputs": [
        {
          "output_type": "stream",
          "text": [
            "Números de ponto flutuante:      13.14\n"
          ],
          "name": "stdout"
        }
      ]
    },
    {
      "cell_type": "code",
      "metadata": {
        "id": "3oHQMshc7krF",
        "outputId": "bc239664-d485-4a59-96bf-ed6133c7a2e5"
      },
      "source": [
        "print('Números de ponto flutuante: %25.2f' %(13.144))"
      ],
      "execution_count": null,
      "outputs": [
        {
          "output_type": "stream",
          "text": [
            "Números de ponto flutuante:                     13.14\n"
          ],
          "name": "stdout"
        }
      ]
    },
    {
      "cell_type": "markdown",
      "metadata": {
        "id": "F6A_cYan7krG"
      },
      "source": [
        "## Métodos de formato de conversão\n",
        "Deve notar-se que dois métodos% s e %r realmente convertem qualquer objeto Python em uma string usando dois métodos separados: str() e repr(). Aprenderemos mais sobre essas funções mais tarde no curso, mas você deve notar que você pode realmente passar quase qualquer objeto Python com esses dois métodos e funcionará:"
      ]
    },
    {
      "cell_type": "code",
      "metadata": {
        "id": "i_-LJyCs7krI",
        "outputId": "594dc8f2-f3cf-415e-dca1-5757b35aa29a"
      },
      "source": [
        "print('Isso é um número: %s. Isso é uma string: %s' %(123.1,'oi'))"
      ],
      "execution_count": null,
      "outputs": [
        {
          "output_type": "stream",
          "text": [
            "Isso é um número: 123.1. Isso é uma string: oi\n"
          ],
          "name": "stdout"
        }
      ]
    },
    {
      "cell_type": "code",
      "metadata": {
        "id": "vpy96-Gf7krK",
        "outputId": "f737a73a-7af4-47fe-c9aa-f73c7633cffa"
      },
      "source": [
        "print('Isso é um número: %r. Isso é uma string: %r' %(123.1,'oi'))"
      ],
      "execution_count": null,
      "outputs": [
        {
          "output_type": "stream",
          "text": [
            "Isso é um número: 123.1. Isso é uma string: 'oi'\n"
          ],
          "name": "stdout"
        }
      ]
    },
    {
      "cell_type": "markdown",
      "metadata": {
        "id": "x6sUBLHx7krM"
      },
      "source": [
        "## Formatação múltipla\n",
        "Passe uma tupla para junto com o símbolo do módulo para colocar vários formatos nas suas declarações de impressão:"
      ]
    },
    {
      "cell_type": "code",
      "metadata": {
        "id": "y0vu4UxL7krT",
        "outputId": "68a13bb2-efde-4689-dfaa-a72365365c25"
      },
      "source": [
        "print('Primeiro: %s, Segundo: %1.2f, Terceiro: %r' %('oi!',3.14,22))"
      ],
      "execution_count": null,
      "outputs": [
        {
          "output_type": "stream",
          "text": [
            "Primeiro: oi!, Segundo: 3.14, Terceiro: 22\n"
          ],
          "name": "stdout"
        }
      ]
    },
    {
      "cell_type": "markdown",
      "metadata": {
        "id": "K1YXhJlG7krW"
      },
      "source": [
        "\n",
        "# Usando o método string.format ()\n",
        "A melhor maneira de formatar objetos em suas strings para instruções de impressão é usar o método format(). A sintaxe é:\n",
        "\n",
        "     'String aqui {var1} e também {var2}'.format(var1 = 'something1', var2 = 'something2')\n",
        "    \n",
        "Vamos ver alguns exemplos:"
      ]
    },
    {
      "cell_type": "code",
      "metadata": {
        "id": "125flofb7krY",
        "outputId": "7d5125b6-429a-4dca-b898-49a255d7ecd3"
      },
      "source": [
        "print('Aqui vamos {p} uma string'.format(p='inserir'))"
      ],
      "execution_count": null,
      "outputs": [
        {
          "output_type": "stream",
          "text": [
            "Aqui vamos inserir uma string\n"
          ],
          "name": "stdout"
        }
      ]
    },
    {
      "cell_type": "code",
      "metadata": {
        "id": "NTgWN6is7krZ",
        "outputId": "5f427a7e-820e-49e3-842e-15aaae042967"
      },
      "source": [
        "print('Um: {p}, Dois: {p}, Três: {p}'.format(p='oi!'))"
      ],
      "execution_count": null,
      "outputs": [
        {
          "output_type": "stream",
          "text": [
            "Um: oi!, Dois: oi!, Três: oi!\n"
          ],
          "name": "stdout"
        }
      ]
    },
    {
      "cell_type": "code",
      "metadata": {
        "id": "dOcAzBvm7krb",
        "outputId": "34176cdd-8aaf-4519-fa7b-33f13b7e0c01"
      },
      "source": [
        "print('Objeto 1: {a}, Objeto 2: {b}, Objeto 3: {c}'.format(a=1,b='dois',c=12.3))"
      ],
      "execution_count": null,
      "outputs": [
        {
          "output_type": "stream",
          "text": [
            "Objeto 1: 1, Objeto 2: dois, Objeto 3: 12.3\n"
          ],
          "name": "stdout"
        }
      ]
    },
    {
      "cell_type": "markdown",
      "metadata": {
        "id": "TTj0OSwu7krl"
      },
      "source": [
        "**Observação:** Esse é o básico da formatação de sequência de caracteres!"
      ]
    },
    {
      "cell_type": "markdown",
      "metadata": {
        "id": "Q0Xr1Iu67krn"
      },
      "source": [
        "# Método input()\n",
        "\n",
        "É um método utilizado para que o o usuário entre com um valor "
      ]
    },
    {
      "cell_type": "code",
      "metadata": {
        "id": "tUp7xsQg7krp",
        "outputId": "c7cc3323-f7a3-4b16-9db7-b7fa33547f4a"
      },
      "source": [
        "inputs = input()"
      ],
      "execution_count": null,
      "outputs": [
        {
          "output_type": "stream",
          "text": [
            "hoje\n"
          ],
          "name": "stdout"
        }
      ]
    },
    {
      "cell_type": "code",
      "metadata": {
        "id": "qJB5g10j7krs",
        "outputId": "81f24904-3e1a-4dc5-c447-1cc18805f5a2"
      },
      "source": [
        "inputs"
      ],
      "execution_count": null,
      "outputs": [
        {
          "output_type": "execute_result",
          "data": {
            "text/plain": [
              "'hoje'"
            ]
          },
          "metadata": {
            "tags": []
          },
          "execution_count": 22
        }
      ]
    },
    {
      "cell_type": "code",
      "metadata": {
        "id": "0Zpuzqrt7krv",
        "outputId": "6ad29e37-4f23-449b-8b3a-8059daabef06"
      },
      "source": [
        "inputs_2 = input()"
      ],
      "execution_count": null,
      "outputs": [
        {
          "output_type": "stream",
          "text": [
            "3\n"
          ],
          "name": "stdout"
        }
      ]
    },
    {
      "cell_type": "code",
      "metadata": {
        "id": "tyl7OhnL7kry",
        "outputId": "e9d6f506-7c8d-4fab-a7c3-9542514ed1fe"
      },
      "source": [
        "type(inputs_2)"
      ],
      "execution_count": null,
      "outputs": [
        {
          "output_type": "execute_result",
          "data": {
            "text/plain": [
              "str"
            ]
          },
          "metadata": {
            "tags": []
          },
          "execution_count": 24
        }
      ]
    },
    {
      "cell_type": "markdown",
      "metadata": {
        "id": "H5suVSjS7kr1"
      },
      "source": [
        "# Operadores em Python\n",
        "\n",
        "\n",
        "\n",
        "Na construção de algoritmos, utilizamos com frequência operadores para realizar o trabalho de entrada, processamento e saída de dados. Um operador, em termos gerais, simboliza uma operação efetuada sobre variáveis e constantes, executando cálculos e manipulação sobre os dados. As operações realizadas pelo computador são as mesmas encontradas na matemática. A ressalva que fazemos é quanto aos operadores, que diferem entre sim em algumas operações.\n",
        "Os operadores são classificados em três tipos:\n",
        "- Operadores Aritméticos\n",
        "- Operadores Relacionais\n",
        "- Operadores Lógicos"
      ]
    },
    {
      "cell_type": "markdown",
      "metadata": {
        "id": "uoiL2Z_L7kr2"
      },
      "source": [
        "## Operadores Aritméticos\n",
        "\n",
        "São utilizados para executar operações aritméticas (operações que utilizamos na matemática), podem ser realizadas com variáveis ou consantes. "
      ]
    },
    {
      "cell_type": "markdown",
      "metadata": {
        "id": "fePFyot07kr3"
      },
      "source": [
        "<img src='Imagens/Operadores_aritméticos.jpg'>"
      ]
    },
    {
      "cell_type": "code",
      "metadata": {
        "id": "laQLaKqB7kr4"
      },
      "source": [
        "a = 2\n",
        "b = 5\n",
        "c = 4\n",
        "d = 10"
      ],
      "execution_count": null,
      "outputs": []
    },
    {
      "cell_type": "markdown",
      "metadata": {
        "id": "Vzt16aXb7kr4"
      },
      "source": [
        "#### Soma"
      ]
    },
    {
      "cell_type": "code",
      "metadata": {
        "id": "WPkZY3It7kr7",
        "outputId": "e379ec93-c47f-4415-e428-5c20c8ce4c00"
      },
      "source": [
        "a + b"
      ],
      "execution_count": null,
      "outputs": [
        {
          "output_type": "execute_result",
          "data": {
            "text/plain": [
              "7"
            ]
          },
          "metadata": {
            "tags": []
          },
          "execution_count": 27
        }
      ]
    },
    {
      "cell_type": "code",
      "metadata": {
        "id": "Qctg-dnu7kr9",
        "outputId": "5b3e45b6-a322-41ce-a0c5-e38cff93ada3"
      },
      "source": [
        "soma = b + c\n",
        "print(soma)"
      ],
      "execution_count": null,
      "outputs": [
        {
          "output_type": "stream",
          "text": [
            "9\n"
          ],
          "name": "stdout"
        }
      ]
    },
    {
      "cell_type": "markdown",
      "metadata": {
        "id": "V8MhK6Dv7ksA"
      },
      "source": [
        "#### Subtração"
      ]
    },
    {
      "cell_type": "code",
      "metadata": {
        "id": "Sj6m42BQ7ksB",
        "outputId": "906cbc70-c524-413b-b457-f2c4ff339ecd"
      },
      "source": [
        "b - a"
      ],
      "execution_count": null,
      "outputs": [
        {
          "output_type": "execute_result",
          "data": {
            "text/plain": [
              "3"
            ]
          },
          "metadata": {
            "tags": []
          },
          "execution_count": 29
        }
      ]
    },
    {
      "cell_type": "code",
      "metadata": {
        "id": "M5YulIVv7ksF",
        "outputId": "7aa752c9-41db-4903-954c-6bc1f78c9a36"
      },
      "source": [
        "subtração = d - c\n",
        "print(subtração)"
      ],
      "execution_count": null,
      "outputs": [
        {
          "output_type": "stream",
          "text": [
            "6\n"
          ],
          "name": "stdout"
        }
      ]
    },
    {
      "cell_type": "markdown",
      "metadata": {
        "id": "Oc4tIJVN7ksH"
      },
      "source": [
        "#### Multiplicação"
      ]
    },
    {
      "cell_type": "code",
      "metadata": {
        "id": "I6WaAVq27ksI",
        "outputId": "02361753-e9bf-46b9-927d-03c3c37aed4e"
      },
      "source": [
        "a * b"
      ],
      "execution_count": null,
      "outputs": [
        {
          "output_type": "execute_result",
          "data": {
            "text/plain": [
              "10"
            ]
          },
          "metadata": {
            "tags": []
          },
          "execution_count": 31
        }
      ]
    },
    {
      "cell_type": "code",
      "metadata": {
        "id": "PKghxYVM7ksM",
        "outputId": "3991f1a2-8866-4ada-eee1-95c5ffea0d47"
      },
      "source": [
        "multiplicação = c * a\n",
        "print(multiplicação)"
      ],
      "execution_count": null,
      "outputs": [
        {
          "output_type": "stream",
          "text": [
            "8\n"
          ],
          "name": "stdout"
        }
      ]
    },
    {
      "cell_type": "markdown",
      "metadata": {
        "id": "_erB5P3N7ksR"
      },
      "source": [
        "#### Divisão"
      ]
    },
    {
      "cell_type": "code",
      "metadata": {
        "id": "3cZTTG9d7ksT",
        "outputId": "d50d13c9-7c19-4813-8106-c60e94839f96"
      },
      "source": [
        "d / c"
      ],
      "execution_count": null,
      "outputs": [
        {
          "output_type": "execute_result",
          "data": {
            "text/plain": [
              "2.5"
            ]
          },
          "metadata": {
            "tags": []
          },
          "execution_count": 33
        }
      ]
    },
    {
      "cell_type": "code",
      "metadata": {
        "id": "gR_SvwDi7ksV",
        "outputId": "8a6e7fa2-37a1-40b7-ff58-52f0ded0b14f"
      },
      "source": [
        "divisão = a / c\n",
        "print(divisão)"
      ],
      "execution_count": null,
      "outputs": [
        {
          "output_type": "stream",
          "text": [
            "0.5\n"
          ],
          "name": "stdout"
        }
      ]
    },
    {
      "cell_type": "markdown",
      "metadata": {
        "id": "wCzxcMcD7ksX"
      },
      "source": [
        "#### Resto da divisão"
      ]
    },
    {
      "cell_type": "code",
      "metadata": {
        "id": "NSI4GsHE7ksZ",
        "outputId": "564e84db-2205-4a0f-da20-b1aaaf66d6d8"
      },
      "source": [
        "d % c"
      ],
      "execution_count": null,
      "outputs": [
        {
          "output_type": "execute_result",
          "data": {
            "text/plain": [
              "2"
            ]
          },
          "metadata": {
            "tags": []
          },
          "execution_count": 35
        }
      ]
    },
    {
      "cell_type": "code",
      "metadata": {
        "id": "GLyD-btA7ksb",
        "outputId": "6d1e2ab8-942d-42ff-e6ef-5e1a25daa5ad"
      },
      "source": [
        "resto_divisão = b % a\n",
        "print(resto_divisão)"
      ],
      "execution_count": null,
      "outputs": [
        {
          "output_type": "stream",
          "text": [
            "1\n"
          ],
          "name": "stdout"
        }
      ]
    },
    {
      "cell_type": "markdown",
      "metadata": {
        "id": "GgJeSYwm7ksc"
      },
      "source": [
        "#### Potenciação"
      ]
    },
    {
      "cell_type": "code",
      "metadata": {
        "id": "wlA0McP57ksd",
        "outputId": "302f9263-39e6-41f7-961c-c3f52c478729"
      },
      "source": [
        "a ** c"
      ],
      "execution_count": null,
      "outputs": [
        {
          "output_type": "execute_result",
          "data": {
            "text/plain": [
              "16"
            ]
          },
          "metadata": {
            "tags": []
          },
          "execution_count": 37
        }
      ]
    },
    {
      "cell_type": "code",
      "metadata": {
        "id": "Z8v_qUuS7ksf",
        "outputId": "f648b2a1-0cf4-4276-c369-3c753f531f70"
      },
      "source": [
        "potenciação = a ** b\n",
        "print(potenciação)"
      ],
      "execution_count": null,
      "outputs": [
        {
          "output_type": "stream",
          "text": [
            "32\n"
          ],
          "name": "stdout"
        }
      ]
    },
    {
      "cell_type": "markdown",
      "metadata": {
        "id": "k5pVSefs7ksg"
      },
      "source": [
        "## Operadores Relacionais\n",
        "\n",
        "São utilizados em expressões lógicas para se testar a relação entre dois valores do mesmo tipo, retornando VERDADEIRO (True) ou FALSO (False)."
      ]
    },
    {
      "cell_type": "markdown",
      "metadata": {
        "id": "BTwXa_8N7ksh"
      },
      "source": [
        "<img src='Imagens/Operadores_relacionais.jpg'>"
      ]
    },
    {
      "cell_type": "code",
      "metadata": {
        "id": "tWkmaSaO7ksh"
      },
      "source": [
        "a = 1\n",
        "b = 2\n",
        "c = 2"
      ],
      "execution_count": null,
      "outputs": []
    },
    {
      "cell_type": "markdown",
      "metadata": {
        "id": "6nk2LBE07ksi"
      },
      "source": [
        "#### Igual"
      ]
    },
    {
      "cell_type": "code",
      "metadata": {
        "id": "WB1mFLLJ7ksj",
        "outputId": "13f12289-ee07-4088-b857-8c254b2ebb06"
      },
      "source": [
        "a == b"
      ],
      "execution_count": null,
      "outputs": [
        {
          "output_type": "execute_result",
          "data": {
            "text/plain": [
              "False"
            ]
          },
          "metadata": {
            "tags": []
          },
          "execution_count": 41
        }
      ]
    },
    {
      "cell_type": "code",
      "metadata": {
        "id": "2LELWXh77ksl",
        "outputId": "8fab2a9d-6875-41ba-9ac2-04f285e130ce"
      },
      "source": [
        "3 == 4"
      ],
      "execution_count": null,
      "outputs": [
        {
          "output_type": "execute_result",
          "data": {
            "text/plain": [
              "False"
            ]
          },
          "metadata": {
            "tags": []
          },
          "execution_count": 42
        }
      ]
    },
    {
      "cell_type": "code",
      "metadata": {
        "id": "WjLOBS5x7ksn",
        "outputId": "0b067434-24d4-4d31-aeb6-9969238e0c43"
      },
      "source": [
        "b == c"
      ],
      "execution_count": null,
      "outputs": [
        {
          "output_type": "execute_result",
          "data": {
            "text/plain": [
              "True"
            ]
          },
          "metadata": {
            "tags": []
          },
          "execution_count": 43
        }
      ]
    },
    {
      "cell_type": "code",
      "metadata": {
        "id": "8J0zgVz57ksr",
        "outputId": "74c5e095-fb9e-443a-d079-69ec0695d8ef"
      },
      "source": [
        "print(b == 2)"
      ],
      "execution_count": null,
      "outputs": [
        {
          "output_type": "stream",
          "text": [
            "True\n"
          ],
          "name": "stdout"
        }
      ]
    },
    {
      "cell_type": "markdown",
      "metadata": {
        "id": "V9J1tzqT7ksu"
      },
      "source": [
        "#### Diferente"
      ]
    },
    {
      "cell_type": "code",
      "metadata": {
        "id": "BxJjPqI-7ksx",
        "outputId": "9569d0d6-327c-4db3-9ca7-06c637748042"
      },
      "source": [
        "a != b"
      ],
      "execution_count": null,
      "outputs": [
        {
          "output_type": "execute_result",
          "data": {
            "text/plain": [
              "True"
            ]
          },
          "metadata": {
            "tags": []
          },
          "execution_count": 45
        }
      ]
    },
    {
      "cell_type": "code",
      "metadata": {
        "id": "tMypvdP37ks2",
        "outputId": "ae02d056-69a1-4934-8bbb-82783203d19b"
      },
      "source": [
        "3 != 4"
      ],
      "execution_count": null,
      "outputs": [
        {
          "output_type": "execute_result",
          "data": {
            "text/plain": [
              "True"
            ]
          },
          "metadata": {
            "tags": []
          },
          "execution_count": 46
        }
      ]
    },
    {
      "cell_type": "code",
      "metadata": {
        "id": "ctu26dG-7ks5",
        "outputId": "79af82a0-06f3-4b50-d41b-db4debf179d1"
      },
      "source": [
        "b != c"
      ],
      "execution_count": null,
      "outputs": [
        {
          "output_type": "execute_result",
          "data": {
            "text/plain": [
              "False"
            ]
          },
          "metadata": {
            "tags": []
          },
          "execution_count": 47
        }
      ]
    },
    {
      "cell_type": "markdown",
      "metadata": {
        "id": "Tt-AMzMT7ks9"
      },
      "source": [
        "#### Maior"
      ]
    },
    {
      "cell_type": "code",
      "metadata": {
        "id": "DGYgqmun7ktD",
        "outputId": "fe78db7b-88ba-4f5a-81fc-5165af2eef15"
      },
      "source": [
        "a > b"
      ],
      "execution_count": null,
      "outputs": [
        {
          "output_type": "execute_result",
          "data": {
            "text/plain": [
              "False"
            ]
          },
          "metadata": {
            "tags": []
          },
          "execution_count": 48
        }
      ]
    },
    {
      "cell_type": "code",
      "metadata": {
        "id": "Ck1GZKnL7ktK",
        "outputId": "7206139a-cac8-4b2a-dae6-0dc59b2f68b9"
      },
      "source": [
        "b > a"
      ],
      "execution_count": null,
      "outputs": [
        {
          "output_type": "execute_result",
          "data": {
            "text/plain": [
              "True"
            ]
          },
          "metadata": {
            "tags": []
          },
          "execution_count": 49
        }
      ]
    },
    {
      "cell_type": "markdown",
      "metadata": {
        "id": "zvL5cZPN7ktP"
      },
      "source": [
        "#### Menor"
      ]
    },
    {
      "cell_type": "code",
      "metadata": {
        "id": "w61cfMkA7ktR",
        "outputId": "a2335d05-5a93-4dae-ab54-368c0c3fac4d"
      },
      "source": [
        "a < b "
      ],
      "execution_count": null,
      "outputs": [
        {
          "output_type": "execute_result",
          "data": {
            "text/plain": [
              "True"
            ]
          },
          "metadata": {
            "tags": []
          },
          "execution_count": 50
        }
      ]
    },
    {
      "cell_type": "code",
      "metadata": {
        "id": "w6E1X26a7ktU",
        "outputId": "c1d1f790-70ec-46f1-9c73-7f5b64b7a8c2"
      },
      "source": [
        "b < a"
      ],
      "execution_count": null,
      "outputs": [
        {
          "output_type": "execute_result",
          "data": {
            "text/plain": [
              "False"
            ]
          },
          "metadata": {
            "tags": []
          },
          "execution_count": 51
        }
      ]
    },
    {
      "cell_type": "markdown",
      "metadata": {
        "id": "BBagIdIh7ktX"
      },
      "source": [
        "#### Maior ou igual "
      ]
    },
    {
      "cell_type": "code",
      "metadata": {
        "id": "yTHPCWbq7ktZ",
        "outputId": "dd32c969-0fa9-4a59-c1c0-ba85c0053647"
      },
      "source": [
        "a >= b"
      ],
      "execution_count": null,
      "outputs": [
        {
          "output_type": "execute_result",
          "data": {
            "text/plain": [
              "False"
            ]
          },
          "metadata": {
            "tags": []
          },
          "execution_count": 52
        }
      ]
    },
    {
      "cell_type": "code",
      "metadata": {
        "id": "4oMx93TZ7kta",
        "outputId": "4ee0194a-5ea9-465a-a6c5-750c998fabbe"
      },
      "source": [
        "b >= c"
      ],
      "execution_count": null,
      "outputs": [
        {
          "output_type": "execute_result",
          "data": {
            "text/plain": [
              "True"
            ]
          },
          "metadata": {
            "tags": []
          },
          "execution_count": 53
        }
      ]
    },
    {
      "cell_type": "markdown",
      "metadata": {
        "id": "r-BLZEyA7ktc"
      },
      "source": [
        "#### Menor ou igual "
      ]
    },
    {
      "cell_type": "code",
      "metadata": {
        "id": "CZ5Mj8wp7ktc",
        "outputId": "d2442e07-3ddc-4c5d-c753-1f4eb9d9b691"
      },
      "source": [
        "a <= b"
      ],
      "execution_count": null,
      "outputs": [
        {
          "output_type": "execute_result",
          "data": {
            "text/plain": [
              "True"
            ]
          },
          "metadata": {
            "tags": []
          },
          "execution_count": 54
        }
      ]
    },
    {
      "cell_type": "code",
      "metadata": {
        "id": "22QEt3Ui7kte",
        "outputId": "7594f69a-0ee9-46c8-e9b7-4a08c7d85ee9"
      },
      "source": [
        "b <= c"
      ],
      "execution_count": null,
      "outputs": [
        {
          "output_type": "execute_result",
          "data": {
            "text/plain": [
              "True"
            ]
          },
          "metadata": {
            "tags": []
          },
          "execution_count": 55
        }
      ]
    },
    {
      "cell_type": "markdown",
      "metadata": {
        "id": "hi8-wAI57ktf"
      },
      "source": [
        "## Operadores Lógicos\n",
        "\n",
        "São utilizados quando há a necessidade de serem testadas duas ou mais condições dentro de um algoritmo simultaneamente."
      ]
    },
    {
      "cell_type": "markdown",
      "metadata": {
        "id": "7W07-luh7ktg"
      },
      "source": [
        "<img src='Imagens/Operadores_logicos.jpg'/>"
      ]
    },
    {
      "cell_type": "code",
      "metadata": {
        "id": "fiEOcU-T7kth"
      },
      "source": [
        "a = 1\n",
        "b = 1\n",
        "c = 2"
      ],
      "execution_count": null,
      "outputs": []
    },
    {
      "cell_type": "code",
      "metadata": {
        "id": "O4b5EMi27kti",
        "outputId": "6f376987-1f1e-45d5-bb45-e374b1b1219d"
      },
      "source": [
        "(a == b) and (b == c) "
      ],
      "execution_count": null,
      "outputs": [
        {
          "output_type": "execute_result",
          "data": {
            "text/plain": [
              "False"
            ]
          },
          "metadata": {
            "tags": []
          },
          "execution_count": 57
        }
      ]
    },
    {
      "cell_type": "code",
      "metadata": {
        "id": "kkqJgJxi7ktl",
        "outputId": "ca9aeb88-ef53-4e96-899b-c7fe98d48066"
      },
      "source": [
        "(a == b) or (b == c)"
      ],
      "execution_count": null,
      "outputs": [
        {
          "output_type": "execute_result",
          "data": {
            "text/plain": [
              "True"
            ]
          },
          "metadata": {
            "tags": []
          },
          "execution_count": 58
        }
      ]
    },
    {
      "cell_type": "code",
      "metadata": {
        "id": "wMQzyo567kts",
        "outputId": "4964bc6b-6fe6-4bea-ab59-521610554a60"
      },
      "source": [
        "(a != b) or (a != c)"
      ],
      "execution_count": null,
      "outputs": [
        {
          "output_type": "execute_result",
          "data": {
            "text/plain": [
              "True"
            ]
          },
          "metadata": {
            "tags": []
          },
          "execution_count": 59
        }
      ]
    },
    {
      "cell_type": "code",
      "metadata": {
        "id": "S8xftSYp7ktu",
        "outputId": "c56d9037-85de-4cc1-94f3-4b67ff413840"
      },
      "source": [
        "not(a == b)"
      ],
      "execution_count": null,
      "outputs": [
        {
          "output_type": "execute_result",
          "data": {
            "text/plain": [
              "False"
            ]
          },
          "metadata": {
            "tags": []
          },
          "execution_count": 60
        }
      ]
    },
    {
      "cell_type": "markdown",
      "metadata": {
        "id": "OLjlf1wh7ktw"
      },
      "source": [
        "# Estruturas Condicionais\n",
        "\n",
        "As estruturas condicionais são ferramentas das linguagens que possibilitam a escolha de um grupo de ações e estruturas a serem executadas quando determinadas condições são ou não satisfeitas. Elas são muito utilizadas no dia-a-dia, vem nos auxiliar na tomada de decisões, por exemplo: fazer login de usuário, se o login e senha estiverem corretos, é liberado o acesso se não, é emitido  uma mensagem de erro. \n",
        "\n",
        "- **if** em Python nos permite contar ao computador para executar ações alternativas com base em um determinado conjunto de resultados. Verbalmente, podemos imaginar que estamos informando o computador: \"Ei, se isso caso acontecer, execute alguma ação\"\n",
        "\n",
        "- Podemos então expandir a idéia com declarações **elif** e **else**, o que nos permite contar ao computador: \"Ei, se esse caso acontecer, execute alguma ação. Caso contrário, se aquilo dali acontecer, execute alguma outra ação. Caso contrário, nenhum dos casos acima aconteceu, execute esta ação\"\n",
        "\n",
        "\n",
        "Avançemos e vejamos o formato de sintaxe para as instruções if para ter uma idéia melhor disso:\n",
        "\n",
        "     if condição_1:\n",
        "         executar ação 1\n",
        "     elif condição_2:\n",
        "         execute ação 2\n",
        "     else:\n",
        "         execute a ação 3"
      ]
    },
    {
      "cell_type": "markdown",
      "metadata": {
        "id": "HbbLshPL7ktx"
      },
      "source": [
        "<img src='Imagens/fluxograma.jpg'  >"
      ]
    },
    {
      "cell_type": "markdown",
      "metadata": {
        "id": "1Ws4EE5I7ktz"
      },
      "source": [
        "### if\n",
        "\n",
        "A instrução **if** ( se ) é a estrutura de teste mais básica e é encontrada em todas as linguagens (com sintaxes diferentes). Ela permite executar uma série de instruções caso uma condição se realize. "
      ]
    },
    {
      "cell_type": "markdown",
      "metadata": {
        "id": "8cHZoFoo7kt1"
      },
      "source": [
        "### Exemplo 1"
      ]
    },
    {
      "cell_type": "code",
      "metadata": {
        "id": "9gCy0IOI7kt2",
        "outputId": "2434af9f-a41a-4176-b299-fbd7ca65e370"
      },
      "source": [
        "if True:\n",
        "    print('x é verdadeiro (True)!')"
      ],
      "execution_count": null,
      "outputs": [
        {
          "output_type": "stream",
          "text": [
            "x é verdadeiro (True)!\n"
          ],
          "name": "stdout"
        }
      ]
    },
    {
      "cell_type": "code",
      "metadata": {
        "id": "ujysVkKq7kt4"
      },
      "source": [
        "if False:\n",
        "    print(\"x é falso (False)\")"
      ],
      "execution_count": null,
      "outputs": []
    },
    {
      "cell_type": "markdown",
      "metadata": {
        "id": "jR4BkyzI7kt5"
      },
      "source": [
        "### else\n",
        "A instrução **if** em sua forma básica só testa uma condição. Na maioria das vezes, gostaríamos de poder escolher as instruções a serem executadas em caso do não cumprimento da condição. \n",
        "\n",
        "**Por exemplo: vamos supor que um estudante de mestrado envie um artigo cientifico para um estudante de letras para que o mesmo faça correções, o estudante irá ler o artigo e verificar se precisa ou nao de correções, casdo precise, vai efetuar as correções possíveis, caso não vai enviar uma mensagem para o mestrando informando que o artigo ja está pronto para a submissão e não precissa de ajustes.**  \n",
        "\n",
        "     if precisa_de_correções:\n",
        "         executar (realizar correções e enviar artigo corrigido)\n",
        "     else:\n",
        "         execute (enviar mensagem informando que o artigo não precisa de correções e ja pode ser submetido)\n",
        "\n",
        "\n",
        "A expressão **else** permite executar outra série de instruções em caso do não cumprimento da condição testada pelo **if**. A sintaxe desta expressão pode ser observada no exemplo abaixo: "
      ]
    },
    {
      "cell_type": "markdown",
      "metadata": {
        "id": "Ldnm044i7kt6"
      },
      "source": [
        "### Exemplo 2"
      ]
    },
    {
      "cell_type": "code",
      "metadata": {
        "id": "L6rCNBL27kt7",
        "outputId": "419b8d9d-a6cd-4c68-abd6-cec10768f324"
      },
      "source": [
        "x = False\n",
        "\n",
        "if x:\n",
        "    print('Neste caso x é verdadeiro')\n",
        "else:\n",
        "    print('Neste caso x é falso (False)')"
      ],
      "execution_count": null,
      "outputs": [
        {
          "output_type": "stream",
          "text": [
            "Neste caso x é falso (False)\n"
          ],
          "name": "stdout"
        }
      ]
    },
    {
      "cell_type": "markdown",
      "metadata": {
        "id": "CElrduq77kt8"
      },
      "source": [
        "### elif - Múltiplos ramos \n",
        "Vamos ver de forma mais completa de quão longe if, elif, e else podem nos levar! Nós escrevemos isso em uma estrutura aninhada. Tome nota de como o if, elif e else se alinham no código. Isso pode ajudá-lo a ver o que se relaciona com o elif ou outras afirmações.\n",
        "\n",
        "Vamos reintroduzir uma sintaxe de comparação para o Python."
      ]
    },
    {
      "cell_type": "code",
      "metadata": {
        "id": "svETgRh-7kt9",
        "outputId": "05b0ffe7-175d-42da-ac51-da8f93ac5210"
      },
      "source": [
        "local = 'Banco'\n",
        "\n",
        "if local == 'Shopping':\n",
        "    print('Bem vindo ao shopping!')\n",
        "elif local == 'Banco':\n",
        "    print('Bem vindo ao banco!')\n",
        "else:\n",
        "    print(\"Como vai você?\")"
      ],
      "execution_count": null,
      "outputs": [
        {
          "output_type": "stream",
          "text": [
            "Bem vindo ao banco!\n"
          ],
          "name": "stdout"
        }
      ]
    },
    {
      "cell_type": "markdown",
      "metadata": {
        "id": "JxfYoapI7kt-"
      },
      "source": [
        "Observe como **as declarações if aninhadas são verificadas** até que um booleano **True** faça com que o código aninhado abaixo seja executado. Você também deve notar que você pode colocar as declarações elif quanto desejar antes de fechar com outra."
      ]
    },
    {
      "cell_type": "markdown",
      "metadata": {
        "id": "gp7upII17kt_"
      },
      "source": [
        "### Exemplo 3\n",
        "Faça uma instrução para se entre com um valor e verifique se ele é par ou impar.( **Obs.**: para verificar se um número é par basta verificar se o resto da sua divisão por 2 é igual a 0)"
      ]
    },
    {
      "cell_type": "code",
      "metadata": {
        "id": "-sJtxXJw7kuB",
        "outputId": "3fd62468-b07f-4076-b7a3-10d8dba095a6"
      },
      "source": [
        "print('Entre com um número inteiro qualquer: ')\n",
        "numero = input()\n",
        "numero = int(numero)\n",
        "if (numero % 2) == 0:\n",
        "    print('O número digitado é par!')\n",
        "\n",
        "else:\n",
        "    print('O número digitado é impar!')"
      ],
      "execution_count": null,
      "outputs": [
        {
          "output_type": "stream",
          "text": [
            "Entre com um número inteiro qualquer: \n",
            "2\n",
            "O número digitado é par!\n"
          ],
          "name": "stdout"
        }
      ]
    },
    {
      "cell_type": "markdown",
      "metadata": {
        "id": "KPLdg0m17kuE"
      },
      "source": [
        "**Obs**: Lembrando que quando utilizamos o comando input ( ), o nosso programa recebe um valor do tipo string e devemos convertê-lo para o formato desejado"
      ]
    },
    {
      "cell_type": "markdown",
      "metadata": {
        "id": "kpWKdoTL7kuK"
      },
      "source": [
        "## Indentação\n",
        "\n",
        "É importante manter uma boa compreensão de como o recuo funciona no Python para manter a estrutura e a ordem do seu código. Vamos voltar a tocar neste tópico quando começarmos a criar funções!"
      ]
    },
    {
      "cell_type": "markdown",
      "metadata": {
        "id": "jLYbBZny7kuM"
      },
      "source": [
        "# Estruturas de Repetição (loops)\n",
        "\n",
        "Uma das principais características que consolidaram o sucesso na utilização dos computadores para a resolução de problemas foi a sua capacidade de repetir o processamento de um conjunto de operações para grandes quantidades de dados. Exemplos de conjuntos de tarefas que repetimos diversas vezes dentro de uma situação específica podem ser observados largamente no nosso dia a dia.\n",
        "\n",
        "As estruturas de repetição provém uma maneira de repetir um conjunto de procedimentos até que determinado objetivo seja atingido, quando a repetição se encerra. Todas as estruturas de repetição têm em comum o fato de haver uma condição de controle, expressa através de uma expressão lógica, que é testada em cada ciclo para determinar se a repetição prossegue ou não.\n",
        "\n",
        "Em python, são utilizadas dois tipos de estrutura condicional:\n",
        "\n",
        "- **For**: normalmente utilizado quando temos número fixo de repetições, ou seja, sabemos quantas vezes o bloco de comandos determinado deve ser executado, se utiliza uma lista para se iterar a repetição.\n",
        "\n",
        "- **While**: normalmente utilizado quando não temos um número fixo de repetições, ou seja, não sabemos quantas vezes o bloco de comandos determinado deve ser executado, se testa uma condição para verificar se a repetição continua ou não."
      ]
    },
    {
      "cell_type": "markdown",
      "metadata": {
        "id": "ZzTRc6js7kuP"
      },
      "source": [
        "<img src='Imagens/while.gif' heigth=400 width=350>"
      ]
    },
    {
      "cell_type": "markdown",
      "metadata": {
        "id": "AFnGks4V7kuQ"
      },
      "source": [
        "## For\n",
        "\n",
        "Um loop **for** atua como um iterador em Python, ele passa por itens que estão em uma *sequência* ou qualquer outro item iterável. Os objetos que aprendemos até agora que podemos iterar incluem strings, listas, tuplas e até iteráveis embutidos em dicionários, como chaves ou valores.\n",
        "\n",
        "Já vimos **for** um pouco nas palestras passadas, mas agora permitimos formalizar a nossa compreensão.\n",
        "\n",
        "Aqui está o formato geral para um **for** loop em Python:\n",
        "\n",
        "     for item in objeto:\n",
        "         fazer algo\n",
        "\n",
        "O nome da variável usado para o item fica a seu critério, você pode escolher o que quiser. Então use seu melhor julgamento para escolher um nome que faça sentido e que você poderá entender ao revisar seu código. Este nome do item pode então ser referenciado dentro de seu loop, por exemplo, se você quisesse usar instruções if para executar verificações.\n",
        "\n",
        "Vamos seguir em frente e trabalhar com vários exemplos de for loops usando uma variedade de tipos de objetos de dados. Vamos começar com um exemplo simples e adicionar mais complexidade mais além.\n",
        "\n",
        "### Exemplo 1 Iterando através de uma lista.\n",
        "    "
      ]
    },
    {
      "cell_type": "code",
      "metadata": {
        "id": "byCsZYf37kuT"
      },
      "source": [
        "lista = [1,2,3,4,5,6,7,8,9,10]"
      ],
      "execution_count": null,
      "outputs": []
    },
    {
      "cell_type": "code",
      "metadata": {
        "id": "XDMsmV4j7kuX",
        "outputId": "8f66f9b8-de74-48a8-c932-d17ae58a4b86"
      },
      "source": [
        "for num in lista:\n",
        "    print(num)"
      ],
      "execution_count": null,
      "outputs": [
        {
          "output_type": "stream",
          "text": [
            "1\n",
            "2\n",
            "3\n",
            "4\n",
            "5\n",
            "6\n",
            "7\n",
            "8\n",
            "9\n",
            "10\n"
          ],
          "name": "stdout"
        }
      ]
    },
    {
      "cell_type": "markdown",
      "metadata": {
        "id": "fnamn4Mc7kua"
      },
      "source": [
        "### Observação\n",
        "\n",
        "Existe uma forma prática de se escrever uma lista em ordem crescente ou decrescente, o até mesmo considerando intervalos de valores\n",
        "\n",
        "- range(valor_inicial=0, valor_final, step)"
      ]
    },
    {
      "cell_type": "code",
      "metadata": {
        "id": "9VZ0o68F7kud",
        "outputId": "2c596f69-9d56-4f58-af5c-3d83f738fcae"
      },
      "source": [
        "range_1 = range(1,10)\n",
        "print('A quantidade de elementos gerado é: ', len(range_1))\n",
        "print(list(range_1))"
      ],
      "execution_count": null,
      "outputs": [
        {
          "output_type": "stream",
          "text": [
            "A quantidade de elementos gerado é:  9\n",
            "[1, 2, 3, 4, 5, 6, 7, 8, 9]\n"
          ],
          "name": "stdout"
        }
      ]
    },
    {
      "cell_type": "code",
      "metadata": {
        "id": "3J8GLIPk7kuf",
        "outputId": "cf3b28c9-490f-496c-ccb4-3dcc0386b072"
      },
      "source": [
        "range_2 = range(0,50,2)\n",
        "print('A quantidade de elementos gerado é: ', len(range_2))\n",
        "print('Elementos gerados: ',list(range_2))"
      ],
      "execution_count": null,
      "outputs": [
        {
          "output_type": "stream",
          "text": [
            "A quantidade de elementos gerado é:  25\n",
            "Elementos gerados:  [0, 2, 4, 6, 8, 10, 12, 14, 16, 18, 20, 22, 24, 26, 28, 30, 32, 34, 36, 38, 40, 42, 44, 46, 48]\n"
          ],
          "name": "stdout"
        }
      ]
    },
    {
      "cell_type": "code",
      "metadata": {
        "id": "s_-I1sGi7kui",
        "outputId": "8292a348-86b4-4b40-d0ec-64c6a453f412"
      },
      "source": [
        "range_3 = range(100)\n",
        "print('A quantidade de elementos gerado é: ', len(range_3))\n",
        "print(list(range_3))"
      ],
      "execution_count": null,
      "outputs": [
        {
          "output_type": "stream",
          "text": [
            "A quantidade de elementos gerado é:  100\n",
            "[0, 1, 2, 3, 4, 5, 6, 7, 8, 9, 10, 11, 12, 13, 14, 15, 16, 17, 18, 19, 20, 21, 22, 23, 24, 25, 26, 27, 28, 29, 30, 31, 32, 33, 34, 35, 36, 37, 38, 39, 40, 41, 42, 43, 44, 45, 46, 47, 48, 49, 50, 51, 52, 53, 54, 55, 56, 57, 58, 59, 60, 61, 62, 63, 64, 65, 66, 67, 68, 69, 70, 71, 72, 73, 74, 75, 76, 77, 78, 79, 80, 81, 82, 83, 84, 85, 86, 87, 88, 89, 90, 91, 92, 93, 94, 95, 96, 97, 98, 99]\n"
          ],
          "name": "stdout"
        }
      ]
    },
    {
      "cell_type": "markdown",
      "metadata": {
        "id": "hlAbVdNA7kuk"
      },
      "source": [
        "### Exemplo 2 - Adicionando uma condição durante a iteração da lista"
      ]
    },
    {
      "cell_type": "code",
      "metadata": {
        "id": "VdyqyCD07kum",
        "outputId": "a40ea229-ce4f-4b50-e97f-ec397e7e77a3"
      },
      "source": [
        "lista = [1,2,3,4,5,6,7,8,9,10]\n",
        "for num in lista:\n",
        "    if num % 2 == 0:\n",
        "        print(num)"
      ],
      "execution_count": null,
      "outputs": [
        {
          "output_type": "stream",
          "text": [
            "2\n",
            "4\n",
            "6\n",
            "8\n",
            "10\n"
          ],
          "name": "stdout"
        }
      ]
    },
    {
      "cell_type": "code",
      "metadata": {
        "id": "6YUpstnu7kun",
        "outputId": "9fc55c3c-774a-4252-8f85-8bd5c226fd5d"
      },
      "source": [
        "# Outra forma de apresentar\n",
        "for num in range(1,11):\n",
        "    if num % 2 == 0:\n",
        "        print(num)"
      ],
      "execution_count": null,
      "outputs": [
        {
          "output_type": "stream",
          "text": [
            "2\n",
            "4\n",
            "6\n",
            "8\n",
            "10\n"
          ],
          "name": "stdout"
        }
      ]
    },
    {
      "cell_type": "code",
      "metadata": {
        "id": "yg1qogm67kuo",
        "outputId": "4d17a2c6-ce7d-4044-9a78-8e5092111f25"
      },
      "source": [
        "for num in lista:\n",
        "    if num % 2 == 0:\n",
        "        print(num)\n",
        "    else:\n",
        "        print('Número ímpar')"
      ],
      "execution_count": null,
      "outputs": [
        {
          "output_type": "stream",
          "text": [
            "Número ímpar\n",
            "2\n",
            "Número ímpar\n",
            "4\n",
            "Número ímpar\n",
            "6\n",
            "Número ímpar\n",
            "8\n",
            "Número ímpar\n",
            "10\n"
          ],
          "name": "stdout"
        }
      ]
    },
    {
      "cell_type": "markdown",
      "metadata": {
        "id": "25316ZgC7kuq"
      },
      "source": [
        "### Exemplo 3\n",
        "Outra idéia comum durante um **for** é manter algum tipo de contagem durante os vários loops. Por exemplo, vamos criar um loop soma todos os valores de uma lista"
      ]
    },
    {
      "cell_type": "code",
      "metadata": {
        "id": "d7Cpm-1b7kur",
        "outputId": "5513f32c-8b52-4b42-8a2c-4238e05cfd47"
      },
      "source": [
        "lista = [1,2,3,4,5,6,7,8,9,10]\n",
        "soma = 0\n",
        "for num in lista:\n",
        "    soma = soma + num\n",
        "print(soma)"
      ],
      "execution_count": null,
      "outputs": [
        {
          "output_type": "stream",
          "text": [
            "55\n"
          ],
          "name": "stdout"
        }
      ]
    },
    {
      "cell_type": "code",
      "metadata": {
        "id": "M-X-0tEo7kus",
        "outputId": "162081d7-93d3-46ee-e598-dc058a9b5a81"
      },
      "source": [
        "# Outra forma de se escrever\n",
        "\n",
        "lista = [1,2,3,4,5,6,7,8,9,10]\n",
        "soma = 0\n",
        "for num in lista:\n",
        "    soma += num\n",
        "print(soma)"
      ],
      "execution_count": null,
      "outputs": [
        {
          "output_type": "stream",
          "text": [
            "55\n"
          ],
          "name": "stdout"
        }
      ]
    },
    {
      "cell_type": "markdown",
      "metadata": {
        "id": "TcPXJwnk7kuv"
      },
      "source": [
        "### Exemplo 4\n",
        "Uma observação a se lembra é que strings são uma sequencia de valores, então, quando iteramos através delas, estaremos acessando cada item nessa sequencia de caracteres(uma lista onde cada elemento é um valor)."
      ]
    },
    {
      "cell_type": "code",
      "metadata": {
        "id": "Y2ghPSEZ7kux",
        "outputId": "7bd37555-028a-47ae-cfec-181c54a40ec9"
      },
      "source": [
        "for itens in 'Isso é uma string':\n",
        "    print(itens)"
      ],
      "execution_count": null,
      "outputs": [
        {
          "output_type": "stream",
          "text": [
            "I\n",
            "s\n",
            "s\n",
            "o\n",
            " \n",
            "é\n",
            " \n",
            "u\n",
            "m\n",
            "a\n",
            " \n",
            "s\n",
            "t\n",
            "r\n",
            "i\n",
            "n\n",
            "g\n"
          ],
          "name": "stdout"
        }
      ]
    },
    {
      "cell_type": "markdown",
      "metadata": {
        "id": "X1DxfJod7kuy"
      },
      "source": [
        "**Observação:** Uma outra forma de se fazer um laço **for** utilizando apenas uma linha"
      ]
    },
    {
      "cell_type": "code",
      "metadata": {
        "id": "K0WOD2a_7kuz",
        "outputId": "880fc9f4-53ec-423e-98df-9681644e009d"
      },
      "source": [
        "[x for x in range(10)]"
      ],
      "execution_count": null,
      "outputs": [
        {
          "output_type": "execute_result",
          "data": {
            "text/plain": [
              "[0, 1, 2, 3, 4, 5, 6, 7, 8, 9]"
            ]
          },
          "metadata": {
            "tags": []
          },
          "execution_count": 83
        }
      ]
    },
    {
      "cell_type": "markdown",
      "metadata": {
        "id": "nYAT_c9u7ku0"
      },
      "source": [
        "# While\n",
        "\n",
        "O comando **while** em Python é uma das formas mais gerais de executar iterações. Uma instrução ** while ** executará repetidamente uma única declaração ou grupo de instruções, desde que a condição seja verdadeira. A razão pela qual é chamado de \"loop\" é porque as instruções de código são roteadas repetidamente até que a condição não seja mais atendida.\n",
        "\n",
        "O formato geral de um loop while é:\n",
        "\n",
        "     while teste:\n",
        "         declaração de código\n",
        "\n",
        "\n",
        "É importante salientar que a condição a ser testada em cada iteração deve ser modificada dentro do loop, caso contrário seria uma repetição infinita."
      ]
    },
    {
      "cell_type": "markdown",
      "metadata": {
        "id": "wZsETxUM7ku2"
      },
      "source": [
        "### Exemplo 5"
      ]
    },
    {
      "cell_type": "code",
      "metadata": {
        "id": "1C7NbHnz7ku3",
        "outputId": "a0d36380-649a-42c5-af1f-3d9b66ce064b"
      },
      "source": [
        "x = 0\n",
        "\n",
        "while x < 10:\n",
        "    print('O valor atual de x é: ', x)\n",
        "    print('Obs.: x ainda é um número menor que 10, então acrescentaremos uma unidade a x \\n')\n",
        "    x += 1"
      ],
      "execution_count": null,
      "outputs": [
        {
          "output_type": "stream",
          "text": [
            "O valor atual de x é:  0\n",
            "Obs.: x ainda é um número menor que 10, então acrescentaremos uma unidade a x \n",
            "\n",
            "O valor atual de x é:  1\n",
            "Obs.: x ainda é um número menor que 10, então acrescentaremos uma unidade a x \n",
            "\n",
            "O valor atual de x é:  2\n",
            "Obs.: x ainda é um número menor que 10, então acrescentaremos uma unidade a x \n",
            "\n",
            "O valor atual de x é:  3\n",
            "Obs.: x ainda é um número menor que 10, então acrescentaremos uma unidade a x \n",
            "\n",
            "O valor atual de x é:  4\n",
            "Obs.: x ainda é um número menor que 10, então acrescentaremos uma unidade a x \n",
            "\n",
            "O valor atual de x é:  5\n",
            "Obs.: x ainda é um número menor que 10, então acrescentaremos uma unidade a x \n",
            "\n",
            "O valor atual de x é:  6\n",
            "Obs.: x ainda é um número menor que 10, então acrescentaremos uma unidade a x \n",
            "\n",
            "O valor atual de x é:  7\n",
            "Obs.: x ainda é um número menor que 10, então acrescentaremos uma unidade a x \n",
            "\n",
            "O valor atual de x é:  8\n",
            "Obs.: x ainda é um número menor que 10, então acrescentaremos uma unidade a x \n",
            "\n",
            "O valor atual de x é:  9\n",
            "Obs.: x ainda é um número menor que 10, então acrescentaremos uma unidade a x \n",
            "\n"
          ],
          "name": "stdout"
        }
      ]
    },
    {
      "cell_type": "markdown",
      "metadata": {
        "id": "9U8E1VOk7ku5"
      },
      "source": [
        "### Observação\n",
        "\n",
        "Observe quantas vezes as declarações de impressão ocorreram e como o while continuou até a condição True deixasse de ser verdadeira, que ocorreu após x == 10. É importante notar que, uma vez que isso ocorreu, o código parou. Vamos ver como podemos adicionar uma outra afirmação:"
      ]
    },
    {
      "cell_type": "markdown",
      "metadata": {
        "id": "ftSziLZ87ku6"
      },
      "source": [
        "## break, continue, pass\n",
        "\n",
        "Podemos usar as declarações break, continue e pass em nossos loops para adicionar funcionalidades adicionais para vários casos. As três declarações são definidas por:\n",
        "\n",
        "     break: Para o loop \n",
        "     continue: Vai para o próximo loop\n",
        "     pass: Não faz nada\n",
        "    \n",
        "    \n",
        "Pensando nas declarações ** break ** e ** continue **, o formato geral do loop while se parece com isto:\n",
        "\n",
        "     while test: \n",
        "        código\n",
        "        if test: \n",
        "            break\n",
        "        if test: \n",
        "            continue \n",
        "    else:\n",
        "\n",
        "\n",
        "Vamos ver alguns exemplos!"
      ]
    },
    {
      "cell_type": "markdown",
      "metadata": {
        "id": "NCp2dj9U7ku8"
      },
      "source": [
        "### Exemplo 6"
      ]
    },
    {
      "cell_type": "code",
      "metadata": {
        "id": "iB2m_XDX7ku9",
        "outputId": "6a92f548-1154-469f-9870-e5e4bd4aaaa7"
      },
      "source": [
        "x = 0\n",
        "\n",
        "while x < 10:\n",
        "    print('O valor tual de x é: ', x)\n",
        "    print('Obs.: x ainda é um número menor que 10, então acrescentaremos uma unidade a x')\n",
        "    x+=1\n",
        "    if x == 3:\n",
        "        print('x == 3')\n",
        "    else:\n",
        "        print('continue ...\\n')\n",
        "        continue"
      ],
      "execution_count": null,
      "outputs": [
        {
          "output_type": "stream",
          "text": [
            "O valor tual de x é:  0\n",
            "Obs.: x ainda é um número menor que 10, então acrescentaremos uma unidade a x\n",
            "continue ...\n",
            "\n",
            "O valor tual de x é:  1\n",
            "Obs.: x ainda é um número menor que 10, então acrescentaremos uma unidade a x\n",
            "continue ...\n",
            "\n",
            "O valor tual de x é:  2\n",
            "Obs.: x ainda é um número menor que 10, então acrescentaremos uma unidade a x\n",
            "x == 3\n",
            "O valor tual de x é:  3\n",
            "Obs.: x ainda é um número menor que 10, então acrescentaremos uma unidade a x\n",
            "continue ...\n",
            "\n",
            "O valor tual de x é:  4\n",
            "Obs.: x ainda é um número menor que 10, então acrescentaremos uma unidade a x\n",
            "continue ...\n",
            "\n",
            "O valor tual de x é:  5\n",
            "Obs.: x ainda é um número menor que 10, então acrescentaremos uma unidade a x\n",
            "continue ...\n",
            "\n",
            "O valor tual de x é:  6\n",
            "Obs.: x ainda é um número menor que 10, então acrescentaremos uma unidade a x\n",
            "continue ...\n",
            "\n",
            "O valor tual de x é:  7\n",
            "Obs.: x ainda é um número menor que 10, então acrescentaremos uma unidade a x\n",
            "continue ...\n",
            "\n",
            "O valor tual de x é:  8\n",
            "Obs.: x ainda é um número menor que 10, então acrescentaremos uma unidade a x\n",
            "continue ...\n",
            "\n",
            "O valor tual de x é:  9\n",
            "Obs.: x ainda é um número menor que 10, então acrescentaremos uma unidade a x\n",
            "continue ...\n",
            "\n"
          ],
          "name": "stdout"
        }
      ]
    },
    {
      "cell_type": "markdown",
      "metadata": {
        "id": "VkehqW9B7ku_"
      },
      "source": [
        "### Observação\n",
        "Observe como temos uma declaração impressa quando x == 3 e continuamos imprimindo enquanto continuamos através do while. Vamos fazer uma pausa uma vez x == 3 e ver se o resultado faz sentido:"
      ]
    },
    {
      "cell_type": "markdown",
      "metadata": {
        "id": "qbzywplx7kvA"
      },
      "source": [
        "### Exemplo 7"
      ]
    },
    {
      "cell_type": "code",
      "metadata": {
        "id": "7iLWxsvJ7kvB",
        "outputId": "255ea0be-212d-4a93-a4c7-28f927979857"
      },
      "source": [
        "x = 0\n",
        "\n",
        "while x < 10:\n",
        "    print('O valor tual de x é: ', x)\n",
        "    print('Obs.: x ainda é um número menor que 10, então acrescentaremos uma unidade a x')\n",
        "    x+=1\n",
        "    if x ==3:\n",
        "        print('Pare, pois x == 3')\n",
        "        break\n",
        "    else:\n",
        "        print('continue...\\n')\n",
        "        continue"
      ],
      "execution_count": null,
      "outputs": [
        {
          "output_type": "stream",
          "text": [
            "O valor tual de x é:  0\n",
            "Obs.: x ainda é um número menor que 10, então acrescentaremos uma unidade a x\n",
            "continue...\n",
            "\n",
            "O valor tual de x é:  1\n",
            "Obs.: x ainda é um número menor que 10, então acrescentaremos uma unidade a x\n",
            "continue...\n",
            "\n",
            "O valor tual de x é:  2\n",
            "Obs.: x ainda é um número menor que 10, então acrescentaremos uma unidade a x\n",
            "Pare, pois x == 3\n"
          ],
          "name": "stdout"
        }
      ]
    },
    {
      "cell_type": "markdown",
      "metadata": {
        "id": "j4tkM6mi7kvD"
      },
      "source": [
        "# Listas\n",
        "\n",
        "Anteriormente, ao discutir strings, introduzimos o conceito de *sequência* em Python. As listas podem ser pensadas na versão mais geral de uma *sequência* em Python. Ao contrário das strings, eles são mutáveis, o que significa que os elementos dentro de uma lista podem ser alterados!\n",
        "\n",
        "Nesta seção, aprenderemos sobre:\n",
        "    \n",
        "     1) Criação de listas\n",
        "     2) Índice e corte de listas\n",
        "     3) Métodos de listas\n",
        "     4) Listas aninhadas\n",
        "     5) Introdução ao método de Compreensão em listas\n",
        "\n",
        "As listas são construídas com colchetes [] e vírgulas que separam cada elemento da lista.\n",
        "\n",
        "Avançemos e vejamos como podemos construir listas!"
      ]
    },
    {
      "cell_type": "code",
      "metadata": {
        "id": "pC70pEt57kvF"
      },
      "source": [
        "# Atribui uma lista a uma variável chamada minha_lista\n",
        "minha_lista = [1,2,3]"
      ],
      "execution_count": null,
      "outputs": []
    },
    {
      "cell_type": "markdown",
      "metadata": {
        "id": "ysUUfPY27kvH"
      },
      "source": [
        "Acabamos de criar uma lista de números inteiros, mas as listas podem realmente armazenar diferentes tipos de objeto. Por exemplo:"
      ]
    },
    {
      "cell_type": "code",
      "metadata": {
        "id": "tMLWZpsp7kvI"
      },
      "source": [
        "minha_lista_2 = ['Uma string',23,100.232,'o']"
      ],
      "execution_count": null,
      "outputs": []
    },
    {
      "cell_type": "markdown",
      "metadata": {
        "id": "QBZzsv6s7kvJ"
      },
      "source": [
        "Assim como as strings, a função len() irá dizer-lhe quantos itens estão na sequência da lista."
      ]
    },
    {
      "cell_type": "code",
      "metadata": {
        "id": "tgHLJZae7kvK",
        "outputId": "a8999992-cb60-4e40-ceea-09ce5b00d089"
      },
      "source": [
        "len(minha_lista_2)"
      ],
      "execution_count": null,
      "outputs": [
        {
          "output_type": "execute_result",
          "data": {
            "text/plain": [
              "4"
            ]
          },
          "metadata": {
            "tags": []
          },
          "execution_count": 86
        }
      ]
    },
    {
      "cell_type": "markdown",
      "metadata": {
        "id": "Nas8mstt7kvM"
      },
      "source": [
        "Podemos também verificar qual o tipo da variável minha_lista_2\n",
        "\n",
        "**Obs.**: podemos observar que surgiu um novo tipo de dado"
      ]
    },
    {
      "cell_type": "code",
      "metadata": {
        "id": "8DihFDGM7kvN",
        "outputId": "54b8de7f-4c74-45ea-a181-dfb9f9c4b429"
      },
      "source": [
        "type(minha_lista_2)"
      ],
      "execution_count": null,
      "outputs": [
        {
          "output_type": "execute_result",
          "data": {
            "text/plain": [
              "list"
            ]
          },
          "metadata": {
            "tags": []
          },
          "execution_count": 87
        }
      ]
    },
    {
      "cell_type": "markdown",
      "metadata": {
        "id": "0HMknvLr7kvP"
      },
      "source": [
        "### Indexação e corte\n",
        "Indexar e cortar funciona exatamente como em strings. Vamos fazer uma nova lista para nos lembrar de como isso funciona:"
      ]
    },
    {
      "cell_type": "code",
      "metadata": {
        "id": "Yu39FYw17kvR"
      },
      "source": [
        "minha_lista_3 = ['um','dois','três',4,5]"
      ],
      "execution_count": null,
      "outputs": []
    },
    {
      "cell_type": "code",
      "metadata": {
        "id": "GuDGY0js7kvS",
        "outputId": "128c9b85-0926-4e0a-9ebf-c579ceee9809"
      },
      "source": [
        "# Pega o elemento de indice 0\n",
        "minha_lista_3[0]"
      ],
      "execution_count": null,
      "outputs": [
        {
          "output_type": "execute_result",
          "data": {
            "text/plain": [
              "'um'"
            ]
          },
          "metadata": {
            "tags": []
          },
          "execution_count": 89
        }
      ]
    },
    {
      "cell_type": "code",
      "metadata": {
        "id": "EKRi2VoQ7kvU",
        "outputId": "d5cbc33f-3e02-44ee-917d-82b9ddcfd389"
      },
      "source": [
        "# Pegue o índice 1 e tudo depois\n",
        "minha_lista_3[1:3]"
      ],
      "execution_count": null,
      "outputs": [
        {
          "output_type": "execute_result",
          "data": {
            "text/plain": [
              "['dois', 'três']"
            ]
          },
          "metadata": {
            "tags": []
          },
          "execution_count": 90
        }
      ]
    },
    {
      "cell_type": "code",
      "metadata": {
        "id": "b0A_4MOt7kvV",
        "outputId": "723dc39d-793b-4a9a-eae5-98530e690fb7"
      },
      "source": [
        "# Pega tudo até o elemento de índice 3\n",
        "minha_lista_3[1:-1]"
      ],
      "execution_count": null,
      "outputs": [
        {
          "output_type": "execute_result",
          "data": {
            "text/plain": [
              "['dois', 'três', 4]"
            ]
          },
          "metadata": {
            "tags": []
          },
          "execution_count": 91
        }
      ]
    },
    {
      "cell_type": "markdown",
      "metadata": {
        "id": "A3IuuWrf7kvX"
      },
      "source": [
        "Nós também podemos usar + para concatenar listas, assim como fizemos por strings."
      ]
    },
    {
      "cell_type": "code",
      "metadata": {
        "id": "0hkX1Si07kvZ",
        "outputId": "5acba1f0-1676-4b53-9820-cdb678dfea34"
      },
      "source": [
        "minha_lista_3 + ['novo item']"
      ],
      "execution_count": null,
      "outputs": [
        {
          "output_type": "execute_result",
          "data": {
            "text/plain": [
              "['um', 'dois', 'três', 4, 5, 'novo item']"
            ]
          },
          "metadata": {
            "tags": []
          },
          "execution_count": 92
        }
      ]
    },
    {
      "cell_type": "markdown",
      "metadata": {
        "id": "n6CLiGhi7kva"
      },
      "source": [
        "**Observação**: Isso realmente não altera a lista original!"
      ]
    },
    {
      "cell_type": "code",
      "metadata": {
        "id": "MEEg3L547kvd",
        "outputId": "edd466a5-6fd9-48a2-aa72-75cd5c6c2e69"
      },
      "source": [
        "minha_lista_3"
      ],
      "execution_count": null,
      "outputs": [
        {
          "output_type": "execute_result",
          "data": {
            "text/plain": [
              "['um', 'dois', 'três', 4, 5]"
            ]
          },
          "metadata": {
            "tags": []
          },
          "execution_count": 93
        }
      ]
    },
    {
      "cell_type": "markdown",
      "metadata": {
        "id": "wbRhInXW7kve"
      },
      "source": [
        "Você teria que reatribuir a lista para tornar a mudança permanente."
      ]
    },
    {
      "cell_type": "code",
      "metadata": {
        "id": "TZEnCBDc7kvf"
      },
      "source": [
        "# Reassign\n",
        "minha_lista_3 = minha_lista_3 + ['adicionando um novo elemento permanentemente']"
      ],
      "execution_count": null,
      "outputs": []
    },
    {
      "cell_type": "code",
      "metadata": {
        "id": "BP6qN-m_7kvg",
        "outputId": "74c49387-84bc-4c2b-9695-e7ec50e0eaba"
      },
      "source": [
        "minha_lista_3"
      ],
      "execution_count": null,
      "outputs": [
        {
          "output_type": "execute_result",
          "data": {
            "text/plain": [
              "['um', 'dois', 'três', 4, 5, 'adicionando um novo elemento permanentemente']"
            ]
          },
          "metadata": {
            "tags": []
          },
          "execution_count": 95
        }
      ]
    },
    {
      "cell_type": "markdown",
      "metadata": {
        "id": "5ObidnYk7kvi"
      },
      "source": [
        "Nós também podemos usar o * para um método de duplicação semelhante às strings:"
      ]
    },
    {
      "cell_type": "code",
      "metadata": {
        "id": "Viw-R6aG7kvj",
        "outputId": "cba35745-00fe-4ad6-82a7-80676777123b"
      },
      "source": [
        "# Duplicando os elementos da lista\n",
        "minha_lista_3 * 2"
      ],
      "execution_count": null,
      "outputs": [
        {
          "output_type": "execute_result",
          "data": {
            "text/plain": [
              "['um',\n",
              " 'dois',\n",
              " 'três',\n",
              " 4,\n",
              " 5,\n",
              " 'adicionando um novo elemento permanentemente',\n",
              " 'um',\n",
              " 'dois',\n",
              " 'três',\n",
              " 4,\n",
              " 5,\n",
              " 'adicionando um novo elemento permanentemente']"
            ]
          },
          "metadata": {
            "tags": []
          },
          "execution_count": 96
        }
      ]
    },
    {
      "cell_type": "markdown",
      "metadata": {
        "id": "qijvuvZd7kvl"
      },
      "source": [
        "**Obs.:** mais uma ez esta operação não altera permanetemente a lista original"
      ]
    },
    {
      "cell_type": "code",
      "metadata": {
        "id": "lPNkmvUk7kvm"
      },
      "source": [
        "minha_lista_3 = minha_lista_3*2"
      ],
      "execution_count": null,
      "outputs": []
    },
    {
      "cell_type": "code",
      "metadata": {
        "id": "4eGhu4Ck7kvm",
        "outputId": "a57ed277-dc4d-4661-88a4-b981c3e12082"
      },
      "source": [
        "len(minha_lista_3)"
      ],
      "execution_count": null,
      "outputs": [
        {
          "output_type": "execute_result",
          "data": {
            "text/plain": [
              "12"
            ]
          },
          "metadata": {
            "tags": []
          },
          "execution_count": 98
        }
      ]
    },
    {
      "cell_type": "markdown",
      "metadata": {
        "id": "BpaXhkju7kvo"
      },
      "source": [
        "Também deve notar-se que a indexação das listas retornará um erro se não houver nenhum elemento nesse índice. Por exemplo:"
      ]
    },
    {
      "cell_type": "code",
      "metadata": {
        "id": "5rskBKqE7kvq",
        "outputId": "dff69453-ad87-4d79-9ef9-003011f05b89"
      },
      "source": [
        "minha_lista_3[11]"
      ],
      "execution_count": null,
      "outputs": [
        {
          "output_type": "execute_result",
          "data": {
            "text/plain": [
              "'adicionando um novo elemento permanentemente'"
            ]
          },
          "metadata": {
            "tags": []
          },
          "execution_count": 99
        }
      ]
    },
    {
      "cell_type": "markdown",
      "metadata": {
        "id": "aVHVAG1P7kvt"
      },
      "source": [
        "## Métodos de Listas\n",
        "\n",
        "Os métodos de listas são muito úteis na programação. Vamos explorar um pouco mais sobre eles adiante\n",
        "\n",
        "<img src='Imagens/metodos_lista.JPG' heigth='300' width='600'>"
      ]
    },
    {
      "cell_type": "markdown",
      "metadata": {
        "id": "InL-4Bap7kvu"
      },
      "source": [
        "## append( )"
      ]
    },
    {
      "cell_type": "markdown",
      "metadata": {
        "id": "zxV_2ZtK7kvw"
      },
      "source": [
        "Use o método **append( )** para adicionar permanentemente um item ao final de uma lista:"
      ]
    },
    {
      "cell_type": "code",
      "metadata": {
        "id": "-j1wqObP7kvx"
      },
      "source": [
        "# Criando uma lista\n",
        "l =  [1,2,3,4]"
      ],
      "execution_count": null,
      "outputs": []
    },
    {
      "cell_type": "code",
      "metadata": {
        "id": "Eva1_A2m7kvy"
      },
      "source": [
        "l.append(5)"
      ],
      "execution_count": null,
      "outputs": []
    },
    {
      "cell_type": "code",
      "metadata": {
        "id": "BcquUgcL7kvz",
        "outputId": "ad893a5f-e162-4fdd-acd0-eb5289803487"
      },
      "source": [
        "l"
      ],
      "execution_count": null,
      "outputs": [
        {
          "output_type": "execute_result",
          "data": {
            "text/plain": [
              "[1, 2, 3, 4, 5]"
            ]
          },
          "metadata": {
            "tags": []
          },
          "execution_count": 128
        }
      ]
    },
    {
      "cell_type": "code",
      "metadata": {
        "id": "SsTnAPoR7kv1"
      },
      "source": [
        "# Utilizando o método append(),passando como parâmentro o novo elemento da lista\n",
        "l.append('adicionando um elemento!')"
      ],
      "execution_count": null,
      "outputs": []
    },
    {
      "cell_type": "code",
      "metadata": {
        "id": "xh-k9e3L7kv2",
        "outputId": "ea6f772a-a3fe-4d72-ceb2-5581bfbf0b3e"
      },
      "source": [
        "# Mostrar a lista \n",
        "l"
      ],
      "execution_count": null,
      "outputs": [
        {
          "output_type": "execute_result",
          "data": {
            "text/plain": [
              "[1, 2, 3, 4, 5, 'adicionando um elemento!']"
            ]
          },
          "metadata": {
            "tags": []
          },
          "execution_count": 130
        }
      ]
    },
    {
      "cell_type": "code",
      "metadata": {
        "id": "hecn66gt7kv4"
      },
      "source": [
        "l.append(2)"
      ],
      "execution_count": null,
      "outputs": []
    },
    {
      "cell_type": "code",
      "metadata": {
        "id": "u5pnvrbL7kv6",
        "outputId": "3232978d-e09d-40df-8e12-ecc915acb5ab"
      },
      "source": [
        "l"
      ],
      "execution_count": null,
      "outputs": [
        {
          "output_type": "execute_result",
          "data": {
            "text/plain": [
              "[1, 2, 3, 4, 5, 'adicionando um elemento!', 2]"
            ]
          },
          "metadata": {
            "tags": []
          },
          "execution_count": 132
        }
      ]
    },
    {
      "cell_type": "markdown",
      "metadata": {
        "id": "9YxSg4iq7kv8"
      },
      "source": [
        "## count( )\n",
        "\n",
        "count( ) retorna o número de vezes que um elemento aparece na lista"
      ]
    },
    {
      "cell_type": "code",
      "metadata": {
        "id": "xbAQ6m_17kv-",
        "outputId": "4e1f233b-f6ce-44f5-a62e-0e7b79b50a90"
      },
      "source": [
        "l.count(10)"
      ],
      "execution_count": null,
      "outputs": [
        {
          "output_type": "execute_result",
          "data": {
            "text/plain": [
              "0"
            ]
          },
          "metadata": {
            "tags": []
          },
          "execution_count": 133
        }
      ]
    },
    {
      "cell_type": "code",
      "metadata": {
        "id": "R00icWt-7kwA",
        "outputId": "70010711-dfcd-44bb-8f01-d381d7d22ba6"
      },
      "source": [
        "l.count(2)"
      ],
      "execution_count": null,
      "outputs": [
        {
          "output_type": "execute_result",
          "data": {
            "text/plain": [
              "2"
            ]
          },
          "metadata": {
            "tags": []
          },
          "execution_count": 134
        }
      ]
    },
    {
      "cell_type": "markdown",
      "metadata": {
        "id": "m-DjugYh7kwF"
      },
      "source": [
        "## extend( )\n",
        "Muitas vezes as pessoas acham a diferença entre extend e append que não está claro. Então note:\n",
        "\n",
        "**append: anexa objeto no final**"
      ]
    },
    {
      "cell_type": "code",
      "metadata": {
        "id": "PHbiBsob7kwG",
        "outputId": "61794bc3-0bba-4164-e83f-e2ea8dd3bad3"
      },
      "source": [
        "x = [1, 2, 3]\n",
        "x.append([4, 5])\n",
        "print(x)"
      ],
      "execution_count": null,
      "outputs": [
        {
          "output_type": "stream",
          "text": [
            "[1, 2, 3, [4, 5]]\n"
          ],
          "name": "stdout"
        }
      ]
    },
    {
      "cell_type": "markdown",
      "metadata": {
        "id": "c4BoO-FT7kwO"
      },
      "source": [
        "**extend**: amplia a lista anexando elementos do iterável"
      ]
    },
    {
      "cell_type": "code",
      "metadata": {
        "id": "r-qDJ4QE7kwP",
        "outputId": "3ea00e06-570d-457c-beda-f65839d10d6c"
      },
      "source": [
        "x = [1, 2, 3]\n",
        "x.extend([4, 5])\n",
        "print(x)"
      ],
      "execution_count": null,
      "outputs": [
        {
          "output_type": "stream",
          "text": [
            "[1, 2, 3, 4, 5]\n"
          ],
          "name": "stdout"
        }
      ]
    },
    {
      "cell_type": "markdown",
      "metadata": {
        "id": "PNkomcxj7kwR"
      },
      "source": [
        "Observe como extend acrescenta cada elemento nesse iterável. Essa é a principal diferença."
      ]
    },
    {
      "cell_type": "markdown",
      "metadata": {
        "id": "I5iK2YAq7kwT"
      },
      "source": [
        "## index( )\n",
        "Index retornará o índice de qualquer elemento que seja colocado como um argumento. Nota: Se o elemento não estiver na lista, um erro será retornado."
      ]
    },
    {
      "cell_type": "code",
      "metadata": {
        "id": "CGf9mk3_7kwT",
        "outputId": "34238406-95fb-43c8-9f1f-4420ceb305d1"
      },
      "source": [
        "l"
      ],
      "execution_count": null,
      "outputs": [
        {
          "output_type": "execute_result",
          "data": {
            "text/plain": [
              "[1, 2, 3, 4, 5, 'adicionando um elemento!', 2]"
            ]
          },
          "metadata": {
            "tags": []
          },
          "execution_count": 137
        }
      ]
    },
    {
      "cell_type": "code",
      "metadata": {
        "id": "szUQDeDA7kwV",
        "outputId": "74b72ec7-22ba-4630-c44d-859f2225b40b"
      },
      "source": [
        "l.index(2)"
      ],
      "execution_count": null,
      "outputs": [
        {
          "output_type": "execute_result",
          "data": {
            "text/plain": [
              "1"
            ]
          },
          "metadata": {
            "tags": []
          },
          "execution_count": 138
        }
      ]
    },
    {
      "cell_type": "code",
      "metadata": {
        "id": "zkp2S4SQ7kwW",
        "outputId": "69ec2466-2fd2-4e59-ab2a-743b7baa2f31"
      },
      "source": [
        "l.index(12)"
      ],
      "execution_count": null,
      "outputs": [
        {
          "output_type": "error",
          "ename": "ValueError",
          "evalue": "12 is not in list",
          "traceback": [
            "\u001b[1;31m---------------------------------------------------------------------------\u001b[0m",
            "\u001b[1;31mValueError\u001b[0m                                Traceback (most recent call last)",
            "\u001b[1;32m<ipython-input-139-da9218b18168>\u001b[0m in \u001b[0;36m<module>\u001b[1;34m()\u001b[0m\n\u001b[1;32m----> 1\u001b[1;33m \u001b[0ml\u001b[0m\u001b[1;33m.\u001b[0m\u001b[0mindex\u001b[0m\u001b[1;33m(\u001b[0m\u001b[1;36m12\u001b[0m\u001b[1;33m)\u001b[0m\u001b[1;33m\u001b[0m\u001b[0m\n\u001b[0m",
            "\u001b[1;31mValueError\u001b[0m: 12 is not in list"
          ]
        }
      ]
    },
    {
      "cell_type": "markdown",
      "metadata": {
        "id": "socfiLbo7kwX"
      },
      "source": [
        "## insert( )\n",
        "insert pega dois argumentos: insert(índice, objeto) Este método coloca o objeto no índice fornecido. Por exemplo:"
      ]
    },
    {
      "cell_type": "code",
      "metadata": {
        "id": "k2iNhBWa7kwY",
        "outputId": "455d2ef2-efa9-4f31-d712-c4fd98a0de80"
      },
      "source": [
        "l"
      ],
      "execution_count": null,
      "outputs": [
        {
          "output_type": "execute_result",
          "data": {
            "text/plain": [
              "[1, 2, 3, 4, 5, 'adicionando um elemento!', 2]"
            ]
          },
          "metadata": {
            "tags": []
          },
          "execution_count": 140
        }
      ]
    },
    {
      "cell_type": "code",
      "metadata": {
        "id": "eC1g5QeN7kwa"
      },
      "source": [
        "# Coloca uma letra no índice 2\n",
        "l.insert(2,'inserindo')"
      ],
      "execution_count": null,
      "outputs": []
    },
    {
      "cell_type": "code",
      "metadata": {
        "id": "SNMGHyLe7kwb",
        "outputId": "a1bebf3e-aebf-4a91-96ea-6233b08b6512"
      },
      "source": [
        "l"
      ],
      "execution_count": null,
      "outputs": [
        {
          "output_type": "execute_result",
          "data": {
            "text/plain": [
              "[1, 2, 'inserindo', 3, 4, 5, 'adicionando um elemento!', 2]"
            ]
          },
          "metadata": {
            "tags": []
          },
          "execution_count": 142
        }
      ]
    },
    {
      "cell_type": "markdown",
      "metadata": {
        "id": "H3AV0FfK7kwd"
      },
      "source": [
        "## pop( )\n",
        "Para retirar um elemento da lista utilizamos o parâmetro **pop( )** . Por padrão, pop tira o último índice, mas também pode especificar qual índice aparecer. \n",
        "Vamos ver um exemplo:"
      ]
    },
    {
      "cell_type": "code",
      "metadata": {
        "id": "_ZJI5o2D7kwg"
      },
      "source": [
        "a = l"
      ],
      "execution_count": null,
      "outputs": []
    },
    {
      "cell_type": "code",
      "metadata": {
        "id": "PmEuNPCn7kwi",
        "outputId": "d8bd84e2-fa36-4c25-8951-3985f803db6e"
      },
      "source": [
        "a"
      ],
      "execution_count": null,
      "outputs": [
        {
          "output_type": "execute_result",
          "data": {
            "text/plain": [
              "[1, 2, 'inserindo', 3, 4, 5, 'adicionando um elemento!', 2]"
            ]
          },
          "metadata": {
            "tags": []
          },
          "execution_count": 144
        }
      ]
    },
    {
      "cell_type": "code",
      "metadata": {
        "id": "i714WwKS7kwk",
        "outputId": "b2928021-9634-44ef-eb10-d148182ec983"
      },
      "source": [
        "a = a.pop()\n",
        "a"
      ],
      "execution_count": null,
      "outputs": [
        {
          "output_type": "execute_result",
          "data": {
            "text/plain": [
              "2"
            ]
          },
          "metadata": {
            "tags": []
          },
          "execution_count": 145
        }
      ]
    },
    {
      "cell_type": "code",
      "metadata": {
        "id": "mYdx0ATt7kwm",
        "outputId": "b6b3ef53-cd30-4316-bc59-edec96c66276"
      },
      "source": [
        "b = l.pop(2)\n",
        "b"
      ],
      "execution_count": null,
      "outputs": [
        {
          "output_type": "execute_result",
          "data": {
            "text/plain": [
              "'inserindo'"
            ]
          },
          "metadata": {
            "tags": []
          },
          "execution_count": 146
        }
      ]
    },
    {
      "cell_type": "code",
      "metadata": {
        "id": "t-TSFT7f7kwo",
        "outputId": "14b5e33e-fb6f-4e18-92b3-ea981096d7f4"
      },
      "source": [
        "l"
      ],
      "execution_count": null,
      "outputs": [
        {
          "output_type": "execute_result",
          "data": {
            "text/plain": [
              "[1, 2, 3, 4, 5, 'adicionando um elemento!']"
            ]
          },
          "metadata": {
            "tags": []
          },
          "execution_count": 147
        }
      ]
    },
    {
      "cell_type": "markdown",
      "metadata": {
        "id": "i1ojYQ8R7kwq"
      },
      "source": [
        "## remove( )\n",
        "O método **remove( )** remove a primeira ocorrência de um valor. Por exemplo:"
      ]
    },
    {
      "cell_type": "code",
      "metadata": {
        "id": "n7wEwSpL7kwr",
        "outputId": "59b1e205-4b03-40a9-d63b-8e6e32b43d84"
      },
      "source": [
        "l"
      ],
      "execution_count": null,
      "outputs": [
        {
          "output_type": "execute_result",
          "data": {
            "text/plain": [
              "[1, 2, 3, 4, 5, 'adicionando um elemento!']"
            ]
          },
          "metadata": {
            "tags": []
          },
          "execution_count": 149
        }
      ]
    },
    {
      "cell_type": "code",
      "metadata": {
        "id": "DnYtt5aa7kwt"
      },
      "source": [
        "l.remove(4)"
      ],
      "execution_count": null,
      "outputs": []
    },
    {
      "cell_type": "code",
      "metadata": {
        "id": "MWjfgkFS7kwu"
      },
      "source": [
        "l.append(3)"
      ],
      "execution_count": null,
      "outputs": []
    },
    {
      "cell_type": "code",
      "metadata": {
        "id": "jJUTBKkf7kwv",
        "outputId": "d1c3fea7-00d0-46f7-f036-60b88890c5c6"
      },
      "source": [
        "l"
      ],
      "execution_count": null,
      "outputs": [
        {
          "output_type": "execute_result",
          "data": {
            "text/plain": [
              "[1, 2, 3, 5, 'adicionando um elemento!', 3]"
            ]
          },
          "metadata": {
            "tags": []
          },
          "execution_count": 152
        }
      ]
    },
    {
      "cell_type": "code",
      "metadata": {
        "id": "dG4M_cn67kww"
      },
      "source": [
        "l.remove(3)"
      ],
      "execution_count": null,
      "outputs": []
    },
    {
      "cell_type": "code",
      "metadata": {
        "id": "7jbh3B9Q7kwx",
        "outputId": "ebeb6a87-9af3-48eb-a46d-5c5e2f7c34f2"
      },
      "source": [
        "l"
      ],
      "execution_count": null,
      "outputs": [
        {
          "output_type": "execute_result",
          "data": {
            "text/plain": [
              "[1, 2, 5, 'adicionando um elemento!', 3]"
            ]
          },
          "metadata": {
            "tags": []
          },
          "execution_count": 154
        }
      ]
    },
    {
      "cell_type": "markdown",
      "metadata": {
        "id": "313wahwP7kwy"
      },
      "source": [
        "## reverse( )\n",
        "Método utilizado para inverter uma lista"
      ]
    },
    {
      "cell_type": "code",
      "metadata": {
        "id": "kz_wrE7A7kwz",
        "outputId": "3b3c16ee-6762-46f0-dccb-b2cb25e4cafc"
      },
      "source": [
        "nova_lista = ['a','e','x','b','c']\n",
        "nova_lista"
      ],
      "execution_count": null,
      "outputs": [
        {
          "output_type": "execute_result",
          "data": {
            "text/plain": [
              "['a', 'e', 'x', 'b', 'c']"
            ]
          },
          "metadata": {
            "tags": []
          },
          "execution_count": 155
        }
      ]
    },
    {
      "cell_type": "code",
      "metadata": {
        "id": "cAjW-UPZ7kw0"
      },
      "source": [
        "# Usando o método reverse() para reverter a ordem da lista - este método altera a lista permanentemente!\n",
        "nova_lista.reverse()"
      ],
      "execution_count": null,
      "outputs": []
    },
    {
      "cell_type": "code",
      "metadata": {
        "id": "A8ojOepL7kw1",
        "outputId": "a5c55eeb-0cb8-4d1d-e2a4-bfe1e07747a7"
      },
      "source": [
        "nova_lista"
      ],
      "execution_count": null,
      "outputs": [
        {
          "output_type": "execute_result",
          "data": {
            "text/plain": [
              "['c', 'b', 'x', 'e', 'a']"
            ]
          },
          "metadata": {
            "tags": []
          },
          "execution_count": 157
        }
      ]
    },
    {
      "cell_type": "code",
      "metadata": {
        "id": "_baruhF87kw3",
        "outputId": "2ae37e63-5773-4e2b-8f84-3fdbd6dc3210"
      },
      "source": [
        "nova_lista = ['a','e','x','b','c']\n",
        "lista_nova = []\n",
        "for i in range(len(nova_lista)):\n",
        "    \n",
        "    print(-(i+1))\n",
        "    lista_nova.append(nova_lista[-(i+1)])"
      ],
      "execution_count": null,
      "outputs": [
        {
          "output_type": "stream",
          "text": [
            "-1\n",
            "-2\n",
            "-3\n",
            "-4\n",
            "-5\n"
          ],
          "name": "stdout"
        }
      ]
    },
    {
      "cell_type": "code",
      "metadata": {
        "id": "Ea9q-xNO7kw4",
        "outputId": "15849c78-5f91-4b41-df6c-a5548314a9fe"
      },
      "source": [
        "lista_nova"
      ],
      "execution_count": null,
      "outputs": [
        {
          "output_type": "execute_result",
          "data": {
            "text/plain": [
              "['c', 'b', 'x', 'e', 'a']"
            ]
          },
          "metadata": {
            "tags": []
          },
          "execution_count": 159
        }
      ]
    },
    {
      "cell_type": "markdown",
      "metadata": {
        "id": "jwArufK67kw6"
      },
      "source": [
        "## sort( )\n",
        "Método utilizado para ordenar uma lista"
      ]
    },
    {
      "cell_type": "code",
      "metadata": {
        "id": "EfijgKRX7kw8"
      },
      "source": [
        "# Usando o método sort() para ordenar a lista (neste caso, ordem alfabética) - este método altera a lista permanentemente!\n",
        "nova_lista.sort()"
      ],
      "execution_count": null,
      "outputs": []
    },
    {
      "cell_type": "code",
      "metadata": {
        "id": "I2AhOxWA7kw-",
        "outputId": "05037c3a-b0d0-4350-eca3-0f0a09a0f1b9"
      },
      "source": [
        "nova_lista"
      ],
      "execution_count": null,
      "outputs": [
        {
          "output_type": "execute_result",
          "data": {
            "text/plain": [
              "['a', 'b', 'c', 'e', 'x']"
            ]
          },
          "metadata": {
            "tags": []
          },
          "execution_count": 161
        }
      ]
    },
    {
      "cell_type": "markdown",
      "metadata": {
        "id": "yEuW5Ss-7kw_"
      },
      "source": [
        "## Listas aninhadas\n",
        "Uma ótima característica das estruturas de dados do Python é que eles suportam * aninhamento *. Isso significa que podemos ter estruturas de dados dentro das estruturas de dados. Por exemplo: uma lista dentro de uma lista.\n",
        "\n",
        "Vamos ver como isso funciona!"
      ]
    },
    {
      "cell_type": "code",
      "metadata": {
        "id": "XudOZz-n7kxB"
      },
      "source": [
        "# Começamos com 3 listas\n",
        "lista_1=[1,2,3]\n",
        "lista_2=[4,5,6]\n",
        "lista_3=[7,8,9]\n",
        "\n",
        "# Faça uma lista de listas para formar uma matriz\n",
        "matrix = [lista_1,lista_2,lista_3]"
      ],
      "execution_count": null,
      "outputs": []
    },
    {
      "cell_type": "code",
      "metadata": {
        "id": "24UXXRHe7kxC",
        "outputId": "e9620cef-76b1-40be-e0c2-f7286441a95c"
      },
      "source": [
        "# Mostra\n",
        "matrix"
      ],
      "execution_count": null,
      "outputs": [
        {
          "output_type": "execute_result",
          "data": {
            "text/plain": [
              "[[1, 2, 3], [4, 5, 6], [7, 8, 9]]"
            ]
          },
          "metadata": {
            "tags": []
          },
          "execution_count": 163
        }
      ]
    },
    {
      "cell_type": "markdown",
      "metadata": {
        "id": "Hriy5Wcj7kxE"
      },
      "source": [
        "Agora, podemos usar novamente a indexação para pegar elementos, mas agora existem dois níveis para o índice. Os itens no objeto matriz e, em seguida, os itens dentro dessa lista!"
      ]
    },
    {
      "cell_type": "code",
      "metadata": {
        "id": "NDexhvYY7kxF",
        "outputId": "19ffbc95-d7cc-4b2b-97aa-d4e814ecb632"
      },
      "source": [
        "# Pegue o primeiro item no objeto da matriz\n",
        "matrix[0]"
      ],
      "execution_count": null,
      "outputs": [
        {
          "output_type": "execute_result",
          "data": {
            "text/plain": [
              "[1, 2, 3]"
            ]
          },
          "metadata": {
            "tags": []
          },
          "execution_count": 164
        }
      ]
    },
    {
      "cell_type": "code",
      "metadata": {
        "id": "-O3RKlKN7kxH",
        "outputId": "b6b5f078-6e93-441d-a20a-e19452fd9b08"
      },
      "source": [
        "# Pegue o primeiro item do primeiro item no objeto da matriz\n",
        "matrix[0][0]"
      ],
      "execution_count": null,
      "outputs": [
        {
          "output_type": "execute_result",
          "data": {
            "text/plain": [
              "1"
            ]
          },
          "metadata": {
            "tags": []
          },
          "execution_count": 165
        }
      ]
    },
    {
      "cell_type": "markdown",
      "metadata": {
        "id": "iSranObc7kxI"
      },
      "source": [
        "# Compreensão em listas\n",
        "\n",
        "Além das operações de sequência e métodos de lista, o Python inclui uma operação mais avançada chamada de compreensão de lista.\n",
        "\n",
        "As compreensões de lista nos permitem construir listas usando uma notação diferente. Você pode pensar nisso essencialmente como um loop construído dentro de colchetes. Um exemplo simples:\n",
        "\n",
        "### Exemplo 1"
      ]
    },
    {
      "cell_type": "code",
      "metadata": {
        "id": "L96owKAy7kxI"
      },
      "source": [
        "lista = []\n",
        "for i in 'word':\n",
        "    lista.append(i)"
      ],
      "execution_count": null,
      "outputs": []
    },
    {
      "cell_type": "code",
      "metadata": {
        "id": "1YmOPPXJ7kxJ",
        "outputId": "b5a899d2-2cfd-4e8b-9501-a97cfc3d3e29"
      },
      "source": [
        "lista"
      ],
      "execution_count": null,
      "outputs": [
        {
          "output_type": "execute_result",
          "data": {
            "text/plain": [
              "['w', 'o', 'r', 'd']"
            ]
          },
          "metadata": {
            "tags": []
          },
          "execution_count": 167
        }
      ]
    },
    {
      "cell_type": "code",
      "metadata": {
        "id": "XOlbnTc37kxK",
        "outputId": "ee9a84df-71d2-434a-88e6-c758d058f738"
      },
      "source": [
        "# Pega todas as letras em uma string\n",
        "lst = [i for i in 'passado']\n",
        "lst"
      ],
      "execution_count": null,
      "outputs": [
        {
          "output_type": "execute_result",
          "data": {
            "text/plain": [
              "['p', 'a', 's', 's', 'a', 'd', 'o']"
            ]
          },
          "metadata": {
            "tags": []
          },
          "execution_count": 168
        }
      ]
    },
    {
      "cell_type": "markdown",
      "metadata": {
        "id": "eskRI2Eo7kxL"
      },
      "source": [
        "Esta é a idéia básica de uma lista de compreensão.\n",
        "Vejamos mais alguns exemplos de compreensões de lista em Python:\n",
        "\n",
        "### Exemplo 2"
      ]
    },
    {
      "cell_type": "code",
      "metadata": {
        "id": "lbt8Rt0Q7kxM",
        "outputId": "8a7612dd-9880-40e9-dfac-6f9e96e5b160"
      },
      "source": [
        "# Eleva o quadrado itens no range e o transformam em lista\n",
        "lst = [x**2 for x in range(0,11)]\n",
        "lst"
      ],
      "execution_count": null,
      "outputs": [
        {
          "output_type": "execute_result",
          "data": {
            "text/plain": [
              "[0, 1, 4, 9, 16, 25, 36, 49, 64, 81, 100]"
            ]
          },
          "metadata": {
            "tags": []
          },
          "execution_count": 169
        }
      ]
    },
    {
      "cell_type": "markdown",
      "metadata": {
        "id": "wEHXyaoQ7kxN"
      },
      "source": [
        "### Exemplo 3\n",
        "Vamos ver como adicionar usando if:"
      ]
    },
    {
      "cell_type": "code",
      "metadata": {
        "id": "4858VyE57kxO",
        "outputId": "300c4de5-a593-4c79-ba04-da4e31510ac4"
      },
      "source": [
        "# Cria uma lista de números pares, utilizando para isso o if\n",
        "lst = [x for x in range(11) if x % 2 == 0]\n",
        "lst"
      ],
      "execution_count": null,
      "outputs": [
        {
          "output_type": "execute_result",
          "data": {
            "text/plain": [
              "[0, 2, 4, 6, 8, 10]"
            ]
          },
          "metadata": {
            "tags": []
          },
          "execution_count": 170
        }
      ]
    },
    {
      "cell_type": "markdown",
      "metadata": {
        "id": "wzGznYbD7kxP"
      },
      "source": [
        "### Exemplo 4\n",
        "Também pode fazer operações aritméticas mais complicadas:"
      ]
    },
    {
      "cell_type": "code",
      "metadata": {
        "id": "Uo281zgM7kxQ",
        "outputId": "ede90ff1-7c30-4b14-fe4a-8ce3f6c872ba"
      },
      "source": [
        "# Converte Celsius para Fahrenheit\n",
        "celsius = [0,10,20.1,34.5]\n",
        "\n",
        "fahrenheit = [ ((float(9)/5)*temp + 32) for temp in celsius]\n",
        "\n",
        "fahrenheit"
      ],
      "execution_count": null,
      "outputs": [
        {
          "output_type": "execute_result",
          "data": {
            "text/plain": [
              "[32.0, 50.0, 68.18, 94.1]"
            ]
          },
          "metadata": {
            "tags": []
          },
          "execution_count": 171
        }
      ]
    },
    {
      "cell_type": "markdown",
      "metadata": {
        "id": "GD0S5Wf17kxR"
      },
      "source": [
        "# Tuplas\n",
        "\n",
        "Em Python, as tuplas são muito semelhantes às listas, no entanto, ao contrário das listas, elas são *imutáveis*, o que significa que elas não podem ser alteradas. Você usaria tuplas para apresentar coisas que não deveriam ser alteradas, como dias da semana ou datas em um calendário.\n",
        "\n",
        "Nesta seção, obteremos uma breve visão geral do seguinte:\n",
        "\n",
        "     1.) Construindo Tuplas\n",
        "     2.) Métodos básicos das Tuplas\n",
        "     3.) Imutabilidade\n",
        "     4.) Quando usar Tuplas\n",
        "\n",
        "Você terá uma intuição de como usar tuplas com base no que você aprendeu sobre as listas. Nós podemos tratá-los de forma muito semelhante, com a maior distinção é que as tuplas são imutáveis.\n",
        "\n",
        "## Construindo Tuplas\n",
        "\n",
        "A construção de tuplas usa () com elementos separados por vírgulas. Por exemplo:"
      ]
    },
    {
      "cell_type": "markdown",
      "metadata": {
        "id": "vw_sl3Fx7kxS"
      },
      "source": [
        "- Pode-se criar uma tupla com múltiplos elementos"
      ]
    },
    {
      "cell_type": "code",
      "metadata": {
        "id": "9MP-KN5x7kxT"
      },
      "source": [
        "t = (1,2,3)"
      ],
      "execution_count": null,
      "outputs": []
    },
    {
      "cell_type": "markdown",
      "metadata": {
        "id": "jC-esfFb7kxV"
      },
      "source": [
        "- O método len() funciona também para tuplas"
      ]
    },
    {
      "cell_type": "code",
      "metadata": {
        "id": "p6VRaAaP7kxW",
        "outputId": "fbcf3316-e2c2-4faf-8d05-bb567d982aae"
      },
      "source": [
        "len(t)"
      ],
      "execution_count": null,
      "outputs": [
        {
          "output_type": "execute_result",
          "data": {
            "text/plain": [
              "3"
            ]
          },
          "metadata": {
            "tags": []
          },
          "execution_count": 222
        }
      ]
    },
    {
      "cell_type": "markdown",
      "metadata": {
        "id": "R4tpSDeK7kxX"
      },
      "source": [
        "- Você também pode variar os tipos de dados"
      ]
    },
    {
      "cell_type": "code",
      "metadata": {
        "id": "HBSyeXca7kxY",
        "outputId": "a63b5398-b18d-482c-dd98-b6eb318c336a"
      },
      "source": [
        "t = ('um',2)\n",
        "print(t)"
      ],
      "execution_count": null,
      "outputs": [
        {
          "output_type": "stream",
          "text": [
            "('um', 2)\n"
          ],
          "name": "stdout"
        }
      ]
    },
    {
      "cell_type": "markdown",
      "metadata": {
        "id": "TLP1KWCH7kxc"
      },
      "source": [
        "- E a indexação funciona exatamente como nas listas"
      ]
    },
    {
      "cell_type": "code",
      "metadata": {
        "id": "Tin6NThp7kxd",
        "outputId": "252bb438-69b3-44f5-d963-0c68bf7fa1d0"
      },
      "source": [
        "t[0]"
      ],
      "execution_count": null,
      "outputs": [
        {
          "output_type": "execute_result",
          "data": {
            "text/plain": [
              "'um'"
            ]
          },
          "metadata": {
            "tags": []
          },
          "execution_count": 224
        }
      ]
    },
    {
      "cell_type": "markdown",
      "metadata": {
        "id": "t4DkRmuf7kxg"
      },
      "source": [
        "- Corte de dados também..."
      ]
    },
    {
      "cell_type": "code",
      "metadata": {
        "id": "6Kvi_OT37kxk",
        "outputId": "d38745c6-6841-4a52-9879-d999c8df348f"
      },
      "source": [
        "t[-1]"
      ],
      "execution_count": null,
      "outputs": [
        {
          "output_type": "execute_result",
          "data": {
            "text/plain": [
              "2"
            ]
          },
          "metadata": {
            "tags": []
          },
          "execution_count": 225
        }
      ]
    },
    {
      "cell_type": "markdown",
      "metadata": {
        "id": "-oH0ie6k7kxn"
      },
      "source": [
        "## Métodos básicos da Tupla\n",
        "\n",
        "As tuplas têm métodos internos, mas não tantas quanto listas. Vamos ver dois deles:"
      ]
    },
    {
      "cell_type": "markdown",
      "metadata": {
        "id": "mo9SUNC07kxp"
      },
      "source": [
        "- Use .index( ) com o valor de parâmetro para retornar o índice do mesmo"
      ]
    },
    {
      "cell_type": "code",
      "metadata": {
        "id": "kfHVj2cD7kxs",
        "outputId": "96cd89c3-cbd9-4e83-8f64-e67210bc53fb"
      },
      "source": [
        "t.index('um')"
      ],
      "execution_count": null,
      "outputs": [
        {
          "output_type": "execute_result",
          "data": {
            "text/plain": [
              "0"
            ]
          },
          "metadata": {
            "tags": []
          },
          "execution_count": 227
        }
      ]
    },
    {
      "cell_type": "markdown",
      "metadata": {
        "id": "0lYyHMSa7kxv"
      },
      "source": [
        "- Use .count() para saber quantas vezes determinado elemento apareceu na tupla"
      ]
    },
    {
      "cell_type": "code",
      "metadata": {
        "id": "25gnMGf47kxw",
        "outputId": "e690a7b0-33af-4f42-a61d-df765ff84535"
      },
      "source": [
        "t.count('um')"
      ],
      "execution_count": null,
      "outputs": [
        {
          "output_type": "execute_result",
          "data": {
            "text/plain": [
              "1"
            ]
          },
          "metadata": {
            "tags": []
          },
          "execution_count": 228
        }
      ]
    },
    {
      "cell_type": "markdown",
      "metadata": {
        "id": "v2Q6VSLB7kx1"
      },
      "source": [
        "## Imutabilidade\n",
        "\n",
        "Como mencionado anteriormente, tuplas são imutáveis:"
      ]
    },
    {
      "cell_type": "code",
      "metadata": {
        "id": "0BWn5fXM7kx2",
        "outputId": "07fde161-0c4e-4585-9d23-b35ebe22108a"
      },
      "source": [
        "t[0]= 'change'"
      ],
      "execution_count": null,
      "outputs": [
        {
          "output_type": "error",
          "ename": "TypeError",
          "evalue": "'tuple' object does not support item assignment",
          "traceback": [
            "\u001b[1;31m---------------------------------------------------------------------------\u001b[0m",
            "\u001b[1;31mTypeError\u001b[0m                                 Traceback (most recent call last)",
            "\u001b[1;32m<ipython-input-229-1257c0aa9edd>\u001b[0m in \u001b[0;36m<module>\u001b[1;34m()\u001b[0m\n\u001b[1;32m----> 1\u001b[1;33m \u001b[0mt\u001b[0m\u001b[1;33m[\u001b[0m\u001b[1;36m0\u001b[0m\u001b[1;33m]\u001b[0m\u001b[1;33m=\u001b[0m \u001b[1;34m'change'\u001b[0m\u001b[1;33m\u001b[0m\u001b[0m\n\u001b[0m",
            "\u001b[1;31mTypeError\u001b[0m: 'tuple' object does not support item assignment"
          ]
        }
      ]
    },
    {
      "cell_type": "code",
      "metadata": {
        "id": "Nn9uLuah7kx5",
        "outputId": "8f996f1f-98fe-48a3-b847-0c45c3b3c2da"
      },
      "source": [
        "t.append('nope')"
      ],
      "execution_count": null,
      "outputs": [
        {
          "output_type": "error",
          "ename": "AttributeError",
          "evalue": "'tuple' object has no attribute 'append'",
          "traceback": [
            "\u001b[1;31m---------------------------------------------------------------------------\u001b[0m",
            "\u001b[1;31mAttributeError\u001b[0m                            Traceback (most recent call last)",
            "\u001b[1;32m<ipython-input-230-b75f5b09ac19>\u001b[0m in \u001b[0;36m<module>\u001b[1;34m()\u001b[0m\n\u001b[1;32m----> 1\u001b[1;33m \u001b[0mt\u001b[0m\u001b[1;33m.\u001b[0m\u001b[0mappend\u001b[0m\u001b[1;33m(\u001b[0m\u001b[1;34m'nope'\u001b[0m\u001b[1;33m)\u001b[0m\u001b[1;33m\u001b[0m\u001b[0m\n\u001b[0m",
            "\u001b[1;31mAttributeError\u001b[0m: 'tuple' object has no attribute 'append'"
          ]
        }
      ]
    },
    {
      "cell_type": "markdown",
      "metadata": {
        "id": "buVxwJLh7kx7"
      },
      "source": [
        "## Quando usar tuplas?\n",
        "\n",
        "Você pode estar se perguntando: \"Por que se preocupar em usar tuplas quando eles têm menos métodos disponíveis?\" Para ser honesto, as tuplas não são usadas tantas vezes como listas na programação, mas são usadas quando a imutabilidade é necessária. Se no seu programa você está passando por um objeto e precisa ter certeza de que ele não seja alterado, então a tupla se tornará sua solução. Ele fornece uma fonte conveniente de integridade de dados.\n",
        "\n",
        "Agora você pode criar e usar suas tuplas em sua programação, bem como ter uma compreensão da sua imutabilidade."
      ]
    },
    {
      "cell_type": "markdown",
      "metadata": {
        "id": "3DhhGjWR7kx7"
      },
      "source": [
        "# Strings"
      ]
    },
    {
      "cell_type": "markdown",
      "metadata": {
        "id": "bcpqVuFi7kx9"
      },
      "source": [
        "As strings são usadas em Python para registrar informações de texto, como nome. As cordas em Python são na verdade uma **sequência**, ou seja, uma lista. Por exemplo, Python entende a string \"hello\" como uma sequência de letras em uma ordem específica. Isso significa que poderemos usar a indexação para pegar letras particulares (como a primeira letra ou a última letra).\n",
        "\n",
        "\n",
        "Neste notebook, aprenderemos os seguintes tópicos:\n",
        "\n",
        "     1. Criando Strings\n",
        "     2. Impressão de com Strings rdas\n",
        "     3. Indexação e corte de strings\n",
        "     4. Propriedades da Cadeia de Caracteres\n",
        "     5. Formatação de impressão\n",
        "     6. Métodos de Strings"
      ]
    },
    {
      "cell_type": "markdown",
      "metadata": {
        "id": "zC0LuuRO7kx_"
      },
      "source": [
        "## Criando uma String\n",
        "Para criar uma string em Python, você precisa usar aspas simples ou aspas duplas. Por exemplo:"
      ]
    },
    {
      "cell_type": "code",
      "metadata": {
        "id": "rn8L8peW7kyB",
        "outputId": "12044566-bb68-4231-b43a-32039c5eff11"
      },
      "source": [
        "# Uma palavra\n",
        "'hello'"
      ],
      "execution_count": null,
      "outputs": [
        {
          "output_type": "execute_result",
          "data": {
            "text/plain": [
              "'hello'"
            ]
          },
          "metadata": {
            "tags": []
          },
          "execution_count": 172
        }
      ]
    },
    {
      "cell_type": "code",
      "metadata": {
        "id": "wn6XGU9d7kyE",
        "outputId": "4749e033-c10e-4f02-86ba-44ca69dde8ff"
      },
      "source": [
        "# Uma frase inteira\n",
        "'Isso é uma frase'"
      ],
      "execution_count": null,
      "outputs": [
        {
          "output_type": "execute_result",
          "data": {
            "text/plain": [
              "'Isso é uma frase'"
            ]
          },
          "metadata": {
            "tags": []
          },
          "execution_count": 173
        }
      ]
    },
    {
      "cell_type": "code",
      "metadata": {
        "id": "qpAYGEKA7kyG",
        "outputId": "6bc96452-66a3-44f0-86aa-0ed804262e57"
      },
      "source": [
        "# Também é possível usar aspas duplas\n",
        "\"Isso é uma frase com aspas duplas\""
      ],
      "execution_count": null,
      "outputs": [
        {
          "output_type": "execute_result",
          "data": {
            "text/plain": [
              "'Isso é uma frase com aspas duplas'"
            ]
          },
          "metadata": {
            "tags": []
          },
          "execution_count": 174
        }
      ]
    },
    {
      "cell_type": "markdown",
      "metadata": {
        "id": "Ht7_QMzF7kyI"
      },
      "source": [
        "## Imprimindo uma String\n",
        "\n",
        "Usando o Jupyter Notebook com apenas uma sequência de caracteres em uma célula emitirá automaticamente cadeias de caracteres, mas a maneira correta de exibir cadeias na sua saída é usando uma função de impressão."
      ]
    },
    {
      "cell_type": "code",
      "metadata": {
        "id": "SMaUR2dL7kyJ",
        "outputId": "41ef95d4-f379-4601-a3f7-d2bd8a7ec10b"
      },
      "source": [
        "# Podemos simplismente declarar uma string\n",
        "'Olá mundo!'"
      ],
      "execution_count": null,
      "outputs": [
        {
          "output_type": "execute_result",
          "data": {
            "text/plain": [
              "'Olá mundo!'"
            ]
          },
          "metadata": {
            "tags": []
          },
          "execution_count": 175
        }
      ]
    },
    {
      "cell_type": "code",
      "metadata": {
        "id": "Gr-c6K647kyM",
        "outputId": "3e6255c2-2e11-420e-be1a-c2da1663a252"
      },
      "source": [
        "# Note que podemos imprimir várias strings assim\n",
        "'Olá mundo 1'\n",
        "'Olá mundo 2'"
      ],
      "execution_count": null,
      "outputs": [
        {
          "output_type": "execute_result",
          "data": {
            "text/plain": [
              "'Olá mundo 2'"
            ]
          },
          "metadata": {
            "tags": []
          },
          "execution_count": 176
        }
      ]
    },
    {
      "cell_type": "markdown",
      "metadata": {
        "id": "5YSaFfkJ7kyO"
      },
      "source": [
        "Mas a maneira correta (inclusive para outras IDE's) é utilizar o método print()."
      ]
    },
    {
      "cell_type": "code",
      "metadata": {
        "id": "ayHtOJq07kyQ",
        "outputId": "d5283cc4-9021-48db-cfc6-aecae188a31e"
      },
      "source": [
        "print('Olá mundo 1')\n",
        "print('Olá mundo 2')\n",
        "print('Use \\n para imprimir em linhas diferentes')\n",
        "print('\\n')\n",
        "print('Você consegue ver?')"
      ],
      "execution_count": null,
      "outputs": [
        {
          "output_type": "stream",
          "text": [
            "Olá mundo 1\n",
            "Olá mundo 2\n",
            "Use \n",
            " para imprimir em linhas diferentes\n",
            "\n",
            "\n",
            "Você consegue ver?\n"
          ],
          "name": "stdout"
        }
      ]
    },
    {
      "cell_type": "markdown",
      "metadata": {
        "id": "lLqhb58a7kyT"
      },
      "source": [
        "Nós também podemos usar uma função chamada **len( )** para verificar o **comprimento** de uma string!"
      ]
    },
    {
      "cell_type": "code",
      "metadata": {
        "id": "7iIM8T4k7kyU",
        "outputId": "0e27c46b-744b-40d1-c8b0-471b051e34d3"
      },
      "source": [
        "len('Olá mundo!')"
      ],
      "execution_count": null,
      "outputs": [
        {
          "output_type": "execute_result",
          "data": {
            "text/plain": [
              "10"
            ]
          },
          "metadata": {
            "tags": []
          },
          "execution_count": 178
        }
      ]
    },
    {
      "cell_type": "markdown",
      "metadata": {
        "id": "XvBMeQFW7kyW"
      },
      "source": [
        "## Indexação em Strings\n",
        "Sabemos que as strings são uma seqüência, o que significa que o Python pode usar índices para chamar partes da seqüência. Vamos aprender como isso funciona.\n",
        "\n",
        "Em Python, usamos colchetes [] após um objeto para chamar seu índice. Devemos também notar que a indexação começa em 0 para Python. Vamos criar um novo objeto chamado \"s\" e a caminharmos através de alguns exemplos de indexação."
      ]
    },
    {
      "cell_type": "code",
      "metadata": {
        "id": "-ekfRr3x7kyX"
      },
      "source": [
        "# Define s como uma string\n",
        "s = 'Olá mundo!'"
      ],
      "execution_count": null,
      "outputs": []
    },
    {
      "cell_type": "code",
      "metadata": {
        "id": "TD04zF2y7kyY",
        "outputId": "551f5bb7-334e-436c-f68b-3dd3471fef6e"
      },
      "source": [
        "# Checa\n",
        "s"
      ],
      "execution_count": null,
      "outputs": [
        {
          "output_type": "execute_result",
          "data": {
            "text/plain": [
              "'Olá mundo!'"
            ]
          },
          "metadata": {
            "tags": []
          },
          "execution_count": 180
        }
      ]
    },
    {
      "cell_type": "code",
      "metadata": {
        "id": "a7TdMvja7kya",
        "outputId": "2d59b5bb-8fda-479b-e181-40d6a6a7b047"
      },
      "source": [
        "# Printa o objeto\n",
        "print(s) "
      ],
      "execution_count": null,
      "outputs": [
        {
          "output_type": "stream",
          "text": [
            "Olá mundo!\n"
          ],
          "name": "stdout"
        }
      ]
    },
    {
      "cell_type": "markdown",
      "metadata": {
        "id": "kqpa9edd7kyb"
      },
      "source": [
        "Vamos começar a indexar!"
      ]
    },
    {
      "cell_type": "code",
      "metadata": {
        "id": "AbrlFttV7kyc",
        "outputId": "8b0f62b0-08de-46ab-8782-014117ce2ac7"
      },
      "source": [
        "# Mostra o primeiro elemento (neste caso uma letra)\n",
        "s[0]"
      ],
      "execution_count": null,
      "outputs": [
        {
          "output_type": "execute_result",
          "data": {
            "text/plain": [
              "'O'"
            ]
          },
          "metadata": {
            "tags": []
          },
          "execution_count": 182
        }
      ]
    },
    {
      "cell_type": "code",
      "metadata": {
        "id": "_6IpyPrZ7kye",
        "outputId": "6d60ce45-4318-4360-cdd8-20ee96fda2de"
      },
      "source": [
        "s[1]"
      ],
      "execution_count": null,
      "outputs": [
        {
          "output_type": "execute_result",
          "data": {
            "text/plain": [
              "'l'"
            ]
          },
          "metadata": {
            "tags": []
          },
          "execution_count": 183
        }
      ]
    },
    {
      "cell_type": "code",
      "metadata": {
        "id": "8UjDKiX57kyg",
        "outputId": "f5a5c78d-685f-42b0-c7bd-8addfcd7f8ec"
      },
      "source": [
        "s[2]"
      ],
      "execution_count": null,
      "outputs": [
        {
          "output_type": "execute_result",
          "data": {
            "text/plain": [
              "'á'"
            ]
          },
          "metadata": {
            "tags": []
          },
          "execution_count": 184
        }
      ]
    },
    {
      "cell_type": "markdown",
      "metadata": {
        "id": "oErfezbE7kyi"
      },
      "source": [
        "Podemos usar um **:** para executar *corte* que pega tudo até um ponto designado. Por exemplo:"
      ]
    },
    {
      "cell_type": "code",
      "metadata": {
        "id": "8Q3BU67k7kyk",
        "outputId": "43864146-6b93-4aef-880c-555ed1a6d4fb"
      },
      "source": [
        "# Retorna todos elementos a partir do elemento de indice 1\n",
        "s[1:]"
      ],
      "execution_count": null,
      "outputs": [
        {
          "output_type": "execute_result",
          "data": {
            "text/plain": [
              "'lá mundo!'"
            ]
          },
          "metadata": {
            "tags": []
          },
          "execution_count": 185
        }
      ]
    },
    {
      "cell_type": "code",
      "metadata": {
        "id": "6l8sLtjn7kyl",
        "outputId": "0272004e-cc47-4da3-ed23-75f72234ca49"
      },
      "source": [
        "# Observe que não há mudanças no elemento s\n",
        "s"
      ],
      "execution_count": null,
      "outputs": [
        {
          "output_type": "execute_result",
          "data": {
            "text/plain": [
              "'Olá mundo!'"
            ]
          },
          "metadata": {
            "tags": []
          },
          "execution_count": 186
        }
      ]
    },
    {
      "cell_type": "code",
      "metadata": {
        "id": "-_yzcmV57kyn",
        "outputId": "893b4af7-32ff-489c-e88a-b01bf702950c"
      },
      "source": [
        "# Retorna tudo até o elemento de índice 3\n",
        "s[:3]"
      ],
      "execution_count": null,
      "outputs": [
        {
          "output_type": "execute_result",
          "data": {
            "text/plain": [
              "'Olá'"
            ]
          },
          "metadata": {
            "tags": []
          },
          "execution_count": 187
        }
      ]
    },
    {
      "cell_type": "markdown",
      "metadata": {
        "id": "LkNntprn7kyo"
      },
      "source": [
        "Observe o corte acima. Aqui, estamos dizendo ao Python que pegue tudo de 0 a 3. Não inclui o 3º índice. Você notará muito isso em Python, onde as declarações e geralmente são no contexto  \"até, mas não incluindo\"."
      ]
    },
    {
      "cell_type": "code",
      "metadata": {
        "id": "MybL4U_g7kyq",
        "outputId": "e8451509-a6eb-4720-97ef-ec1f32db5c0d"
      },
      "source": [
        "# Tudo\n",
        "s[:]"
      ],
      "execution_count": null,
      "outputs": [
        {
          "output_type": "execute_result",
          "data": {
            "text/plain": [
              "'Olá mundo!'"
            ]
          },
          "metadata": {
            "tags": []
          },
          "execution_count": 188
        }
      ]
    },
    {
      "cell_type": "markdown",
      "metadata": {
        "id": "TVTbcza77kyr"
      },
      "source": [
        "Também podemos usar indexação negativa para retroceder."
      ]
    },
    {
      "cell_type": "code",
      "metadata": {
        "id": "moUSwPzE7kyt",
        "outputId": "9fef1a58-9b12-4bd7-bea9-fc17caf436d3"
      },
      "source": [
        "# Última letra (um índice antes do 0, então ele começa da parte de trás)\n",
        "s[-1]"
      ],
      "execution_count": null,
      "outputs": [
        {
          "output_type": "execute_result",
          "data": {
            "text/plain": [
              "'!'"
            ]
          },
          "metadata": {
            "tags": []
          },
          "execution_count": 189
        }
      ]
    },
    {
      "cell_type": "code",
      "metadata": {
        "id": "BwqbJA5m7kyu",
        "outputId": "b920ba64-0c6a-459a-e87b-38a14fd49e97"
      },
      "source": [
        "# Pega tudo, menos a última letra\n",
        "s[:-1]"
      ],
      "execution_count": null,
      "outputs": [
        {
          "output_type": "execute_result",
          "data": {
            "text/plain": [
              "'Olá mundo'"
            ]
          },
          "metadata": {
            "tags": []
          },
          "execution_count": 190
        }
      ]
    },
    {
      "cell_type": "markdown",
      "metadata": {
        "id": "vdnYTWj57kyw"
      },
      "source": [
        "Também podemos usar notação de índice e fatia para capturar elementos de uma sequência com espaçamentos (o espaçamento padrão é 1). Por exemplo, podemos usar dois dois pontos em uma linha e, em seguida, um número que especifica a frequência para capturar elementos. Por exemplo:"
      ]
    },
    {
      "cell_type": "code",
      "metadata": {
        "id": "vCHvBHp07kyw",
        "outputId": "e75fa5be-e15a-45d9-8b1f-c0ef0f22f63c"
      },
      "source": [
        "# Pega tudo, de 1 em 1\n",
        "s[::1]"
      ],
      "execution_count": null,
      "outputs": [
        {
          "output_type": "execute_result",
          "data": {
            "text/plain": [
              "'Olá mundo!'"
            ]
          },
          "metadata": {
            "tags": []
          },
          "execution_count": 191
        }
      ]
    },
    {
      "cell_type": "code",
      "metadata": {
        "id": "HxHFQY2M7kyx",
        "outputId": "d97d723a-792c-40f8-dd55-387e8e116475"
      },
      "source": [
        "# Pega tudo, mas os espaçamentos são de 2 em 2\n",
        "s[::2]"
      ],
      "execution_count": null,
      "outputs": [
        {
          "output_type": "execute_result",
          "data": {
            "text/plain": [
              "'Oámno'"
            ]
          },
          "metadata": {
            "tags": []
          },
          "execution_count": 192
        }
      ]
    },
    {
      "cell_type": "code",
      "metadata": {
        "id": "O8bkRgFK7ky1",
        "outputId": "9e32dc74-dc72-45a6-eeac-cb12957fbe11"
      },
      "source": [
        "# Pega tudo, mas com passos negativos, de trás para frente.\n",
        "s[::-1]"
      ],
      "execution_count": null,
      "outputs": [
        {
          "output_type": "execute_result",
          "data": {
            "text/plain": [
              "'!odnum álO'"
            ]
          },
          "metadata": {
            "tags": []
          },
          "execution_count": 193
        }
      ]
    },
    {
      "cell_type": "markdown",
      "metadata": {
        "id": "bnlX5Cvm7ky3"
      },
      "source": [
        "## Propriedades das Strings\n",
        "É importante notar que as strings têm uma propriedade importante conhecida como imutabilidade. Isso significa que, uma vez que uma string é criada, os elementos nele não podem ser alterados ou substituídos. Por exemplo:"
      ]
    },
    {
      "cell_type": "code",
      "metadata": {
        "id": "9o6OgilR7ky5",
        "outputId": "a8572b5c-79ce-42ea-fcb6-e9bf234d72fa"
      },
      "source": [
        "s"
      ],
      "execution_count": null,
      "outputs": [
        {
          "output_type": "execute_result",
          "data": {
            "text/plain": [
              "'Olá mundo!'"
            ]
          },
          "metadata": {
            "tags": []
          },
          "execution_count": 194
        }
      ]
    },
    {
      "cell_type": "code",
      "metadata": {
        "id": "g15NY21i7ky7",
        "outputId": "bd1bd12d-fee7-4073-a003-bd900f94fcfd"
      },
      "source": [
        "# Vamos tentar mudar a primeira letra para 'x'\n",
        "s[0] = 'x'"
      ],
      "execution_count": null,
      "outputs": [
        {
          "output_type": "error",
          "ename": "TypeError",
          "evalue": "'str' object does not support item assignment",
          "traceback": [
            "\u001b[1;31m---------------------------------------------------------------------------\u001b[0m",
            "\u001b[1;31mTypeError\u001b[0m                                 Traceback (most recent call last)",
            "\u001b[1;32m<ipython-input-195-bf1b55f1477a>\u001b[0m in \u001b[0;36m<module>\u001b[1;34m()\u001b[0m\n\u001b[0;32m      1\u001b[0m \u001b[1;31m# Vamos tentar mudar a primeira letra para 'x'\u001b[0m\u001b[1;33m\u001b[0m\u001b[1;33m\u001b[0m\u001b[0m\n\u001b[1;32m----> 2\u001b[1;33m \u001b[0ms\u001b[0m\u001b[1;33m[\u001b[0m\u001b[1;36m0\u001b[0m\u001b[1;33m]\u001b[0m \u001b[1;33m=\u001b[0m \u001b[1;34m'x'\u001b[0m\u001b[1;33m\u001b[0m\u001b[0m\n\u001b[0m",
            "\u001b[1;31mTypeError\u001b[0m: 'str' object does not support item assignment"
          ]
        }
      ]
    },
    {
      "cell_type": "markdown",
      "metadata": {
        "id": "ECad3FAZ7ky8"
      },
      "source": [
        "Observe como o erro nos diz diretamente o que não podemos fazer, alterar a atribuição do item!\n",
        "\n",
        "Algo que podemos fazer é concatenar strings!"
      ]
    },
    {
      "cell_type": "code",
      "metadata": {
        "id": "Aj4QlWQ57kzF",
        "outputId": "2e58ead4-f4e2-499b-f625-1ed6091588e7"
      },
      "source": [
        "s"
      ],
      "execution_count": null,
      "outputs": [
        {
          "output_type": "execute_result",
          "data": {
            "text/plain": [
              "'Olá mundo!'"
            ]
          },
          "metadata": {
            "tags": []
          },
          "execution_count": 197
        }
      ]
    },
    {
      "cell_type": "code",
      "metadata": {
        "id": "qrKfk9QG7kzH",
        "outputId": "86c00aff-cbc9-4fa8-ab41-67309fd43a86"
      },
      "source": [
        "# Concatenar as strings\n",
        "s + ' concatenando!'"
      ],
      "execution_count": null,
      "outputs": [
        {
          "output_type": "execute_result",
          "data": {
            "text/plain": [
              "'Olá mundo! concatenando!'"
            ]
          },
          "metadata": {
            "tags": []
          },
          "execution_count": 198
        }
      ]
    },
    {
      "cell_type": "code",
      "metadata": {
        "id": "qnfIKDu67kzJ"
      },
      "source": [
        "# Assim podemos redefinir completamente s\n",
        "s = s + ' concatenando!'"
      ],
      "execution_count": null,
      "outputs": []
    },
    {
      "cell_type": "code",
      "metadata": {
        "id": "PvAlYvt27kzK",
        "outputId": "095feeb9-a3f9-4679-8747-9715ebf287cb"
      },
      "source": [
        "print(s)"
      ],
      "execution_count": null,
      "outputs": [
        {
          "output_type": "stream",
          "text": [
            "Olá mundo! concatenando!\n"
          ],
          "name": "stdout"
        }
      ]
    },
    {
      "cell_type": "code",
      "metadata": {
        "id": "YIc51CPF7kzM",
        "outputId": "db0a8c7a-edfc-45e4-cb30-315b3c7c5457"
      },
      "source": [
        "s"
      ],
      "execution_count": null,
      "outputs": [
        {
          "output_type": "execute_result",
          "data": {
            "text/plain": [
              "'Olá mundo! concatenando!'"
            ]
          },
          "metadata": {
            "tags": []
          },
          "execution_count": 201
        }
      ]
    },
    {
      "cell_type": "markdown",
      "metadata": {
        "id": "GZAJ_J0O7kzN"
      },
      "source": [
        "Podemos usar o símbolo de multiplicação para criar repetições!"
      ]
    },
    {
      "cell_type": "code",
      "metadata": {
        "id": "fZpkEGTN7kzO"
      },
      "source": [
        "letra = 'a'"
      ],
      "execution_count": null,
      "outputs": []
    },
    {
      "cell_type": "code",
      "metadata": {
        "id": "XRwNdisU7kzP",
        "outputId": "f354d7cc-6aaf-42c7-9c5a-97f6d68e33ee"
      },
      "source": [
        "letra*10"
      ],
      "execution_count": null,
      "outputs": [
        {
          "output_type": "execute_result",
          "data": {
            "text/plain": [
              "'aaaaaaaaaa'"
            ]
          },
          "metadata": {
            "tags": []
          },
          "execution_count": 203
        }
      ]
    },
    {
      "cell_type": "markdown",
      "metadata": {
        "id": "5KiZn2b87kzT"
      },
      "source": [
        "## Formatação de impressão\n",
        "\n",
        "Podemos usar o método .format() para adicionar objetos formatados a instruções de impressões.\n",
        "\n",
        "A maneira mais fácil de mostrar isso é através de um exemplo:"
      ]
    },
    {
      "cell_type": "code",
      "metadata": {
        "id": "f7y1MZ407kzW",
        "outputId": "8f27e79b-465d-404a-863a-8a5c6b4d2b8f"
      },
      "source": [
        "'Inserindo uma informação por meio do método format: {i}'.format(i='informação')"
      ],
      "execution_count": null,
      "outputs": [
        {
          "output_type": "execute_result",
          "data": {
            "text/plain": [
              "'Inserindo uma informação por meio do método format: informação'"
            ]
          },
          "metadata": {
            "tags": []
          },
          "execution_count": 204
        }
      ]
    },
    {
      "cell_type": "markdown",
      "metadata": {
        "id": "VddZz7VU7kzY"
      },
      "source": [
        "## Métodos embutidos em strings\n",
        "\n",
        "Os objetos em Python geralmente possuem métodos internos. Esses métodos são funções dentro do objeto (aprenderemos a criar métodos e utilizá-los mais a frente) que podem executar ações ou comandos no próprio objeto.\n",
        "\n",
        "Chamamos métodos com um ponto e depois o nome do método. Os métodos estão na forma:\n",
        "objeto.método(parâmetros)\n",
        "\n",
        "Onde os parâmetros são argumentos extras que podemos passar para o método. Não se preocupe se os detalhes não fazem 100% de sentido agora. **Mais tarde, criaremos nossos próprios objetos e funções!**\n",
        "\n",
        "Aqui estão alguns exemplos de métodos internos em strings:\n",
        "\n",
        "<img src='Imagens/métodos.jpg' heigth='500' width='900'>"
      ]
    },
    {
      "cell_type": "code",
      "metadata": {
        "id": "HM6IwUet7kzZ"
      },
      "source": [
        "s = 'olá mundo!'"
      ],
      "execution_count": null,
      "outputs": []
    },
    {
      "cell_type": "markdown",
      "metadata": {
        "id": "wU7lNPzp7kzd"
      },
      "source": [
        "### Coloca toda string em caixa alta"
      ]
    },
    {
      "cell_type": "code",
      "metadata": {
        "id": "dFP9h13N7kzf",
        "outputId": "138600ec-5683-4646-f1dd-104fa3e5a8df"
      },
      "source": [
        "s.upper()"
      ],
      "execution_count": null,
      "outputs": [
        {
          "output_type": "execute_result",
          "data": {
            "text/plain": [
              "'OLÁ MUNDO!'"
            ]
          },
          "metadata": {
            "tags": []
          },
          "execution_count": 206
        }
      ]
    },
    {
      "cell_type": "markdown",
      "metadata": {
        "id": "21i-EPZn7kzh"
      },
      "source": [
        "### Coloca toda string em caixa baixa"
      ]
    },
    {
      "cell_type": "code",
      "metadata": {
        "id": "zDJmr1z27kzi",
        "outputId": "fd8c4cfd-cd43-4830-f424-cd7de332ea51"
      },
      "source": [
        "# Caixa baixa\n",
        "s.lower()"
      ],
      "execution_count": null,
      "outputs": [
        {
          "output_type": "execute_result",
          "data": {
            "text/plain": [
              "'olá mundo!'"
            ]
          },
          "metadata": {
            "tags": []
          },
          "execution_count": 207
        }
      ]
    },
    {
      "cell_type": "markdown",
      "metadata": {
        "id": "1q6kck377kzk"
      },
      "source": [
        "### Colocando a primeira letra maiúscula"
      ]
    },
    {
      "cell_type": "code",
      "metadata": {
        "id": "QSsgqKzl7kzl",
        "outputId": "93202a49-359c-4f99-c0f7-3b5b2e22f604"
      },
      "source": [
        "s.capitalize()"
      ],
      "execution_count": null,
      "outputs": [
        {
          "output_type": "execute_result",
          "data": {
            "text/plain": [
              "'Olá mundo!'"
            ]
          },
          "metadata": {
            "tags": []
          },
          "execution_count": 209
        }
      ]
    },
    {
      "cell_type": "markdown",
      "metadata": {
        "id": "qVd1PFN37kzp"
      },
      "source": [
        "### Divide uma string nos espaços em branco (este é o padrão)"
      ]
    },
    {
      "cell_type": "code",
      "metadata": {
        "id": "22qpexNC7kzr",
        "outputId": "08ddebde-6258-46ea-f27d-299f64b15243"
      },
      "source": [
        "s.split()"
      ],
      "execution_count": null,
      "outputs": [
        {
          "output_type": "execute_result",
          "data": {
            "text/plain": [
              "['olá', 'mundo!']"
            ]
          },
          "metadata": {
            "tags": []
          },
          "execution_count": 210
        }
      ]
    },
    {
      "cell_type": "markdown",
      "metadata": {
        "id": "v-Gf6w3T7kzt"
      },
      "source": [
        "**Obs.:** esse método pode separar as strings sempre que aparecer um parâmetro específico determinado, não incluindo o elemento determinado"
      ]
    },
    {
      "cell_type": "code",
      "metadata": {
        "id": "M3Gfh8hk7kzu",
        "outputId": "3846a888-7987-472d-e14b-28f2a63fb842"
      },
      "source": [
        "s.split('o')"
      ],
      "execution_count": null,
      "outputs": [
        {
          "output_type": "execute_result",
          "data": {
            "text/plain": [
              "['', 'lá mund', '!']"
            ]
          },
          "metadata": {
            "tags": []
          },
          "execution_count": 211
        }
      ]
    },
    {
      "cell_type": "code",
      "metadata": {
        "id": "hzTt043i7kzy",
        "outputId": "537b91a1-1045-4e8c-cd28-6d998c9aefc0"
      },
      "source": [
        "s.partition('m')"
      ],
      "execution_count": null,
      "outputs": [
        {
          "output_type": "execute_result",
          "data": {
            "text/plain": [
              "('olá ', 'm', 'undo!')"
            ]
          },
          "metadata": {
            "tags": []
          },
          "execution_count": 212
        }
      ]
    },
    {
      "cell_type": "markdown",
      "metadata": {
        "id": "FUpfQSgd7kzz"
      },
      "source": [
        "### Localização e contagem de elementos"
      ]
    },
    {
      "cell_type": "code",
      "metadata": {
        "id": "k7R0J5rU7kz1",
        "outputId": "d671d9e2-2f13-4398-8c87-63f1167b4cf7"
      },
      "source": [
        "# o método conta a quantidade de vezes que o elemento aparece\n",
        "s.count('o')"
      ],
      "execution_count": null,
      "outputs": [
        {
          "output_type": "execute_result",
          "data": {
            "text/plain": [
              "2"
            ]
          },
          "metadata": {
            "tags": []
          },
          "execution_count": 213
        }
      ]
    },
    {
      "cell_type": "code",
      "metadata": {
        "id": "Nx5Ok-Lx7kz3",
        "outputId": "08358ec9-1c07-41b6-88f8-ff0cb936069b"
      },
      "source": [
        "# O método find localiza a primeira vez que o elemento aparece na lista\n",
        "s.find('m')"
      ],
      "execution_count": null,
      "outputs": [
        {
          "output_type": "execute_result",
          "data": {
            "text/plain": [
              "4"
            ]
          },
          "metadata": {
            "tags": []
          },
          "execution_count": 214
        }
      ]
    },
    {
      "cell_type": "markdown",
      "metadata": {
        "id": "ds9zKHY67kz5"
      },
      "source": [
        "### Métodos de verificação\n",
        "Esses vários métodos abaixo verificam se a string é algum caso. Vamos explorá-los:"
      ]
    },
    {
      "cell_type": "code",
      "metadata": {
        "id": "d7ZJUOQG7kz6"
      },
      "source": [
        "s = 'hello'"
      ],
      "execution_count": null,
      "outputs": []
    },
    {
      "cell_type": "markdown",
      "metadata": {
        "id": "vkwOtX337kz7"
      },
      "source": [
        "- **isalnum( )** retornará True se todos os caracteres da string forem alfanuméricos, False caso contrário"
      ]
    },
    {
      "cell_type": "code",
      "metadata": {
        "id": "ErVwsiH37kz8",
        "outputId": "64024354-d85a-42f1-cb5b-5d72a00e6f5b"
      },
      "source": [
        "s.isalnum()"
      ],
      "execution_count": null,
      "outputs": [
        {
          "output_type": "execute_result",
          "data": {
            "text/plain": [
              "True"
            ]
          },
          "metadata": {
            "tags": []
          },
          "execution_count": 216
        }
      ]
    },
    {
      "cell_type": "markdown",
      "metadata": {
        "id": "dBzlBmUl7kz-"
      },
      "source": [
        "- **isalpha( )** retornará True se todos os caracteres da string forem alfabéticos, False caso contrário"
      ]
    },
    {
      "cell_type": "code",
      "metadata": {
        "id": "qRyDevLA7k0A",
        "outputId": "9df80067-7d10-49d9-95fc-ea5c877ad4e2"
      },
      "source": [
        "s.isalpha()"
      ],
      "execution_count": null,
      "outputs": [
        {
          "output_type": "execute_result",
          "data": {
            "text/plain": [
              "True"
            ]
          },
          "metadata": {
            "tags": []
          },
          "execution_count": 217
        }
      ]
    },
    {
      "cell_type": "markdown",
      "metadata": {
        "id": "NjosO6Jv7k0C"
      },
      "source": [
        "- **islower( )** retornará True se todos os caracteres da string forem minúsculos, False caso contrário."
      ]
    },
    {
      "cell_type": "code",
      "metadata": {
        "id": "KT8-6T657k0D",
        "outputId": "4143b0b4-b16c-4c86-ec36-07456a960403"
      },
      "source": [
        "s.islower()"
      ],
      "execution_count": null,
      "outputs": [
        {
          "output_type": "execute_result",
          "data": {
            "text/plain": [
              "True"
            ]
          },
          "metadata": {
            "tags": []
          },
          "execution_count": 218
        }
      ]
    },
    {
      "cell_type": "markdown",
      "metadata": {
        "id": "AmLM1QyX7k0E"
      },
      "source": [
        "- **isspace( )** retornará True se todos os caracteres da string forem espaços em branco, False caso contrário"
      ]
    },
    {
      "cell_type": "code",
      "metadata": {
        "id": "laJxyEI97k0F",
        "outputId": "e7c0a52c-157c-47b3-8d7c-3c1757dac0a8"
      },
      "source": [
        "s.isspace()"
      ],
      "execution_count": null,
      "outputs": [
        {
          "output_type": "execute_result",
          "data": {
            "text/plain": [
              "False"
            ]
          },
          "metadata": {
            "tags": []
          },
          "execution_count": 219
        }
      ]
    },
    {
      "cell_type": "markdown",
      "metadata": {
        "id": "KTCRImXa7k0H"
      },
      "source": [
        "- **isupper( )** retornará True se todos os caracteres da string forem maiúsculos, False caso contrário."
      ]
    },
    {
      "cell_type": "code",
      "metadata": {
        "id": "gPtA2l-X7k0I",
        "outputId": "8abba6e1-2d3e-489a-ca8e-f3ab525c57f9"
      },
      "source": [
        "s.isupper()"
      ],
      "execution_count": null,
      "outputs": [
        {
          "output_type": "execute_result",
          "data": {
            "text/plain": [
              "False"
            ]
          },
          "metadata": {
            "tags": []
          },
          "execution_count": 220
        }
      ]
    },
    {
      "cell_type": "markdown",
      "metadata": {
        "id": "VqoBnbps7k0K"
      },
      "source": [
        "# Funções\n",
        "\n",
        "## Introdução às Funções\n",
        "\n",
        "As funções serão um dos nossos principais blocos de construção quando construiremos quantidades maiores e maiores de código para resolver problemas.\n",
        "\n",
        "**Então, o que é uma função?**\n",
        "\n",
        "Formalmente, uma função é um dispositivo útil que agrupa um conjunto de instruções para que elas possam ser executadas mais de uma vez. Eles também podem nos permitir especificar parâmetros que possam servir como entradas para as funções.\n",
        "\n",
        "Em um nível mais fundamental, as funções nos permitem não ter que repetidamente escrever o mesmo código repetidas vezes. Se você lembrar de volta às lições em strings e listas, lembre-se de que usamos uma função len() para obter o comprimento de uma string. Uma vez que verificar o comprimento de uma seqüência é uma tarefa comum, você provavelmente vai querer escrever uma função que pode fazer isso repetidamente.\n",
        "\n",
        "As funções serão um dos níveis mais básicos de código de reutilização em Python, e também nos permitirá começar a pensar no design do programa (mergulhaemos muito mais nas idéias de design quando aprendemos sobre programação orientada a objetos)."
      ]
    },
    {
      "cell_type": "markdown",
      "metadata": {
        "id": "EBu4uZCB7k0L"
      },
      "source": [
        "## def\n",
        "\n",
        "Vamos ver como construir a sintaxe de uma função em Python. Ela tem a seguinte forma:"
      ]
    },
    {
      "cell_type": "code",
      "metadata": {
        "id": "4lNhxCxr7k0M"
      },
      "source": [
        "def name_of_function(arg1,arg2):\n",
        "    '''\n",
        "    A documentação da função ficará aqui\n",
        "    '''\n",
        "    # Faça coisas aqui\n",
        "    return # retorne o resultado desejado aqui"
      ],
      "execution_count": null,
      "outputs": []
    },
    {
      "cell_type": "markdown",
      "metadata": {
        "id": "5UTQVA267k0N"
      },
      "source": [
        "Começamos com def, seguido do nome da função. Tente manter os nomes relevantes, por exemplo len() é um bom nome para uma função length(). Também tenha cuidado com os nomes, você não gostaria de chamar uma função do mesmo nome que uma [função interna em Python](https://docs.python.org/2/library/functions.html) (como len).\n",
        "\n",
        "Em seguida, venha um par de parênteses com vários argumentos separados por uma vírgula. Esses argumentos são as entradas para sua função. Você poderá usar essas entradas em sua função e fazer referência a elas. Depois disso, você coloca dois pontos.\n",
        "\n",
        "Agora, aqui é o passo importante, você deve identar para começar o código dentro de sua função corretamente. Python faz uso de *espaço em branco* para organizar o código. Muitas outras linguagens de programação não fazem isso, então tenha isso em mente.\n",
        "\n",
        "Em seguida, você verá o doc-string, é aqui que você escreve uma descrição básica da função. Usando iPython e iPython Notebooks, você será capaz de ler estes documentos pressionando Shift + Tab após um nome de função. Documentações não são necessárias para funções simples, mas é uma boa prática colocá-las para que você ou outras pessoas possam facilmente entender o código que você escreve.\n",
        "\n",
        "Depois de tudo isso, você começa a escrever o código que deseja executar.\n",
        "\n",
        "A melhor maneira de aprender funções é através de exemplos. Então, vamos tentar passar por exemplos que se relacionam com os vários objetos e estruturas de dados que aprendemos antes."
      ]
    },
    {
      "cell_type": "markdown",
      "metadata": {
        "id": "vuzoXp7I7k0P"
      },
      "source": [
        "### Exemplo 1: Uma função simples de 'Olá'"
      ]
    },
    {
      "cell_type": "code",
      "metadata": {
        "id": "_E1RUIPK7k0Q"
      },
      "source": [
        "def say_hello():\n",
        "    print('hello')"
      ],
      "execution_count": null,
      "outputs": []
    },
    {
      "cell_type": "markdown",
      "metadata": {
        "id": "cxFazj6h7k0R"
      },
      "source": [
        "Chame a função"
      ]
    },
    {
      "cell_type": "code",
      "metadata": {
        "id": "ecXE5tJ_7k0S",
        "outputId": "dc5cf8b5-b739-4257-970c-2913a9fb8512"
      },
      "source": [
        "say_hello()"
      ],
      "execution_count": null,
      "outputs": [
        {
          "output_type": "stream",
          "text": [
            "hello\n"
          ],
          "name": "stdout"
        }
      ]
    },
    {
      "cell_type": "markdown",
      "metadata": {
        "id": "Kx0dfwx_7k0U"
      },
      "source": [
        "### Exemplo 2: Uma função de saudação simples\n",
        "Vamos escrever uma função que cumprimenta pessoas com seu nome."
      ]
    },
    {
      "cell_type": "code",
      "metadata": {
        "id": "IsJEcGA07k0X"
      },
      "source": [
        "def greeting(name):\n",
        "    print('Hello, %s' %name)"
      ],
      "execution_count": null,
      "outputs": []
    },
    {
      "cell_type": "code",
      "metadata": {
        "id": "WsNoeACd7k0a",
        "outputId": "b59332e8-f861-4538-f866-630843cbed44"
      },
      "source": [
        "greeting('Rodrigo')"
      ],
      "execution_count": null,
      "outputs": [
        {
          "output_type": "stream",
          "text": [
            "Hello, Rodrigo\n"
          ],
          "name": "stdout"
        }
      ]
    },
    {
      "cell_type": "markdown",
      "metadata": {
        "id": "zLiRerAA7k0c"
      },
      "source": [
        "## Usando o return\n",
        "Vamos ver um exemplo que usa uma declaração de retorno. Return permite uma função para *retornar* um resultado que pode ser armazenado como uma variável, ou usado de qualquer maneira que um usuário deseje.\n",
        "\n",
        "### Exemplo 3: função de adição"
      ]
    },
    {
      "cell_type": "code",
      "metadata": {
        "id": "Qcg9EuEa7k0e"
      },
      "source": [
        "def add_num(num1,num2):\n",
        "    return num1+num2"
      ],
      "execution_count": null,
      "outputs": []
    },
    {
      "cell_type": "code",
      "metadata": {
        "id": "I5OUgDDS7k0f",
        "outputId": "37cbc1ef-cf68-4bec-eb28-f45a102949f0"
      },
      "source": [
        "add_num(4,5)"
      ],
      "execution_count": null,
      "outputs": [
        {
          "output_type": "execute_result",
          "data": {
            "text/plain": [
              "9"
            ]
          },
          "metadata": {
            "tags": []
          },
          "execution_count": 238
        }
      ]
    },
    {
      "cell_type": "code",
      "metadata": {
        "id": "omFiVh7g7k0h"
      },
      "source": [
        "result = add_num(4,5)"
      ],
      "execution_count": null,
      "outputs": []
    },
    {
      "cell_type": "code",
      "metadata": {
        "id": "Jxw2RAHg7k0j",
        "outputId": "1220c885-e9a0-4417-9727-63980ef93ef1"
      },
      "source": [
        "print(result)"
      ],
      "execution_count": null,
      "outputs": [
        {
          "output_type": "stream",
          "text": [
            "9\n"
          ],
          "name": "stdout"
        }
      ]
    },
    {
      "cell_type": "markdown",
      "metadata": {
        "id": "-PVrkaYi7k0l"
      },
      "source": [
        "O que acontece se inserimos duas strings?"
      ]
    },
    {
      "cell_type": "code",
      "metadata": {
        "id": "XygrKsYs7k0p",
        "outputId": "7033f5f4-914f-42a4-e80e-e7e3dae804fc"
      },
      "source": [
        "print add_num('one','two')"
      ],
      "execution_count": null,
      "outputs": [
        {
          "output_type": "error",
          "ename": "SyntaxError",
          "evalue": "invalid syntax (<ipython-input-241-e116c3ae6703>, line 1)",
          "traceback": [
            "\u001b[1;36m  File \u001b[1;32m\"<ipython-input-241-e116c3ae6703>\"\u001b[1;36m, line \u001b[1;32m1\u001b[0m\n\u001b[1;33m    print add_num('one','two')\u001b[0m\n\u001b[1;37m                ^\u001b[0m\n\u001b[1;31mSyntaxError\u001b[0m\u001b[1;31m:\u001b[0m invalid syntax\n"
          ]
        }
      ]
    },
    {
      "cell_type": "markdown",
      "metadata": {
        "id": "hdpABsoG7k0s"
      },
      "source": [
        "Note que, porque não declaramos tipos de variáveis em Python, esta função pode ser usada para adicionar números ou seqüências em conjunto! Mais tarde, aprenderemos sobre a adição de verificações para garantir que um usuário coloque os argumentos corretos em uma função.\n",
        "\n",
        "Vamos também começar a usar as instruções *break*, *continue* e *pass* no nosso código. Nós apresentamos estes durante a palestra de tempo."
      ]
    },
    {
      "cell_type": "markdown",
      "metadata": {
        "id": "IqKCD0ur7k0u"
      },
      "source": [
        "Finalmente, vamos passar por um exemplo completo de criar uma função para verificar se um número é primo (um exercício de entrevista comum).\n",
        "\n",
        "Nós sabemos que um número é primordial se esse número é apenas divisível em 1 e em si mesmo. Vamos escrever a nossa primeira versão da função para verificar todos os números de 1 a N e executar verificações de módulo."
      ]
    },
    {
      "cell_type": "code",
      "metadata": {
        "id": "7Lx_RVS87k0v"
      },
      "source": [
        "def is_prime(num):\n",
        "    '''\n",
        "    Método para checar se é primo\n",
        "    '''\n",
        "    for n in range(2,num):\n",
        "        if num % n == 0:\n",
        "            print('Não primo')\n",
        "            break\n",
        "    else: # Se o módulo nunca for zero, é primo\n",
        "        print('Primo')"
      ],
      "execution_count": null,
      "outputs": []
    },
    {
      "cell_type": "code",
      "metadata": {
        "id": "DiFkRouo7k0x",
        "outputId": "8ddb935c-e0cf-457a-d1c8-cb6d4997d549"
      },
      "source": [
        "is_prime(16)"
      ],
      "execution_count": null,
      "outputs": [
        {
          "output_type": "stream",
          "text": [
            "Não primo\n"
          ],
          "name": "stdout"
        }
      ]
    },
    {
      "cell_type": "markdown",
      "metadata": {
        "id": "eFpIcwLM7k0z"
      },
      "source": [
        "Observe como quebramos o código após a declaração de impressão! Na verdade, podemos melhorar isso ao verificar somente a raiz quadrada do número-alvo, também podemos ignorar todos os números pares depois de verificar 2. Também mudaremos para retornar um valor booleano para obter um exemplo de usar declarações de retorno:"
      ]
    },
    {
      "cell_type": "code",
      "metadata": {
        "id": "sHXqVlv77k01"
      },
      "source": [
        "import math\n",
        "\n",
        "def is_prime(num):\n",
        "    '''\n",
        "    Melhor método para checar primos\n",
        "    '''\n",
        "    if num % 2 == 0 and num > 2: \n",
        "        return False\n",
        "    for i in range(3, int(math.sqrt(num)) + 1, 2):\n",
        "        if num % i == 0:\n",
        "            return False\n",
        "    return True"
      ],
      "execution_count": null,
      "outputs": []
    },
    {
      "cell_type": "code",
      "metadata": {
        "id": "P6JdNEf87k03",
        "outputId": "d33f5d3c-00a6-497e-fe3e-4d5e1e3c44e8"
      },
      "source": [
        "is_prime(14)"
      ],
      "execution_count": null,
      "outputs": [
        {
          "output_type": "execute_result",
          "data": {
            "text/plain": [
              "False"
            ]
          },
          "metadata": {
            "tags": []
          },
          "execution_count": 246
        }
      ]
    },
    {
      "cell_type": "markdown",
      "metadata": {
        "id": "Bw7vewLM7k04"
      },
      "source": [
        "Ótimo! Você deve agora ter uma compreensão básica sobre como criar suas próprias funções para salvar-se de escrever repetidamente o código!"
      ]
    },
    {
      "cell_type": "code",
      "metadata": {
        "id": "NEDQEfQf7k06"
      },
      "source": [
        ""
      ],
      "execution_count": null,
      "outputs": []
    }
  ]
}