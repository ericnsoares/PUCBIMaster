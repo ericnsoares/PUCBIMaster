{
  "nbformat": 4,
  "nbformat_minor": 0,
  "metadata": {
    "kernelspec": {
      "display_name": "Python 3",
      "language": "python",
      "name": "python3"
    },
    "language_info": {
      "codemirror_mode": {
        "name": "ipython",
        "version": 3
      },
      "file_extension": ".py",
      "mimetype": "text/x-python",
      "name": "python",
      "nbconvert_exporter": "python",
      "pygments_lexer": "ipython3",
      "version": "3.7.6"
    },
    "colab": {
      "name": " Apostila - PLAY.ipynb",
      "provenance": [],
      "include_colab_link": true
    }
  },
  "cells": [
    {
      "cell_type": "markdown",
      "metadata": {
        "id": "view-in-github",
        "colab_type": "text"
      },
      "source": [
        "<a href=\"https://colab.research.google.com/github/ericnsoares/PUCBIMaster/blob/main/Apostila_PLAY.ipynb\" target=\"_parent\"><img src=\"https://colab.research.google.com/assets/colab-badge.svg\" alt=\"Open In Colab\"/></a>"
      ]
    },
    {
      "cell_type": "markdown",
      "metadata": {
        "id": "KU0twW045OTa"
      },
      "source": [
        "<img src='Imagens/Logo-PLAY.png' height=\"200\" width=\"150\" align=\"left\" >\n",
        "<img src='Imagens/Logo-ICA.png' height=\"275\" width=\"175\" align=\"right\" >\n"
      ]
    },
    {
      "cell_type": "markdown",
      "metadata": {
        "id": "W2GFbLlV5OUJ"
      },
      "source": [
        "# Programação Lúdica de Aplicações em Python\n",
        "\n",
        "    - Apostila contendo as informações e métodos das funções básicas do Python!"
      ]
    },
    {
      "cell_type": "markdown",
      "metadata": {
        "id": "vBBytl8Q5OUR"
      },
      "source": [
        "\n",
        "\n",
        "# Tipos de dados\n",
        "\n",
        "\n",
        "\n",
        "Um tipo de dado\tdefine uma coleção de dados\tde objetos e um conjunto de\toperações predefinidas nestes dados de objetos.\n",
        "- Exemplo: nome, endereço, valor, tipo,\tescopo,\ttempo de vida\t\n"
      ]
    },
    {
      "cell_type": "markdown",
      "metadata": {
        "id": "151ETCDx5OUU"
      },
      "source": [
        "<img src='Imagens/Tipos-de-dados.jpg' height=\"750\" width=\"600\" align=\"center\" >\n"
      ]
    },
    {
      "cell_type": "markdown",
      "metadata": {
        "id": "HD_EmD4a5OUW"
      },
      "source": [
        "### Comandos úteis\n",
        "- **print( )**: método utilizado para imprimir no browser a informação que está send passada como parâmetro\n",
        "- **type( )**: método utilizado para identificar o tipo de dado que está sendo passado como parâmetro "
      ]
    },
    {
      "cell_type": "markdown",
      "metadata": {
        "id": "Xh4zSyCG5OUZ"
      },
      "source": [
        "## Dados tipo None\n",
        "- None é o valor nulo em Python. se uma função não devolve explicitamente um valor, ela devolverá None\n",
        "- None também é um valor default comum para argumentos de funções\n",
        "\n",
        "**Obs**: valor **DEFAULT** é o valor padrão da variável definida na função, esse valor pode ser alterado passando um novo valor como argumento, caso esse argumento não seja mdificado ele permanecerá como o valor padrão. \n"
      ]
    },
    {
      "cell_type": "code",
      "metadata": {
        "id": "zYjcUnwc5OUf"
      },
      "source": [
        "# Exemplo\n",
        "def valor_none(a, b, c = None):\n",
        "    result = a + b\n",
        "    if c is not None:\n",
        "        result = result * c\n",
        "    return result"
      ],
      "execution_count": null,
      "outputs": []
    },
    {
      "cell_type": "code",
      "metadata": {
        "scrolled": true,
        "id": "XEOGxMmZ5OUk",
        "outputId": "0702f631-0dbf-4b11-ea19-2d2e2123f8f0"
      },
      "source": [
        "# Não é passado nenhum valor para o parêmntro c\n",
        "valor_none(1,2)"
      ],
      "execution_count": null,
      "outputs": [
        {
          "output_type": "execute_result",
          "data": {
            "text/plain": [
              "1.5"
            ]
          },
          "metadata": {
            "tags": []
          },
          "execution_count": 5
        }
      ]
    },
    {
      "cell_type": "code",
      "metadata": {
        "id": "gueRdGGv5OUu",
        "outputId": "2647af74-a51d-4749-a164-711784dd991a"
      },
      "source": [
        "# Neste caso, é atribuido um novo valor para a variável c, com isso, a variável c passa a possuir um valor diferente de None \n",
        "valor_none(1,2,2)"
      ],
      "execution_count": null,
      "outputs": [
        {
          "output_type": "execute_result",
          "data": {
            "text/plain": [
              "6"
            ]
          },
          "metadata": {
            "tags": []
          },
          "execution_count": 11
        }
      ]
    },
    {
      "cell_type": "code",
      "metadata": {
        "id": "55tdb7ER5OU2",
        "outputId": "42ef463f-efd1-4408-959f-d19cbcbe46c2"
      },
      "source": [
        "c = None\n",
        "type(None)"
      ],
      "execution_count": null,
      "outputs": [
        {
          "output_type": "execute_result",
          "data": {
            "text/plain": [
              "NoneType"
            ]
          },
          "metadata": {
            "tags": []
          },
          "execution_count": 12
        }
      ]
    },
    {
      "cell_type": "markdown",
      "metadata": {
        "id": "TyAz0tbt5OU7"
      },
      "source": [
        "**Obs**: Mais a frente aprenderemos mais a respeito de funções e métodos ( def )"
      ]
    },
    {
      "cell_type": "markdown",
      "metadata": {
        "id": "v-fn1ph85OVA"
      },
      "source": [
        "## Dados tipo str\n",
        "- Muitas pessoas utilizam o Python devido a sua grande gama de recursos eficazes para o processamento de strings\n",
        "- Podem ser definidas utilizando aspas simples (' ') ou aspas duplas (\" \")\n",
        "- Para strings com multiplas linhas, podemos utilizar aspas triplas ( ' ' ' ou \" \" \" )\n",
        "\n",
        "**Obs**: Teremos um notebook para estudar mais a fundo esse tipo de dado"
      ]
    },
    {
      "cell_type": "code",
      "metadata": {
        "collapsed": true,
        "id": "VjaIuWTS5OVD"
      },
      "source": [
        "string_1 = 'Hoje'\n",
        "string_2 = \"Depois\"\n",
        "string_3 = '''Ninguém é tao grande que não possa aprender, \n",
        "nem tão pequeno que não possa ensinar!'''\n",
        "string_4 = '1'\n",
        "string_5 = \"2.5\""
      ],
      "execution_count": null,
      "outputs": []
    },
    {
      "cell_type": "code",
      "metadata": {
        "id": "05cnQVfD5OVG",
        "outputId": "7ac0240f-d673-4538-c173-ffc409376fb0"
      },
      "source": [
        "type(string_1)"
      ],
      "execution_count": null,
      "outputs": [
        {
          "output_type": "execute_result",
          "data": {
            "text/plain": [
              "str"
            ]
          },
          "metadata": {
            "tags": []
          },
          "execution_count": 20
        }
      ]
    },
    {
      "cell_type": "code",
      "metadata": {
        "id": "IbeOmciV5OVJ",
        "outputId": "4c34e52d-1519-4afd-f7ab-66976b45d0c4"
      },
      "source": [
        "type(string_2)"
      ],
      "execution_count": null,
      "outputs": [
        {
          "output_type": "execute_result",
          "data": {
            "text/plain": [
              "str"
            ]
          },
          "metadata": {
            "tags": []
          },
          "execution_count": 21
        }
      ]
    },
    {
      "cell_type": "code",
      "metadata": {
        "id": "0djKFVvS5OVK",
        "outputId": "b65a3f29-6894-47e3-acff-ee70db881fec"
      },
      "source": [
        "type(string_3)"
      ],
      "execution_count": null,
      "outputs": [
        {
          "output_type": "execute_result",
          "data": {
            "text/plain": [
              "str"
            ]
          },
          "metadata": {
            "tags": []
          },
          "execution_count": 22
        }
      ]
    },
    {
      "cell_type": "code",
      "metadata": {
        "id": "M8cZVaiO5OVM",
        "outputId": "3b531d19-84ff-469b-d2f6-9641238c74ef"
      },
      "source": [
        "type(string_4)"
      ],
      "execution_count": null,
      "outputs": [
        {
          "output_type": "execute_result",
          "data": {
            "text/plain": [
              "str"
            ]
          },
          "metadata": {
            "tags": []
          },
          "execution_count": 24
        }
      ]
    },
    {
      "cell_type": "code",
      "metadata": {
        "id": "MXkrOdXn5OVQ",
        "outputId": "e920d757-7162-49ef-caef-81c51f299bec"
      },
      "source": [
        "type(string_5)"
      ],
      "execution_count": null,
      "outputs": [
        {
          "output_type": "execute_result",
          "data": {
            "text/plain": [
              "str"
            ]
          },
          "metadata": {
            "tags": []
          },
          "execution_count": 25
        }
      ]
    },
    {
      "cell_type": "markdown",
      "metadata": {
        "id": "H2ylotId5OVS"
      },
      "source": [
        "## Dados tipo float\n",
        "- Números de ponto flutuante são números reais, representados com casas decimais\n",
        "- Podem ser expressos com notação científica\n",
        "- Podem ser positivos ou negativos"
      ]
    },
    {
      "cell_type": "code",
      "metadata": {
        "id": "WYFSmI7B5OVU",
        "outputId": "ed826923-20b3-4203-bd44-c147aabfd30d"
      },
      "source": [
        "float_1 = 1.5\n",
        "type(float_1)"
      ],
      "execution_count": null,
      "outputs": [
        {
          "output_type": "execute_result",
          "data": {
            "text/plain": [
              "float"
            ]
          },
          "metadata": {
            "tags": []
          },
          "execution_count": 28
        }
      ]
    },
    {
      "cell_type": "code",
      "metadata": {
        "id": "UiHKkrzW5OVV",
        "outputId": "afe81acf-de4d-4a61-9e6e-abf20ccd90a7"
      },
      "source": [
        "float_2 = 1.5e-5\n",
        "type(float_2)"
      ],
      "execution_count": null,
      "outputs": [
        {
          "output_type": "execute_result",
          "data": {
            "text/plain": [
              "float"
            ]
          },
          "metadata": {
            "tags": []
          },
          "execution_count": 26
        }
      ]
    },
    {
      "cell_type": "code",
      "metadata": {
        "id": "EzeNxxVe5OVY",
        "outputId": "abe4fb2a-6677-432f-d416-8845e1438aad"
      },
      "source": [
        "float_3 = -3.57\n",
        "type(float_3)"
      ],
      "execution_count": null,
      "outputs": [
        {
          "output_type": "execute_result",
          "data": {
            "text/plain": [
              "float"
            ]
          },
          "metadata": {
            "tags": []
          },
          "execution_count": 39
        }
      ]
    },
    {
      "cell_type": "markdown",
      "metadata": {
        "id": "jQHgoMjj5OVa"
      },
      "source": [
        "## Dados tipo bool"
      ]
    },
    {
      "cell_type": "code",
      "metadata": {
        "id": "52GRr_3d5OVc",
        "outputId": "c0f1243d-3083-4082-b2f4-ebed5de60493"
      },
      "source": [
        "a = True\n",
        "type(a)"
      ],
      "execution_count": null,
      "outputs": [
        {
          "output_type": "execute_result",
          "data": {
            "text/plain": [
              "bool"
            ]
          },
          "metadata": {
            "tags": []
          },
          "execution_count": 29
        }
      ]
    },
    {
      "cell_type": "code",
      "metadata": {
        "id": "NoiyJMbw5OVm",
        "outputId": "33ab3775-090b-4346-83c1-9cd91f69421f"
      },
      "source": [
        "b = False\n",
        "type(b)"
      ],
      "execution_count": null,
      "outputs": [
        {
          "output_type": "execute_result",
          "data": {
            "text/plain": [
              "bool"
            ]
          },
          "metadata": {
            "tags": []
          },
          "execution_count": 30
        }
      ]
    },
    {
      "cell_type": "code",
      "metadata": {
        "collapsed": true,
        "id": "iORYV0o85OVo"
      },
      "source": [
        "bool_1 = 1\n",
        "bool_2 = 1\n",
        "bool_3 = 2"
      ],
      "execution_count": null,
      "outputs": []
    },
    {
      "cell_type": "code",
      "metadata": {
        "scrolled": true,
        "id": "wLACSNmU5OVq",
        "outputId": "84e10708-2476-4c44-ff16-5d7b0253f747"
      },
      "source": [
        "print(type(bool_1), type(bool_2))"
      ],
      "execution_count": null,
      "outputs": [
        {
          "output_type": "stream",
          "text": [
            "<class 'int'> <class 'int'>\n"
          ],
          "name": "stdout"
        }
      ]
    },
    {
      "cell_type": "code",
      "metadata": {
        "id": "ZVb96UsC5OVt",
        "outputId": "927adfa9-d9c8-4ab5-9215-86e05c440b02"
      },
      "source": [
        "bool_1 == bool_2"
      ],
      "execution_count": null,
      "outputs": [
        {
          "output_type": "execute_result",
          "data": {
            "text/plain": [
              "True"
            ]
          },
          "metadata": {
            "tags": []
          },
          "execution_count": 34
        }
      ]
    },
    {
      "cell_type": "code",
      "metadata": {
        "scrolled": true,
        "id": "uvo_WYqG5OVw",
        "outputId": "7437c7f8-4c5a-42b7-999b-2ad2614f06c8"
      },
      "source": [
        "type(bool_1 == bool_2)"
      ],
      "execution_count": null,
      "outputs": [
        {
          "output_type": "execute_result",
          "data": {
            "text/plain": [
              "bool"
            ]
          },
          "metadata": {
            "tags": []
          },
          "execution_count": 35
        }
      ]
    },
    {
      "cell_type": "code",
      "metadata": {
        "id": "kghRPWfV5OVz",
        "outputId": "6fe73379-eb24-4126-e683-32ace103fbb9"
      },
      "source": [
        "print(type(bool_1), type(bool_3))"
      ],
      "execution_count": null,
      "outputs": [
        {
          "output_type": "stream",
          "text": [
            "<class 'int'> <class 'int'>\n"
          ],
          "name": "stdout"
        }
      ]
    },
    {
      "cell_type": "code",
      "metadata": {
        "id": "1txW_57N5OV1",
        "outputId": "8ced9e4b-7f79-488e-ed0d-e1d392290f10"
      },
      "source": [
        "bool_1 == bool_3"
      ],
      "execution_count": null,
      "outputs": [
        {
          "output_type": "execute_result",
          "data": {
            "text/plain": [
              "False"
            ]
          },
          "metadata": {
            "tags": []
          },
          "execution_count": 37
        }
      ]
    },
    {
      "cell_type": "code",
      "metadata": {
        "id": "hNYRFKf-5OV2",
        "outputId": "bd0ab048-6097-4cc5-cd65-a8b81c10f3bc"
      },
      "source": [
        "type(bool_1 == bool_3)"
      ],
      "execution_count": null,
      "outputs": [
        {
          "output_type": "execute_result",
          "data": {
            "text/plain": [
              "bool"
            ]
          },
          "metadata": {
            "tags": []
          },
          "execution_count": 38
        }
      ]
    },
    {
      "cell_type": "markdown",
      "metadata": {
        "id": "RnGXtfH35OV3"
      },
      "source": [
        "## Dados tipo int"
      ]
    },
    {
      "cell_type": "code",
      "metadata": {
        "id": "j0avQbJ45OV4",
        "outputId": "18cb8147-751e-48c9-c827-4ff8dd6776a0"
      },
      "source": [
        "int_1 = 1\n",
        "type(int_1)"
      ],
      "execution_count": null,
      "outputs": [
        {
          "output_type": "execute_result",
          "data": {
            "text/plain": [
              "int"
            ]
          },
          "metadata": {
            "tags": []
          },
          "execution_count": 40
        }
      ]
    },
    {
      "cell_type": "code",
      "metadata": {
        "id": "DUj8D97W5OV5",
        "outputId": "289833a4-4e50-4ff5-d8dc-db85c739e297"
      },
      "source": [
        "int_2 = 0\n",
        "type(int_2)"
      ],
      "execution_count": null,
      "outputs": [
        {
          "output_type": "execute_result",
          "data": {
            "text/plain": [
              "int"
            ]
          },
          "metadata": {
            "tags": []
          },
          "execution_count": 41
        }
      ]
    },
    {
      "cell_type": "code",
      "metadata": {
        "id": "q8wxMXyK5OV6",
        "outputId": "3c73cabb-bcf0-4228-85e3-091879ed2479"
      },
      "source": [
        "int_3 = -6\n",
        "type(int_3)"
      ],
      "execution_count": null,
      "outputs": [
        {
          "output_type": "execute_result",
          "data": {
            "text/plain": [
              "int"
            ]
          },
          "metadata": {
            "tags": []
          },
          "execution_count": 42
        }
      ]
    },
    {
      "cell_type": "markdown",
      "metadata": {
        "id": "N5L4u10q5OWA"
      },
      "source": [
        "## Dados tipo complexo\n",
        "\n",
        "Número complexos possuem utilização reestrita, mas são um tipo de dado em Python"
      ]
    },
    {
      "cell_type": "code",
      "metadata": {
        "id": "eVMcbfYd5OWC",
        "outputId": "a9fde585-188a-4b2b-e5c0-2dab64d39489"
      },
      "source": [
        "complexo_1 = 1 + 4j\n",
        "type(complexo_1)"
      ],
      "execution_count": null,
      "outputs": [
        {
          "output_type": "execute_result",
          "data": {
            "text/plain": [
              "complex"
            ]
          },
          "metadata": {
            "tags": []
          },
          "execution_count": 3
        }
      ]
    },
    {
      "cell_type": "code",
      "metadata": {
        "id": "SwPWTpcC5OWF",
        "outputId": "55f71cbc-2cad-446e-8cb5-f24f76e434bb"
      },
      "source": [
        "complexo_2 = -1j\n",
        "type(complexo_2)"
      ],
      "execution_count": null,
      "outputs": [
        {
          "output_type": "execute_result",
          "data": {
            "text/plain": [
              "complex"
            ]
          },
          "metadata": {
            "tags": []
          },
          "execution_count": 4
        }
      ]
    },
    {
      "cell_type": "markdown",
      "metadata": {
        "id": "MImJFUvU5OWG"
      },
      "source": [
        "### Observação\n",
        "\n",
        "Existem outros tipos de dados, um pouco mais complexos, e estes serão abordados mais a frente.\n",
        "\n",
        "- Listas\n",
        "- Dicionários\n",
        "- Arrays\n",
        "- Séries\n",
        "- DataFrames\n"
      ]
    },
    {
      "cell_type": "markdown",
      "metadata": {
        "collapsed": true,
        "id": "of68pNum5OWH"
      },
      "source": [
        "# Formatação de impressão\n",
        "\n",
        "    - Nesta parte, abordaremos brevemente as várias maneiras de formatar suas declarações impressas. À medida que você codifica mais e mais, você provavelmente deseja ter declarações de impressão que possam incluir uma variável em uma declaração de string impressa.\n",
        "\n",
        "    - O exemplo mais básico de uma declaração de impressão é:"
      ]
    },
    {
      "cell_type": "code",
      "metadata": {
        "id": "PDv-TejY5OWH",
        "outputId": "e2cb5d06-46e8-4d50-e3d8-ff269e67f034"
      },
      "source": [
        "print('Isso é uma frase')"
      ],
      "execution_count": null,
      "outputs": [
        {
          "output_type": "stream",
          "text": [
            "Isso é uma frase\n"
          ],
          "name": "stdout"
        }
      ]
    },
    {
      "cell_type": "markdown",
      "metadata": {
        "id": "xLL8Hp6v5OWI"
      },
      "source": [
        "## Strings\n",
        "Você pode usar o %s para formatar strings em suas instruções de impressão."
      ]
    },
    {
      "cell_type": "code",
      "metadata": {
        "id": "_Q353ZoU5OWJ",
        "outputId": "7107ecbf-5609-4017-ea51-01c653b0436e"
      },
      "source": [
        "s = 'frase'\n",
        "print('Isso é uma %s' %(s))"
      ],
      "execution_count": null,
      "outputs": [
        {
          "output_type": "stream",
          "text": [
            "Isso é uma frase\n"
          ],
          "name": "stdout"
        }
      ]
    },
    {
      "cell_type": "markdown",
      "metadata": {
        "id": "MWWjeDUq5OWL"
      },
      "source": [
        "## Números de ponto flutuante\n",
        "Os números de ponto flutuante usam o formato %n1.n2f\n",
        "- n1 é o número mínimo total de dígitos que a cadeia deve conter (estes podem ser preenchidos com espaço em branco se o número inteiro não tiver esses muitos dígitos. \n",
        "- n2 é a quantidade de casas decimais que serão mostradas\n",
        "\n",
        "Vamos ver alguns exemplos:"
      ]
    },
    {
      "cell_type": "code",
      "metadata": {
        "id": "CJuMRNfs5OWM",
        "outputId": "189961c7-124b-4743-ebd2-91e3f7198a6f"
      },
      "source": [
        "print('Números de ponto flutuante: %1.2f' %(13.144))"
      ],
      "execution_count": null,
      "outputs": [
        {
          "output_type": "stream",
          "text": [
            "Números de ponto flutuante: 13.14\n"
          ],
          "name": "stdout"
        }
      ]
    },
    {
      "cell_type": "markdown",
      "metadata": {
        "id": "A6eUZkev5OWO"
      },
      "source": [
        "**Observação:** é importante observarmos que a regra da matemática de aproximação numérica é respeitada"
      ]
    },
    {
      "cell_type": "code",
      "metadata": {
        "id": "GsuCqE_I5OWQ",
        "outputId": "eae175b9-d8d7-40ab-e6c0-43e747023e0f"
      },
      "source": [
        "print('Números de ponto flutuante: %1.2f' %(13.146))"
      ],
      "execution_count": null,
      "outputs": [
        {
          "output_type": "stream",
          "text": [
            "Números de ponto flutuante: 13.15\n"
          ],
          "name": "stdout"
        }
      ]
    },
    {
      "cell_type": "code",
      "metadata": {
        "id": "hvqQ4dtQ5OWS",
        "outputId": "ec4b49b6-aecb-40b0-ddff-86a85221b6f3"
      },
      "source": [
        "print('Números de ponto flutuante: %1.0f' %(13.144))"
      ],
      "execution_count": null,
      "outputs": [
        {
          "output_type": "stream",
          "text": [
            "Números de ponto flutuante: 13\n"
          ],
          "name": "stdout"
        }
      ]
    },
    {
      "cell_type": "code",
      "metadata": {
        "id": "gCS53tAJ5OWU",
        "outputId": "c010eaa3-aca3-43ba-b230-6db682b5822b"
      },
      "source": [
        "print('Números de ponto flutuante: %1.5f' %(13.144))"
      ],
      "execution_count": null,
      "outputs": [
        {
          "output_type": "stream",
          "text": [
            "Números de ponto flutuante: 13.14400\n"
          ],
          "name": "stdout"
        }
      ]
    },
    {
      "cell_type": "code",
      "metadata": {
        "id": "i8EmUvVG5OWW",
        "outputId": "0875a586-970e-48c0-a17c-9c9937836929"
      },
      "source": [
        "print('Números de ponto flutuante: %10.2f' %(13.144))"
      ],
      "execution_count": null,
      "outputs": [
        {
          "output_type": "stream",
          "text": [
            "Números de ponto flutuante:      13.14\n"
          ],
          "name": "stdout"
        }
      ]
    },
    {
      "cell_type": "code",
      "metadata": {
        "id": "PuMlGl0K5OWY",
        "outputId": "f1b879ed-8f6b-464a-b03f-2bcb27ea5e6b"
      },
      "source": [
        "print('Números de ponto flutuante: %25.2f' %(13.144))"
      ],
      "execution_count": null,
      "outputs": [
        {
          "output_type": "stream",
          "text": [
            "Números de ponto flutuante:                     13.14\n"
          ],
          "name": "stdout"
        }
      ]
    },
    {
      "cell_type": "markdown",
      "metadata": {
        "id": "FeMdGtiY5OWa"
      },
      "source": [
        "## Métodos de formato de conversão\n",
        "Deve notar-se que dois métodos% s e %r realmente convertem qualquer objeto Python em uma string usando dois métodos separados: str() e repr(). Aprenderemos mais sobre essas funções mais tarde no curso, mas você deve notar que você pode realmente passar quase qualquer objeto Python com esses dois métodos e funcionará:"
      ]
    },
    {
      "cell_type": "code",
      "metadata": {
        "id": "XBRdsSTn5OWc",
        "outputId": "62f6fe2a-1c38-4cf0-d3eb-6c68e39ef403"
      },
      "source": [
        "print('Isso é um número: %s. Isso é uma string: %s' %(123.1,'oi'))"
      ],
      "execution_count": null,
      "outputs": [
        {
          "output_type": "stream",
          "text": [
            "Isso é um número: 123.1. Isso é uma string: oi\n"
          ],
          "name": "stdout"
        }
      ]
    },
    {
      "cell_type": "code",
      "metadata": {
        "id": "8ZSmg1Nt5OWe",
        "outputId": "707f322a-424f-43fd-e240-35bf9805ee59"
      },
      "source": [
        "print('Isso é um número: %r. Isso é uma string: %r' %(123.1,'oi'))"
      ],
      "execution_count": null,
      "outputs": [
        {
          "output_type": "stream",
          "text": [
            "Isso é um número: 123.1. Isso é uma string: 'oi'\n"
          ],
          "name": "stdout"
        }
      ]
    },
    {
      "cell_type": "markdown",
      "metadata": {
        "id": "OmEN7woe5OWh"
      },
      "source": [
        "## Formatação múltipla\n",
        "Passe uma tupla para junto com o símbolo do módulo para colocar vários formatos nas suas declarações de impressão:"
      ]
    },
    {
      "cell_type": "code",
      "metadata": {
        "id": "uLxuYp005OWj",
        "outputId": "ab714e65-a774-45dd-979a-15baef433d15"
      },
      "source": [
        "print('Primeiro: %s, Segundo: %1.2f, Terceiro: %r' %('oi!',3.14,22))"
      ],
      "execution_count": null,
      "outputs": [
        {
          "output_type": "stream",
          "text": [
            "Primeiro: oi!, Segundo: 3.14, Terceiro: 22\n"
          ],
          "name": "stdout"
        }
      ]
    },
    {
      "cell_type": "markdown",
      "metadata": {
        "id": "kyxNKulX5OWk"
      },
      "source": [
        "\n",
        "# Usando o método string.format ()\n",
        "A melhor maneira de formatar objetos em suas strings para instruções de impressão é usar o método format(). A sintaxe é:\n",
        "\n",
        "     'String aqui {var1} e também {var2}'.format(var1 = 'something1', var2 = 'something2')\n",
        "    \n",
        "Vamos ver alguns exemplos:"
      ]
    },
    {
      "cell_type": "code",
      "metadata": {
        "id": "jGqvIsNo5OWl",
        "outputId": "90e2e784-40ce-4017-c72b-110db37645a9"
      },
      "source": [
        "print('Aqui vamos {p} uma string'.format(p='inserir'))"
      ],
      "execution_count": null,
      "outputs": [
        {
          "output_type": "stream",
          "text": [
            "Aqui vamos inserir uma string\n"
          ],
          "name": "stdout"
        }
      ]
    },
    {
      "cell_type": "code",
      "metadata": {
        "id": "Eyf4LtC55OWm",
        "outputId": "b166432d-71a3-4cca-88a9-24029e43a93e"
      },
      "source": [
        "print('Um: {p}, Dois: {p}, Três: {p}'.format(p='oi!'))"
      ],
      "execution_count": null,
      "outputs": [
        {
          "output_type": "stream",
          "text": [
            "Um: oi!, Dois: oi!, Três: oi!\n"
          ],
          "name": "stdout"
        }
      ]
    },
    {
      "cell_type": "code",
      "metadata": {
        "id": "Gsi3yw9k5OWn",
        "outputId": "c65df803-d634-4981-8c78-6a356d8ea5d1"
      },
      "source": [
        "print('Objeto 1: {a}, Objeto 2: {b}, Objeto 3: {c}'.format(a=1,b='dois',c=12.3))"
      ],
      "execution_count": null,
      "outputs": [
        {
          "output_type": "stream",
          "text": [
            "Objeto 1: 1, Objeto 2: dois, Objeto 3: 12.3\n"
          ],
          "name": "stdout"
        }
      ]
    },
    {
      "cell_type": "markdown",
      "metadata": {
        "id": "ZPWpRZuK5OWq"
      },
      "source": [
        "**Observação:** Esse é o básico da formatação de sequência de caracteres!"
      ]
    },
    {
      "cell_type": "markdown",
      "metadata": {
        "id": "a5X6MLP15OWr"
      },
      "source": [
        "# Método input()\n",
        "\n",
        "É um método utilizado para que o o usuário entre com um valor "
      ]
    },
    {
      "cell_type": "code",
      "metadata": {
        "id": "Lbf2zLIa5OWs",
        "outputId": "bea39828-a9d0-4d1a-d1e4-4ae53a4ab727"
      },
      "source": [
        "inputs = input()"
      ],
      "execution_count": null,
      "outputs": [
        {
          "output_type": "stream",
          "text": [
            "hoje\n"
          ],
          "name": "stdout"
        }
      ]
    },
    {
      "cell_type": "code",
      "metadata": {
        "id": "YKWrMLYp5OWu",
        "outputId": "aadb831a-ce4d-46ff-987e-25639599e901"
      },
      "source": [
        "inputs"
      ],
      "execution_count": null,
      "outputs": [
        {
          "output_type": "execute_result",
          "data": {
            "text/plain": [
              "'hoje'"
            ]
          },
          "metadata": {
            "tags": []
          },
          "execution_count": 22
        }
      ]
    },
    {
      "cell_type": "code",
      "metadata": {
        "id": "oWS16c3-5OWv",
        "outputId": "8bedf3b3-0773-4809-f678-92dbf110718a"
      },
      "source": [
        "inputs_2 = input()"
      ],
      "execution_count": null,
      "outputs": [
        {
          "output_type": "stream",
          "text": [
            "3\n"
          ],
          "name": "stdout"
        }
      ]
    },
    {
      "cell_type": "code",
      "metadata": {
        "id": "TFktK-Iy5OWx",
        "outputId": "fffdc3ad-41b9-4be0-ba60-6a89a661ffa6"
      },
      "source": [
        "type(inputs_2)"
      ],
      "execution_count": null,
      "outputs": [
        {
          "output_type": "execute_result",
          "data": {
            "text/plain": [
              "str"
            ]
          },
          "metadata": {
            "tags": []
          },
          "execution_count": 24
        }
      ]
    },
    {
      "cell_type": "markdown",
      "metadata": {
        "id": "T8F1rVnU5OWz"
      },
      "source": [
        "# Operadores em Python\n",
        "\n",
        "\n",
        "\n",
        "Na construção de algoritmos, utilizamos com frequência operadores para realizar o trabalho de entrada, processamento e saída de dados. Um operador, em termos gerais, simboliza uma operação efetuada sobre variáveis e constantes, executando cálculos e manipulação sobre os dados. As operações realizadas pelo computador são as mesmas encontradas na matemática. A ressalva que fazemos é quanto aos operadores, que diferem entre sim em algumas operações.\n",
        "Os operadores são classificados em três tipos:\n",
        "- Operadores Aritméticos\n",
        "- Operadores Relacionais\n",
        "- Operadores Lógicos"
      ]
    },
    {
      "cell_type": "markdown",
      "metadata": {
        "id": "nBqNbriv5OW2"
      },
      "source": [
        "## Operadores Aritméticos\n",
        "\n",
        "São utilizados para executar operações aritméticas (operações que utilizamos na matemática), podem ser realizadas com variáveis ou consantes. "
      ]
    },
    {
      "cell_type": "markdown",
      "metadata": {
        "id": "re6w8x5H5OW4"
      },
      "source": [
        "<img src='Imagens/Operadores_aritméticos.jpg'>"
      ]
    },
    {
      "cell_type": "code",
      "metadata": {
        "id": "XmP57mhx5OW5"
      },
      "source": [
        "a = 2\n",
        "b = 5\n",
        "c = 4\n",
        "d = 10"
      ],
      "execution_count": null,
      "outputs": []
    },
    {
      "cell_type": "markdown",
      "metadata": {
        "id": "K-lCGpIa5OW7"
      },
      "source": [
        "#### Soma"
      ]
    },
    {
      "cell_type": "code",
      "metadata": {
        "id": "DXsvUddp5OW-",
        "outputId": "49cd1030-7691-46e4-ca2b-cf44966be3b4"
      },
      "source": [
        "a + b"
      ],
      "execution_count": null,
      "outputs": [
        {
          "output_type": "execute_result",
          "data": {
            "text/plain": [
              "7"
            ]
          },
          "metadata": {
            "tags": []
          },
          "execution_count": 27
        }
      ]
    },
    {
      "cell_type": "code",
      "metadata": {
        "id": "X_KmbKnt5OW_",
        "outputId": "26b4bd3d-576f-4b7d-b05c-66c258df6b70"
      },
      "source": [
        "soma = b + c\n",
        "print(soma)"
      ],
      "execution_count": null,
      "outputs": [
        {
          "output_type": "stream",
          "text": [
            "9\n"
          ],
          "name": "stdout"
        }
      ]
    },
    {
      "cell_type": "markdown",
      "metadata": {
        "id": "eKKk-2Mj5OXC"
      },
      "source": [
        "#### Subtração"
      ]
    },
    {
      "cell_type": "code",
      "metadata": {
        "id": "ZAJ6EZPK5OXE",
        "outputId": "f154d0c0-4775-40be-93af-27788ea465fc"
      },
      "source": [
        "b - a"
      ],
      "execution_count": null,
      "outputs": [
        {
          "output_type": "execute_result",
          "data": {
            "text/plain": [
              "3"
            ]
          },
          "metadata": {
            "tags": []
          },
          "execution_count": 29
        }
      ]
    },
    {
      "cell_type": "code",
      "metadata": {
        "id": "nUmKZU9W5OXG",
        "outputId": "3b8d176b-d220-417c-da64-ec3a432d5148"
      },
      "source": [
        "subtração = d - c\n",
        "print(subtração)"
      ],
      "execution_count": null,
      "outputs": [
        {
          "output_type": "stream",
          "text": [
            "6\n"
          ],
          "name": "stdout"
        }
      ]
    },
    {
      "cell_type": "markdown",
      "metadata": {
        "id": "obpE-YMI5OXI"
      },
      "source": [
        "#### Multiplicação"
      ]
    },
    {
      "cell_type": "code",
      "metadata": {
        "id": "YFqu2x1m5OXK",
        "outputId": "214ef2b2-7cc5-4d36-ef21-f461cf0efaa8"
      },
      "source": [
        "a * b"
      ],
      "execution_count": null,
      "outputs": [
        {
          "output_type": "execute_result",
          "data": {
            "text/plain": [
              "10"
            ]
          },
          "metadata": {
            "tags": []
          },
          "execution_count": 31
        }
      ]
    },
    {
      "cell_type": "code",
      "metadata": {
        "id": "COix_MXB5OXL",
        "outputId": "a001b0f6-c9cb-4d3a-a417-b34d779b2c42"
      },
      "source": [
        "multiplicação = c * a\n",
        "print(multiplicação)"
      ],
      "execution_count": null,
      "outputs": [
        {
          "output_type": "stream",
          "text": [
            "8\n"
          ],
          "name": "stdout"
        }
      ]
    },
    {
      "cell_type": "markdown",
      "metadata": {
        "id": "erxlNGWd5OXO"
      },
      "source": [
        "#### Divisão"
      ]
    },
    {
      "cell_type": "code",
      "metadata": {
        "id": "UhJFmIH25OXR",
        "outputId": "4bbb3f8c-ab31-4a38-fafc-5532e51cdbd9"
      },
      "source": [
        "d / c"
      ],
      "execution_count": null,
      "outputs": [
        {
          "output_type": "execute_result",
          "data": {
            "text/plain": [
              "2.5"
            ]
          },
          "metadata": {
            "tags": []
          },
          "execution_count": 33
        }
      ]
    },
    {
      "cell_type": "code",
      "metadata": {
        "id": "bca0Vid35OXY",
        "outputId": "3bc92370-cb59-45fe-e6dc-7ce3b14a39b8"
      },
      "source": [
        "divisão = a / c\n",
        "print(divisão)"
      ],
      "execution_count": null,
      "outputs": [
        {
          "output_type": "stream",
          "text": [
            "0.5\n"
          ],
          "name": "stdout"
        }
      ]
    },
    {
      "cell_type": "markdown",
      "metadata": {
        "id": "-onG_IAv5OXc"
      },
      "source": [
        "#### Resto da divisão"
      ]
    },
    {
      "cell_type": "code",
      "metadata": {
        "id": "ifrfJIlq5OXd",
        "outputId": "e0b2c95c-2f45-4c88-8549-0a6d1718c867"
      },
      "source": [
        "d % c"
      ],
      "execution_count": null,
      "outputs": [
        {
          "output_type": "execute_result",
          "data": {
            "text/plain": [
              "2"
            ]
          },
          "metadata": {
            "tags": []
          },
          "execution_count": 35
        }
      ]
    },
    {
      "cell_type": "code",
      "metadata": {
        "id": "VfUlQ7Id5OXf",
        "outputId": "ee344446-29d9-454b-ac81-ec2e1fc313dc"
      },
      "source": [
        "resto_divisão = b % a\n",
        "print(resto_divisão)"
      ],
      "execution_count": null,
      "outputs": [
        {
          "output_type": "stream",
          "text": [
            "1\n"
          ],
          "name": "stdout"
        }
      ]
    },
    {
      "cell_type": "markdown",
      "metadata": {
        "id": "rCyDx-P05OXg"
      },
      "source": [
        "#### Potenciação"
      ]
    },
    {
      "cell_type": "code",
      "metadata": {
        "id": "a3_ASthG5OXh",
        "outputId": "d2ddf48c-e3d8-4aac-a11c-bd31186598d8"
      },
      "source": [
        "a ** c"
      ],
      "execution_count": null,
      "outputs": [
        {
          "output_type": "execute_result",
          "data": {
            "text/plain": [
              "16"
            ]
          },
          "metadata": {
            "tags": []
          },
          "execution_count": 37
        }
      ]
    },
    {
      "cell_type": "code",
      "metadata": {
        "id": "-bkkTWcc5OXl",
        "outputId": "37548105-edd5-4e62-d840-d4762df9e280"
      },
      "source": [
        "potenciação = a ** b\n",
        "print(potenciação)"
      ],
      "execution_count": null,
      "outputs": [
        {
          "output_type": "stream",
          "text": [
            "32\n"
          ],
          "name": "stdout"
        }
      ]
    },
    {
      "cell_type": "markdown",
      "metadata": {
        "id": "yUD9uwiU5OXp"
      },
      "source": [
        "## Operadores Relacionais\n",
        "\n",
        "São utilizados em expressões lógicas para se testar a relação entre dois valores do mesmo tipo, retornando VERDADEIRO (True) ou FALSO (False)."
      ]
    },
    {
      "cell_type": "markdown",
      "metadata": {
        "id": "sTgLgRS15OXr"
      },
      "source": [
        "<img src='Imagens/Operadores_relacionais.jpg'>"
      ]
    },
    {
      "cell_type": "code",
      "metadata": {
        "id": "OsQrrQZN5OXt"
      },
      "source": [
        "a = 1\n",
        "b = 2\n",
        "c = 2"
      ],
      "execution_count": null,
      "outputs": []
    },
    {
      "cell_type": "markdown",
      "metadata": {
        "id": "jEjaHmS95OXu"
      },
      "source": [
        "#### Igual"
      ]
    },
    {
      "cell_type": "code",
      "metadata": {
        "id": "sfmT3xZO5OXv",
        "outputId": "a36ceede-6c2b-4b52-8bb7-8180282b125d"
      },
      "source": [
        "a == b"
      ],
      "execution_count": null,
      "outputs": [
        {
          "output_type": "execute_result",
          "data": {
            "text/plain": [
              "False"
            ]
          },
          "metadata": {
            "tags": []
          },
          "execution_count": 41
        }
      ]
    },
    {
      "cell_type": "code",
      "metadata": {
        "id": "hYgx5cEI5OXw",
        "outputId": "01eb265f-eac3-4eda-c12f-ae377af15e7a"
      },
      "source": [
        "3 == 4"
      ],
      "execution_count": null,
      "outputs": [
        {
          "output_type": "execute_result",
          "data": {
            "text/plain": [
              "False"
            ]
          },
          "metadata": {
            "tags": []
          },
          "execution_count": 42
        }
      ]
    },
    {
      "cell_type": "code",
      "metadata": {
        "id": "YGYeY6x95OXy",
        "outputId": "b87a811c-9b87-412e-a181-c4f83ed66694"
      },
      "source": [
        "b == c"
      ],
      "execution_count": null,
      "outputs": [
        {
          "output_type": "execute_result",
          "data": {
            "text/plain": [
              "True"
            ]
          },
          "metadata": {
            "tags": []
          },
          "execution_count": 43
        }
      ]
    },
    {
      "cell_type": "code",
      "metadata": {
        "id": "vPEtHX3D5OX1",
        "outputId": "71e84fb6-baee-4bf1-c62c-592dc023c752"
      },
      "source": [
        "print(b == 2)"
      ],
      "execution_count": null,
      "outputs": [
        {
          "output_type": "stream",
          "text": [
            "True\n"
          ],
          "name": "stdout"
        }
      ]
    },
    {
      "cell_type": "markdown",
      "metadata": {
        "id": "6MC7W0aB5OX3"
      },
      "source": [
        "#### Diferente"
      ]
    },
    {
      "cell_type": "code",
      "metadata": {
        "id": "-QRH7yAR5OX9",
        "outputId": "0c351b47-6360-4866-b233-a58fae68f8ad"
      },
      "source": [
        "a != b"
      ],
      "execution_count": null,
      "outputs": [
        {
          "output_type": "execute_result",
          "data": {
            "text/plain": [
              "True"
            ]
          },
          "metadata": {
            "tags": []
          },
          "execution_count": 45
        }
      ]
    },
    {
      "cell_type": "code",
      "metadata": {
        "id": "IfzZNq6V5OYA",
        "outputId": "c2b42cdb-722d-44bf-d663-e5549ebe8030"
      },
      "source": [
        "3 != 4"
      ],
      "execution_count": null,
      "outputs": [
        {
          "output_type": "execute_result",
          "data": {
            "text/plain": [
              "True"
            ]
          },
          "metadata": {
            "tags": []
          },
          "execution_count": 46
        }
      ]
    },
    {
      "cell_type": "code",
      "metadata": {
        "id": "CsHfdhub5OYG",
        "outputId": "2d3bd861-4eaa-4021-f08d-c4fcc6e1975a"
      },
      "source": [
        "b != c"
      ],
      "execution_count": null,
      "outputs": [
        {
          "output_type": "execute_result",
          "data": {
            "text/plain": [
              "False"
            ]
          },
          "metadata": {
            "tags": []
          },
          "execution_count": 47
        }
      ]
    },
    {
      "cell_type": "markdown",
      "metadata": {
        "id": "8hq16YIL5OYI"
      },
      "source": [
        "#### Maior"
      ]
    },
    {
      "cell_type": "code",
      "metadata": {
        "id": "eOQ2s2W05OYK",
        "outputId": "cf0def07-361c-46a9-e2db-670ce1b01a32"
      },
      "source": [
        "a > b"
      ],
      "execution_count": null,
      "outputs": [
        {
          "output_type": "execute_result",
          "data": {
            "text/plain": [
              "False"
            ]
          },
          "metadata": {
            "tags": []
          },
          "execution_count": 48
        }
      ]
    },
    {
      "cell_type": "code",
      "metadata": {
        "id": "D2V2TT8L5OYP",
        "outputId": "27b9e56d-6ba9-4ccf-814e-2134af63d99d"
      },
      "source": [
        "b > a"
      ],
      "execution_count": null,
      "outputs": [
        {
          "output_type": "execute_result",
          "data": {
            "text/plain": [
              "True"
            ]
          },
          "metadata": {
            "tags": []
          },
          "execution_count": 49
        }
      ]
    },
    {
      "cell_type": "markdown",
      "metadata": {
        "id": "EGxo8ct-5OYS"
      },
      "source": [
        "#### Menor"
      ]
    },
    {
      "cell_type": "code",
      "metadata": {
        "id": "hfwfP7Z75OYT",
        "outputId": "9e75c2e4-74b7-40b8-c6fb-67efd3e790ec"
      },
      "source": [
        "a < b "
      ],
      "execution_count": null,
      "outputs": [
        {
          "output_type": "execute_result",
          "data": {
            "text/plain": [
              "True"
            ]
          },
          "metadata": {
            "tags": []
          },
          "execution_count": 50
        }
      ]
    },
    {
      "cell_type": "code",
      "metadata": {
        "id": "S5YCQ1fU5OYW",
        "outputId": "9b4ef276-730c-44ca-cfa9-4c6f749bb240"
      },
      "source": [
        "b < a"
      ],
      "execution_count": null,
      "outputs": [
        {
          "output_type": "execute_result",
          "data": {
            "text/plain": [
              "False"
            ]
          },
          "metadata": {
            "tags": []
          },
          "execution_count": 51
        }
      ]
    },
    {
      "cell_type": "markdown",
      "metadata": {
        "id": "1A36MSKM5OYY"
      },
      "source": [
        "#### Maior ou igual "
      ]
    },
    {
      "cell_type": "code",
      "metadata": {
        "id": "kBiUcSOM5OYa",
        "outputId": "14e409b3-eaff-444c-b897-7e93f3a33c27"
      },
      "source": [
        "a >= b"
      ],
      "execution_count": null,
      "outputs": [
        {
          "output_type": "execute_result",
          "data": {
            "text/plain": [
              "False"
            ]
          },
          "metadata": {
            "tags": []
          },
          "execution_count": 52
        }
      ]
    },
    {
      "cell_type": "code",
      "metadata": {
        "id": "orO4wuFQ5OYd",
        "outputId": "b88e6fd9-23ce-417f-def7-8a4f5ccbacf4"
      },
      "source": [
        "b >= c"
      ],
      "execution_count": null,
      "outputs": [
        {
          "output_type": "execute_result",
          "data": {
            "text/plain": [
              "True"
            ]
          },
          "metadata": {
            "tags": []
          },
          "execution_count": 53
        }
      ]
    },
    {
      "cell_type": "markdown",
      "metadata": {
        "id": "Orcj3Nh-5OYg"
      },
      "source": [
        "#### Menor ou igual "
      ]
    },
    {
      "cell_type": "code",
      "metadata": {
        "id": "MPMheFoh5OYi",
        "outputId": "d63c24b7-413c-44e6-d24b-a2e9e3eee017"
      },
      "source": [
        "a <= b"
      ],
      "execution_count": null,
      "outputs": [
        {
          "output_type": "execute_result",
          "data": {
            "text/plain": [
              "True"
            ]
          },
          "metadata": {
            "tags": []
          },
          "execution_count": 54
        }
      ]
    },
    {
      "cell_type": "code",
      "metadata": {
        "id": "JAjxxePY5OYj",
        "outputId": "5734c1c8-2104-418c-abb4-a1c6f8d974be"
      },
      "source": [
        "b <= c"
      ],
      "execution_count": null,
      "outputs": [
        {
          "output_type": "execute_result",
          "data": {
            "text/plain": [
              "True"
            ]
          },
          "metadata": {
            "tags": []
          },
          "execution_count": 55
        }
      ]
    },
    {
      "cell_type": "markdown",
      "metadata": {
        "id": "z4iRLfbl5OYm"
      },
      "source": [
        "## Operadores Lógicos\n",
        "\n",
        "São utilizados quando há a necessidade de serem testadas duas ou mais condições dentro de um algoritmo simultaneamente."
      ]
    },
    {
      "cell_type": "markdown",
      "metadata": {
        "id": "ONOzMlHZ5OYp"
      },
      "source": [
        "<img src='Imagens/Operadores_logicos.jpg'/>"
      ]
    },
    {
      "cell_type": "code",
      "metadata": {
        "id": "W3oVEhm25OYq"
      },
      "source": [
        "a = 1\n",
        "b = 1\n",
        "c = 2"
      ],
      "execution_count": null,
      "outputs": []
    },
    {
      "cell_type": "code",
      "metadata": {
        "id": "ojyQtysq5OYr",
        "outputId": "24574671-9745-419c-e2d9-65929680846e"
      },
      "source": [
        "(a == b) and (b == c) "
      ],
      "execution_count": null,
      "outputs": [
        {
          "output_type": "execute_result",
          "data": {
            "text/plain": [
              "False"
            ]
          },
          "metadata": {
            "tags": []
          },
          "execution_count": 57
        }
      ]
    },
    {
      "cell_type": "code",
      "metadata": {
        "id": "3WRBmGuF5OYs",
        "outputId": "5d759821-b5cd-46ca-ff67-f1c818295a66"
      },
      "source": [
        "(a == b) or (b == c)"
      ],
      "execution_count": null,
      "outputs": [
        {
          "output_type": "execute_result",
          "data": {
            "text/plain": [
              "True"
            ]
          },
          "metadata": {
            "tags": []
          },
          "execution_count": 58
        }
      ]
    },
    {
      "cell_type": "code",
      "metadata": {
        "id": "DoOBDCZO5OYt",
        "outputId": "89587519-621a-4e5f-cf67-5098f16e8e4c"
      },
      "source": [
        "(a != b) or (a != c)"
      ],
      "execution_count": null,
      "outputs": [
        {
          "output_type": "execute_result",
          "data": {
            "text/plain": [
              "True"
            ]
          },
          "metadata": {
            "tags": []
          },
          "execution_count": 59
        }
      ]
    },
    {
      "cell_type": "code",
      "metadata": {
        "id": "RPs1r9_P5OYv",
        "outputId": "bb625e99-ca0f-4972-e882-7697bd48ac2f"
      },
      "source": [
        "not(a == b)"
      ],
      "execution_count": null,
      "outputs": [
        {
          "output_type": "execute_result",
          "data": {
            "text/plain": [
              "False"
            ]
          },
          "metadata": {
            "tags": []
          },
          "execution_count": 60
        }
      ]
    },
    {
      "cell_type": "markdown",
      "metadata": {
        "id": "k8GDUehm5OYy"
      },
      "source": [
        "# Estruturas Condicionais\n",
        "\n",
        "As estruturas condicionais são ferramentas das linguagens que possibilitam a escolha de um grupo de ações e estruturas a serem executadas quando determinadas condições são ou não satisfeitas. Elas são muito utilizadas no dia-a-dia, vem nos auxiliar na tomada de decisões, por exemplo: fazer login de usuário, se o login e senha estiverem corretos, é liberado o acesso se não, é emitido  uma mensagem de erro. \n",
        "\n",
        "- **if** em Python nos permite contar ao computador para executar ações alternativas com base em um determinado conjunto de resultados. Verbalmente, podemos imaginar que estamos informando o computador: \"Ei, se isso caso acontecer, execute alguma ação\"\n",
        "\n",
        "- Podemos então expandir a idéia com declarações **elif** e **else**, o que nos permite contar ao computador: \"Ei, se esse caso acontecer, execute alguma ação. Caso contrário, se aquilo dali acontecer, execute alguma outra ação. Caso contrário, nenhum dos casos acima aconteceu, execute esta ação\"\n",
        "\n",
        "\n",
        "Avançemos e vejamos o formato de sintaxe para as instruções if para ter uma idéia melhor disso:\n",
        "\n",
        "     if condição_1:\n",
        "         executar ação 1\n",
        "     elif condição_2:\n",
        "         execute ação 2\n",
        "     else:\n",
        "         execute a ação 3"
      ]
    },
    {
      "cell_type": "markdown",
      "metadata": {
        "id": "TEDCP6gl5OY1"
      },
      "source": [
        "<img src='Imagens/fluxograma.jpg'  >"
      ]
    },
    {
      "cell_type": "markdown",
      "metadata": {
        "id": "kt_SPC9g5OY3"
      },
      "source": [
        "### if\n",
        "\n",
        "A instrução **if** ( se ) é a estrutura de teste mais básica e é encontrada em todas as linguagens (com sintaxes diferentes). Ela permite executar uma série de instruções caso uma condição se realize. "
      ]
    },
    {
      "cell_type": "markdown",
      "metadata": {
        "id": "NeEeSBor5OY6"
      },
      "source": [
        "### Exemplo 1"
      ]
    },
    {
      "cell_type": "code",
      "metadata": {
        "id": "AdzWlbNm5OY8",
        "outputId": "42d8e0b3-02ae-4da8-fc1b-cf006d977a6c"
      },
      "source": [
        "if True:\n",
        "    print('x é verdadeiro (True)!')"
      ],
      "execution_count": null,
      "outputs": [
        {
          "output_type": "stream",
          "text": [
            "x é verdadeiro (True)!\n"
          ],
          "name": "stdout"
        }
      ]
    },
    {
      "cell_type": "code",
      "metadata": {
        "id": "ve7Kgx4P5OY-"
      },
      "source": [
        "if False:\n",
        "    print(\"x é falso (False)\")"
      ],
      "execution_count": null,
      "outputs": []
    },
    {
      "cell_type": "markdown",
      "metadata": {
        "id": "rkcCCLmJ5OY_"
      },
      "source": [
        "### else\n",
        "A instrução **if** em sua forma básica só testa uma condição. Na maioria das vezes, gostaríamos de poder escolher as instruções a serem executadas em caso do não cumprimento da condição. \n",
        "\n",
        "**Por exemplo: vamos supor que um estudante de mestrado envie um artigo cientifico para um estudante de letras para que o mesmo faça correções, o estudante irá ler o artigo e verificar se precisa ou nao de correções, casdo precise, vai efetuar as correções possíveis, caso não vai enviar uma mensagem para o mestrando informando que o artigo ja está pronto para a submissão e não precissa de ajustes.**  \n",
        "\n",
        "     if precisa_de_correções:\n",
        "         executar (realizar correções e enviar artigo corrigido)\n",
        "     else:\n",
        "         execute (enviar mensagem informando que o artigo não precisa de correções e ja pode ser submetido)\n",
        "\n",
        "\n",
        "A expressão **else** permite executar outra série de instruções em caso do não cumprimento da condição testada pelo **if**. A sintaxe desta expressão pode ser observada no exemplo abaixo: "
      ]
    },
    {
      "cell_type": "markdown",
      "metadata": {
        "id": "EVUpUvmm5OZC"
      },
      "source": [
        "### Exemplo 2"
      ]
    },
    {
      "cell_type": "code",
      "metadata": {
        "id": "IaeydL7o5OZD",
        "outputId": "6ade33da-8d0e-406f-c70a-8fb2c7a0ba57"
      },
      "source": [
        "x = False\n",
        "\n",
        "if x:\n",
        "    print('Neste caso x é verdadeiro')\n",
        "else:\n",
        "    print('Neste caso x é falso (False)')"
      ],
      "execution_count": null,
      "outputs": [
        {
          "output_type": "stream",
          "text": [
            "Neste caso x é falso (False)\n"
          ],
          "name": "stdout"
        }
      ]
    },
    {
      "cell_type": "markdown",
      "metadata": {
        "id": "eTsz9_mp5OZG"
      },
      "source": [
        "### elif - Múltiplos ramos \n",
        "Vamos ver de forma mais completa de quão longe if, elif, e else podem nos levar! Nós escrevemos isso em uma estrutura aninhada. Tome nota de como o if, elif e else se alinham no código. Isso pode ajudá-lo a ver o que se relaciona com o elif ou outras afirmações.\n",
        "\n",
        "Vamos reintroduzir uma sintaxe de comparação para o Python."
      ]
    },
    {
      "cell_type": "code",
      "metadata": {
        "id": "FpjWJXP25OZJ",
        "outputId": "f144a4d1-e383-44dd-d7e8-47c6d22778cd"
      },
      "source": [
        "local = 'Banco'\n",
        "\n",
        "if local == 'Shopping':\n",
        "    print('Bem vindo ao shopping!')\n",
        "elif local == 'Banco':\n",
        "    print('Bem vindo ao banco!')\n",
        "else:\n",
        "    print(\"Como vai você?\")"
      ],
      "execution_count": null,
      "outputs": [
        {
          "output_type": "stream",
          "text": [
            "Bem vindo ao banco!\n"
          ],
          "name": "stdout"
        }
      ]
    },
    {
      "cell_type": "markdown",
      "metadata": {
        "id": "xxNPqJVN5OZM"
      },
      "source": [
        "Observe como **as declarações if aninhadas são verificadas** até que um booleano **True** faça com que o código aninhado abaixo seja executado. Você também deve notar que você pode colocar as declarações elif quanto desejar antes de fechar com outra."
      ]
    },
    {
      "cell_type": "markdown",
      "metadata": {
        "id": "xxM4JVGh5OZP"
      },
      "source": [
        "### Exemplo 3\n",
        "Faça uma instrução para se entre com um valor e verifique se ele é par ou impar.( **Obs.**: para verificar se um número é par basta verificar se o resto da sua divisão por 2 é igual a 0)"
      ]
    },
    {
      "cell_type": "code",
      "metadata": {
        "id": "pdT2arA55OZR",
        "outputId": "94d94409-4318-498c-9cf9-7457415ac163"
      },
      "source": [
        "print('Entre com um número inteiro qualquer: ')\n",
        "numero = input()\n",
        "numero = int(numero)\n",
        "if (numero % 2) == 0:\n",
        "    print('O número digitado é par!')\n",
        "\n",
        "else:\n",
        "    print('O número digitado é impar!')"
      ],
      "execution_count": null,
      "outputs": [
        {
          "output_type": "stream",
          "text": [
            "Entre com um número inteiro qualquer: \n",
            "2\n",
            "O número digitado é par!\n"
          ],
          "name": "stdout"
        }
      ]
    },
    {
      "cell_type": "markdown",
      "metadata": {
        "id": "LfhkUNSo5OZW"
      },
      "source": [
        "**Obs**: Lembrando que quando utilizamos o comando input ( ), o nosso programa recebe um valor do tipo string e devemos convertê-lo para o formato desejado"
      ]
    },
    {
      "cell_type": "markdown",
      "metadata": {
        "id": "GmwKV-qV5OZe"
      },
      "source": [
        "## Indentação\n",
        "\n",
        "É importante manter uma boa compreensão de como o recuo funciona no Python para manter a estrutura e a ordem do seu código. Vamos voltar a tocar neste tópico quando começarmos a criar funções!"
      ]
    },
    {
      "cell_type": "markdown",
      "metadata": {
        "id": "N_99BaqA5OZg"
      },
      "source": [
        "# Estruturas de Repetição (loops)\n",
        "\n",
        "Uma das principais características que consolidaram o sucesso na utilização dos computadores para a resolução de problemas foi a sua capacidade de repetir o processamento de um conjunto de operações para grandes quantidades de dados. Exemplos de conjuntos de tarefas que repetimos diversas vezes dentro de uma situação específica podem ser observados largamente no nosso dia a dia.\n",
        "\n",
        "As estruturas de repetição provém uma maneira de repetir um conjunto de procedimentos até que determinado objetivo seja atingido, quando a repetição se encerra. Todas as estruturas de repetição têm em comum o fato de haver uma condição de controle, expressa através de uma expressão lógica, que é testada em cada ciclo para determinar se a repetição prossegue ou não.\n",
        "\n",
        "Em python, são utilizadas dois tipos de estrutura condicional:\n",
        "\n",
        "- **For**: normalmente utilizado quando temos número fixo de repetições, ou seja, sabemos quantas vezes o bloco de comandos determinado deve ser executado, se utiliza uma lista para se iterar a repetição.\n",
        "\n",
        "- **While**: normalmente utilizado quando não temos um número fixo de repetições, ou seja, não sabemos quantas vezes o bloco de comandos determinado deve ser executado, se testa uma condição para verificar se a repetição continua ou não."
      ]
    },
    {
      "cell_type": "markdown",
      "metadata": {
        "id": "dm1U3Vje5OZm"
      },
      "source": [
        "<img src='Imagens/while.gif' heigth=400 width=350>"
      ]
    },
    {
      "cell_type": "markdown",
      "metadata": {
        "id": "mDaYTMQL5OZy"
      },
      "source": [
        "## For\n",
        "\n",
        "Um loop **for** atua como um iterador em Python, ele passa por itens que estão em uma *sequência* ou qualquer outro item iterável. Os objetos que aprendemos até agora que podemos iterar incluem strings, listas, tuplas e até iteráveis embutidos em dicionários, como chaves ou valores.\n",
        "\n",
        "Já vimos **for** um pouco nas palestras passadas, mas agora permitimos formalizar a nossa compreensão.\n",
        "\n",
        "Aqui está o formato geral para um **for** loop em Python:\n",
        "\n",
        "     for item in objeto:\n",
        "         fazer algo\n",
        "\n",
        "O nome da variável usado para o item fica a seu critério, você pode escolher o que quiser. Então use seu melhor julgamento para escolher um nome que faça sentido e que você poderá entender ao revisar seu código. Este nome do item pode então ser referenciado dentro de seu loop, por exemplo, se você quisesse usar instruções if para executar verificações.\n",
        "\n",
        "Vamos seguir em frente e trabalhar com vários exemplos de for loops usando uma variedade de tipos de objetos de dados. Vamos começar com um exemplo simples e adicionar mais complexidade mais além.\n",
        "\n",
        "### Exemplo 1 Iterando através de uma lista.\n",
        "    "
      ]
    },
    {
      "cell_type": "code",
      "metadata": {
        "id": "5rv2AQO_5OZ7"
      },
      "source": [
        "lista = [1,2,3,4,5,6,7,8,9,10]"
      ],
      "execution_count": null,
      "outputs": []
    },
    {
      "cell_type": "code",
      "metadata": {
        "id": "sT16u4Gx5OZ_",
        "outputId": "c7f21643-c6a8-4305-a647-d99905453040"
      },
      "source": [
        "for num in lista:\n",
        "    print(num)"
      ],
      "execution_count": null,
      "outputs": [
        {
          "output_type": "stream",
          "text": [
            "1\n",
            "2\n",
            "3\n",
            "4\n",
            "5\n",
            "6\n",
            "7\n",
            "8\n",
            "9\n",
            "10\n"
          ],
          "name": "stdout"
        }
      ]
    },
    {
      "cell_type": "markdown",
      "metadata": {
        "id": "wLU-ByvN5OaG"
      },
      "source": [
        "### Observação\n",
        "\n",
        "Existe uma forma prática de se escrever uma lista em ordem crescente ou decrescente, o até mesmo considerando intervalos de valores\n",
        "\n",
        "- range(valor_inicial=0, valor_final, step)"
      ]
    },
    {
      "cell_type": "code",
      "metadata": {
        "id": "QPYg2V5y5OaO",
        "outputId": "1954d66e-4016-4f7d-be28-2edf73e7e5ba"
      },
      "source": [
        "range_1 = range(1,10)\n",
        "print('A quantidade de elementos gerado é: ', len(range_1))\n",
        "print(list(range_1))"
      ],
      "execution_count": null,
      "outputs": [
        {
          "output_type": "stream",
          "text": [
            "A quantidade de elementos gerado é:  9\n",
            "[1, 2, 3, 4, 5, 6, 7, 8, 9]\n"
          ],
          "name": "stdout"
        }
      ]
    },
    {
      "cell_type": "code",
      "metadata": {
        "id": "1pnZb0xB5OaU",
        "outputId": "f505d92a-f126-469b-c898-66bf4a696461"
      },
      "source": [
        "range_2 = range(0,50,2)\n",
        "print('A quantidade de elementos gerado é: ', len(range_2))\n",
        "print('Elementos gerados: ',list(range_2))"
      ],
      "execution_count": null,
      "outputs": [
        {
          "output_type": "stream",
          "text": [
            "A quantidade de elementos gerado é:  25\n",
            "Elementos gerados:  [0, 2, 4, 6, 8, 10, 12, 14, 16, 18, 20, 22, 24, 26, 28, 30, 32, 34, 36, 38, 40, 42, 44, 46, 48]\n"
          ],
          "name": "stdout"
        }
      ]
    },
    {
      "cell_type": "code",
      "metadata": {
        "id": "Xb5GurcC5OaY",
        "outputId": "46be9bf8-4b00-47ba-9662-88b5d6d82fe4"
      },
      "source": [
        "range_3 = range(100)\n",
        "print('A quantidade de elementos gerado é: ', len(range_3))\n",
        "print(list(range_3))"
      ],
      "execution_count": null,
      "outputs": [
        {
          "output_type": "stream",
          "text": [
            "A quantidade de elementos gerado é:  100\n",
            "[0, 1, 2, 3, 4, 5, 6, 7, 8, 9, 10, 11, 12, 13, 14, 15, 16, 17, 18, 19, 20, 21, 22, 23, 24, 25, 26, 27, 28, 29, 30, 31, 32, 33, 34, 35, 36, 37, 38, 39, 40, 41, 42, 43, 44, 45, 46, 47, 48, 49, 50, 51, 52, 53, 54, 55, 56, 57, 58, 59, 60, 61, 62, 63, 64, 65, 66, 67, 68, 69, 70, 71, 72, 73, 74, 75, 76, 77, 78, 79, 80, 81, 82, 83, 84, 85, 86, 87, 88, 89, 90, 91, 92, 93, 94, 95, 96, 97, 98, 99]\n"
          ],
          "name": "stdout"
        }
      ]
    },
    {
      "cell_type": "markdown",
      "metadata": {
        "id": "7pswpAHa5Oae"
      },
      "source": [
        "### Exemplo 2 - Adicionando uma condição durante a iteração da lista"
      ]
    },
    {
      "cell_type": "code",
      "metadata": {
        "id": "JSIvPIBu5Oah",
        "outputId": "7c0910f9-5a0e-4799-a270-2022f702ee8d"
      },
      "source": [
        "lista = [1,2,3,4,5,6,7,8,9,10]\n",
        "for num in lista:\n",
        "    if num % 2 == 0:\n",
        "        print(num)"
      ],
      "execution_count": null,
      "outputs": [
        {
          "output_type": "stream",
          "text": [
            "2\n",
            "4\n",
            "6\n",
            "8\n",
            "10\n"
          ],
          "name": "stdout"
        }
      ]
    },
    {
      "cell_type": "code",
      "metadata": {
        "id": "Qzg3VDsY5Oal",
        "outputId": "d34f5a16-ae51-470f-be49-86bb4dc7072d"
      },
      "source": [
        "# Outra forma de apresentar\n",
        "for num in range(1,11):\n",
        "    if num % 2 == 0:\n",
        "        print(num)"
      ],
      "execution_count": null,
      "outputs": [
        {
          "output_type": "stream",
          "text": [
            "2\n",
            "4\n",
            "6\n",
            "8\n",
            "10\n"
          ],
          "name": "stdout"
        }
      ]
    },
    {
      "cell_type": "code",
      "metadata": {
        "id": "2yI7wuon5Oap",
        "outputId": "6fb47cf5-cbfa-470d-853c-ce58317431fd"
      },
      "source": [
        "for num in lista:\n",
        "    if num % 2 == 0:\n",
        "        print(num)\n",
        "    else:\n",
        "        print('Número ímpar')"
      ],
      "execution_count": null,
      "outputs": [
        {
          "output_type": "stream",
          "text": [
            "Número ímpar\n",
            "2\n",
            "Número ímpar\n",
            "4\n",
            "Número ímpar\n",
            "6\n",
            "Número ímpar\n",
            "8\n",
            "Número ímpar\n",
            "10\n"
          ],
          "name": "stdout"
        }
      ]
    },
    {
      "cell_type": "markdown",
      "metadata": {
        "id": "ZQr7pKh55Oav"
      },
      "source": [
        "### Exemplo 3\n",
        "Outra idéia comum durante um **for** é manter algum tipo de contagem durante os vários loops. Por exemplo, vamos criar um loop soma todos os valores de uma lista"
      ]
    },
    {
      "cell_type": "code",
      "metadata": {
        "id": "Mu8Eqob55Oaz",
        "outputId": "4cc6c77a-8b1d-46d7-e267-b4e483626f29"
      },
      "source": [
        "lista = [1,2,3,4,5,6,7,8,9,10]\n",
        "soma = 0\n",
        "for num in lista:\n",
        "    soma = soma + num\n",
        "print(soma)"
      ],
      "execution_count": null,
      "outputs": [
        {
          "output_type": "stream",
          "text": [
            "55\n"
          ],
          "name": "stdout"
        }
      ]
    },
    {
      "cell_type": "code",
      "metadata": {
        "id": "BgjjMRG-5Oa3",
        "outputId": "3e5d669a-b2ab-490b-fbab-4e5f55e2d0d3"
      },
      "source": [
        "# Outra forma de se escrever\n",
        "\n",
        "lista = [1,2,3,4,5,6,7,8,9,10]\n",
        "soma = 0\n",
        "for num in lista:\n",
        "    soma += num\n",
        "print(soma)"
      ],
      "execution_count": null,
      "outputs": [
        {
          "output_type": "stream",
          "text": [
            "55\n"
          ],
          "name": "stdout"
        }
      ]
    },
    {
      "cell_type": "markdown",
      "metadata": {
        "id": "rXe1md2B5Oa6"
      },
      "source": [
        "### Exemplo 4\n",
        "Uma observação a se lembra é que strings são uma sequencia de valores, então, quando iteramos através delas, estaremos acessando cada item nessa sequencia de caracteres(uma lista onde cada elemento é um valor)."
      ]
    },
    {
      "cell_type": "code",
      "metadata": {
        "id": "MNn9QN5K5Oa-",
        "outputId": "128dddd4-72cd-4eb2-f25a-f639f0650a26"
      },
      "source": [
        "for itens in 'Isso é uma string':\n",
        "    print(itens)"
      ],
      "execution_count": null,
      "outputs": [
        {
          "output_type": "stream",
          "text": [
            "I\n",
            "s\n",
            "s\n",
            "o\n",
            " \n",
            "é\n",
            " \n",
            "u\n",
            "m\n",
            "a\n",
            " \n",
            "s\n",
            "t\n",
            "r\n",
            "i\n",
            "n\n",
            "g\n"
          ],
          "name": "stdout"
        }
      ]
    },
    {
      "cell_type": "markdown",
      "metadata": {
        "id": "XMa2Yj275ObB"
      },
      "source": [
        "**Observação:** Uma outra forma de se fazer um laço **for** utilizando apenas uma linha"
      ]
    },
    {
      "cell_type": "code",
      "metadata": {
        "id": "JOmb5kgR5ObE",
        "outputId": "aa315433-19e2-40de-96d0-a0c535668df2"
      },
      "source": [
        "[x for x in range(10)]"
      ],
      "execution_count": null,
      "outputs": [
        {
          "output_type": "execute_result",
          "data": {
            "text/plain": [
              "[0, 1, 2, 3, 4, 5, 6, 7, 8, 9]"
            ]
          },
          "metadata": {
            "tags": []
          },
          "execution_count": 83
        }
      ]
    },
    {
      "cell_type": "markdown",
      "metadata": {
        "id": "nZbnrk9w5ObH"
      },
      "source": [
        "# While\n",
        "\n",
        "O comando **while** em Python é uma das formas mais gerais de executar iterações. Uma instrução ** while ** executará repetidamente uma única declaração ou grupo de instruções, desde que a condição seja verdadeira. A razão pela qual é chamado de \"loop\" é porque as instruções de código são roteadas repetidamente até que a condição não seja mais atendida.\n",
        "\n",
        "O formato geral de um loop while é:\n",
        "\n",
        "     while teste:\n",
        "         declaração de código\n",
        "\n",
        "\n",
        "É importante salientar que a condição a ser testada em cada iteração deve ser modificada dentro do loop, caso contrário seria uma repetição infinita."
      ]
    },
    {
      "cell_type": "markdown",
      "metadata": {
        "id": "NCfwXKjF5ObJ"
      },
      "source": [
        "### Exemplo 5"
      ]
    },
    {
      "cell_type": "code",
      "metadata": {
        "id": "FiocMUFz5ObL",
        "outputId": "b4e4ec26-db96-4d6e-da11-6f43a776f2f5"
      },
      "source": [
        "x = 0\n",
        "\n",
        "while x < 10:\n",
        "    print('O valor atual de x é: ', x)\n",
        "    print('Obs.: x ainda é um número menor que 10, então acrescentaremos uma unidade a x \\n')\n",
        "    x += 1"
      ],
      "execution_count": null,
      "outputs": [
        {
          "output_type": "stream",
          "text": [
            "O valor atual de x é:  0\n",
            "Obs.: x ainda é um número menor que 10, então acrescentaremos uma unidade a x \n",
            "\n",
            "O valor atual de x é:  1\n",
            "Obs.: x ainda é um número menor que 10, então acrescentaremos uma unidade a x \n",
            "\n",
            "O valor atual de x é:  2\n",
            "Obs.: x ainda é um número menor que 10, então acrescentaremos uma unidade a x \n",
            "\n",
            "O valor atual de x é:  3\n",
            "Obs.: x ainda é um número menor que 10, então acrescentaremos uma unidade a x \n",
            "\n",
            "O valor atual de x é:  4\n",
            "Obs.: x ainda é um número menor que 10, então acrescentaremos uma unidade a x \n",
            "\n",
            "O valor atual de x é:  5\n",
            "Obs.: x ainda é um número menor que 10, então acrescentaremos uma unidade a x \n",
            "\n",
            "O valor atual de x é:  6\n",
            "Obs.: x ainda é um número menor que 10, então acrescentaremos uma unidade a x \n",
            "\n",
            "O valor atual de x é:  7\n",
            "Obs.: x ainda é um número menor que 10, então acrescentaremos uma unidade a x \n",
            "\n",
            "O valor atual de x é:  8\n",
            "Obs.: x ainda é um número menor que 10, então acrescentaremos uma unidade a x \n",
            "\n",
            "O valor atual de x é:  9\n",
            "Obs.: x ainda é um número menor que 10, então acrescentaremos uma unidade a x \n",
            "\n"
          ],
          "name": "stdout"
        }
      ]
    },
    {
      "cell_type": "markdown",
      "metadata": {
        "id": "DIO3Tlnh5ObP"
      },
      "source": [
        "### Observação\n",
        "\n",
        "Observe quantas vezes as declarações de impressão ocorreram e como o while continuou até a condição True deixasse de ser verdadeira, que ocorreu após x == 10. É importante notar que, uma vez que isso ocorreu, o código parou. Vamos ver como podemos adicionar uma outra afirmação:"
      ]
    },
    {
      "cell_type": "markdown",
      "metadata": {
        "id": "V-zklJUD5ObR"
      },
      "source": [
        "## break, continue, pass\n",
        "\n",
        "Podemos usar as declarações break, continue e pass em nossos loops para adicionar funcionalidades adicionais para vários casos. As três declarações são definidas por:\n",
        "\n",
        "     break: Para o loop \n",
        "     continue: Vai para o próximo loop\n",
        "     pass: Não faz nada\n",
        "    \n",
        "    \n",
        "Pensando nas declarações ** break ** e ** continue **, o formato geral do loop while se parece com isto:\n",
        "\n",
        "     while test: \n",
        "        código\n",
        "        if test: \n",
        "            break\n",
        "        if test: \n",
        "            continue \n",
        "    else:\n",
        "\n",
        "\n",
        "Vamos ver alguns exemplos!"
      ]
    },
    {
      "cell_type": "markdown",
      "metadata": {
        "id": "z2BmNn9v5ObT"
      },
      "source": [
        "### Exemplo 6"
      ]
    },
    {
      "cell_type": "code",
      "metadata": {
        "id": "ppr7YBXI5ObV",
        "outputId": "18c62563-39c3-4c04-d371-a5ce45014bdb"
      },
      "source": [
        "x = 0\n",
        "\n",
        "while x < 10:\n",
        "    print('O valor tual de x é: ', x)\n",
        "    print('Obs.: x ainda é um número menor que 10, então acrescentaremos uma unidade a x')\n",
        "    x+=1\n",
        "    if x == 3:\n",
        "        print('x == 3')\n",
        "    else:\n",
        "        print('continue ...\\n')\n",
        "        continue"
      ],
      "execution_count": null,
      "outputs": [
        {
          "output_type": "stream",
          "text": [
            "O valor tual de x é:  0\n",
            "Obs.: x ainda é um número menor que 10, então acrescentaremos uma unidade a x\n",
            "continue ...\n",
            "\n",
            "O valor tual de x é:  1\n",
            "Obs.: x ainda é um número menor que 10, então acrescentaremos uma unidade a x\n",
            "continue ...\n",
            "\n",
            "O valor tual de x é:  2\n",
            "Obs.: x ainda é um número menor que 10, então acrescentaremos uma unidade a x\n",
            "x == 3\n",
            "O valor tual de x é:  3\n",
            "Obs.: x ainda é um número menor que 10, então acrescentaremos uma unidade a x\n",
            "continue ...\n",
            "\n",
            "O valor tual de x é:  4\n",
            "Obs.: x ainda é um número menor que 10, então acrescentaremos uma unidade a x\n",
            "continue ...\n",
            "\n",
            "O valor tual de x é:  5\n",
            "Obs.: x ainda é um número menor que 10, então acrescentaremos uma unidade a x\n",
            "continue ...\n",
            "\n",
            "O valor tual de x é:  6\n",
            "Obs.: x ainda é um número menor que 10, então acrescentaremos uma unidade a x\n",
            "continue ...\n",
            "\n",
            "O valor tual de x é:  7\n",
            "Obs.: x ainda é um número menor que 10, então acrescentaremos uma unidade a x\n",
            "continue ...\n",
            "\n",
            "O valor tual de x é:  8\n",
            "Obs.: x ainda é um número menor que 10, então acrescentaremos uma unidade a x\n",
            "continue ...\n",
            "\n",
            "O valor tual de x é:  9\n",
            "Obs.: x ainda é um número menor que 10, então acrescentaremos uma unidade a x\n",
            "continue ...\n",
            "\n"
          ],
          "name": "stdout"
        }
      ]
    },
    {
      "cell_type": "markdown",
      "metadata": {
        "id": "uwua7RZK5ObY"
      },
      "source": [
        "### Observação\n",
        "Observe como temos uma declaração impressa quando x == 3 e continuamos imprimindo enquanto continuamos através do while. Vamos fazer uma pausa uma vez x == 3 e ver se o resultado faz sentido:"
      ]
    },
    {
      "cell_type": "markdown",
      "metadata": {
        "id": "-38sBihk5Oba"
      },
      "source": [
        "### Exemplo 7"
      ]
    },
    {
      "cell_type": "code",
      "metadata": {
        "id": "vTnPjpk25Obc",
        "outputId": "b723ad60-e370-4bc5-f47f-72d42d9c8559"
      },
      "source": [
        "x = 0\n",
        "\n",
        "while x < 10:\n",
        "    print('O valor tual de x é: ', x)\n",
        "    print('Obs.: x ainda é um número menor que 10, então acrescentaremos uma unidade a x')\n",
        "    x+=1\n",
        "    if x ==3:\n",
        "        print('Pare, pois x == 3')\n",
        "        break\n",
        "    else:\n",
        "        print('continue...\\n')\n",
        "        continue"
      ],
      "execution_count": null,
      "outputs": [
        {
          "output_type": "stream",
          "text": [
            "O valor tual de x é:  0\n",
            "Obs.: x ainda é um número menor que 10, então acrescentaremos uma unidade a x\n",
            "continue...\n",
            "\n",
            "O valor tual de x é:  1\n",
            "Obs.: x ainda é um número menor que 10, então acrescentaremos uma unidade a x\n",
            "continue...\n",
            "\n",
            "O valor tual de x é:  2\n",
            "Obs.: x ainda é um número menor que 10, então acrescentaremos uma unidade a x\n",
            "Pare, pois x == 3\n"
          ],
          "name": "stdout"
        }
      ]
    },
    {
      "cell_type": "markdown",
      "metadata": {
        "id": "9iPg2XQi5Obf"
      },
      "source": [
        "# Listas\n",
        "\n",
        "Anteriormente, ao discutir strings, introduzimos o conceito de *sequência* em Python. As listas podem ser pensadas na versão mais geral de uma *sequência* em Python. Ao contrário das strings, eles são mutáveis, o que significa que os elementos dentro de uma lista podem ser alterados!\n",
        "\n",
        "Nesta seção, aprenderemos sobre:\n",
        "    \n",
        "     1) Criação de listas\n",
        "     2) Índice e corte de listas\n",
        "     3) Métodos de listas\n",
        "     4) Listas aninhadas\n",
        "     5) Introdução ao método de Compreensão em listas\n",
        "\n",
        "As listas são construídas com colchetes [] e vírgulas que separam cada elemento da lista.\n",
        "\n",
        "Avançemos e vejamos como podemos construir listas!"
      ]
    },
    {
      "cell_type": "code",
      "metadata": {
        "id": "8AQRmdVQ5Obh"
      },
      "source": [
        "# Atribui uma lista a uma variável chamada minha_lista\n",
        "minha_lista = [1,2,3]"
      ],
      "execution_count": null,
      "outputs": []
    },
    {
      "cell_type": "markdown",
      "metadata": {
        "id": "Hypmum2D5Obk"
      },
      "source": [
        "Acabamos de criar uma lista de números inteiros, mas as listas podem realmente armazenar diferentes tipos de objeto. Por exemplo:"
      ]
    },
    {
      "cell_type": "code",
      "metadata": {
        "id": "KqN78dSI5Obn"
      },
      "source": [
        "minha_lista_2 = ['Uma string',23,100.232,'o']"
      ],
      "execution_count": null,
      "outputs": []
    },
    {
      "cell_type": "markdown",
      "metadata": {
        "id": "Mklm2_kh5Obp"
      },
      "source": [
        "Assim como as strings, a função len() irá dizer-lhe quantos itens estão na sequência da lista."
      ]
    },
    {
      "cell_type": "code",
      "metadata": {
        "id": "JRMDbnqj5Obv",
        "outputId": "eefca7f0-2ac3-4103-bf12-41a7b011a39d"
      },
      "source": [
        "len(minha_lista_2)"
      ],
      "execution_count": null,
      "outputs": [
        {
          "output_type": "execute_result",
          "data": {
            "text/plain": [
              "4"
            ]
          },
          "metadata": {
            "tags": []
          },
          "execution_count": 86
        }
      ]
    },
    {
      "cell_type": "markdown",
      "metadata": {
        "id": "umcpAaJS5Obz"
      },
      "source": [
        "Podemos também verificar qual o tipo da variável minha_lista_2\n",
        "\n",
        "**Obs.**: podemos observar que surgiu um novo tipo de dado"
      ]
    },
    {
      "cell_type": "code",
      "metadata": {
        "id": "B4JumE3R5Ob2",
        "outputId": "a99ac2f6-05b3-4511-b761-a767853f8d9c"
      },
      "source": [
        "type(minha_lista_2)"
      ],
      "execution_count": null,
      "outputs": [
        {
          "output_type": "execute_result",
          "data": {
            "text/plain": [
              "list"
            ]
          },
          "metadata": {
            "tags": []
          },
          "execution_count": 87
        }
      ]
    },
    {
      "cell_type": "markdown",
      "metadata": {
        "id": "ncLWOjV65Ob5"
      },
      "source": [
        "### Indexação e corte\n",
        "Indexar e cortar funciona exatamente como em strings. Vamos fazer uma nova lista para nos lembrar de como isso funciona:"
      ]
    },
    {
      "cell_type": "code",
      "metadata": {
        "id": "1QjHVlap5Ob7"
      },
      "source": [
        "minha_lista_3 = ['um','dois','três',4,5]"
      ],
      "execution_count": null,
      "outputs": []
    },
    {
      "cell_type": "code",
      "metadata": {
        "id": "FoL5cZXZ5Ob9",
        "outputId": "a9cacec8-9db7-4951-8240-623f2eae8cbd"
      },
      "source": [
        "# Pega o elemento de indice 0\n",
        "minha_lista_3[0]"
      ],
      "execution_count": null,
      "outputs": [
        {
          "output_type": "execute_result",
          "data": {
            "text/plain": [
              "'um'"
            ]
          },
          "metadata": {
            "tags": []
          },
          "execution_count": 89
        }
      ]
    },
    {
      "cell_type": "code",
      "metadata": {
        "id": "j9jELY6r5OcC",
        "outputId": "90ace9e4-f3d9-4a34-ff0b-89fb33de3ef8"
      },
      "source": [
        "# Pegue o índice 1 e tudo depois\n",
        "minha_lista_3[1:3]"
      ],
      "execution_count": null,
      "outputs": [
        {
          "output_type": "execute_result",
          "data": {
            "text/plain": [
              "['dois', 'três']"
            ]
          },
          "metadata": {
            "tags": []
          },
          "execution_count": 90
        }
      ]
    },
    {
      "cell_type": "code",
      "metadata": {
        "id": "anibfQgF5OcG",
        "outputId": "633ced18-64e9-4ee1-9e74-388e190e18a4"
      },
      "source": [
        "# Pega tudo até o elemento de índice 3\n",
        "minha_lista_3[1:-1]"
      ],
      "execution_count": null,
      "outputs": [
        {
          "output_type": "execute_result",
          "data": {
            "text/plain": [
              "['dois', 'três', 4]"
            ]
          },
          "metadata": {
            "tags": []
          },
          "execution_count": 91
        }
      ]
    },
    {
      "cell_type": "markdown",
      "metadata": {
        "id": "COqcm0pv5OcJ"
      },
      "source": [
        "Nós também podemos usar + para concatenar listas, assim como fizemos por strings."
      ]
    },
    {
      "cell_type": "code",
      "metadata": {
        "id": "5JDsMOX45OcL",
        "outputId": "a33d3e2a-830c-43fc-99cf-9dc59a5c0016"
      },
      "source": [
        "minha_lista_3 + ['novo item']"
      ],
      "execution_count": null,
      "outputs": [
        {
          "output_type": "execute_result",
          "data": {
            "text/plain": [
              "['um', 'dois', 'três', 4, 5, 'novo item']"
            ]
          },
          "metadata": {
            "tags": []
          },
          "execution_count": 92
        }
      ]
    },
    {
      "cell_type": "markdown",
      "metadata": {
        "id": "fmqNEcss5OcX"
      },
      "source": [
        "**Observação**: Isso realmente não altera a lista original!"
      ]
    },
    {
      "cell_type": "code",
      "metadata": {
        "id": "stK6n91a5Oca",
        "outputId": "6c2a2b50-5547-4d37-db3c-2ad7885f8a9a"
      },
      "source": [
        "minha_lista_3"
      ],
      "execution_count": null,
      "outputs": [
        {
          "output_type": "execute_result",
          "data": {
            "text/plain": [
              "['um', 'dois', 'três', 4, 5]"
            ]
          },
          "metadata": {
            "tags": []
          },
          "execution_count": 93
        }
      ]
    },
    {
      "cell_type": "markdown",
      "metadata": {
        "id": "-92mFSkI5Ocd"
      },
      "source": [
        "Você teria que reatribuir a lista para tornar a mudança permanente."
      ]
    },
    {
      "cell_type": "code",
      "metadata": {
        "id": "tpltI-K65Ocg"
      },
      "source": [
        "# Reassign\n",
        "minha_lista_3 = minha_lista_3 + ['adicionando um novo elemento permanentemente']"
      ],
      "execution_count": null,
      "outputs": []
    },
    {
      "cell_type": "code",
      "metadata": {
        "id": "c3rAtdzi5Ocj",
        "outputId": "c14231ae-0a9a-4bcd-be36-65c1333d3579"
      },
      "source": [
        "minha_lista_3"
      ],
      "execution_count": null,
      "outputs": [
        {
          "output_type": "execute_result",
          "data": {
            "text/plain": [
              "['um', 'dois', 'três', 4, 5, 'adicionando um novo elemento permanentemente']"
            ]
          },
          "metadata": {
            "tags": []
          },
          "execution_count": 95
        }
      ]
    },
    {
      "cell_type": "markdown",
      "metadata": {
        "id": "Re0gWybC5Ocp"
      },
      "source": [
        "Nós também podemos usar o * para um método de duplicação semelhante às strings:"
      ]
    },
    {
      "cell_type": "code",
      "metadata": {
        "id": "ao1t4cv15Ocs",
        "outputId": "09f45c05-f109-483c-93bb-8aba1ec4c4ff"
      },
      "source": [
        "# Duplicando os elementos da lista\n",
        "minha_lista_3 * 2"
      ],
      "execution_count": null,
      "outputs": [
        {
          "output_type": "execute_result",
          "data": {
            "text/plain": [
              "['um',\n",
              " 'dois',\n",
              " 'três',\n",
              " 4,\n",
              " 5,\n",
              " 'adicionando um novo elemento permanentemente',\n",
              " 'um',\n",
              " 'dois',\n",
              " 'três',\n",
              " 4,\n",
              " 5,\n",
              " 'adicionando um novo elemento permanentemente']"
            ]
          },
          "metadata": {
            "tags": []
          },
          "execution_count": 96
        }
      ]
    },
    {
      "cell_type": "markdown",
      "metadata": {
        "id": "SUAfInwU5Ocz"
      },
      "source": [
        "**Obs.:** mais uma ez esta operação não altera permanetemente a lista original"
      ]
    },
    {
      "cell_type": "code",
      "metadata": {
        "id": "178_gsm05Oc1"
      },
      "source": [
        "minha_lista_3 = minha_lista_3*2"
      ],
      "execution_count": null,
      "outputs": []
    },
    {
      "cell_type": "code",
      "metadata": {
        "id": "LiO5lA6f5Oc3",
        "outputId": "938fa79a-e2fd-40ab-e52b-79a528c2cb8c"
      },
      "source": [
        "len(minha_lista_3)"
      ],
      "execution_count": null,
      "outputs": [
        {
          "output_type": "execute_result",
          "data": {
            "text/plain": [
              "12"
            ]
          },
          "metadata": {
            "tags": []
          },
          "execution_count": 98
        }
      ]
    },
    {
      "cell_type": "markdown",
      "metadata": {
        "id": "8E5_E9kV5Oc6"
      },
      "source": [
        "Também deve notar-se que a indexação das listas retornará um erro se não houver nenhum elemento nesse índice. Por exemplo:"
      ]
    },
    {
      "cell_type": "code",
      "metadata": {
        "id": "Y0n_SvOz5Oc8",
        "outputId": "c9b8ad06-c0c0-460f-83fe-4cb9fef3ad4b"
      },
      "source": [
        "minha_lista_3[11]"
      ],
      "execution_count": null,
      "outputs": [
        {
          "output_type": "execute_result",
          "data": {
            "text/plain": [
              "'adicionando um novo elemento permanentemente'"
            ]
          },
          "metadata": {
            "tags": []
          },
          "execution_count": 99
        }
      ]
    },
    {
      "cell_type": "markdown",
      "metadata": {
        "id": "EcrZByi_5OdB"
      },
      "source": [
        "## Métodos de Listas\n",
        "\n",
        "Os métodos de listas são muito úteis na programação. Vamos explorar um pouco mais sobre eles adiante\n",
        "\n",
        "<img src='Imagens/metodos_lista.JPG' heigth='300' width='600'>"
      ]
    },
    {
      "cell_type": "markdown",
      "metadata": {
        "id": "HmjxNr-05OdD"
      },
      "source": [
        "## append( )"
      ]
    },
    {
      "cell_type": "markdown",
      "metadata": {
        "id": "Gx5jM_sS5OdF"
      },
      "source": [
        "Use o método **append( )** para adicionar permanentemente um item ao final de uma lista:"
      ]
    },
    {
      "cell_type": "code",
      "metadata": {
        "id": "eXU_amUv5OdH"
      },
      "source": [
        "# Criando uma lista\n",
        "l =  [1,2,3,4]"
      ],
      "execution_count": null,
      "outputs": []
    },
    {
      "cell_type": "code",
      "metadata": {
        "id": "XgFnerP35OdI"
      },
      "source": [
        "l.append(5)"
      ],
      "execution_count": null,
      "outputs": []
    },
    {
      "cell_type": "code",
      "metadata": {
        "id": "2xP05mXU5OdJ",
        "outputId": "b49e24b8-4200-4b31-86a9-7c385478d4f7"
      },
      "source": [
        "l"
      ],
      "execution_count": null,
      "outputs": [
        {
          "output_type": "execute_result",
          "data": {
            "text/plain": [
              "[1, 2, 3, 4, 5]"
            ]
          },
          "metadata": {
            "tags": []
          },
          "execution_count": 128
        }
      ]
    },
    {
      "cell_type": "code",
      "metadata": {
        "id": "KpRk0oK_5OdK"
      },
      "source": [
        "# Utilizando o método append(),passando como parâmentro o novo elemento da lista\n",
        "l.append('adicionando um elemento!')"
      ],
      "execution_count": null,
      "outputs": []
    },
    {
      "cell_type": "code",
      "metadata": {
        "id": "0Xx2_3I-5OdN",
        "outputId": "8af74618-e13e-45be-8e14-1517a7316330"
      },
      "source": [
        "# Mostrar a lista \n",
        "l"
      ],
      "execution_count": null,
      "outputs": [
        {
          "output_type": "execute_result",
          "data": {
            "text/plain": [
              "[1, 2, 3, 4, 5, 'adicionando um elemento!']"
            ]
          },
          "metadata": {
            "tags": []
          },
          "execution_count": 130
        }
      ]
    },
    {
      "cell_type": "code",
      "metadata": {
        "id": "Z21ut3Wj5OdP"
      },
      "source": [
        "l.append(2)"
      ],
      "execution_count": null,
      "outputs": []
    },
    {
      "cell_type": "code",
      "metadata": {
        "id": "eZKNbNKT5OdS",
        "outputId": "31bbe256-9834-418d-e5a4-972d81d5b6d1"
      },
      "source": [
        "l"
      ],
      "execution_count": null,
      "outputs": [
        {
          "output_type": "execute_result",
          "data": {
            "text/plain": [
              "[1, 2, 3, 4, 5, 'adicionando um elemento!', 2]"
            ]
          },
          "metadata": {
            "tags": []
          },
          "execution_count": 132
        }
      ]
    },
    {
      "cell_type": "markdown",
      "metadata": {
        "id": "4flahFju5OdW"
      },
      "source": [
        "## count( )\n",
        "\n",
        "count( ) retorna o número de vezes que um elemento aparece na lista"
      ]
    },
    {
      "cell_type": "code",
      "metadata": {
        "id": "jX5jz06m5OdY",
        "outputId": "fd526604-b95a-4e91-ef42-3f9001c2c716"
      },
      "source": [
        "l.count(10)"
      ],
      "execution_count": null,
      "outputs": [
        {
          "output_type": "execute_result",
          "data": {
            "text/plain": [
              "0"
            ]
          },
          "metadata": {
            "tags": []
          },
          "execution_count": 133
        }
      ]
    },
    {
      "cell_type": "code",
      "metadata": {
        "id": "RgAxbSCI5Oda",
        "outputId": "d4bcb19c-ee6a-40c3-bef1-1b2f8bb7ad83"
      },
      "source": [
        "l.count(2)"
      ],
      "execution_count": null,
      "outputs": [
        {
          "output_type": "execute_result",
          "data": {
            "text/plain": [
              "2"
            ]
          },
          "metadata": {
            "tags": []
          },
          "execution_count": 134
        }
      ]
    },
    {
      "cell_type": "markdown",
      "metadata": {
        "id": "mfIHcZFC5Odc"
      },
      "source": [
        "## extend( )\n",
        "Muitas vezes as pessoas acham a diferença entre extend e append que não está claro. Então note:\n",
        "\n",
        "**append: anexa objeto no final**"
      ]
    },
    {
      "cell_type": "code",
      "metadata": {
        "id": "x9hPztSF5Ode",
        "outputId": "efb32d32-be96-480a-88c1-594de7b56196"
      },
      "source": [
        "x = [1, 2, 3]\n",
        "x.append([4, 5])\n",
        "print(x)"
      ],
      "execution_count": null,
      "outputs": [
        {
          "output_type": "stream",
          "text": [
            "[1, 2, 3, [4, 5]]\n"
          ],
          "name": "stdout"
        }
      ]
    },
    {
      "cell_type": "markdown",
      "metadata": {
        "id": "1_S0mWsI5Odm"
      },
      "source": [
        "**extend**: amplia a lista anexando elementos do iterável"
      ]
    },
    {
      "cell_type": "code",
      "metadata": {
        "id": "sJJf8hgM5Odo",
        "outputId": "f5a7317c-2253-48ab-b409-876b9cfd601d"
      },
      "source": [
        "x = [1, 2, 3]\n",
        "x.extend([4, 5])\n",
        "print(x)"
      ],
      "execution_count": null,
      "outputs": [
        {
          "output_type": "stream",
          "text": [
            "[1, 2, 3, 4, 5]\n"
          ],
          "name": "stdout"
        }
      ]
    },
    {
      "cell_type": "markdown",
      "metadata": {
        "id": "LymZqGIx5Odr"
      },
      "source": [
        "Observe como extend acrescenta cada elemento nesse iterável. Essa é a principal diferença."
      ]
    },
    {
      "cell_type": "markdown",
      "metadata": {
        "id": "zpFxHlsJ5Odt"
      },
      "source": [
        "## index( )\n",
        "Index retornará o índice de qualquer elemento que seja colocado como um argumento. Nota: Se o elemento não estiver na lista, um erro será retornado."
      ]
    },
    {
      "cell_type": "code",
      "metadata": {
        "id": "s7jGvKiD5Odu",
        "outputId": "3cf7c906-2570-427a-9c20-9ac3a290994b"
      },
      "source": [
        "l"
      ],
      "execution_count": null,
      "outputs": [
        {
          "output_type": "execute_result",
          "data": {
            "text/plain": [
              "[1, 2, 3, 4, 5, 'adicionando um elemento!', 2]"
            ]
          },
          "metadata": {
            "tags": []
          },
          "execution_count": 137
        }
      ]
    },
    {
      "cell_type": "code",
      "metadata": {
        "id": "21nHvthm5Odx",
        "outputId": "6671c376-d743-438b-eb95-0ecf7f2b6ee0"
      },
      "source": [
        "l.index(2)"
      ],
      "execution_count": null,
      "outputs": [
        {
          "output_type": "execute_result",
          "data": {
            "text/plain": [
              "1"
            ]
          },
          "metadata": {
            "tags": []
          },
          "execution_count": 138
        }
      ]
    },
    {
      "cell_type": "code",
      "metadata": {
        "id": "21jKp6dM5Od3",
        "outputId": "79cc4b4c-e9c2-4bc7-8041-dc0563902fc3"
      },
      "source": [
        "l.index(12)"
      ],
      "execution_count": null,
      "outputs": [
        {
          "output_type": "error",
          "ename": "ValueError",
          "evalue": "12 is not in list",
          "traceback": [
            "\u001b[1;31m---------------------------------------------------------------------------\u001b[0m",
            "\u001b[1;31mValueError\u001b[0m                                Traceback (most recent call last)",
            "\u001b[1;32m<ipython-input-139-da9218b18168>\u001b[0m in \u001b[0;36m<module>\u001b[1;34m()\u001b[0m\n\u001b[1;32m----> 1\u001b[1;33m \u001b[0ml\u001b[0m\u001b[1;33m.\u001b[0m\u001b[0mindex\u001b[0m\u001b[1;33m(\u001b[0m\u001b[1;36m12\u001b[0m\u001b[1;33m)\u001b[0m\u001b[1;33m\u001b[0m\u001b[0m\n\u001b[0m",
            "\u001b[1;31mValueError\u001b[0m: 12 is not in list"
          ]
        }
      ]
    },
    {
      "cell_type": "markdown",
      "metadata": {
        "id": "K-rR7M2t5Od5"
      },
      "source": [
        "## insert( )\n",
        "insert pega dois argumentos: insert(índice, objeto) Este método coloca o objeto no índice fornecido. Por exemplo:"
      ]
    },
    {
      "cell_type": "code",
      "metadata": {
        "id": "tkEG8oo45Od7",
        "outputId": "895ee3e0-2040-42e4-b18c-ba11b0078764"
      },
      "source": [
        "l"
      ],
      "execution_count": null,
      "outputs": [
        {
          "output_type": "execute_result",
          "data": {
            "text/plain": [
              "[1, 2, 3, 4, 5, 'adicionando um elemento!', 2]"
            ]
          },
          "metadata": {
            "tags": []
          },
          "execution_count": 140
        }
      ]
    },
    {
      "cell_type": "code",
      "metadata": {
        "id": "pi9hoRP65Od9"
      },
      "source": [
        "# Coloca uma letra no índice 2\n",
        "l.insert(2,'inserindo')"
      ],
      "execution_count": null,
      "outputs": []
    },
    {
      "cell_type": "code",
      "metadata": {
        "id": "Gphznzas5OeB",
        "outputId": "f32fde0d-2c0e-42b4-a2a0-ed542cc63f5b"
      },
      "source": [
        "l"
      ],
      "execution_count": null,
      "outputs": [
        {
          "output_type": "execute_result",
          "data": {
            "text/plain": [
              "[1, 2, 'inserindo', 3, 4, 5, 'adicionando um elemento!', 2]"
            ]
          },
          "metadata": {
            "tags": []
          },
          "execution_count": 142
        }
      ]
    },
    {
      "cell_type": "markdown",
      "metadata": {
        "id": "REFCDVP85OeE"
      },
      "source": [
        "## pop( )\n",
        "Para retirar um elemento da lista utilizamos o parâmetro **pop( )** . Por padrão, pop tira o último índice, mas também pode especificar qual índice aparecer. \n",
        "Vamos ver um exemplo:"
      ]
    },
    {
      "cell_type": "code",
      "metadata": {
        "id": "LjB6X5li5OeG"
      },
      "source": [
        "a = l"
      ],
      "execution_count": null,
      "outputs": []
    },
    {
      "cell_type": "code",
      "metadata": {
        "id": "RM9uke4m5OeL",
        "outputId": "fc510c06-2d8f-4590-9164-03722cded93d"
      },
      "source": [
        "a"
      ],
      "execution_count": null,
      "outputs": [
        {
          "output_type": "execute_result",
          "data": {
            "text/plain": [
              "[1, 2, 'inserindo', 3, 4, 5, 'adicionando um elemento!', 2]"
            ]
          },
          "metadata": {
            "tags": []
          },
          "execution_count": 144
        }
      ]
    },
    {
      "cell_type": "code",
      "metadata": {
        "id": "BqEiBuQH5OeN",
        "outputId": "8ad47e38-faaf-4111-c605-e1fc5a34748a"
      },
      "source": [
        "a = a.pop()\n",
        "a"
      ],
      "execution_count": null,
      "outputs": [
        {
          "output_type": "execute_result",
          "data": {
            "text/plain": [
              "2"
            ]
          },
          "metadata": {
            "tags": []
          },
          "execution_count": 145
        }
      ]
    },
    {
      "cell_type": "code",
      "metadata": {
        "id": "vF8sp4fF5OeP",
        "outputId": "1a3dd27e-a531-4a13-d22d-fea7fa8284be"
      },
      "source": [
        "b = l.pop(2)\n",
        "b"
      ],
      "execution_count": null,
      "outputs": [
        {
          "output_type": "execute_result",
          "data": {
            "text/plain": [
              "'inserindo'"
            ]
          },
          "metadata": {
            "tags": []
          },
          "execution_count": 146
        }
      ]
    },
    {
      "cell_type": "code",
      "metadata": {
        "id": "mXd1iuQ15OeR",
        "outputId": "6cc934b0-09b0-42a9-87a3-61b5d64d7f7f"
      },
      "source": [
        "l"
      ],
      "execution_count": null,
      "outputs": [
        {
          "output_type": "execute_result",
          "data": {
            "text/plain": [
              "[1, 2, 3, 4, 5, 'adicionando um elemento!']"
            ]
          },
          "metadata": {
            "tags": []
          },
          "execution_count": 147
        }
      ]
    },
    {
      "cell_type": "markdown",
      "metadata": {
        "id": "fDwFlqzU5OeU"
      },
      "source": [
        "## remove( )\n",
        "O método **remove( )** remove a primeira ocorrência de um valor. Por exemplo:"
      ]
    },
    {
      "cell_type": "code",
      "metadata": {
        "id": "mv1nch7Q5OeW",
        "outputId": "2faa50c3-086d-4804-e431-3051af41c965"
      },
      "source": [
        "l"
      ],
      "execution_count": null,
      "outputs": [
        {
          "output_type": "execute_result",
          "data": {
            "text/plain": [
              "[1, 2, 3, 4, 5, 'adicionando um elemento!']"
            ]
          },
          "metadata": {
            "tags": []
          },
          "execution_count": 149
        }
      ]
    },
    {
      "cell_type": "code",
      "metadata": {
        "id": "rOwUjqYL5OeZ"
      },
      "source": [
        "l.remove(4)"
      ],
      "execution_count": null,
      "outputs": []
    },
    {
      "cell_type": "code",
      "metadata": {
        "id": "JGeJWdP25Oeb"
      },
      "source": [
        "l.append(3)"
      ],
      "execution_count": null,
      "outputs": []
    },
    {
      "cell_type": "code",
      "metadata": {
        "id": "RKPvWgC65Oef",
        "outputId": "425a73ee-50dd-4194-b6ff-90b00741410b"
      },
      "source": [
        "l"
      ],
      "execution_count": null,
      "outputs": [
        {
          "output_type": "execute_result",
          "data": {
            "text/plain": [
              "[1, 2, 3, 5, 'adicionando um elemento!', 3]"
            ]
          },
          "metadata": {
            "tags": []
          },
          "execution_count": 152
        }
      ]
    },
    {
      "cell_type": "code",
      "metadata": {
        "id": "WaQur4755Oeh"
      },
      "source": [
        "l.remove(3)"
      ],
      "execution_count": null,
      "outputs": []
    },
    {
      "cell_type": "code",
      "metadata": {
        "id": "WldlKsXE5Oej",
        "outputId": "a8de1965-d462-48e3-ebfd-5c22fc4953de"
      },
      "source": [
        "l"
      ],
      "execution_count": null,
      "outputs": [
        {
          "output_type": "execute_result",
          "data": {
            "text/plain": [
              "[1, 2, 5, 'adicionando um elemento!', 3]"
            ]
          },
          "metadata": {
            "tags": []
          },
          "execution_count": 154
        }
      ]
    },
    {
      "cell_type": "markdown",
      "metadata": {
        "id": "05OJf0ON5Oep"
      },
      "source": [
        "## reverse( )\n",
        "Método utilizado para inverter uma lista"
      ]
    },
    {
      "cell_type": "code",
      "metadata": {
        "id": "ZwpR3fLr5Oes",
        "outputId": "35bb51ec-1530-4be5-cb14-71166b0adb30"
      },
      "source": [
        "nova_lista = ['a','e','x','b','c']\n",
        "nova_lista"
      ],
      "execution_count": null,
      "outputs": [
        {
          "output_type": "execute_result",
          "data": {
            "text/plain": [
              "['a', 'e', 'x', 'b', 'c']"
            ]
          },
          "metadata": {
            "tags": []
          },
          "execution_count": 155
        }
      ]
    },
    {
      "cell_type": "code",
      "metadata": {
        "id": "V6cwJeAu5Oeu"
      },
      "source": [
        "# Usando o método reverse() para reverter a ordem da lista - este método altera a lista permanentemente!\n",
        "nova_lista.reverse()"
      ],
      "execution_count": null,
      "outputs": []
    },
    {
      "cell_type": "code",
      "metadata": {
        "id": "y7vhK58E5Oev",
        "outputId": "2ac3da55-a80c-4c60-ac42-602ca018fdf5"
      },
      "source": [
        "nova_lista"
      ],
      "execution_count": null,
      "outputs": [
        {
          "output_type": "execute_result",
          "data": {
            "text/plain": [
              "['c', 'b', 'x', 'e', 'a']"
            ]
          },
          "metadata": {
            "tags": []
          },
          "execution_count": 157
        }
      ]
    },
    {
      "cell_type": "code",
      "metadata": {
        "id": "zfR9b28R5Oe0",
        "outputId": "cff81d9f-9ef9-4b13-c49d-3c5856987100"
      },
      "source": [
        "nova_lista = ['a','e','x','b','c']\n",
        "lista_nova = []\n",
        "for i in range(len(nova_lista)):\n",
        "    \n",
        "    print(-(i+1))\n",
        "    lista_nova.append(nova_lista[-(i+1)])"
      ],
      "execution_count": null,
      "outputs": [
        {
          "output_type": "stream",
          "text": [
            "-1\n",
            "-2\n",
            "-3\n",
            "-4\n",
            "-5\n"
          ],
          "name": "stdout"
        }
      ]
    },
    {
      "cell_type": "code",
      "metadata": {
        "id": "3fx_pApr5Oe5",
        "outputId": "8b9b2c4b-6448-44ee-814c-deb250f596ca"
      },
      "source": [
        "lista_nova"
      ],
      "execution_count": null,
      "outputs": [
        {
          "output_type": "execute_result",
          "data": {
            "text/plain": [
              "['c', 'b', 'x', 'e', 'a']"
            ]
          },
          "metadata": {
            "tags": []
          },
          "execution_count": 159
        }
      ]
    },
    {
      "cell_type": "markdown",
      "metadata": {
        "id": "hhcid1QP5Oe9"
      },
      "source": [
        "## sort( )\n",
        "Método utilizado para ordenar uma lista"
      ]
    },
    {
      "cell_type": "code",
      "metadata": {
        "id": "QlIbgmiT5Oe-"
      },
      "source": [
        "# Usando o método sort() para ordenar a lista (neste caso, ordem alfabética) - este método altera a lista permanentemente!\n",
        "nova_lista.sort()"
      ],
      "execution_count": null,
      "outputs": []
    },
    {
      "cell_type": "code",
      "metadata": {
        "id": "YqjEoiza5OfA",
        "outputId": "61d705da-5397-4a93-be94-5066a949749f"
      },
      "source": [
        "nova_lista"
      ],
      "execution_count": null,
      "outputs": [
        {
          "output_type": "execute_result",
          "data": {
            "text/plain": [
              "['a', 'b', 'c', 'e', 'x']"
            ]
          },
          "metadata": {
            "tags": []
          },
          "execution_count": 161
        }
      ]
    },
    {
      "cell_type": "markdown",
      "metadata": {
        "id": "-eovhweb5OfD"
      },
      "source": [
        "## Listas aninhadas\n",
        "Uma ótima característica das estruturas de dados do Python é que eles suportam * aninhamento *. Isso significa que podemos ter estruturas de dados dentro das estruturas de dados. Por exemplo: uma lista dentro de uma lista.\n",
        "\n",
        "Vamos ver como isso funciona!"
      ]
    },
    {
      "cell_type": "code",
      "metadata": {
        "id": "dLcBqNzr5OfM"
      },
      "source": [
        "# Começamos com 3 listas\n",
        "lista_1=[1,2,3]\n",
        "lista_2=[4,5,6]\n",
        "lista_3=[7,8,9]\n",
        "\n",
        "# Faça uma lista de listas para formar uma matriz\n",
        "matrix = [lista_1,lista_2,lista_3]"
      ],
      "execution_count": null,
      "outputs": []
    },
    {
      "cell_type": "code",
      "metadata": {
        "id": "_yZ075ce5OfR",
        "outputId": "33f88167-09fb-4b06-efaa-6fc419de2357"
      },
      "source": [
        "# Mostra\n",
        "matrix"
      ],
      "execution_count": null,
      "outputs": [
        {
          "output_type": "execute_result",
          "data": {
            "text/plain": [
              "[[1, 2, 3], [4, 5, 6], [7, 8, 9]]"
            ]
          },
          "metadata": {
            "tags": []
          },
          "execution_count": 163
        }
      ]
    },
    {
      "cell_type": "markdown",
      "metadata": {
        "id": "BKYXuVd-5OfU"
      },
      "source": [
        "Agora, podemos usar novamente a indexação para pegar elementos, mas agora existem dois níveis para o índice. Os itens no objeto matriz e, em seguida, os itens dentro dessa lista!"
      ]
    },
    {
      "cell_type": "code",
      "metadata": {
        "id": "zAISDowB5OfY",
        "outputId": "907ba709-3ffd-4c90-c1e0-57e4d0207fca"
      },
      "source": [
        "# Pegue o primeiro item no objeto da matriz\n",
        "matrix[0]"
      ],
      "execution_count": null,
      "outputs": [
        {
          "output_type": "execute_result",
          "data": {
            "text/plain": [
              "[1, 2, 3]"
            ]
          },
          "metadata": {
            "tags": []
          },
          "execution_count": 164
        }
      ]
    },
    {
      "cell_type": "code",
      "metadata": {
        "id": "j_ZO6eoV5Ofd",
        "outputId": "a5b9c4da-d426-4c8d-ba84-e73486c273f2"
      },
      "source": [
        "# Pegue o primeiro item do primeiro item no objeto da matriz\n",
        "matrix[0][0]"
      ],
      "execution_count": null,
      "outputs": [
        {
          "output_type": "execute_result",
          "data": {
            "text/plain": [
              "1"
            ]
          },
          "metadata": {
            "tags": []
          },
          "execution_count": 165
        }
      ]
    },
    {
      "cell_type": "markdown",
      "metadata": {
        "id": "0q5ImXuT5Ofg"
      },
      "source": [
        "# Compreensão em listas\n",
        "\n",
        "Além das operações de sequência e métodos de lista, o Python inclui uma operação mais avançada chamada de compreensão de lista.\n",
        "\n",
        "As compreensões de lista nos permitem construir listas usando uma notação diferente. Você pode pensar nisso essencialmente como um loop construído dentro de colchetes. Um exemplo simples:\n",
        "\n",
        "### Exemplo 1"
      ]
    },
    {
      "cell_type": "code",
      "metadata": {
        "id": "UK6D4Z9v5Ofk"
      },
      "source": [
        "lista = []\n",
        "for i in 'word':\n",
        "    lista.append(i)"
      ],
      "execution_count": null,
      "outputs": []
    },
    {
      "cell_type": "code",
      "metadata": {
        "id": "BPPwFu9t5Ofm",
        "outputId": "a63e3976-086a-4959-ed85-8d3eb2a5825b"
      },
      "source": [
        "lista"
      ],
      "execution_count": null,
      "outputs": [
        {
          "output_type": "execute_result",
          "data": {
            "text/plain": [
              "['w', 'o', 'r', 'd']"
            ]
          },
          "metadata": {
            "tags": []
          },
          "execution_count": 167
        }
      ]
    },
    {
      "cell_type": "code",
      "metadata": {
        "id": "e-rUqDDO5Ofs",
        "outputId": "6230274f-6928-44eb-d1b9-6d69e3e0a46d"
      },
      "source": [
        "# Pega todas as letras em uma string\n",
        "lst = [i for i in 'passado']\n",
        "lst"
      ],
      "execution_count": null,
      "outputs": [
        {
          "output_type": "execute_result",
          "data": {
            "text/plain": [
              "['p', 'a', 's', 's', 'a', 'd', 'o']"
            ]
          },
          "metadata": {
            "tags": []
          },
          "execution_count": 168
        }
      ]
    },
    {
      "cell_type": "markdown",
      "metadata": {
        "id": "roxoq3sF5Ofv"
      },
      "source": [
        "Esta é a idéia básica de uma lista de compreensão.\n",
        "Vejamos mais alguns exemplos de compreensões de lista em Python:\n",
        "\n",
        "### Exemplo 2"
      ]
    },
    {
      "cell_type": "code",
      "metadata": {
        "id": "zA16ZNal5Ofz",
        "outputId": "135c40e9-ca30-49c3-ba2b-917526368cf2"
      },
      "source": [
        "# Eleva o quadrado itens no range e o transformam em lista\n",
        "lst = [x**2 for x in range(0,11)]\n",
        "lst"
      ],
      "execution_count": null,
      "outputs": [
        {
          "output_type": "execute_result",
          "data": {
            "text/plain": [
              "[0, 1, 4, 9, 16, 25, 36, 49, 64, 81, 100]"
            ]
          },
          "metadata": {
            "tags": []
          },
          "execution_count": 169
        }
      ]
    },
    {
      "cell_type": "markdown",
      "metadata": {
        "id": "vju9Ceyb5Of3"
      },
      "source": [
        "### Exemplo 3\n",
        "Vamos ver como adicionar usando if:"
      ]
    },
    {
      "cell_type": "code",
      "metadata": {
        "id": "HrysaCFj5Of6",
        "outputId": "2b6bac5c-4990-4f51-c277-4cb2f52ce01f"
      },
      "source": [
        "# Cria uma lista de números pares, utilizando para isso o if\n",
        "lst = [x for x in range(11) if x % 2 == 0]\n",
        "lst"
      ],
      "execution_count": null,
      "outputs": [
        {
          "output_type": "execute_result",
          "data": {
            "text/plain": [
              "[0, 2, 4, 6, 8, 10]"
            ]
          },
          "metadata": {
            "tags": []
          },
          "execution_count": 170
        }
      ]
    },
    {
      "cell_type": "markdown",
      "metadata": {
        "id": "Ha9XyHLm5Of9"
      },
      "source": [
        "### Exemplo 4\n",
        "Também pode fazer operações aritméticas mais complicadas:"
      ]
    },
    {
      "cell_type": "code",
      "metadata": {
        "id": "W3caNraZ5Of-",
        "outputId": "d224fe4e-c607-4007-ab61-747f984e92db"
      },
      "source": [
        "# Converte Celsius para Fahrenheit\n",
        "celsius = [0,10,20.1,34.5]\n",
        "\n",
        "fahrenheit = [ ((float(9)/5)*temp + 32) for temp in celsius]\n",
        "\n",
        "fahrenheit"
      ],
      "execution_count": null,
      "outputs": [
        {
          "output_type": "execute_result",
          "data": {
            "text/plain": [
              "[32.0, 50.0, 68.18, 94.1]"
            ]
          },
          "metadata": {
            "tags": []
          },
          "execution_count": 171
        }
      ]
    },
    {
      "cell_type": "markdown",
      "metadata": {
        "id": "TMExSo335OgC"
      },
      "source": [
        "# Tuplas\n",
        "\n",
        "Em Python, as tuplas são muito semelhantes às listas, no entanto, ao contrário das listas, elas são *imutáveis*, o que significa que elas não podem ser alteradas. Você usaria tuplas para apresentar coisas que não deveriam ser alteradas, como dias da semana ou datas em um calendário.\n",
        "\n",
        "Nesta seção, obteremos uma breve visão geral do seguinte:\n",
        "\n",
        "     1.) Construindo Tuplas\n",
        "     2.) Métodos básicos das Tuplas\n",
        "     3.) Imutabilidade\n",
        "     4.) Quando usar Tuplas\n",
        "\n",
        "Você terá uma intuição de como usar tuplas com base no que você aprendeu sobre as listas. Nós podemos tratá-los de forma muito semelhante, com a maior distinção é que as tuplas são imutáveis.\n",
        "\n",
        "## Construindo Tuplas\n",
        "\n",
        "A construção de tuplas usa () com elementos separados por vírgulas. Por exemplo:"
      ]
    },
    {
      "cell_type": "markdown",
      "metadata": {
        "id": "VXZZNlTl5OgE"
      },
      "source": [
        "- Pode-se criar uma tupla com múltiplos elementos"
      ]
    },
    {
      "cell_type": "code",
      "metadata": {
        "id": "jOuAwnEH5OgJ"
      },
      "source": [
        "t = (1,2,3)"
      ],
      "execution_count": null,
      "outputs": []
    },
    {
      "cell_type": "markdown",
      "metadata": {
        "id": "eqJGeOaC5OgL"
      },
      "source": [
        "- O método len() funciona também para tuplas"
      ]
    },
    {
      "cell_type": "code",
      "metadata": {
        "id": "l91uOko25OgM",
        "outputId": "493b98f9-2f47-440c-b6c8-a49063276d73"
      },
      "source": [
        "len(t)"
      ],
      "execution_count": null,
      "outputs": [
        {
          "output_type": "execute_result",
          "data": {
            "text/plain": [
              "3"
            ]
          },
          "metadata": {
            "tags": []
          },
          "execution_count": 222
        }
      ]
    },
    {
      "cell_type": "markdown",
      "metadata": {
        "id": "0z90Lur05OgO"
      },
      "source": [
        "- Você também pode variar os tipos de dados"
      ]
    },
    {
      "cell_type": "code",
      "metadata": {
        "id": "i5qhzPxJ5OgR",
        "outputId": "bb8f1c96-10cb-4048-cc53-12b3281eec96"
      },
      "source": [
        "t = ('um',2)\n",
        "print(t)"
      ],
      "execution_count": null,
      "outputs": [
        {
          "output_type": "stream",
          "text": [
            "('um', 2)\n"
          ],
          "name": "stdout"
        }
      ]
    },
    {
      "cell_type": "markdown",
      "metadata": {
        "id": "tBAw3k8g5OgT"
      },
      "source": [
        "- E a indexação funciona exatamente como nas listas"
      ]
    },
    {
      "cell_type": "code",
      "metadata": {
        "id": "sYTENORF5OgU",
        "outputId": "cd79706c-6770-4ed2-fe79-4572c050791e"
      },
      "source": [
        "t[0]"
      ],
      "execution_count": null,
      "outputs": [
        {
          "output_type": "execute_result",
          "data": {
            "text/plain": [
              "'um'"
            ]
          },
          "metadata": {
            "tags": []
          },
          "execution_count": 224
        }
      ]
    },
    {
      "cell_type": "markdown",
      "metadata": {
        "id": "nLSAMoaJ5OgX"
      },
      "source": [
        "- Corte de dados também..."
      ]
    },
    {
      "cell_type": "code",
      "metadata": {
        "id": "cvmZc5An5OgZ",
        "outputId": "07ea53b4-77c7-484c-8392-cf459c7395ef"
      },
      "source": [
        "t[-1]"
      ],
      "execution_count": null,
      "outputs": [
        {
          "output_type": "execute_result",
          "data": {
            "text/plain": [
              "2"
            ]
          },
          "metadata": {
            "tags": []
          },
          "execution_count": 225
        }
      ]
    },
    {
      "cell_type": "markdown",
      "metadata": {
        "id": "C7WaU5hn5Ogb"
      },
      "source": [
        "## Métodos básicos da Tupla\n",
        "\n",
        "As tuplas têm métodos internos, mas não tantas quanto listas. Vamos ver dois deles:"
      ]
    },
    {
      "cell_type": "markdown",
      "metadata": {
        "id": "uHPX6cwF5Ogd"
      },
      "source": [
        "- Use .index( ) com o valor de parâmetro para retornar o índice do mesmo"
      ]
    },
    {
      "cell_type": "code",
      "metadata": {
        "id": "lkEuKptI5Oge",
        "outputId": "c71d1132-56dc-46ba-87da-41326c744d0f"
      },
      "source": [
        "t.index('um')"
      ],
      "execution_count": null,
      "outputs": [
        {
          "output_type": "execute_result",
          "data": {
            "text/plain": [
              "0"
            ]
          },
          "metadata": {
            "tags": []
          },
          "execution_count": 227
        }
      ]
    },
    {
      "cell_type": "markdown",
      "metadata": {
        "id": "Oi09H4AV5Ogg"
      },
      "source": [
        "- Use .count() para saber quantas vezes determinado elemento apareceu na tupla"
      ]
    },
    {
      "cell_type": "code",
      "metadata": {
        "id": "y-dCuglt5Ogh",
        "outputId": "33180839-f9a2-40ec-814b-0c89cd1735d7"
      },
      "source": [
        "t.count('um')"
      ],
      "execution_count": null,
      "outputs": [
        {
          "output_type": "execute_result",
          "data": {
            "text/plain": [
              "1"
            ]
          },
          "metadata": {
            "tags": []
          },
          "execution_count": 228
        }
      ]
    },
    {
      "cell_type": "markdown",
      "metadata": {
        "id": "Hrs0WAOI5Ogi"
      },
      "source": [
        "## Imutabilidade\n",
        "\n",
        "Como mencionado anteriormente, tuplas são imutáveis:"
      ]
    },
    {
      "cell_type": "code",
      "metadata": {
        "id": "AuJ-Z2W25Ogi",
        "outputId": "890ae262-0044-436d-8a37-946c38667cca"
      },
      "source": [
        "t[0]= 'change'"
      ],
      "execution_count": null,
      "outputs": [
        {
          "output_type": "error",
          "ename": "TypeError",
          "evalue": "'tuple' object does not support item assignment",
          "traceback": [
            "\u001b[1;31m---------------------------------------------------------------------------\u001b[0m",
            "\u001b[1;31mTypeError\u001b[0m                                 Traceback (most recent call last)",
            "\u001b[1;32m<ipython-input-229-1257c0aa9edd>\u001b[0m in \u001b[0;36m<module>\u001b[1;34m()\u001b[0m\n\u001b[1;32m----> 1\u001b[1;33m \u001b[0mt\u001b[0m\u001b[1;33m[\u001b[0m\u001b[1;36m0\u001b[0m\u001b[1;33m]\u001b[0m\u001b[1;33m=\u001b[0m \u001b[1;34m'change'\u001b[0m\u001b[1;33m\u001b[0m\u001b[0m\n\u001b[0m",
            "\u001b[1;31mTypeError\u001b[0m: 'tuple' object does not support item assignment"
          ]
        }
      ]
    },
    {
      "cell_type": "code",
      "metadata": {
        "id": "QPRguNTk5Ogj",
        "outputId": "630372ca-1fa8-4248-9949-6b3a6e1133f4"
      },
      "source": [
        "t.append('nope')"
      ],
      "execution_count": null,
      "outputs": [
        {
          "output_type": "error",
          "ename": "AttributeError",
          "evalue": "'tuple' object has no attribute 'append'",
          "traceback": [
            "\u001b[1;31m---------------------------------------------------------------------------\u001b[0m",
            "\u001b[1;31mAttributeError\u001b[0m                            Traceback (most recent call last)",
            "\u001b[1;32m<ipython-input-230-b75f5b09ac19>\u001b[0m in \u001b[0;36m<module>\u001b[1;34m()\u001b[0m\n\u001b[1;32m----> 1\u001b[1;33m \u001b[0mt\u001b[0m\u001b[1;33m.\u001b[0m\u001b[0mappend\u001b[0m\u001b[1;33m(\u001b[0m\u001b[1;34m'nope'\u001b[0m\u001b[1;33m)\u001b[0m\u001b[1;33m\u001b[0m\u001b[0m\n\u001b[0m",
            "\u001b[1;31mAttributeError\u001b[0m: 'tuple' object has no attribute 'append'"
          ]
        }
      ]
    },
    {
      "cell_type": "markdown",
      "metadata": {
        "id": "mZZWbWrX5Ogl"
      },
      "source": [
        "## Quando usar tuplas?\n",
        "\n",
        "Você pode estar se perguntando: \"Por que se preocupar em usar tuplas quando eles têm menos métodos disponíveis?\" Para ser honesto, as tuplas não são usadas tantas vezes como listas na programação, mas são usadas quando a imutabilidade é necessária. Se no seu programa você está passando por um objeto e precisa ter certeza de que ele não seja alterado, então a tupla se tornará sua solução. Ele fornece uma fonte conveniente de integridade de dados.\n",
        "\n",
        "Agora você pode criar e usar suas tuplas em sua programação, bem como ter uma compreensão da sua imutabilidade."
      ]
    },
    {
      "cell_type": "markdown",
      "metadata": {
        "id": "CavWe0QP5Ogl"
      },
      "source": [
        "# Strings"
      ]
    },
    {
      "cell_type": "markdown",
      "metadata": {
        "id": "HM2hKrut5Ogm"
      },
      "source": [
        "As strings são usadas em Python para registrar informações de texto, como nome. As cordas em Python são na verdade uma **sequência**, ou seja, uma lista. Por exemplo, Python entende a string \"hello\" como uma sequência de letras em uma ordem específica. Isso significa que poderemos usar a indexação para pegar letras particulares (como a primeira letra ou a última letra).\n",
        "\n",
        "\n",
        "Neste notebook, aprenderemos os seguintes tópicos:\n",
        "\n",
        "     1. Criando Strings\n",
        "     2. Impressão de com Strings rdas\n",
        "     3. Indexação e corte de strings\n",
        "     4. Propriedades da Cadeia de Caracteres\n",
        "     5. Formatação de impressão\n",
        "     6. Métodos de Strings"
      ]
    },
    {
      "cell_type": "markdown",
      "metadata": {
        "id": "7bxKBFNl5Ogn"
      },
      "source": [
        "## Criando uma String\n",
        "Para criar uma string em Python, você precisa usar aspas simples ou aspas duplas. Por exemplo:"
      ]
    },
    {
      "cell_type": "code",
      "metadata": {
        "id": "wRLbURYq5Ogp",
        "outputId": "4a453611-b70b-47a5-b53b-2081e11b9abf"
      },
      "source": [
        "# Uma palavra\n",
        "'hello'"
      ],
      "execution_count": null,
      "outputs": [
        {
          "output_type": "execute_result",
          "data": {
            "text/plain": [
              "'hello'"
            ]
          },
          "metadata": {
            "tags": []
          },
          "execution_count": 172
        }
      ]
    },
    {
      "cell_type": "code",
      "metadata": {
        "id": "iEKNNk9V5Ogs",
        "outputId": "f57c011e-e4b5-44e6-9716-06f09fd68223"
      },
      "source": [
        "# Uma frase inteira\n",
        "'Isso é uma frase'"
      ],
      "execution_count": null,
      "outputs": [
        {
          "output_type": "execute_result",
          "data": {
            "text/plain": [
              "'Isso é uma frase'"
            ]
          },
          "metadata": {
            "tags": []
          },
          "execution_count": 173
        }
      ]
    },
    {
      "cell_type": "code",
      "metadata": {
        "id": "PWye4G-E5Ogw",
        "outputId": "64990ac9-4d2a-46e0-90e7-12c221cfaeb9"
      },
      "source": [
        "# Também é possível usar aspas duplas\n",
        "\"Isso é uma frase com aspas duplas\""
      ],
      "execution_count": null,
      "outputs": [
        {
          "output_type": "execute_result",
          "data": {
            "text/plain": [
              "'Isso é uma frase com aspas duplas'"
            ]
          },
          "metadata": {
            "tags": []
          },
          "execution_count": 174
        }
      ]
    },
    {
      "cell_type": "markdown",
      "metadata": {
        "id": "LUILP_ps5Ogx"
      },
      "source": [
        "## Imprimindo uma String\n",
        "\n",
        "Usando o Jupyter Notebook com apenas uma sequência de caracteres em uma célula emitirá automaticamente cadeias de caracteres, mas a maneira correta de exibir cadeias na sua saída é usando uma função de impressão."
      ]
    },
    {
      "cell_type": "code",
      "metadata": {
        "id": "ZejbSBUd5Ogy",
        "outputId": "67517adf-fb51-4622-ee0f-8a87252db312"
      },
      "source": [
        "# Podemos simplismente declarar uma string\n",
        "'Olá mundo!'"
      ],
      "execution_count": null,
      "outputs": [
        {
          "output_type": "execute_result",
          "data": {
            "text/plain": [
              "'Olá mundo!'"
            ]
          },
          "metadata": {
            "tags": []
          },
          "execution_count": 175
        }
      ]
    },
    {
      "cell_type": "code",
      "metadata": {
        "id": "xCjahDmW5Og1",
        "outputId": "9eddb328-d02c-4b55-ca84-b5fb3d200245"
      },
      "source": [
        "# Note que podemos imprimir várias strings assim\n",
        "'Olá mundo 1'\n",
        "'Olá mundo 2'"
      ],
      "execution_count": null,
      "outputs": [
        {
          "output_type": "execute_result",
          "data": {
            "text/plain": [
              "'Olá mundo 2'"
            ]
          },
          "metadata": {
            "tags": []
          },
          "execution_count": 176
        }
      ]
    },
    {
      "cell_type": "markdown",
      "metadata": {
        "id": "hbo3dFmm5Og4"
      },
      "source": [
        "Mas a maneira correta (inclusive para outras IDE's) é utilizar o método print()."
      ]
    },
    {
      "cell_type": "code",
      "metadata": {
        "id": "RAmVzuq85Og5",
        "outputId": "f1841406-562a-4e33-e852-b68f3ffbec94"
      },
      "source": [
        "print('Olá mundo 1')\n",
        "print('Olá mundo 2')\n",
        "print('Use \\n para imprimir em linhas diferentes')\n",
        "print('\\n')\n",
        "print('Você consegue ver?')"
      ],
      "execution_count": null,
      "outputs": [
        {
          "output_type": "stream",
          "text": [
            "Olá mundo 1\n",
            "Olá mundo 2\n",
            "Use \n",
            " para imprimir em linhas diferentes\n",
            "\n",
            "\n",
            "Você consegue ver?\n"
          ],
          "name": "stdout"
        }
      ]
    },
    {
      "cell_type": "markdown",
      "metadata": {
        "id": "RQ5GWawX5OhA"
      },
      "source": [
        "Nós também podemos usar uma função chamada **len( )** para verificar o **comprimento** de uma string!"
      ]
    },
    {
      "cell_type": "code",
      "metadata": {
        "id": "52zlnP8n5OhC",
        "outputId": "a5fd654a-3602-4f97-ffa1-e9c5480e227e"
      },
      "source": [
        "len('Olá mundo!')"
      ],
      "execution_count": null,
      "outputs": [
        {
          "output_type": "execute_result",
          "data": {
            "text/plain": [
              "10"
            ]
          },
          "metadata": {
            "tags": []
          },
          "execution_count": 178
        }
      ]
    },
    {
      "cell_type": "markdown",
      "metadata": {
        "id": "QuES97WZ5OhE"
      },
      "source": [
        "## Indexação em Strings\n",
        "Sabemos que as strings são uma seqüência, o que significa que o Python pode usar índices para chamar partes da seqüência. Vamos aprender como isso funciona.\n",
        "\n",
        "Em Python, usamos colchetes [] após um objeto para chamar seu índice. Devemos também notar que a indexação começa em 0 para Python. Vamos criar um novo objeto chamado \"s\" e a caminharmos através de alguns exemplos de indexação."
      ]
    },
    {
      "cell_type": "code",
      "metadata": {
        "id": "PvNcXzlW5OhG"
      },
      "source": [
        "# Define s como uma string\n",
        "s = 'Olá mundo!'"
      ],
      "execution_count": null,
      "outputs": []
    },
    {
      "cell_type": "code",
      "metadata": {
        "id": "SPkqFk2-5OhH",
        "outputId": "5b085934-5920-4152-ee66-16ebd1f68056"
      },
      "source": [
        "# Checa\n",
        "s"
      ],
      "execution_count": null,
      "outputs": [
        {
          "output_type": "execute_result",
          "data": {
            "text/plain": [
              "'Olá mundo!'"
            ]
          },
          "metadata": {
            "tags": []
          },
          "execution_count": 180
        }
      ]
    },
    {
      "cell_type": "code",
      "metadata": {
        "id": "nO9FP2sH5OhJ",
        "outputId": "1bcbe7ca-d67d-4e1d-fde3-7dae2d6cb243"
      },
      "source": [
        "# Printa o objeto\n",
        "print(s) "
      ],
      "execution_count": null,
      "outputs": [
        {
          "output_type": "stream",
          "text": [
            "Olá mundo!\n"
          ],
          "name": "stdout"
        }
      ]
    },
    {
      "cell_type": "markdown",
      "metadata": {
        "id": "RHzHdu125OhN"
      },
      "source": [
        "Vamos começar a indexar!"
      ]
    },
    {
      "cell_type": "code",
      "metadata": {
        "id": "BFROnQzr5OhO",
        "outputId": "095dc14c-8d63-4481-d80c-52a718b4b161"
      },
      "source": [
        "# Mostra o primeiro elemento (neste caso uma letra)\n",
        "s[0]"
      ],
      "execution_count": null,
      "outputs": [
        {
          "output_type": "execute_result",
          "data": {
            "text/plain": [
              "'O'"
            ]
          },
          "metadata": {
            "tags": []
          },
          "execution_count": 182
        }
      ]
    },
    {
      "cell_type": "code",
      "metadata": {
        "id": "-uJte9dv5OhT",
        "outputId": "1d4d923d-03dc-4188-d681-7763f33f22c3"
      },
      "source": [
        "s[1]"
      ],
      "execution_count": null,
      "outputs": [
        {
          "output_type": "execute_result",
          "data": {
            "text/plain": [
              "'l'"
            ]
          },
          "metadata": {
            "tags": []
          },
          "execution_count": 183
        }
      ]
    },
    {
      "cell_type": "code",
      "metadata": {
        "id": "xFGVsrt_5OhU",
        "outputId": "85fa135f-1a9f-4122-bfd2-98a4e71e96f8"
      },
      "source": [
        "s[2]"
      ],
      "execution_count": null,
      "outputs": [
        {
          "output_type": "execute_result",
          "data": {
            "text/plain": [
              "'á'"
            ]
          },
          "metadata": {
            "tags": []
          },
          "execution_count": 184
        }
      ]
    },
    {
      "cell_type": "markdown",
      "metadata": {
        "id": "kAfp8yBI5OhV"
      },
      "source": [
        "Podemos usar um **:** para executar *corte* que pega tudo até um ponto designado. Por exemplo:"
      ]
    },
    {
      "cell_type": "code",
      "metadata": {
        "id": "lnpjhImv5OhW",
        "outputId": "b7d932a1-a66f-49b0-c4be-7a69a27a6cb8"
      },
      "source": [
        "# Retorna todos elementos a partir do elemento de indice 1\n",
        "s[1:]"
      ],
      "execution_count": null,
      "outputs": [
        {
          "output_type": "execute_result",
          "data": {
            "text/plain": [
              "'lá mundo!'"
            ]
          },
          "metadata": {
            "tags": []
          },
          "execution_count": 185
        }
      ]
    },
    {
      "cell_type": "code",
      "metadata": {
        "id": "wz_khWDW5OhY",
        "outputId": "2c7d9a31-fb8a-4cbc-b56f-be67a499c609"
      },
      "source": [
        "# Observe que não há mudanças no elemento s\n",
        "s"
      ],
      "execution_count": null,
      "outputs": [
        {
          "output_type": "execute_result",
          "data": {
            "text/plain": [
              "'Olá mundo!'"
            ]
          },
          "metadata": {
            "tags": []
          },
          "execution_count": 186
        }
      ]
    },
    {
      "cell_type": "code",
      "metadata": {
        "id": "G7QJsicF5Oha",
        "outputId": "14846589-2c73-4663-853c-cba15868c9e4"
      },
      "source": [
        "# Retorna tudo até o elemento de índice 3\n",
        "s[:3]"
      ],
      "execution_count": null,
      "outputs": [
        {
          "output_type": "execute_result",
          "data": {
            "text/plain": [
              "'Olá'"
            ]
          },
          "metadata": {
            "tags": []
          },
          "execution_count": 187
        }
      ]
    },
    {
      "cell_type": "markdown",
      "metadata": {
        "id": "wxtVZv3w5Ohd"
      },
      "source": [
        "Observe o corte acima. Aqui, estamos dizendo ao Python que pegue tudo de 0 a 3. Não inclui o 3º índice. Você notará muito isso em Python, onde as declarações e geralmente são no contexto  \"até, mas não incluindo\"."
      ]
    },
    {
      "cell_type": "code",
      "metadata": {
        "id": "_95mw7Qr5Ohf",
        "outputId": "c882b4ad-2201-4bc4-a602-7eeb8d06dbd0"
      },
      "source": [
        "# Tudo\n",
        "s[:]"
      ],
      "execution_count": null,
      "outputs": [
        {
          "output_type": "execute_result",
          "data": {
            "text/plain": [
              "'Olá mundo!'"
            ]
          },
          "metadata": {
            "tags": []
          },
          "execution_count": 188
        }
      ]
    },
    {
      "cell_type": "markdown",
      "metadata": {
        "id": "AMsMhZfG5Ohi"
      },
      "source": [
        "Também podemos usar indexação negativa para retroceder."
      ]
    },
    {
      "cell_type": "code",
      "metadata": {
        "id": "Kealh2Av5Ohj",
        "outputId": "9a24b525-c42e-4eec-bb9b-f7e9e9585459"
      },
      "source": [
        "# Última letra (um índice antes do 0, então ele começa da parte de trás)\n",
        "s[-1]"
      ],
      "execution_count": null,
      "outputs": [
        {
          "output_type": "execute_result",
          "data": {
            "text/plain": [
              "'!'"
            ]
          },
          "metadata": {
            "tags": []
          },
          "execution_count": 189
        }
      ]
    },
    {
      "cell_type": "code",
      "metadata": {
        "id": "6MbzScxN5Oh5",
        "outputId": "7f36a83f-4131-4e23-ccef-4f7be58187aa"
      },
      "source": [
        "# Pega tudo, menos a última letra\n",
        "s[:-1]"
      ],
      "execution_count": null,
      "outputs": [
        {
          "output_type": "execute_result",
          "data": {
            "text/plain": [
              "'Olá mundo'"
            ]
          },
          "metadata": {
            "tags": []
          },
          "execution_count": 190
        }
      ]
    },
    {
      "cell_type": "markdown",
      "metadata": {
        "id": "Ck7-UHwN5Oh7"
      },
      "source": [
        "Também podemos usar notação de índice e fatia para capturar elementos de uma sequência com espaçamentos (o espaçamento padrão é 1). Por exemplo, podemos usar dois dois pontos em uma linha e, em seguida, um número que especifica a frequência para capturar elementos. Por exemplo:"
      ]
    },
    {
      "cell_type": "code",
      "metadata": {
        "id": "V-6PymVs5Oh8",
        "outputId": "6cae0df1-62bb-491c-dc6a-44fb0470a5c6"
      },
      "source": [
        "# Pega tudo, de 1 em 1\n",
        "s[::1]"
      ],
      "execution_count": null,
      "outputs": [
        {
          "output_type": "execute_result",
          "data": {
            "text/plain": [
              "'Olá mundo!'"
            ]
          },
          "metadata": {
            "tags": []
          },
          "execution_count": 191
        }
      ]
    },
    {
      "cell_type": "code",
      "metadata": {
        "id": "hf1tY8Oh5Oh_",
        "outputId": "838d675f-790c-4d85-ea17-d9857b13ae2c"
      },
      "source": [
        "# Pega tudo, mas os espaçamentos são de 2 em 2\n",
        "s[::2]"
      ],
      "execution_count": null,
      "outputs": [
        {
          "output_type": "execute_result",
          "data": {
            "text/plain": [
              "'Oámno'"
            ]
          },
          "metadata": {
            "tags": []
          },
          "execution_count": 192
        }
      ]
    },
    {
      "cell_type": "code",
      "metadata": {
        "id": "MkoiHurO5OiB",
        "outputId": "17a303f2-5133-4ea5-b345-936126e69a0a"
      },
      "source": [
        "# Pega tudo, mas com passos negativos, de trás para frente.\n",
        "s[::-1]"
      ],
      "execution_count": null,
      "outputs": [
        {
          "output_type": "execute_result",
          "data": {
            "text/plain": [
              "'!odnum álO'"
            ]
          },
          "metadata": {
            "tags": []
          },
          "execution_count": 193
        }
      ]
    },
    {
      "cell_type": "markdown",
      "metadata": {
        "id": "ID7_5oFg5OiC"
      },
      "source": [
        "## Propriedades das Strings\n",
        "É importante notar que as strings têm uma propriedade importante conhecida como imutabilidade. Isso significa que, uma vez que uma string é criada, os elementos nele não podem ser alterados ou substituídos. Por exemplo:"
      ]
    },
    {
      "cell_type": "code",
      "metadata": {
        "id": "01YpeDiO5OiD",
        "outputId": "6efc1c84-e953-4329-d966-b1dc67ca2e50"
      },
      "source": [
        "s"
      ],
      "execution_count": null,
      "outputs": [
        {
          "output_type": "execute_result",
          "data": {
            "text/plain": [
              "'Olá mundo!'"
            ]
          },
          "metadata": {
            "tags": []
          },
          "execution_count": 194
        }
      ]
    },
    {
      "cell_type": "code",
      "metadata": {
        "id": "GrEDCX1q5OiF",
        "outputId": "5e816028-8d06-47b4-f24e-c2e84ad78ed7"
      },
      "source": [
        "# Vamos tentar mudar a primeira letra para 'x'\n",
        "s[0] = 'x'"
      ],
      "execution_count": null,
      "outputs": [
        {
          "output_type": "error",
          "ename": "TypeError",
          "evalue": "'str' object does not support item assignment",
          "traceback": [
            "\u001b[1;31m---------------------------------------------------------------------------\u001b[0m",
            "\u001b[1;31mTypeError\u001b[0m                                 Traceback (most recent call last)",
            "\u001b[1;32m<ipython-input-195-bf1b55f1477a>\u001b[0m in \u001b[0;36m<module>\u001b[1;34m()\u001b[0m\n\u001b[0;32m      1\u001b[0m \u001b[1;31m# Vamos tentar mudar a primeira letra para 'x'\u001b[0m\u001b[1;33m\u001b[0m\u001b[1;33m\u001b[0m\u001b[0m\n\u001b[1;32m----> 2\u001b[1;33m \u001b[0ms\u001b[0m\u001b[1;33m[\u001b[0m\u001b[1;36m0\u001b[0m\u001b[1;33m]\u001b[0m \u001b[1;33m=\u001b[0m \u001b[1;34m'x'\u001b[0m\u001b[1;33m\u001b[0m\u001b[0m\n\u001b[0m",
            "\u001b[1;31mTypeError\u001b[0m: 'str' object does not support item assignment"
          ]
        }
      ]
    },
    {
      "cell_type": "markdown",
      "metadata": {
        "id": "JHniw0nK5OiH"
      },
      "source": [
        "Observe como o erro nos diz diretamente o que não podemos fazer, alterar a atribuição do item!\n",
        "\n",
        "Algo que podemos fazer é concatenar strings!"
      ]
    },
    {
      "cell_type": "code",
      "metadata": {
        "id": "EVQHtLIA5OiV",
        "outputId": "65343391-98d9-48f2-b7fd-ff2c05f6ab40"
      },
      "source": [
        "s"
      ],
      "execution_count": null,
      "outputs": [
        {
          "output_type": "execute_result",
          "data": {
            "text/plain": [
              "'Olá mundo!'"
            ]
          },
          "metadata": {
            "tags": []
          },
          "execution_count": 197
        }
      ]
    },
    {
      "cell_type": "code",
      "metadata": {
        "id": "wnZoeYnw5OiX",
        "outputId": "fa573c52-4368-4fbe-9419-1a6c00113d65"
      },
      "source": [
        "# Concatenar as strings\n",
        "s + ' concatenando!'"
      ],
      "execution_count": null,
      "outputs": [
        {
          "output_type": "execute_result",
          "data": {
            "text/plain": [
              "'Olá mundo! concatenando!'"
            ]
          },
          "metadata": {
            "tags": []
          },
          "execution_count": 198
        }
      ]
    },
    {
      "cell_type": "code",
      "metadata": {
        "id": "QR_qQ-fQ5OiY"
      },
      "source": [
        "# Assim podemos redefinir completamente s\n",
        "s = s + ' concatenando!'"
      ],
      "execution_count": null,
      "outputs": []
    },
    {
      "cell_type": "code",
      "metadata": {
        "id": "UGcD8-aU5Oia",
        "outputId": "873283ad-0301-448d-ef03-d771d80bd1c4"
      },
      "source": [
        "print(s)"
      ],
      "execution_count": null,
      "outputs": [
        {
          "output_type": "stream",
          "text": [
            "Olá mundo! concatenando!\n"
          ],
          "name": "stdout"
        }
      ]
    },
    {
      "cell_type": "code",
      "metadata": {
        "id": "GLU6yDa25Oic",
        "outputId": "82a1a3df-606b-40a4-fba8-367ca2091d32"
      },
      "source": [
        "s"
      ],
      "execution_count": null,
      "outputs": [
        {
          "output_type": "execute_result",
          "data": {
            "text/plain": [
              "'Olá mundo! concatenando!'"
            ]
          },
          "metadata": {
            "tags": []
          },
          "execution_count": 201
        }
      ]
    },
    {
      "cell_type": "markdown",
      "metadata": {
        "id": "u5-wWOxv5Oij"
      },
      "source": [
        "Podemos usar o símbolo de multiplicação para criar repetições!"
      ]
    },
    {
      "cell_type": "code",
      "metadata": {
        "id": "EllO7N5P5Oin"
      },
      "source": [
        "letra = 'a'"
      ],
      "execution_count": null,
      "outputs": []
    },
    {
      "cell_type": "code",
      "metadata": {
        "id": "5Hmwh2xt5Oir",
        "outputId": "c0c51849-d587-44ca-a5d6-d17ff80cb281"
      },
      "source": [
        "letra*10"
      ],
      "execution_count": null,
      "outputs": [
        {
          "output_type": "execute_result",
          "data": {
            "text/plain": [
              "'aaaaaaaaaa'"
            ]
          },
          "metadata": {
            "tags": []
          },
          "execution_count": 203
        }
      ]
    },
    {
      "cell_type": "markdown",
      "metadata": {
        "id": "uYJdgzpj5Oiw"
      },
      "source": [
        "## Formatação de impressão\n",
        "\n",
        "Podemos usar o método .format() para adicionar objetos formatados a instruções de impressões.\n",
        "\n",
        "A maneira mais fácil de mostrar isso é através de um exemplo:"
      ]
    },
    {
      "cell_type": "code",
      "metadata": {
        "id": "bQsatmO55Oiz",
        "outputId": "50aabcc8-7f5d-480d-b8d0-f7625e9c6fc7"
      },
      "source": [
        "'Inserindo uma informação por meio do método format: {i}'.format(i='informação')"
      ],
      "execution_count": null,
      "outputs": [
        {
          "output_type": "execute_result",
          "data": {
            "text/plain": [
              "'Inserindo uma informação por meio do método format: informação'"
            ]
          },
          "metadata": {
            "tags": []
          },
          "execution_count": 204
        }
      ]
    },
    {
      "cell_type": "markdown",
      "metadata": {
        "id": "hgn-kY7A5Oi9"
      },
      "source": [
        "## Métodos embutidos em strings\n",
        "\n",
        "Os objetos em Python geralmente possuem métodos internos. Esses métodos são funções dentro do objeto (aprenderemos a criar métodos e utilizá-los mais a frente) que podem executar ações ou comandos no próprio objeto.\n",
        "\n",
        "Chamamos métodos com um ponto e depois o nome do método. Os métodos estão na forma:\n",
        "objeto.método(parâmetros)\n",
        "\n",
        "Onde os parâmetros são argumentos extras que podemos passar para o método. Não se preocupe se os detalhes não fazem 100% de sentido agora. **Mais tarde, criaremos nossos próprios objetos e funções!**\n",
        "\n",
        "Aqui estão alguns exemplos de métodos internos em strings:\n",
        "\n",
        "<img src='Imagens/métodos.jpg' heigth='500' width='900'>"
      ]
    },
    {
      "cell_type": "code",
      "metadata": {
        "id": "3AfOtzmE5OjE"
      },
      "source": [
        "s = 'olá mundo!'"
      ],
      "execution_count": null,
      "outputs": []
    },
    {
      "cell_type": "markdown",
      "metadata": {
        "id": "IycL8F485OjF"
      },
      "source": [
        "### Coloca toda string em caixa alta"
      ]
    },
    {
      "cell_type": "code",
      "metadata": {
        "id": "wfG_dTD15OjH",
        "outputId": "bf4d1a9f-a121-4a96-faf5-1e88803ad11e"
      },
      "source": [
        "s.upper()"
      ],
      "execution_count": null,
      "outputs": [
        {
          "output_type": "execute_result",
          "data": {
            "text/plain": [
              "'OLÁ MUNDO!'"
            ]
          },
          "metadata": {
            "tags": []
          },
          "execution_count": 206
        }
      ]
    },
    {
      "cell_type": "markdown",
      "metadata": {
        "id": "ObHV6xwh5OjI"
      },
      "source": [
        "### Coloca toda string em caixa baixa"
      ]
    },
    {
      "cell_type": "code",
      "metadata": {
        "id": "VFa_5B8h5OjK",
        "outputId": "e9ec14c7-b410-4416-d077-d79921cb187f"
      },
      "source": [
        "# Caixa baixa\n",
        "s.lower()"
      ],
      "execution_count": null,
      "outputs": [
        {
          "output_type": "execute_result",
          "data": {
            "text/plain": [
              "'olá mundo!'"
            ]
          },
          "metadata": {
            "tags": []
          },
          "execution_count": 207
        }
      ]
    },
    {
      "cell_type": "markdown",
      "metadata": {
        "id": "FD6-F0_O5OjM"
      },
      "source": [
        "### Colocando a primeira letra maiúscula"
      ]
    },
    {
      "cell_type": "code",
      "metadata": {
        "id": "iRboemdU5OjM",
        "outputId": "42ffbd63-fa7e-4847-8113-3aeb365a3e6c"
      },
      "source": [
        "s.capitalize()"
      ],
      "execution_count": null,
      "outputs": [
        {
          "output_type": "execute_result",
          "data": {
            "text/plain": [
              "'Olá mundo!'"
            ]
          },
          "metadata": {
            "tags": []
          },
          "execution_count": 209
        }
      ]
    },
    {
      "cell_type": "markdown",
      "metadata": {
        "id": "CCZLaPtV5OjN"
      },
      "source": [
        "### Divide uma string nos espaços em branco (este é o padrão)"
      ]
    },
    {
      "cell_type": "code",
      "metadata": {
        "id": "m3J3jKO_5OjO",
        "outputId": "6ef5560e-bfb2-496b-d139-338d1d3abfed"
      },
      "source": [
        "s.split()"
      ],
      "execution_count": null,
      "outputs": [
        {
          "output_type": "execute_result",
          "data": {
            "text/plain": [
              "['olá', 'mundo!']"
            ]
          },
          "metadata": {
            "tags": []
          },
          "execution_count": 210
        }
      ]
    },
    {
      "cell_type": "markdown",
      "metadata": {
        "id": "B0BDB3V15OjP"
      },
      "source": [
        "**Obs.:** esse método pode separar as strings sempre que aparecer um parâmetro específico determinado, não incluindo o elemento determinado"
      ]
    },
    {
      "cell_type": "code",
      "metadata": {
        "id": "8nNJYzkF5OjR",
        "outputId": "c68ef765-7a8e-488d-fd16-84a42e0f8c59"
      },
      "source": [
        "s.split('o')"
      ],
      "execution_count": null,
      "outputs": [
        {
          "output_type": "execute_result",
          "data": {
            "text/plain": [
              "['', 'lá mund', '!']"
            ]
          },
          "metadata": {
            "tags": []
          },
          "execution_count": 211
        }
      ]
    },
    {
      "cell_type": "code",
      "metadata": {
        "id": "rWY2aWJu5OjU",
        "outputId": "a4d434a8-7d31-402b-ff72-52491c9fde1c"
      },
      "source": [
        "s.partition('m')"
      ],
      "execution_count": null,
      "outputs": [
        {
          "output_type": "execute_result",
          "data": {
            "text/plain": [
              "('olá ', 'm', 'undo!')"
            ]
          },
          "metadata": {
            "tags": []
          },
          "execution_count": 212
        }
      ]
    },
    {
      "cell_type": "markdown",
      "metadata": {
        "id": "lAa__Quk5OjW"
      },
      "source": [
        "### Localização e contagem de elementos"
      ]
    },
    {
      "cell_type": "code",
      "metadata": {
        "id": "naRBWwVP5OjY",
        "outputId": "36d71544-019c-49ed-a5c3-cdcbb44a2cb7"
      },
      "source": [
        "# o método conta a quantidade de vezes que o elemento aparece\n",
        "s.count('o')"
      ],
      "execution_count": null,
      "outputs": [
        {
          "output_type": "execute_result",
          "data": {
            "text/plain": [
              "2"
            ]
          },
          "metadata": {
            "tags": []
          },
          "execution_count": 213
        }
      ]
    },
    {
      "cell_type": "code",
      "metadata": {
        "id": "5MPPH8_j5Oja",
        "outputId": "5f06de52-23eb-4bf8-bc7b-2d48695e1ded"
      },
      "source": [
        "# O método find localiza a primeira vez que o elemento aparece na lista\n",
        "s.find('m')"
      ],
      "execution_count": null,
      "outputs": [
        {
          "output_type": "execute_result",
          "data": {
            "text/plain": [
              "4"
            ]
          },
          "metadata": {
            "tags": []
          },
          "execution_count": 214
        }
      ]
    },
    {
      "cell_type": "markdown",
      "metadata": {
        "id": "0ocCO-o05Ojb"
      },
      "source": [
        "### Métodos de verificação\n",
        "Esses vários métodos abaixo verificam se a string é algum caso. Vamos explorá-los:"
      ]
    },
    {
      "cell_type": "code",
      "metadata": {
        "id": "W0DJHL-m5Ojc"
      },
      "source": [
        "s = 'hello'"
      ],
      "execution_count": null,
      "outputs": []
    },
    {
      "cell_type": "markdown",
      "metadata": {
        "id": "CCGbz7F45Ojd"
      },
      "source": [
        "- **isalnum( )** retornará True se todos os caracteres da string forem alfanuméricos, False caso contrário"
      ]
    },
    {
      "cell_type": "code",
      "metadata": {
        "id": "UWUOFKsW5Oje",
        "outputId": "4ff136d6-14b1-4bc9-ab2f-8a1294abd64e"
      },
      "source": [
        "s.isalnum()"
      ],
      "execution_count": null,
      "outputs": [
        {
          "output_type": "execute_result",
          "data": {
            "text/plain": [
              "True"
            ]
          },
          "metadata": {
            "tags": []
          },
          "execution_count": 216
        }
      ]
    },
    {
      "cell_type": "markdown",
      "metadata": {
        "id": "hxrX1-QC5Ojf"
      },
      "source": [
        "- **isalpha( )** retornará True se todos os caracteres da string forem alfabéticos, False caso contrário"
      ]
    },
    {
      "cell_type": "code",
      "metadata": {
        "id": "6Jgg_uTA5Ojg",
        "outputId": "8457584d-bf62-4605-8cd4-d718490ff2cd"
      },
      "source": [
        "s.isalpha()"
      ],
      "execution_count": null,
      "outputs": [
        {
          "output_type": "execute_result",
          "data": {
            "text/plain": [
              "True"
            ]
          },
          "metadata": {
            "tags": []
          },
          "execution_count": 217
        }
      ]
    },
    {
      "cell_type": "markdown",
      "metadata": {
        "id": "0D4G_Fkm5Ojl"
      },
      "source": [
        "- **islower( )** retornará True se todos os caracteres da string forem minúsculos, False caso contrário."
      ]
    },
    {
      "cell_type": "code",
      "metadata": {
        "id": "LkSAWZJY5Ojm",
        "outputId": "448d5ad6-ce50-49d8-d8e9-2c966dcb9e43"
      },
      "source": [
        "s.islower()"
      ],
      "execution_count": null,
      "outputs": [
        {
          "output_type": "execute_result",
          "data": {
            "text/plain": [
              "True"
            ]
          },
          "metadata": {
            "tags": []
          },
          "execution_count": 218
        }
      ]
    },
    {
      "cell_type": "markdown",
      "metadata": {
        "id": "GkTxiiEw5Ojp"
      },
      "source": [
        "- **isspace( )** retornará True se todos os caracteres da string forem espaços em branco, False caso contrário"
      ]
    },
    {
      "cell_type": "code",
      "metadata": {
        "id": "OMxBt1Cd5Ojq",
        "outputId": "508a9ac3-505e-4c4d-daf5-1bb96e57d320"
      },
      "source": [
        "s.isspace()"
      ],
      "execution_count": null,
      "outputs": [
        {
          "output_type": "execute_result",
          "data": {
            "text/plain": [
              "False"
            ]
          },
          "metadata": {
            "tags": []
          },
          "execution_count": 219
        }
      ]
    },
    {
      "cell_type": "markdown",
      "metadata": {
        "id": "6FsmbrqC5Ojs"
      },
      "source": [
        "- **isupper( )** retornará True se todos os caracteres da string forem maiúsculos, False caso contrário."
      ]
    },
    {
      "cell_type": "code",
      "metadata": {
        "id": "GrsK-3FU5Ojt",
        "outputId": "170d3fd1-5d48-4414-abc4-e0943eae4e16"
      },
      "source": [
        "s.isupper()"
      ],
      "execution_count": null,
      "outputs": [
        {
          "output_type": "execute_result",
          "data": {
            "text/plain": [
              "False"
            ]
          },
          "metadata": {
            "tags": []
          },
          "execution_count": 220
        }
      ]
    },
    {
      "cell_type": "markdown",
      "metadata": {
        "id": "zJp0pUSh5Ojy"
      },
      "source": [
        "# Funções\n",
        "\n",
        "## Introdução às Funções\n",
        "\n",
        "As funções serão um dos nossos principais blocos de construção quando construiremos quantidades maiores e maiores de código para resolver problemas.\n",
        "\n",
        "**Então, o que é uma função?**\n",
        "\n",
        "Formalmente, uma função é um dispositivo útil que agrupa um conjunto de instruções para que elas possam ser executadas mais de uma vez. Eles também podem nos permitir especificar parâmetros que possam servir como entradas para as funções.\n",
        "\n",
        "Em um nível mais fundamental, as funções nos permitem não ter que repetidamente escrever o mesmo código repetidas vezes. Se você lembrar de volta às lições em strings e listas, lembre-se de que usamos uma função len() para obter o comprimento de uma string. Uma vez que verificar o comprimento de uma seqüência é uma tarefa comum, você provavelmente vai querer escrever uma função que pode fazer isso repetidamente.\n",
        "\n",
        "As funções serão um dos níveis mais básicos de código de reutilização em Python, e também nos permitirá começar a pensar no design do programa (mergulhaemos muito mais nas idéias de design quando aprendemos sobre programação orientada a objetos)."
      ]
    },
    {
      "cell_type": "markdown",
      "metadata": {
        "id": "WxhdMz3y5Oj0"
      },
      "source": [
        "## def\n",
        "\n",
        "Vamos ver como construir a sintaxe de uma função em Python. Ela tem a seguinte forma:"
      ]
    },
    {
      "cell_type": "code",
      "metadata": {
        "id": "D84Jjlvt5Oj2"
      },
      "source": [
        "def name_of_function(arg1,arg2):\n",
        "    '''\n",
        "    A documentação da função ficará aqui\n",
        "    '''\n",
        "    # Faça coisas aqui\n",
        "    return # retorne o resultado desejado aqui"
      ],
      "execution_count": null,
      "outputs": []
    },
    {
      "cell_type": "markdown",
      "metadata": {
        "id": "r5Ct-CiV5Oj6"
      },
      "source": [
        "Começamos com def, seguido do nome da função. Tente manter os nomes relevantes, por exemplo len() é um bom nome para uma função length(). Também tenha cuidado com os nomes, você não gostaria de chamar uma função do mesmo nome que uma [função interna em Python](https://docs.python.org/2/library/functions.html) (como len).\n",
        "\n",
        "Em seguida, venha um par de parênteses com vários argumentos separados por uma vírgula. Esses argumentos são as entradas para sua função. Você poderá usar essas entradas em sua função e fazer referência a elas. Depois disso, você coloca dois pontos.\n",
        "\n",
        "Agora, aqui é o passo importante, você deve identar para começar o código dentro de sua função corretamente. Python faz uso de *espaço em branco* para organizar o código. Muitas outras linguagens de programação não fazem isso, então tenha isso em mente.\n",
        "\n",
        "Em seguida, você verá o doc-string, é aqui que você escreve uma descrição básica da função. Usando iPython e iPython Notebooks, você será capaz de ler estes documentos pressionando Shift + Tab após um nome de função. Documentações não são necessárias para funções simples, mas é uma boa prática colocá-las para que você ou outras pessoas possam facilmente entender o código que você escreve.\n",
        "\n",
        "Depois de tudo isso, você começa a escrever o código que deseja executar.\n",
        "\n",
        "A melhor maneira de aprender funções é através de exemplos. Então, vamos tentar passar por exemplos que se relacionam com os vários objetos e estruturas de dados que aprendemos antes."
      ]
    },
    {
      "cell_type": "markdown",
      "metadata": {
        "id": "5LZjImO85Oj7"
      },
      "source": [
        "### Exemplo 1: Uma função simples de 'Olá'"
      ]
    },
    {
      "cell_type": "code",
      "metadata": {
        "id": "kfhoLCd-5Oj8"
      },
      "source": [
        "def say_hello():\n",
        "    print('hello')"
      ],
      "execution_count": null,
      "outputs": []
    },
    {
      "cell_type": "markdown",
      "metadata": {
        "id": "tTy2gnqC5Oj9"
      },
      "source": [
        "Chame a função"
      ]
    },
    {
      "cell_type": "code",
      "metadata": {
        "id": "E2gVIeex5Oj-",
        "outputId": "4957c570-f392-4a60-ee7f-fa2b9d985f4d"
      },
      "source": [
        "say_hello()"
      ],
      "execution_count": null,
      "outputs": [
        {
          "output_type": "stream",
          "text": [
            "hello\n"
          ],
          "name": "stdout"
        }
      ]
    },
    {
      "cell_type": "markdown",
      "metadata": {
        "id": "hVBQZUKG5OkA"
      },
      "source": [
        "### Exemplo 2: Uma função de saudação simples\n",
        "Vamos escrever uma função que cumprimenta pessoas com seu nome."
      ]
    },
    {
      "cell_type": "code",
      "metadata": {
        "id": "gsJdq-HM5OkE"
      },
      "source": [
        "def greeting(name):\n",
        "    print('Hello, %s' %name)"
      ],
      "execution_count": null,
      "outputs": []
    },
    {
      "cell_type": "code",
      "metadata": {
        "id": "icEX3T5k5OkH",
        "outputId": "caea3b04-c184-41b3-b716-209ab40577a3"
      },
      "source": [
        "greeting('Rodrigo')"
      ],
      "execution_count": null,
      "outputs": [
        {
          "output_type": "stream",
          "text": [
            "Hello, Rodrigo\n"
          ],
          "name": "stdout"
        }
      ]
    },
    {
      "cell_type": "markdown",
      "metadata": {
        "id": "JrlDKowA5OkJ"
      },
      "source": [
        "## Usando o return\n",
        "Vamos ver um exemplo que usa uma declaração de retorno. Return permite uma função para *retornar* um resultado que pode ser armazenado como uma variável, ou usado de qualquer maneira que um usuário deseje.\n",
        "\n",
        "### Exemplo 3: função de adição"
      ]
    },
    {
      "cell_type": "code",
      "metadata": {
        "id": "EFRx1wcO5OkL"
      },
      "source": [
        "def add_num(num1,num2):\n",
        "    return num1+num2"
      ],
      "execution_count": null,
      "outputs": []
    },
    {
      "cell_type": "code",
      "metadata": {
        "id": "MKTqZDOR5OkM",
        "outputId": "264568d1-2b43-4b1a-9927-70fb82da8a9f"
      },
      "source": [
        "add_num(4,5)"
      ],
      "execution_count": null,
      "outputs": [
        {
          "output_type": "execute_result",
          "data": {
            "text/plain": [
              "9"
            ]
          },
          "metadata": {
            "tags": []
          },
          "execution_count": 238
        }
      ]
    },
    {
      "cell_type": "code",
      "metadata": {
        "id": "o4Oy0pcL5OkO"
      },
      "source": [
        "result = add_num(4,5)"
      ],
      "execution_count": null,
      "outputs": []
    },
    {
      "cell_type": "code",
      "metadata": {
        "id": "2hLojyKD5OkP",
        "outputId": "ac9b5d3b-7c9d-40d4-aad3-114c0f8035b2"
      },
      "source": [
        "print(result)"
      ],
      "execution_count": null,
      "outputs": [
        {
          "output_type": "stream",
          "text": [
            "9\n"
          ],
          "name": "stdout"
        }
      ]
    },
    {
      "cell_type": "markdown",
      "metadata": {
        "id": "WsqegAWv5OkR"
      },
      "source": [
        "O que acontece se inserimos duas strings?"
      ]
    },
    {
      "cell_type": "code",
      "metadata": {
        "id": "g5mewH3s5OkS",
        "outputId": "8cdb10ed-e2fd-45c7-c127-38caf67aae7e"
      },
      "source": [
        "print add_num('one','two')"
      ],
      "execution_count": null,
      "outputs": [
        {
          "output_type": "error",
          "ename": "SyntaxError",
          "evalue": "invalid syntax (<ipython-input-241-e116c3ae6703>, line 1)",
          "traceback": [
            "\u001b[1;36m  File \u001b[1;32m\"<ipython-input-241-e116c3ae6703>\"\u001b[1;36m, line \u001b[1;32m1\u001b[0m\n\u001b[1;33m    print add_num('one','two')\u001b[0m\n\u001b[1;37m                ^\u001b[0m\n\u001b[1;31mSyntaxError\u001b[0m\u001b[1;31m:\u001b[0m invalid syntax\n"
          ]
        }
      ]
    },
    {
      "cell_type": "markdown",
      "metadata": {
        "id": "COZIa6iU5OkU"
      },
      "source": [
        "Note que, porque não declaramos tipos de variáveis em Python, esta função pode ser usada para adicionar números ou seqüências em conjunto! Mais tarde, aprenderemos sobre a adição de verificações para garantir que um usuário coloque os argumentos corretos em uma função.\n",
        "\n",
        "Vamos também começar a usar as instruções *break*, *continue* e *pass* no nosso código. Nós apresentamos estes durante a palestra de tempo."
      ]
    },
    {
      "cell_type": "markdown",
      "metadata": {
        "id": "0e19XiVP5OkX"
      },
      "source": [
        "Finalmente, vamos passar por um exemplo completo de criar uma função para verificar se um número é primo (um exercício de entrevista comum).\n",
        "\n",
        "Nós sabemos que um número é primordial se esse número é apenas divisível em 1 e em si mesmo. Vamos escrever a nossa primeira versão da função para verificar todos os números de 1 a N e executar verificações de módulo."
      ]
    },
    {
      "cell_type": "code",
      "metadata": {
        "id": "0_BGTshJ5OkZ"
      },
      "source": [
        "def is_prime(num):\n",
        "    '''\n",
        "    Método para checar se é primo\n",
        "    '''\n",
        "    for n in range(2,num):\n",
        "        if num % n == 0:\n",
        "            print('Não primo')\n",
        "            break\n",
        "    else: # Se o módulo nunca for zero, é primo\n",
        "        print('Primo')"
      ],
      "execution_count": null,
      "outputs": []
    },
    {
      "cell_type": "code",
      "metadata": {
        "id": "X-ceIBm05Okc",
        "outputId": "d8a35d4d-3a9f-443f-a9ba-c39851dc2a62"
      },
      "source": [
        "is_prime(16)"
      ],
      "execution_count": null,
      "outputs": [
        {
          "output_type": "stream",
          "text": [
            "Não primo\n"
          ],
          "name": "stdout"
        }
      ]
    },
    {
      "cell_type": "markdown",
      "metadata": {
        "id": "jcuNteTQ5Okf"
      },
      "source": [
        "Observe como quebramos o código após a declaração de impressão! Na verdade, podemos melhorar isso ao verificar somente a raiz quadrada do número-alvo, também podemos ignorar todos os números pares depois de verificar 2. Também mudaremos para retornar um valor booleano para obter um exemplo de usar declarações de retorno:"
      ]
    },
    {
      "cell_type": "code",
      "metadata": {
        "id": "dPk2fVjX5Okg"
      },
      "source": [
        "import math\n",
        "\n",
        "def is_prime(num):\n",
        "    '''\n",
        "    Melhor método para checar primos\n",
        "    '''\n",
        "    if num % 2 == 0 and num > 2: \n",
        "        return False\n",
        "    for i in range(3, int(math.sqrt(num)) + 1, 2):\n",
        "        if num % i == 0:\n",
        "            return False\n",
        "    return True"
      ],
      "execution_count": null,
      "outputs": []
    },
    {
      "cell_type": "code",
      "metadata": {
        "id": "1alEdxwK5Okh",
        "outputId": "50ee6dc2-ed5d-415a-9b7d-394f4e4b969e"
      },
      "source": [
        "is_prime(14)"
      ],
      "execution_count": null,
      "outputs": [
        {
          "output_type": "execute_result",
          "data": {
            "text/plain": [
              "False"
            ]
          },
          "metadata": {
            "tags": []
          },
          "execution_count": 246
        }
      ]
    },
    {
      "cell_type": "markdown",
      "metadata": {
        "id": "J075Tb-_5Okn"
      },
      "source": [
        "Ótimo! Você deve agora ter uma compreensão básica sobre como criar suas próprias funções para salvar-se de escrever repetidamente o código!"
      ]
    },
    {
      "cell_type": "code",
      "metadata": {
        "id": "nwShFHfh5Okr"
      },
      "source": [
        ""
      ],
      "execution_count": null,
      "outputs": []
    }
  ]
}