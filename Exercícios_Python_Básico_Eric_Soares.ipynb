{
  "nbformat": 4,
  "nbformat_minor": 0,
  "metadata": {
    "colab": {
      "name": "Exercícios - Python Básico - Eric Soares.ipynb",
      "provenance": [],
      "collapsed_sections": [],
      "toc_visible": true,
      "authorship_tag": "ABX9TyO1j8Ivp2SUxUbA9S+TckBT",
      "include_colab_link": true
    },
    "kernelspec": {
      "name": "python3",
      "display_name": "Python 3"
    }
  },
  "cells": [
    {
      "cell_type": "markdown",
      "metadata": {
        "id": "view-in-github",
        "colab_type": "text"
      },
      "source": [
        "<a href=\"https://colab.research.google.com/github/ericnsoares/PUCBIMaster/blob/main/Exerc%C3%ADcios_Python_B%C3%A1sico_Eric_Soares.ipynb\" target=\"_parent\"><img src=\"https://colab.research.google.com/assets/colab-badge.svg\" alt=\"Open In Colab\"/></a>"
      ]
    },
    {
      "cell_type": "markdown",
      "metadata": {
        "id": "zrVfhcMMpyEf"
      },
      "source": [
        "# Estruturas Condicionais"
      ]
    },
    {
      "cell_type": "markdown",
      "metadata": {
        "id": "ZHHiLAuBpt2Z"
      },
      "source": [
        " **Exercício 1**\n",
        "\n",
        "Faça um programa que faça 5 perguntas para uma pessoa sobre um crime. As perguntas são:\n",
        "* \"Telefonou para a vítima?\"\n",
        "*\"Esteve no local do crime?\"\n",
        "*\"Mora perto da vítima?\"\n",
        "*\"Devia para a vítima?\"\n",
        "*\"Já trabalhou com a vítima?\"\n",
        "\n",
        "O programa deve no final emitir uma classificação sobre a participação da pessoa no crime. Se a pessoa responder positivamente a:\n",
        "* 2 questões ela deve ser classificada como \"Suspeita\", \n",
        "* entre 3 e 4 como \"Cúmplice\" e \n",
        "*5 como \"Assassino\".\n",
        "* Caso contrário, ele será classificado como \"Inocente\"."
      ]
    },
    {
      "cell_type": "code",
      "metadata": {
        "id": "ETW5H0iQpYZI",
        "colab": {
          "base_uri": "https://localhost:8080/"
        },
        "outputId": "cc5e9902-7a81-4a9e-f9f2-13f444c81464"
      },
      "source": [
        "perguntas=[\"Telefonou para a vítima?\",\"Esteve no local do crime?\",\"Mora perto da vítima?\",\"Devia para a vítima?\",\"Já trabalhou com a vítima?\"]\n",
        "contador=0\n",
        "\n",
        "for pergunta in perguntas:\n",
        "  resposta = input(pergunta+\" (s/n)\")\n",
        "  if resposta == \"s\":\n",
        "      contador+=1\n",
        "\n",
        "if contador == 5:\n",
        "    veredito = \"Assasino\"\n",
        "elif contador >=3:\n",
        "    veredito = \"Cúmplice\"\n",
        "elif contador == 2:\n",
        "    veredito = \"Suspeita\"\n",
        "else:\n",
        "    veredito = \"Inocente\"\n",
        "\n",
        "print (\"O veredito é :\", veredito)\n",
        "\n",
        "\n"
      ],
      "execution_count": null,
      "outputs": [
        {
          "output_type": "stream",
          "text": [
            "Telefonou para a vítima? (s/n)s\n",
            "Esteve no local do crime? (s/n)s\n",
            "Mora perto da vítima? (s/n)s\n",
            "Devia para a vítima? (s/n)\n",
            "Já trabalhou com a vítima? (s/n)\n",
            "O veredito é : Cúmplice\n"
          ],
          "name": "stdout"
        }
      ]
    },
    {
      "cell_type": "markdown",
      "metadata": {
        "id": "0rr9ldDUsArM"
      },
      "source": [
        "**Exercício 2** \n",
        "\n",
        "Um posto está vendendo combustíveis com a seguinte tabela de descontos:\n",
        "* Álcool:\n",
        ">* até 20 litros, desconto de 3% por litro\n",
        ">* acima de 20 litros, desconto de 5% por litro\n",
        "* Gasolina:\n",
        ">* até 20 litros, desconto de 4% por litro\n",
        ">* acima de 20 litros, desconto de 6% por litro\n",
        "\n",
        "Escreva um algoritmo que leia o número de litros vendidos, o tipo de combustível (codificado da seguinte forma: A- álcool, G-gasolina), calcule e imprima o valor a ser pago pelo cliente sabendo-se que o preço do litro da gasolina é 2,50 e o preço do litro do álcool é 1,90."
      ]
    },
    {
      "cell_type": "code",
      "metadata": {
        "id": "9QvMXqJisA9I",
        "colab": {
          "base_uri": "https://localhost:8080/"
        },
        "outputId": "5b044bc2-eb04-4f6d-8b6e-580f95c30aee"
      },
      "source": [
        "#inicializa as variáveis \n",
        "precos = {\"A\":1.90, \"G\":2.50}\n",
        "produtos = {\"A\":\"Álcool\", \"G\":\"Gasolina\"}\n",
        "\n",
        "desconto = 0\n",
        "quantidade = 0\n",
        "produto = \"\"\n",
        "\n",
        "#Anota o pedido\n",
        "produto=input(\"Qual é o produto? (A=Álcool / G=Gasolina)\").upper()\n",
        "if produto != \"A\" and produto !=\"G\":\n",
        "  print(\"Produto inválido. Usando Gasolina\\n\")\n",
        "  produto = \"G\"\n",
        "\n",
        "try:\n",
        "  quantidade = float(input(\"Qual a quantidade (litros)?\"))\n",
        "except:\n",
        "  print (\"Quantidade inválida. Usando 0.0\\n\")\n",
        "\n",
        " \n",
        "#Calcula o desconto\n",
        "if produto==\"A\":\n",
        "  if quantidade <=20:\n",
        "    desconto = 0.03\n",
        "  else:\n",
        "    desconto = 0.05\n",
        "\n",
        "elif produto==\"G\":\n",
        "  if quantidade <=20:\n",
        "    desconto = 0.04\n",
        "  else:\n",
        "    desconto = 0.06\n",
        "\n",
        "  \n",
        "#Calcula o total a pagar\n",
        "total = round(quantidade * precos[produto] * (1-desconto),2)\n",
        "\n",
        "#Mostra os resultados\n",
        "print(\"Produto: {prd}, Quantidade: {q}, Preço/l: R${pl}, Desconto: {d}%, Total a pagar: R${t}\".format(prd=produtos[produto], q=quantidade, pl=precos[produto], d=desconto*100, t=total))\n",
        "\n"
      ],
      "execution_count": null,
      "outputs": [
        {
          "output_type": "stream",
          "text": [
            "Qual é o produto? (A=Álcool / G=Gasolina)a\n",
            "Qual a quantidade (litros)?34455\n",
            "Produto: Álcool, Quantidade: 34455.0, Preço/l: R$1.9, Desconto: 5.0%, Total a pagar: R$62191.27\n"
          ],
          "name": "stdout"
        }
      ]
    },
    {
      "cell_type": "markdown",
      "metadata": {
        "id": "qgszoQaSs_Tx"
      },
      "source": [
        "**Exercício 3**\n",
        "\n",
        "Faça um programa que calcule as raízes de uma equação do segundo grau, na forma ax2 + bx + c. O programa deverá pedir os valores de a, b e c e fazer as consistências, informando ao usuário nas seguintes situações:\n",
        "\n",
        "* Se o usuário informar o valor de A igual a zero, a equação não é do segundo grau e o programa não deve fazer pedir os demais valores,sendo encerrado;\n",
        "* Se o delta calculado for negativo,a equação não possui raizes reais. Informe ao usuário e encerre o programa;\n",
        "* Se o delta calculado for igual a zero a equação possui apenas uma raiz real; informe-a ao usuário;\n",
        "* Se o delta for positivo, a equação possui duas raiz reais; informe-as ao usuário;"
      ]
    },
    {
      "cell_type": "code",
      "metadata": {
        "id": "AHDBN0c8s_iA",
        "colab": {
          "base_uri": "https://localhost:8080/"
        },
        "outputId": "b7d1e8f7-7735-48c0-def5-3a0015ef787a"
      },
      "source": [
        "import math\n",
        "\n",
        "#equação do 2o grau: ax**2 + bx +c = 0.\n",
        "# x1 = -b+SQRT(Delta)/2*a\n",
        "# x2 = -b-SQRT(Delta)/2*a\n",
        "# Delta = b**2-4*a*c\n",
        "\n",
        "try:\n",
        "  a=float(input(\"a=\"))\n",
        "  b=float(input(\"b=\"))\n",
        "  c=float(input(\"c=\"))\n",
        "except:\n",
        "  print(\"Valores inválidos. Usando a=1, b=1, c=1\")\n",
        "  a=1\n",
        "  b=1\n",
        "  c=1\n",
        "finally:\n",
        "  if a==0:\n",
        "    print (\"Essa não é uma equação do 2o grau\")\n",
        "  else:\n",
        "    delta = (b**2)-(4*a*c)\n",
        "    print (\"Para a equacao {a}x2 + ({b}x) + ({c}) = 0, temos:\".format(a=a,b=b,c=c))\n",
        "    print (\"Delta = {d}\".format(d=delta))\n",
        "    if delta>=0:\n",
        "      x1 = (-b+math.sqrt(delta)) / (2*a)\n",
        "      x2 = (-b-math.sqrt(delta)) / (2*a)\n",
        "      if delta >0:\n",
        "        print (\"Duas raizes: x1 = {x1}, x2 = {x2}\".format(x1=x1,x2=x2))\n",
        "      else:  \n",
        "        print (\"Uma raiz: x = {x}\".format(x=x1))\n",
        "    else:\n",
        "      print(\"As raizes não são reais\")"
      ],
      "execution_count": null,
      "outputs": [
        {
          "output_type": "stream",
          "text": [
            "a=2\n",
            "b=4\n",
            "c=-3\n",
            "Para a equacao 2.0x2 + (4.0x) + (-3.0) = 0, temos:\n",
            "Delta = 40.0\n",
            "Duas raizes: x1 = 0.5811388300841898, x2 = -2.58113883008419\n"
          ],
          "name": "stdout"
        }
      ]
    },
    {
      "cell_type": "markdown",
      "metadata": {
        "id": "sGc5ip09rc3M"
      },
      "source": [
        "# Estruturas de Repetição"
      ]
    },
    {
      "cell_type": "markdown",
      "metadata": {
        "id": "16NLg5xItwOR"
      },
      "source": [
        "**Exercício 1 e 4**\n",
        "\n",
        "Faça um programa que imprima na tela os números de 1 a 20, um abaixo do outro. Depois modifique o programa para que ele mostre os números um ao lado do outro."
      ]
    },
    {
      "cell_type": "code",
      "metadata": {
        "colab": {
          "base_uri": "https://localhost:8080/"
        },
        "id": "gjlvUHq2twct",
        "outputId": "5758126d-3913-42f3-9c04-e73fa617b6ba"
      },
      "source": [
        "lista= list(range(1,21))\n",
        "\n",
        "for i in lista:\n",
        "  print(i)\n",
        "\n",
        "print(lista)\n"
      ],
      "execution_count": null,
      "outputs": [
        {
          "output_type": "stream",
          "text": [
            "1\n",
            "2\n",
            "3\n",
            "4\n",
            "5\n",
            "6\n",
            "7\n",
            "8\n",
            "9\n",
            "10\n",
            "11\n",
            "12\n",
            "13\n",
            "14\n",
            "15\n",
            "16\n",
            "17\n",
            "18\n",
            "19\n",
            "20\n",
            "[1, 2, 3, 4, 5, 6, 7, 8, 9, 10, 11, 12, 13, 14, 15, 16, 17, 18, 19, 20]\n"
          ],
          "name": "stdout"
        }
      ]
    },
    {
      "cell_type": "markdown",
      "metadata": {
        "id": "JQRdUO5MvVO2"
      },
      "source": [
        "**Exercício 2**\n",
        "\n",
        "Faça um programa que imprima na tela apenas os números ímpares entre 1 e um valor n informado pelo usuário."
      ]
    },
    {
      "cell_type": "code",
      "metadata": {
        "colab": {
          "base_uri": "https://localhost:8080/"
        },
        "id": "LFDbwUJ8vVe1",
        "outputId": "2494b368-c6b8-4721-c3cc-5c55314fadc3"
      },
      "source": [
        "try :\n",
        "  numero = 0\n",
        "  numero =int(input(\"Insira um número inteiro: \"))\n",
        "except:\n",
        "  print(\"esse não é um inteiro válido\")\n",
        "\n",
        "for i in range(1,numero+1,1):\n",
        "    if i%2==1:\n",
        "      print(i)"
      ],
      "execution_count": null,
      "outputs": [
        {
          "output_type": "stream",
          "text": [
            "Insira um número inteiro: 12\n",
            "1\n",
            "3\n",
            "5\n",
            "7\n",
            "9\n",
            "11\n"
          ],
          "name": "stdout"
        }
      ]
    },
    {
      "cell_type": "markdown",
      "metadata": {
        "id": "b5V398Hyx7Va"
      },
      "source": [
        "**Exercício 3**\n",
        "\n",
        "Faça um programa que receba dois números quaisquer (inteiros ou reais) e imprima na tela os números inteiros que estão no intervalo compreendido por eles."
      ]
    },
    {
      "cell_type": "code",
      "metadata": {
        "colab": {
          "base_uri": "https://localhost:8080/"
        },
        "id": "P1W96x9cx7l9",
        "outputId": "b6e016a9-d14e-48bb-d399-8501a0164853"
      },
      "source": [
        "try :\n",
        "  numero1 =float(input(\"Insira um número inteiro: \"))\n",
        "  numero2 =float(input(\"Insira outro número inteiro: \"))\n",
        "\n",
        "  for i in range(int(numero1),int(numero2+1),1):\n",
        "    if i>= numero1 and i<=numero2:\n",
        "      print(i)\n",
        "\n",
        "except:\n",
        "  print(\"esse não é um inteiro válido\")"
      ],
      "execution_count": null,
      "outputs": [
        {
          "output_type": "stream",
          "text": [
            "Insira um número inteiro: 10.1\n",
            "Insira outro número inteiro: 21.9\n",
            "11\n",
            "12\n",
            "13\n",
            "14\n",
            "15\n",
            "16\n",
            "17\n",
            "18\n",
            "19\n",
            "20\n",
            "21\n"
          ],
          "name": "stdout"
        }
      ]
    },
    {
      "cell_type": "markdown",
      "metadata": {
        "id": "3yVsU2E5ygf9"
      },
      "source": [
        "**Exercício 5**\n",
        "\n",
        "Faça um programa que leia uma quantidade indeterminada de números positivos e conte quantos deles estão nos seguintes intervalos: [0-25], [26-50], [51-75] e [76-100]. A entrada de dados deverá terminar quando for lido um número negativo."
      ]
    },
    {
      "cell_type": "code",
      "metadata": {
        "id": "4XH8AAdmygur",
        "colab": {
          "base_uri": "https://localhost:8080/"
        },
        "outputId": "eaf62fcc-35d8-4201-9643-079d5f3787e9"
      },
      "source": [
        "numero = 0\n",
        "while True:\n",
        "  try:\n",
        "    numero= float(input(\"Digite um número (para sair, digite um número negativo)\"))\n",
        "  except:\n",
        "    print (\"Valor inválido. Usando 0\")\n",
        "    numero = 0\n",
        "   \n",
        "  if numero < 0:\n",
        "    break\n",
        "  elif numero in range(0,26):\n",
        "    print (\"O numero {num} está no intervalo [0,25]\".format(num=numero))\n",
        "  elif numero in range(26,51):\n",
        "    print (\"O numero {num} está no intervalo [26,50]\".format(num=numero))\n",
        "  elif numero in range(51,76):\n",
        "    print (\"O numero {num} está no intervalo [51,75]\".format(num=numero))\n",
        "  elif numero in range(76,101):\n",
        "    print (\"O numero {num} está no intervalo [76,100]\".format(num=numero))\n",
        "  else:\n",
        "    print (\"O numero {num} está em outro intervalo\".format(num=numero))\n",
        "  \n",
        " \n"
      ],
      "execution_count": null,
      "outputs": [
        {
          "output_type": "stream",
          "text": [
            "Digite um número (para sair, digite um número negativo)m, \n",
            "Valor inválido. Usando 1\n",
            "O numero 1 está no intervalo [0,25]\n",
            "Digite um número (para sair, digite um número negativo)-1\n"
          ],
          "name": "stdout"
        }
      ]
    },
    {
      "cell_type": "markdown",
      "metadata": {
        "id": "JqJj2QKRyyFl"
      },
      "source": [
        "**Exercício 6**\n",
        "\n",
        "Desenvolver um programa para verificar a nota do aluno em uma prova com 10 questões, o programa deve perguntar ao aluno a resposta de cada questão e ao final comparar com o gabarito da prova e assim calcular o total\n",
        "de acertos e a nota (atribuir 1 ponto por resposta certa). \n",
        "Após cada aluno utilizar o sistema deve ser feita uma pergunta se outro aluno vai utilizar o sistema. \n",
        "Após todos os alunos terem respondido informar:\n",
        "* Maior e Menor Acerto;\n",
        "* Total de Alunos que utilizaram o sistema;\n",
        "* A Média das Notas da Turma"
      ]
    },
    {
      "cell_type": "code",
      "metadata": {
        "id": "AmjeChRQyyWN",
        "colab": {
          "base_uri": "https://localhost:8080/"
        },
        "outputId": "6124a752-04df-4442-fa0e-0e9761692de2"
      },
      "source": [
        "perguntas = {1:\"A ou B?\", 2:\"B ou C?\", 3:\"C ou D?\", 4:\"D ou E?\", 5:\"E ou D?\", 6:\"E ou D?\", 7:\"D ou C?\", 8:\"C ou B?\", 9:\"B ou C?\", 10:\"B ou A?\" } #Respostas de A a E\n",
        "gabaritos = {1:\"A\", 2:\"B\", 3:\"C\", 4:\"D\", 5:\"E\", 6:\"E\", 7:\"D\", 8:\"C\", 9:\"B\", 10:\"B\" } #Respostas de A a E\n",
        "\n",
        "#DEVE HAVER UMA SOLUÇÃO MAIS ELEGANTE, MAS ACABEI USANDO TRÊS LISTAS SEPARADAS\n",
        "NomesAlunos = [] \n",
        "RespostasAlunos = []\n",
        "NotasAlunos = []\n",
        "\n",
        "continuaProva=True\n",
        "while continuaProva == True:\n",
        "  NomesAlunos.append(input(\"Digite seu nome:\"))\n",
        "  \n",
        "  ordemPergunta = 0\n",
        "  nota=0\n",
        "  prova = []\n",
        "  for pergunta in perguntas.items():\n",
        "    prova.append(input (\"questão {o} : {q}\".format(o=pergunta[0],q= pergunta[1])))\n",
        "    nota = nota + (prova[ordemPergunta]==gabaritos[ordemPergunta+1])\n",
        "    ordemPergunta = ordemPergunta+1\n",
        "\n",
        "  RespostasAlunos.append(prova)\n",
        "  NotasAlunos.append(nota)\n",
        "\n",
        "\n",
        "  continua = input(\"Continua? (S/N)\")\n",
        "  if continua ==\"S\":\n",
        "    continuaProva = True\n",
        "  else:\n",
        "    continuaProva = False\n",
        "\n",
        "print (\"\\n\")\n",
        "print (\"Total de respondentes: {n}\".format(n=len(NomesAlunos)) )\n",
        "print (\"Menor nota: {n}\".format(n=min(NotasAlunos)) )\n",
        "print (\"Maior nota: {n}\".format(n=max(NotasAlunos)) )\n",
        "print (\"Média das notas: {n}\".format(n=sum(NotasAlunos)/len(NomesAlunos)) )\n",
        "print (\"\\n\")\n",
        "\n",
        "for i in range(0,len(NomesAlunos)):\n",
        "  print (\"Aluno: {nm} - Nota: {nt}\".format(nm=NomesAlunos[i], nt=NotasAlunos[i]))\n",
        "\n",
        "print(\"\\nListas utilizadas\")\n",
        "print (NomesAlunos)\n",
        "print (RespostasAlunos)\n",
        "print(NotasAlunos)"
      ],
      "execution_count": null,
      "outputs": [
        {
          "output_type": "stream",
          "text": [
            "Digite seu nome:ERIC\n",
            "questão 1 : A ou B?A\n",
            "questão 2 : B ou C?A\n",
            "questão 3 : C ou D?C\n",
            "questão 4 : D ou E?D\n",
            "questão 5 : E ou D?E\n",
            "questão 6 : E ou D?E\n",
            "questão 7 : D ou C?D\n",
            "questão 8 : C ou B?E\n",
            "questão 9 : B ou C?B\n",
            "questão 10 : B ou A?B\n",
            "Continua? (S/N)S\n",
            "Digite seu nome:ANA\n",
            "questão 1 : A ou B?A\n",
            "questão 2 : B ou C?A\n",
            "questão 3 : C ou D?C\n",
            "questão 4 : D ou E?D\n",
            "questão 5 : E ou D?E\n",
            "questão 6 : E ou D?E\n",
            "questão 7 : D ou C?D\n",
            "questão 8 : C ou B?C\n",
            "questão 9 : B ou C?B\n",
            "questão 10 : B ou A?A\n",
            "Continua? (S/N)MARIA\n",
            "\n",
            "\n",
            "Total de respondentes: 2\n",
            "Menor nota: 8\n",
            "Maior nota: 8\n",
            "Média das notas: 8.0\n",
            "\n",
            "\n",
            "Aluno: ERIC - Nota: 8\n",
            "Aluno: ANA - Nota: 8\n",
            "\n",
            "Listas utilizadas\n",
            "['ERIC', 'ANA']\n",
            "[['A', 'A', 'C', 'D', 'E', 'E', 'D', 'E', 'B', 'B'], ['A', 'A', 'C', 'D', 'E', 'E', 'D', 'C', 'B', 'A']]\n",
            "[8, 8]\n"
          ],
          "name": "stdout"
        }
      ]
    },
    {
      "cell_type": "markdown",
      "metadata": {
        "id": "oiFEnHm1zcHU"
      },
      "source": [
        "# Desafio"
      ]
    },
    {
      "cell_type": "markdown",
      "metadata": {
        "id": "8M0EK5xShfKd"
      },
      "source": [
        "**1.** Escreva uma função, denominada Individuos, que receba o nome de um arquivo texto como resultado da pesquisa,crie e retorne uma tupla ou lista de indivíduos, em que cada indivíduo seja representa do como uma tupla ou lista com:\n",
        "\n",
        "* (número_de_identificação,sexo, idade, medicamento, (peso1,peso2,peso3),efeitocolateral)"
      ]
    },
    {
      "cell_type": "code",
      "metadata": {
        "colab": {
          "base_uri": "https://localhost:8080/"
        },
        "id": "Dq55BkhOhgS-",
        "outputId": "3116ad90-2650-433b-b4f3-2bd5da2fb80c"
      },
      "source": [
        "#Antes de começar, vamos montar o drive \n",
        "from google.colab import drive\n",
        "drive.mount(\"/content/drive\")\n",
        "\n",
        "import os\n",
        "os.chdir(\"/content/drive/My Drive/Treinamento/PUCBIMaster/PYTHON\")\n",
        "!ls\n"
      ],
      "execution_count": null,
      "outputs": [
        {
          "output_type": "stream",
          "text": [
            "Drive already mounted at /content/drive; to attempt to forcibly remount, call drive.mount(\"/content/drive\", force_remount=True).\n",
            "'Apostila - PLAY.ipynb'  'INTRODUÇÃO A LÓGICA DE PROGRAMAÇÃO COM PYTHON'\n",
            "'Criando ambientes.pdf'  'Jupyter Notebook.pdf'\n",
            " emagrecimento.txt\t 'SAD - PLAY - 2020.2 - Exercícios.pdf'\n",
            " IMAGENS\t\t 'SAD - PLAY - 2021.1.pdf'\n"
          ],
          "name": "stdout"
        }
      ]
    },
    {
      "cell_type": "code",
      "metadata": {
        "id": "XlepeCTMjkXM"
      },
      "source": [
        "#Dicionário auxiliar\n",
        "campo={\"numero_identificacao\":0, \"sexo\":1, \"idade\":2, \"medicamento\":3, \"peso1\":4, \"peso2\":5, \"peso3\":6, \"efeito_colateral\":7}\n",
        "\n",
        "def individuos(arq):\n",
        "  dados=[]\n",
        "  try: \n",
        "    arquivo = open(arq,\"r\",encoding=\"utf-8\")\n",
        "    for linha in arquivo:\n",
        "      dados.append(linha.strip(\"\\n\").split(\",\"))\n",
        "  except FileNotFoundError:\n",
        "    print (\"Arquivo {a} não existe\".format(a=arq))\n",
        "  except:\n",
        "    print (\"Erro ao tratar o arquivo {a}\".format(a=arq))\n",
        "    arquivo.close()\n",
        "  \n",
        "  return dados"
      ],
      "execution_count": null,
      "outputs": []
    },
    {
      "cell_type": "code",
      "metadata": {
        "colab": {
          "base_uri": "https://localhost:8080/"
        },
        "id": "fzHfZob6YFuv",
        "outputId": "7eff4943-f488-463e-874b-f741e6c774c6"
      },
      "source": [
        "#teste\n",
        "individuos(\"emagrecimento.txt\")"
      ],
      "execution_count": null,
      "outputs": [
        {
          "output_type": "execute_result",
          "data": {
            "text/plain": [
              "[['2020001', 'F', '18', 'X', '86.3', '83.1', '80.2', 'náusea'],\n",
              " ['2020002', 'F', '21', 'X', '86.3', '84.1', '83.2', 'dor de cabeça'],\n",
              " ['2020003', 'F', '32', 'A', '86.3', '84.1', '82.2', 'diarréia'],\n",
              " ['2020004', 'F', '22', 'X', '86.3', '81.1', '81.2', 'náusea'],\n",
              " ['2020005', 'M', '28', 'X', '86.3', '79.1', '75.2', 'nenhum'],\n",
              " ['2020006', 'F', '24', 'X', '86.3', '83.1', '80.2', 'visão turva'],\n",
              " ['2020007', 'F', '31', 'X', '86.3', '83.1', '80.2', 'náusea'],\n",
              " ['2020008', 'M', '21', 'X', '86.3', '82.1', '75.2', 'náusea'],\n",
              " ['2020009', 'F', '42', 'X', '82.3', '83.1', '80.2', 'visão turva'],\n",
              " ['2020010', 'M', '67', 'X', '86.3', '80.1', '70.2', 'náusea'],\n",
              " ['2020011', 'M', '78', 'X', '87.3', '83.1', '80.2', 'náusea'],\n",
              " ['2020012', 'F', '21', 'X', '96.3', '84.1', '73.2', 'dor de cabeça'],\n",
              " ['2020013', 'M', '15', 'A', '86.3', '84.1', '82.2', 'diarréia'],\n",
              " ['2020014', 'M', '64', 'X', '88.3', '81.1', '81.2', 'náusea'],\n",
              " ['2020015', 'F', '87', 'X', '87.3', '79.1', '75.2', 'nenhum'],\n",
              " ['2020016', 'M', '23', 'X', '83.3', '83.1', '80.2', 'visão turva'],\n",
              " ['2020017', 'F', '33', 'X', '86.3', '83.1', '80.2', 'náusea'],\n",
              " ['2020018', 'M', '54', 'X', '87.3', '82.1', '75.2', 'náusea'],\n",
              " ['2020019', 'F', '46', 'X', '86.3', '83.1', '80.2', 'visão turva'],\n",
              " ['2020020', 'M', '66', 'X', '84.3', '80.1', '70.2', 'náusea']]"
            ]
          },
          "metadata": {
            "tags": []
          },
          "execution_count": 132
        }
      ]
    },
    {
      "cell_type": "markdown",
      "metadata": {
        "id": "p1gAadWKVyFN"
      },
      "source": [
        "**2**. Escreva uma função, denominada UmEfeitoColateral, que receba a tupla ou lista de indivíduos resultante do item 1 e\n",
        "um efeito colateral, e retorne uma nova tupla ou lista apenas com as tuplas ou listas correspondentes aos indivíduos\n",
        "que tiveram esse efeito colateral. Obs: não devem ser criadas novas tuplas ou listas para os indivíduos."
      ]
    },
    {
      "cell_type": "code",
      "metadata": {
        "id": "mcr4Nck6VyO1"
      },
      "source": [
        "def umEfeitoColateral(lstEntrada, strEfeitoColateral):\n",
        "  individuos = list(lstEntrada)\n",
        "  ec = str(strEfeitoColateral)\n",
        "  saida = []\n",
        "  for individuo in individuos:\n",
        "    if individuo[campo['efeito_colateral']]==ec:\n",
        "      saida.append(individuo)\n",
        "  \n",
        "  return saida\n"
      ],
      "execution_count": null,
      "outputs": []
    },
    {
      "cell_type": "code",
      "metadata": {
        "colab": {
          "base_uri": "https://localhost:8080/"
        },
        "id": "o1btkWYBYKy-",
        "outputId": "ddc446e5-3cf4-46ec-b273-07bc0efe4527"
      },
      "source": [
        "umEfeitoColateral(individuos(\"emagrecimento.txt\"),\"dor de cabeça\")"
      ],
      "execution_count": null,
      "outputs": [
        {
          "output_type": "execute_result",
          "data": {
            "text/plain": [
              "[['2020002', 'F', '21', 'X', '86.3', '84.1', '83.2', 'dor de cabeça'],\n",
              " ['2020012', 'F', '21', 'X', '96.3', '84.1', '73.2', 'dor de cabeça']]"
            ]
          },
          "metadata": {
            "tags": []
          },
          "execution_count": 136
        }
      ]
    },
    {
      "cell_type": "markdown",
      "metadata": {
        "id": "17CTG8w0YcAu"
      },
      "source": [
        "**3**. Escreva uma função, denominada minMaxPerda, que receba a tupla ou lista de indivíduos resultante do item 1 e, considerando perda = peso3-peso1, retorne uma tupla ou lista com:\n",
        ">( (MenorPerda, indivíduoDeMenorPerda), (MaiorPerda, indivíduoDeMaiorPerda))\n",
        "\n",
        "Obs: indivíduoDeMenorPerda e indivíduoDeMaiorPerda são a tupla ou lista correspondente ao indivíduoDeMenorPerda\n",
        "e a tupla ou lista correspondente ao indivíduoDeMaiorPerda"
      ]
    },
    {
      "cell_type": "code",
      "metadata": {
        "id": "s_muccTFYcON"
      },
      "source": [
        "def minMaxPerda (lstEntrada):\n",
        "  individuos = list(lstEntrada)\n",
        "  saida = []\n",
        "  imenor = []\n",
        "  imaior = []\n",
        "  menorPerda = float(\"infinity\")\n",
        "  maiorPerda = -float(\"infinity\")\n",
        "  \n",
        "  for individuo in individuos:\n",
        "    perda = round(float(individuo[campo['peso1']])-float(individuo[campo['peso3']]),2)\n",
        "    if perda < menorPerda :\n",
        "      imenor=[perda,individuo]\n",
        "      menorPerda = perda\n",
        "    \n",
        "    if perda > maiorPerda:\n",
        "      imaior=[perda,individuo]\n",
        "      maiorPerda = perda\n",
        "\n",
        "\n",
        "  saida.append(imenor)  \n",
        "  saida.append(imaior)\n",
        "  return saida\n"
      ],
      "execution_count": null,
      "outputs": []
    },
    {
      "cell_type": "code",
      "metadata": {
        "colab": {
          "base_uri": "https://localhost:8080/"
        },
        "id": "cvRQn-_cbrVh",
        "outputId": "87005cab-6015-4141-8504-0803166904dc"
      },
      "source": [
        "#teste\n",
        "minMaxPerda(individuos(\"emagrecimento.txt\"))\n"
      ],
      "execution_count": null,
      "outputs": [
        {
          "output_type": "execute_result",
          "data": {
            "text/plain": [
              "[[2.1, ['2020009', 'F', '42', 'X', '82.3', '83.1', '80.2', 'visão turva']],\n",
              " [23.1, ['2020012', 'F', '21', 'X', '96.3', '84.1', '73.2', 'dor de cabeça']]]"
            ]
          },
          "metadata": {
            "tags": []
          },
          "execution_count": 138
        }
      ]
    },
    {
      "cell_type": "markdown",
      "metadata": {
        "id": "KJXv6ChBhuN6"
      },
      "source": [
        "**4.** Escreva uma função, denominada avaliacaoIndividuo, que receba uma tupla ou lista com os dados de um único indivíduo como\n",
        "descrito no item 1 e retorne um nova tupla ou lista com: (número_de_identificação, sexo, idade, medicamento, resultado ,\n",
        "efeito_colateral)\n",
        "> O resultado é obtido através da análise dos 3 pesos da seguinte forma: se peso3 > = peso1 então resultado é igual a “SEM\n",
        "PERDA” do contrário, SE peso1> peso2 E peso2 > peso3 então resultado igual a “PERDA CONTÍNUA” senão resultado igual a “PERDA OSCILANTE”"
      ]
    },
    {
      "cell_type": "code",
      "metadata": {
        "id": "jP8ijaC5huvG"
      },
      "source": [
        "def avaliacaoIndividuo (lstIndividuo):\n",
        "  individuo = list(lstIndividuo)\n",
        "  resultado = \"N/D\"\n",
        "\n",
        "  if individuo[campo['peso3']] >= individuo[campo['peso1']]:\n",
        "    resultado = \"SEM PERDA\"\n",
        "  elif individuo[campo['peso1']] > individuo[campo['peso2']] and individuo[campo['peso2']] > individuo[campo['peso3']]:\n",
        "    resultado = \"PERDA CONTINUA\"\n",
        "  else:\n",
        "    resultado = \"PERDA OSCILANTE\"\n",
        "  \n",
        "  individuo.append(resultado)\n",
        "  return individuo"
      ],
      "execution_count": null,
      "outputs": []
    },
    {
      "cell_type": "code",
      "metadata": {
        "colab": {
          "base_uri": "https://localhost:8080/"
        },
        "id": "htZ3FB-rif4x",
        "outputId": "4eb30369-c7df-4d95-c8e7-e0c96b05597d"
      },
      "source": [
        "#teste\n",
        "avaliacaoIndividuo(individuos(\"emagrecimento.txt\")[19])"
      ],
      "execution_count": null,
      "outputs": [
        {
          "output_type": "execute_result",
          "data": {
            "text/plain": [
              "['2020020', 'M', '66', 'X', '84.3', '80.1', '70.2', 'náusea', 'PERDA CONTINUA']"
            ]
          },
          "metadata": {
            "tags": []
          },
          "execution_count": 141
        }
      ]
    },
    {
      "cell_type": "markdown",
      "metadata": {
        "id": "VerRnymRuSDL"
      },
      "source": [
        "**5**. Escreva uma função, denominada criaAvaliacoes, que receba a tupla ou lista de indivíduos retornada no item 1 e retorne uma\n",
        "tupla de tuplas ou lista de listas correspondentes às avaliações dos resultados dos indivíduos. Para isso, deve ser utilizada a função do item 4."
      ]
    },
    {
      "cell_type": "code",
      "metadata": {
        "id": "arIkXhKjuSYh"
      },
      "source": [
        "def criaAvaliacoes(lstIndividuos):\n",
        "  individuos = list(lstIndividuos)\n",
        "  saida=[]\n",
        "\n",
        "  for individuo in individuos:\n",
        "    saida.append(avaliacaoIndividuo(individuo))\n",
        "\n",
        "  return saida"
      ],
      "execution_count": null,
      "outputs": []
    },
    {
      "cell_type": "code",
      "metadata": {
        "id": "6KThtQ0FunGJ",
        "colab": {
          "base_uri": "https://localhost:8080/"
        },
        "outputId": "3adf0925-d76a-43e4-be8b-9969346b8377"
      },
      "source": [
        "criaAvaliacoes(individuos(\"emagrecimento.txt\"))"
      ],
      "execution_count": null,
      "outputs": [
        {
          "output_type": "execute_result",
          "data": {
            "text/plain": [
              "[['2020001',\n",
              "  'F',\n",
              "  '18',\n",
              "  'X',\n",
              "  '86.3',\n",
              "  '83.1',\n",
              "  '80.2',\n",
              "  'náusea',\n",
              "  'PERDA CONTINUA'],\n",
              " ['2020002',\n",
              "  'F',\n",
              "  '21',\n",
              "  'X',\n",
              "  '86.3',\n",
              "  '84.1',\n",
              "  '83.2',\n",
              "  'dor de cabeça',\n",
              "  'PERDA CONTINUA'],\n",
              " ['2020003',\n",
              "  'F',\n",
              "  '32',\n",
              "  'A',\n",
              "  '86.3',\n",
              "  '84.1',\n",
              "  '82.2',\n",
              "  'diarréia',\n",
              "  'PERDA CONTINUA'],\n",
              " ['2020004',\n",
              "  'F',\n",
              "  '22',\n",
              "  'X',\n",
              "  '86.3',\n",
              "  '81.1',\n",
              "  '81.2',\n",
              "  'náusea',\n",
              "  'PERDA OSCILANTE'],\n",
              " ['2020005',\n",
              "  'M',\n",
              "  '28',\n",
              "  'X',\n",
              "  '86.3',\n",
              "  '79.1',\n",
              "  '75.2',\n",
              "  'nenhum',\n",
              "  'PERDA CONTINUA'],\n",
              " ['2020006',\n",
              "  'F',\n",
              "  '24',\n",
              "  'X',\n",
              "  '86.3',\n",
              "  '83.1',\n",
              "  '80.2',\n",
              "  'visão turva',\n",
              "  'PERDA CONTINUA'],\n",
              " ['2020007',\n",
              "  'F',\n",
              "  '31',\n",
              "  'X',\n",
              "  '86.3',\n",
              "  '83.1',\n",
              "  '80.2',\n",
              "  'náusea',\n",
              "  'PERDA CONTINUA'],\n",
              " ['2020008',\n",
              "  'M',\n",
              "  '21',\n",
              "  'X',\n",
              "  '86.3',\n",
              "  '82.1',\n",
              "  '75.2',\n",
              "  'náusea',\n",
              "  'PERDA CONTINUA'],\n",
              " ['2020009',\n",
              "  'F',\n",
              "  '42',\n",
              "  'X',\n",
              "  '82.3',\n",
              "  '83.1',\n",
              "  '80.2',\n",
              "  'visão turva',\n",
              "  'PERDA OSCILANTE'],\n",
              " ['2020010',\n",
              "  'M',\n",
              "  '67',\n",
              "  'X',\n",
              "  '86.3',\n",
              "  '80.1',\n",
              "  '70.2',\n",
              "  'náusea',\n",
              "  'PERDA CONTINUA'],\n",
              " ['2020011',\n",
              "  'M',\n",
              "  '78',\n",
              "  'X',\n",
              "  '87.3',\n",
              "  '83.1',\n",
              "  '80.2',\n",
              "  'náusea',\n",
              "  'PERDA CONTINUA'],\n",
              " ['2020012',\n",
              "  'F',\n",
              "  '21',\n",
              "  'X',\n",
              "  '96.3',\n",
              "  '84.1',\n",
              "  '73.2',\n",
              "  'dor de cabeça',\n",
              "  'PERDA CONTINUA'],\n",
              " ['2020013',\n",
              "  'M',\n",
              "  '15',\n",
              "  'A',\n",
              "  '86.3',\n",
              "  '84.1',\n",
              "  '82.2',\n",
              "  'diarréia',\n",
              "  'PERDA CONTINUA'],\n",
              " ['2020014',\n",
              "  'M',\n",
              "  '64',\n",
              "  'X',\n",
              "  '88.3',\n",
              "  '81.1',\n",
              "  '81.2',\n",
              "  'náusea',\n",
              "  'PERDA OSCILANTE'],\n",
              " ['2020015',\n",
              "  'F',\n",
              "  '87',\n",
              "  'X',\n",
              "  '87.3',\n",
              "  '79.1',\n",
              "  '75.2',\n",
              "  'nenhum',\n",
              "  'PERDA CONTINUA'],\n",
              " ['2020016',\n",
              "  'M',\n",
              "  '23',\n",
              "  'X',\n",
              "  '83.3',\n",
              "  '83.1',\n",
              "  '80.2',\n",
              "  'visão turva',\n",
              "  'PERDA CONTINUA'],\n",
              " ['2020017',\n",
              "  'F',\n",
              "  '33',\n",
              "  'X',\n",
              "  '86.3',\n",
              "  '83.1',\n",
              "  '80.2',\n",
              "  'náusea',\n",
              "  'PERDA CONTINUA'],\n",
              " ['2020018',\n",
              "  'M',\n",
              "  '54',\n",
              "  'X',\n",
              "  '87.3',\n",
              "  '82.1',\n",
              "  '75.2',\n",
              "  'náusea',\n",
              "  'PERDA CONTINUA'],\n",
              " ['2020019',\n",
              "  'F',\n",
              "  '46',\n",
              "  'X',\n",
              "  '86.3',\n",
              "  '83.1',\n",
              "  '80.2',\n",
              "  'visão turva',\n",
              "  'PERDA CONTINUA'],\n",
              " ['2020020',\n",
              "  'M',\n",
              "  '66',\n",
              "  'X',\n",
              "  '84.3',\n",
              "  '80.1',\n",
              "  '70.2',\n",
              "  'náusea',\n",
              "  'PERDA CONTINUA']]"
            ]
          },
          "metadata": {
            "tags": []
          },
          "execution_count": 147
        }
      ]
    },
    {
      "cell_type": "markdown",
      "metadata": {
        "id": "76p0mDrUvfCB"
      },
      "source": [
        "**6**. Escreva uma função, denominada criaDicDeMedicamento, que receba a tupla ou lista de indivíduos retornada no item 1 e retorne um dicionário em que cada elemento seja:\n",
        ">MEDICAMENTO: quantidade_de_individuos_desse_medicamento"
      ]
    },
    {
      "cell_type": "code",
      "metadata": {
        "id": "kAIl2yKYvfg0"
      },
      "source": [
        "def criaDicDeMedicamento(lstIndividuos):\n",
        "  individuos = list(lstIndividuos)\n",
        "  saida = {}\n",
        "  medicamento =\"\"\n",
        "\n",
        "  for individuo in individuos:\n",
        "    medicamento = individuo[campo['medicamento']]\n",
        "    if medicamento in saida:\n",
        "      saida[medicamento] = saida[medicamento]+1\n",
        "    else:\n",
        "      saida[medicamento]=1\n",
        "\n",
        "\n",
        "\n",
        "  return saida\n"
      ],
      "execution_count": null,
      "outputs": []
    },
    {
      "cell_type": "code",
      "metadata": {
        "id": "ZvKa9Vsovfy3",
        "colab": {
          "base_uri": "https://localhost:8080/"
        },
        "outputId": "1c55b37f-b67f-4cb1-8748-cfb491732eab"
      },
      "source": [
        "criaDicDeMedicamento(individuos(\"emagrecimento.txt\"))"
      ],
      "execution_count": null,
      "outputs": [
        {
          "output_type": "execute_result",
          "data": {
            "text/plain": [
              "{'A': 2, 'X': 18}"
            ]
          },
          "metadata": {
            "tags": []
          },
          "execution_count": 149
        }
      ]
    },
    {
      "cell_type": "markdown",
      "metadata": {
        "id": "dJSmCPoQA8JE"
      },
      "source": [
        "**7**. Escreva uma função, denominada criaDicDeEfeitosColaterais, que receba a tupla ou lista de indivíduos retornada no item 1 e retorne um dicionário em que cada elemento seja:\n",
        ">Efeito_Colateral: lista com os números_de_identificação dos indivíduos que sentiram tal efeito colateral"
      ]
    },
    {
      "cell_type": "code",
      "metadata": {
        "id": "d6w31DayA93D"
      },
      "source": [
        "def criaDicDeEfeitosColaterais(lstIndividuos):\n",
        "  individuos = list(lstIndividuos)\n",
        "  saida = {}\n",
        "  efeitoColateral =\"\"\n",
        "\n",
        "  for individuo in individuos:\n",
        "    efeitoColateral = individuo[campo['efeito_colateral']]\n",
        "    if efeitoColateral in saida:\n",
        "      saida[efeitoColateral].append(individuo[campo['numero_identificacao']])\n",
        "\n",
        "    else:\n",
        "      saida[efeitoColateral]=[]\n",
        "      saida[efeitoColateral].append(individuo[campo['numero_identificacao']])\n",
        "\n",
        "  return saida\n"
      ],
      "execution_count": null,
      "outputs": []
    },
    {
      "cell_type": "code",
      "metadata": {
        "id": "4oNU0mPTA9-t",
        "colab": {
          "base_uri": "https://localhost:8080/"
        },
        "outputId": "986cafcf-80f7-4cc9-e940-46eb6d406866"
      },
      "source": [
        "dic = criaDicDeEfeitosColaterais(individuos(\"emagrecimento.txt\"))\n",
        "dic['dor de cabeça']"
      ],
      "execution_count": null,
      "outputs": [
        {
          "output_type": "execute_result",
          "data": {
            "text/plain": [
              "['2020002', '2020012']"
            ]
          },
          "metadata": {
            "tags": []
          },
          "execution_count": 153
        }
      ]
    }
  ]
}