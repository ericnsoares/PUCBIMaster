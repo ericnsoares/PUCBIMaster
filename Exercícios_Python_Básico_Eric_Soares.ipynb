{
  "nbformat": 4,
  "nbformat_minor": 0,
  "metadata": {
    "colab": {
      "name": "Exercícios - Python Básico - Eric Soares.ipynb",
      "provenance": [],
      "collapsed_sections": [],
      "toc_visible": true,
      "authorship_tag": "ABX9TyMnMrVuz3WawTMASy5Bmko8",
      "include_colab_link": true
    },
    "kernelspec": {
      "name": "python3",
      "display_name": "Python 3"
    }
  },
  "cells": [
    {
      "cell_type": "markdown",
      "metadata": {
        "id": "view-in-github",
        "colab_type": "text"
      },
      "source": [
        "<a href=\"https://colab.research.google.com/github/ericnsoares/PUCBIMaster/blob/main/Exerc%C3%ADcios_Python_B%C3%A1sico_Eric_Soares.ipynb\" target=\"_parent\"><img src=\"https://colab.research.google.com/assets/colab-badge.svg\" alt=\"Open In Colab\"/></a>"
      ]
    },
    {
      "cell_type": "markdown",
      "metadata": {
        "id": "zrVfhcMMpyEf"
      },
      "source": [
        "# Estruturas Condicionais"
      ]
    },
    {
      "cell_type": "markdown",
      "metadata": {
        "id": "ZHHiLAuBpt2Z"
      },
      "source": [
        " **Exercício 1**\r\n",
        "\r\n",
        "Faça um programa que faça 5 perguntas para uma pessoa sobre um crime. As perguntas são:\r\n",
        "* \"Telefonou para a vítima?\"\r\n",
        "*\"Esteve no local do crime?\"\r\n",
        "*\"Mora perto da vítima?\"\r\n",
        "*\"Devia para a vítima?\"\r\n",
        "*\"Já trabalhou com a vítima?\"\r\n",
        "\r\n",
        "O programa deve no final emitir uma classificação sobre a participação da pessoa no crime. Se a pessoa responder positivamente a:\r\n",
        "* 2 questões ela deve ser classificada como \"Suspeita\", \r\n",
        "* entre 3 e 4 como \"Cúmplice\" e \r\n",
        "*5 como \"Assassino\".\r\n",
        "* Caso contrário, ele será classificado como \"Inocente\"."
      ]
    },
    {
      "cell_type": "code",
      "metadata": {
        "id": "ETW5H0iQpYZI",
        "colab": {
          "base_uri": "https://localhost:8080/"
        },
        "outputId": "cc5e9902-7a81-4a9e-f9f2-13f444c81464"
      },
      "source": [
        "perguntas=[\"Telefonou para a vítima?\",\"Esteve no local do crime?\",\"Mora perto da vítima?\",\"Devia para a vítima?\",\"Já trabalhou com a vítima?\"]\r\n",
        "contador=0\r\n",
        "\r\n",
        "for pergunta in perguntas:\r\n",
        "  resposta = input(pergunta+\" (s/n)\")\r\n",
        "  if resposta == \"s\":\r\n",
        "      contador+=1\r\n",
        "\r\n",
        "if contador == 5:\r\n",
        "    veredito = \"Assasino\"\r\n",
        "elif contador >=3:\r\n",
        "    veredito = \"Cúmplice\"\r\n",
        "elif contador == 2:\r\n",
        "    veredito = \"Suspeita\"\r\n",
        "else:\r\n",
        "    veredito = \"Inocente\"\r\n",
        "\r\n",
        "print (\"O veredito é :\", veredito)\r\n",
        "\r\n",
        "\r\n"
      ],
      "execution_count": null,
      "outputs": [
        {
          "output_type": "stream",
          "text": [
            "Telefonou para a vítima? (s/n)s\n",
            "Esteve no local do crime? (s/n)s\n",
            "Mora perto da vítima? (s/n)s\n",
            "Devia para a vítima? (s/n)\n",
            "Já trabalhou com a vítima? (s/n)\n",
            "O veredito é : Cúmplice\n"
          ],
          "name": "stdout"
        }
      ]
    },
    {
      "cell_type": "markdown",
      "metadata": {
        "id": "0rr9ldDUsArM"
      },
      "source": [
        "**Exercício 2** \r\n",
        "\r\n",
        "Um posto está vendendo combustíveis com a seguinte tabela de descontos:\r\n",
        "* Álcool:\r\n",
        ">* até 20 litros, desconto de 3% por litro\r\n",
        ">* acima de 20 litros, desconto de 5% por litro\r\n",
        "* Gasolina:\r\n",
        ">* até 20 litros, desconto de 4% por litro\r\n",
        ">* acima de 20 litros, desconto de 6% por litro\r\n",
        "\r\n",
        "Escreva um algoritmo que leia o número de litros vendidos, o tipo de combustível (codificado da seguinte forma: A- álcool, G-gasolina), calcule e imprima o valor a ser pago pelo cliente sabendo-se que o preço do litro da gasolina é 2,50 e o preço do litro do álcool é 1,90."
      ]
    },
    {
      "cell_type": "code",
      "metadata": {
        "id": "9QvMXqJisA9I",
        "colab": {
          "base_uri": "https://localhost:8080/"
        },
        "outputId": "5b044bc2-eb04-4f6d-8b6e-580f95c30aee"
      },
      "source": [
        "#inicializa as variáveis \r\n",
        "precos = {\"A\":1.90, \"G\":2.50}\r\n",
        "produtos = {\"A\":\"Álcool\", \"G\":\"Gasolina\"}\r\n",
        "\r\n",
        "desconto = 0\r\n",
        "quantidade = 0\r\n",
        "produto = \"\"\r\n",
        "\r\n",
        "#Anota o pedido\r\n",
        "produto=input(\"Qual é o produto? (A=Álcool / G=Gasolina)\").upper()\r\n",
        "if produto != \"A\" and produto !=\"G\":\r\n",
        "  print(\"Produto inválido. Usando Gasolina\\n\")\r\n",
        "  produto = \"G\"\r\n",
        "\r\n",
        "try:\r\n",
        "  quantidade = float(input(\"Qual a quantidade (litros)?\"))\r\n",
        "except:\r\n",
        "  print (\"Quantidade inválida. Usando 0.0\\n\")\r\n",
        "\r\n",
        " \r\n",
        "#Calcula o desconto\r\n",
        "if produto==\"A\":\r\n",
        "  if quantidade <=20:\r\n",
        "    desconto = 0.03\r\n",
        "  else:\r\n",
        "    desconto = 0.05\r\n",
        "\r\n",
        "elif produto==\"G\":\r\n",
        "  if quantidade <=20:\r\n",
        "    desconto = 0.04\r\n",
        "  else:\r\n",
        "    desconto = 0.06\r\n",
        "\r\n",
        "  \r\n",
        "#Calcula o total a pagar\r\n",
        "total = round(quantidade * precos[produto] * (1-desconto),2)\r\n",
        "\r\n",
        "#Mostra os resultados\r\n",
        "print(\"Produto: {prd}, Quantidade: {q}, Preço/l: R${pl}, Desconto: {d}%, Total a pagar: R${t}\".format(prd=produtos[produto], q=quantidade, pl=precos[produto], d=desconto*100, t=total))\r\n",
        "\r\n"
      ],
      "execution_count": 42,
      "outputs": [
        {
          "output_type": "stream",
          "text": [
            "Qual é o produto? (A=Álcool / G=Gasolina)a\n",
            "Qual a quantidade (litros)?34455\n",
            "Produto: Álcool, Quantidade: 34455.0, Preço/l: R$1.9, Desconto: 5.0%, Total a pagar: R$62191.27\n"
          ],
          "name": "stdout"
        }
      ]
    },
    {
      "cell_type": "markdown",
      "metadata": {
        "id": "qgszoQaSs_Tx"
      },
      "source": [
        "**Exercício 3**\r\n",
        "\r\n",
        "Faça um programa que calcule as raízes de uma equação do segundo grau, na forma ax2 + bx + c. O programa deverá pedir os valores de a, b e c e fazer as consistências, informando ao usuário nas seguintes situações:\r\n",
        "\r\n",
        "* Se o usuário informar o valor de A igual a zero, a equação não é do segundo grau e o programa não deve fazer pedir os demais valores,sendo encerrado;\r\n",
        "* Se o delta calculado for negativo,a equação não possui raizes reais. Informe ao usuário e encerre o programa;\r\n",
        "* Se o delta calculado for igual a zero a equação possui apenas uma raiz real; informe-a ao usuário;\r\n",
        "* Se o delta for positivo, a equação possui duas raiz reais; informe-as ao usuário;"
      ]
    },
    {
      "cell_type": "code",
      "metadata": {
        "id": "AHDBN0c8s_iA",
        "colab": {
          "base_uri": "https://localhost:8080/"
        },
        "outputId": "b7d1e8f7-7735-48c0-def5-3a0015ef787a"
      },
      "source": [
        "import math\r\n",
        "\r\n",
        "#equação do 2o grau: ax**2 + bx +c = 0.\r\n",
        "# x1 = -b+SQRT(Delta)/2*a\r\n",
        "# x2 = -b-SQRT(Delta)/2*a\r\n",
        "# Delta = b**2-4*a*c\r\n",
        "\r\n",
        "try:\r\n",
        "  a=float(input(\"a=\"))\r\n",
        "  b=float(input(\"b=\"))\r\n",
        "  c=float(input(\"c=\"))\r\n",
        "except:\r\n",
        "  print(\"Valores inválidos. Usando a=1, b=1, c=1\")\r\n",
        "  a=1\r\n",
        "  b=1\r\n",
        "  c=1\r\n",
        "finally:\r\n",
        "  if a==0:\r\n",
        "    print (\"Essa não é uma equação do 2o grau\")\r\n",
        "  else:\r\n",
        "    delta = (b**2)-(4*a*c)\r\n",
        "    print (\"Para a equacao {a}x2 + ({b}x) + ({c}) = 0, temos:\".format(a=a,b=b,c=c))\r\n",
        "    print (\"Delta = {d}\".format(d=delta))\r\n",
        "    if delta>=0:\r\n",
        "      x1 = (-b+math.sqrt(delta)) / (2*a)\r\n",
        "      x2 = (-b-math.sqrt(delta)) / (2*a)\r\n",
        "      if delta >0:\r\n",
        "        print (\"Duas raizes: x1 = {x1}, x2 = {x2}\".format(x1=x1,x2=x2))\r\n",
        "      else:  \r\n",
        "        print (\"Uma raiz: x = {x}\".format(x=x1))\r\n",
        "    else:\r\n",
        "      print(\"As raizes não são reais\")"
      ],
      "execution_count": 65,
      "outputs": [
        {
          "output_type": "stream",
          "text": [
            "a=2\n",
            "b=4\n",
            "c=-3\n",
            "Para a equacao 2.0x2 + (4.0x) + (-3.0) = 0, temos:\n",
            "Delta = 40.0\n",
            "Duas raizes: x1 = 0.5811388300841898, x2 = -2.58113883008419\n"
          ],
          "name": "stdout"
        }
      ]
    },
    {
      "cell_type": "markdown",
      "metadata": {
        "id": "sGc5ip09rc3M"
      },
      "source": [
        "# Estruturas de Repetição"
      ]
    },
    {
      "cell_type": "markdown",
      "metadata": {
        "id": "16NLg5xItwOR"
      },
      "source": [
        "**Exercício 1 e 4**\r\n",
        "\r\n",
        "Faça um programa que imprima na tela os números de 1 a 20, um abaixo do outro. Depois modifique o programa para que ele mostre os números um ao lado do outro."
      ]
    },
    {
      "cell_type": "code",
      "metadata": {
        "colab": {
          "base_uri": "https://localhost:8080/"
        },
        "id": "gjlvUHq2twct",
        "outputId": "5758126d-3913-42f3-9c04-e73fa617b6ba"
      },
      "source": [
        "lista= list(range(1,21))\r\n",
        "\r\n",
        "for i in lista:\r\n",
        "  print(i)\r\n",
        "\r\n",
        "print(lista)\r\n"
      ],
      "execution_count": 72,
      "outputs": [
        {
          "output_type": "stream",
          "text": [
            "1\n",
            "2\n",
            "3\n",
            "4\n",
            "5\n",
            "6\n",
            "7\n",
            "8\n",
            "9\n",
            "10\n",
            "11\n",
            "12\n",
            "13\n",
            "14\n",
            "15\n",
            "16\n",
            "17\n",
            "18\n",
            "19\n",
            "20\n",
            "[1, 2, 3, 4, 5, 6, 7, 8, 9, 10, 11, 12, 13, 14, 15, 16, 17, 18, 19, 20]\n"
          ],
          "name": "stdout"
        }
      ]
    },
    {
      "cell_type": "markdown",
      "metadata": {
        "id": "JQRdUO5MvVO2"
      },
      "source": [
        "**Exercício 2**\r\n",
        "\r\n",
        "Faça um programa que imprima na tela apenas os números ímpares entre 1 e um valor n informado pelo usuário."
      ]
    },
    {
      "cell_type": "code",
      "metadata": {
        "colab": {
          "base_uri": "https://localhost:8080/"
        },
        "id": "LFDbwUJ8vVe1",
        "outputId": "2494b368-c6b8-4721-c3cc-5c55314fadc3"
      },
      "source": [
        "try :\r\n",
        "  numero = 0\r\n",
        "  numero =int(input(\"Insira um número inteiro: \"))\r\n",
        "except:\r\n",
        "  print(\"esse não é um inteiro válido\")\r\n",
        "\r\n",
        "for i in range(1,numero+1,1):\r\n",
        "    if i%2==1:\r\n",
        "      print(i)"
      ],
      "execution_count": 79,
      "outputs": [
        {
          "output_type": "stream",
          "text": [
            "Insira um número inteiro: 12\n",
            "1\n",
            "3\n",
            "5\n",
            "7\n",
            "9\n",
            "11\n"
          ],
          "name": "stdout"
        }
      ]
    },
    {
      "cell_type": "markdown",
      "metadata": {
        "id": "b5V398Hyx7Va"
      },
      "source": [
        "**Exercício 3**\r\n",
        "\r\n",
        "Faça um programa que receba dois números quaisquer (inteiros ou reais) e imprima na tela os números inteiros que estão no intervalo compreendido por eles."
      ]
    },
    {
      "cell_type": "code",
      "metadata": {
        "colab": {
          "base_uri": "https://localhost:8080/"
        },
        "id": "P1W96x9cx7l9",
        "outputId": "b6e016a9-d14e-48bb-d399-8501a0164853"
      },
      "source": [
        "try :\r\n",
        "  numero1 =float(input(\"Insira um número inteiro: \"))\r\n",
        "  numero2 =float(input(\"Insira outro número inteiro: \"))\r\n",
        "\r\n",
        "  for i in range(int(numero1),int(numero2+1),1):\r\n",
        "    if i>= numero1 and i<=numero2:\r\n",
        "      print(i)\r\n",
        "\r\n",
        "except:\r\n",
        "  print(\"esse não é um inteiro válido\")"
      ],
      "execution_count": 85,
      "outputs": [
        {
          "output_type": "stream",
          "text": [
            "Insira um número inteiro: 10.1\n",
            "Insira outro número inteiro: 21.9\n",
            "11\n",
            "12\n",
            "13\n",
            "14\n",
            "15\n",
            "16\n",
            "17\n",
            "18\n",
            "19\n",
            "20\n",
            "21\n"
          ],
          "name": "stdout"
        }
      ]
    },
    {
      "cell_type": "markdown",
      "metadata": {
        "id": "3yVsU2E5ygf9"
      },
      "source": [
        "**Exercício 5**\r\n",
        "\r\n",
        "Faça um programa que leia uma quantidade indeterminada de números positivos e conte quantos deles estão nos seguintes intervalos: [0-25], [26-50], [51-75] e [76-100]. A entrada de dados deverá terminar quando for lido um número negativo."
      ]
    },
    {
      "cell_type": "code",
      "metadata": {
        "id": "4XH8AAdmygur",
        "colab": {
          "base_uri": "https://localhost:8080/"
        },
        "outputId": "eaf62fcc-35d8-4201-9643-079d5f3787e9"
      },
      "source": [
        "numero = 0\r\n",
        "while True:\r\n",
        "  try:\r\n",
        "    numero= float(input(\"Digite um número (para sair, digite um número negativo)\"))\r\n",
        "  except:\r\n",
        "    print (\"Valor inválido. Usando 0\")\r\n",
        "    numero = 0\r\n",
        "   \r\n",
        "  if numero < 0:\r\n",
        "    break\r\n",
        "  elif numero in range(0,26):\r\n",
        "    print (\"O numero {num} está no intervalo [0,25]\".format(num=numero))\r\n",
        "  elif numero in range(26,51):\r\n",
        "    print (\"O numero {num} está no intervalo [26,50]\".format(num=numero))\r\n",
        "  elif numero in range(51,76):\r\n",
        "    print (\"O numero {num} está no intervalo [51,75]\".format(num=numero))\r\n",
        "  elif numero in range(76,101):\r\n",
        "    print (\"O numero {num} está no intervalo [76,100]\".format(num=numero))\r\n",
        "  else:\r\n",
        "    print (\"O numero {num} está em outro intervalo\".format(num=numero))\r\n",
        "  \r\n",
        " \r\n"
      ],
      "execution_count": 102,
      "outputs": [
        {
          "output_type": "stream",
          "text": [
            "Digite um número (para sair, digite um número negativo)m, \n",
            "Valor inválido. Usando 1\n",
            "O numero 1 está no intervalo [0,25]\n",
            "Digite um número (para sair, digite um número negativo)-1\n"
          ],
          "name": "stdout"
        }
      ]
    },
    {
      "cell_type": "markdown",
      "metadata": {
        "id": "JqJj2QKRyyFl"
      },
      "source": [
        "**Exercício 6**\r\n",
        "\r\n",
        "Desenvolver um programa para verificar a nota do aluno em uma prova com 10 questões, o programa deve perguntar ao aluno a resposta de cada questão e ao final comparar com o gabarito da prova e assim calcular o total\r\n",
        "de acertos e a nota (atribuir 1 ponto por resposta certa). \r\n",
        "Após cada aluno utilizar o sistema deve ser feita uma pergunta se outro aluno vai utilizar o sistema. \r\n",
        "Após todos os alunos terem respondido informar:\r\n",
        "* Maior e Menor Acerto;\r\n",
        "* Total de Alunos que utilizaram o sistema;\r\n",
        "* A Média das Notas da Turma"
      ]
    },
    {
      "cell_type": "code",
      "metadata": {
        "id": "AmjeChRQyyWN",
        "colab": {
          "base_uri": "https://localhost:8080/"
        },
        "outputId": "6124a752-04df-4442-fa0e-0e9761692de2"
      },
      "source": [
        "perguntas = {1:\"A ou B?\", 2:\"B ou C?\", 3:\"C ou D?\", 4:\"D ou E?\", 5:\"E ou D?\", 6:\"E ou D?\", 7:\"D ou C?\", 8:\"C ou B?\", 9:\"B ou C?\", 10:\"B ou A?\" } #Respostas de A a E\r\n",
        "gabaritos = {1:\"A\", 2:\"B\", 3:\"C\", 4:\"D\", 5:\"E\", 6:\"E\", 7:\"D\", 8:\"C\", 9:\"B\", 10:\"B\" } #Respostas de A a E\r\n",
        "\r\n",
        "#DEVE HAVER UMA SOLUÇÃO MAIS ELEGANTE, MAS ACABEI USANDO TRÊS LISTAS SEPARADAS\r\n",
        "NomesAlunos = [] \r\n",
        "RespostasAlunos = []\r\n",
        "NotasAlunos = []\r\n",
        "\r\n",
        "continuaProva=True\r\n",
        "while continuaProva == True:\r\n",
        "  NomesAlunos.append(input(\"Digite seu nome:\"))\r\n",
        "  \r\n",
        "  ordemPergunta = 0\r\n",
        "  nota=0\r\n",
        "  prova = []\r\n",
        "  for pergunta in perguntas.items():\r\n",
        "    prova.append(input (\"questão {o} : {q}\".format(o=pergunta[0],q= pergunta[1])))\r\n",
        "    nota = nota + (prova[ordemPergunta]==gabaritos[ordemPergunta+1])\r\n",
        "    ordemPergunta = ordemPergunta+1\r\n",
        "\r\n",
        "  RespostasAlunos.append(prova)\r\n",
        "  NotasAlunos.append(nota)\r\n",
        "\r\n",
        "\r\n",
        "  continua = input(\"Continua? (S/N)\")\r\n",
        "  if continua ==\"S\":\r\n",
        "    continuaProva = True\r\n",
        "  else:\r\n",
        "    continuaProva = False\r\n",
        "\r\n",
        "print (\"\\n\")\r\n",
        "print (\"Total de respondentes: {n}\".format(n=len(NomesAlunos)) )\r\n",
        "print (\"Menor nota: {n}\".format(n=min(NotasAlunos)) )\r\n",
        "print (\"Maior nota: {n}\".format(n=max(NotasAlunos)) )\r\n",
        "print (\"Média das notas: {n}\".format(n=sum(NotasAlunos)/len(NomesAlunos)) )\r\n",
        "print (\"\\n\")\r\n",
        "\r\n",
        "for i in range(0,len(NomesAlunos)):\r\n",
        "  print (\"Aluno: {nm} - Nota: {nt}\".format(nm=NomesAlunos[i], nt=NotasAlunos[i]))\r\n",
        "\r\n",
        "print(\"\\nListas utilizadas\")\r\n",
        "print (NomesAlunos)\r\n",
        "print (RespostasAlunos)\r\n",
        "print(NotasAlunos)"
      ],
      "execution_count": 183,
      "outputs": [
        {
          "output_type": "stream",
          "text": [
            "Digite seu nome:ERIC\n",
            "questão 1 : A ou B?A\n",
            "questão 2 : B ou C?A\n",
            "questão 3 : C ou D?C\n",
            "questão 4 : D ou E?D\n",
            "questão 5 : E ou D?E\n",
            "questão 6 : E ou D?E\n",
            "questão 7 : D ou C?D\n",
            "questão 8 : C ou B?E\n",
            "questão 9 : B ou C?B\n",
            "questão 10 : B ou A?B\n",
            "Continua? (S/N)S\n",
            "Digite seu nome:ANA\n",
            "questão 1 : A ou B?A\n",
            "questão 2 : B ou C?A\n",
            "questão 3 : C ou D?C\n",
            "questão 4 : D ou E?D\n",
            "questão 5 : E ou D?E\n",
            "questão 6 : E ou D?E\n",
            "questão 7 : D ou C?D\n",
            "questão 8 : C ou B?C\n",
            "questão 9 : B ou C?B\n",
            "questão 10 : B ou A?A\n",
            "Continua? (S/N)MARIA\n",
            "\n",
            "\n",
            "Total de respondentes: 2\n",
            "Menor nota: 8\n",
            "Maior nota: 8\n",
            "Média das notas: 8.0\n",
            "\n",
            "\n",
            "Aluno: ERIC - Nota: 8\n",
            "Aluno: ANA - Nota: 8\n",
            "\n",
            "Listas utilizadas\n",
            "['ERIC', 'ANA']\n",
            "[['A', 'A', 'C', 'D', 'E', 'E', 'D', 'E', 'B', 'B'], ['A', 'A', 'C', 'D', 'E', 'E', 'D', 'C', 'B', 'A']]\n",
            "[8, 8]\n"
          ],
          "name": "stdout"
        }
      ]
    },
    {
      "cell_type": "markdown",
      "metadata": {
        "id": "oiFEnHm1zcHU"
      },
      "source": [
        "# Desafio"
      ]
    },
    {
      "cell_type": "markdown",
      "metadata": {
        "id": "8M0EK5xShfKd"
      },
      "source": [
        "1. Escreva uma função, denominada Individuos, que receba o nome de um arquivo texto como resultado da pesquisa,crie e retorne uma tupla ou lista de indivíduos, em que cada indivíduo seja representa do como uma tupla ou lista com:\r\n",
        "\r\n",
        "* (número_de_identificação,sexo, idade, medicamento, (peso1,peso2,peso3),efeitocolateral)"
      ]
    },
    {
      "cell_type": "code",
      "metadata": {
        "id": "Dq55BkhOhgS-",
        "outputId": "0d5a6367-9a5d-427b-efe5-a395de86caaf",
        "colab": {
          "base_uri": "https://localhost:8080/"
        }
      },
      "source": [
        "#Antes de começar, vamos montar o drive \r\n",
        "from google.colab import drive\r\n",
        "drive.mount(\"/content/drive\")\r\n",
        "\r\n",
        "import os\r\n",
        "os.chdir(\"/content/drive/My Drive/Treinamento/PUCBIMaster/PYTHON\")\r\n",
        "!ls\r\n"
      ],
      "execution_count": 190,
      "outputs": [
        {
          "output_type": "stream",
          "text": [
            "Drive already mounted at /content/drive; to attempt to forcibly remount, call drive.mount(\"/content/drive\", force_remount=True).\n",
            "'Apostila - PLAY.ipynb'  'INTRODUÇÃO A LÓGICA DE PROGRAMAÇÃO COM PYTHON'\n",
            "'Criando ambientes.pdf'  'Jupyter Notebook.pdf'\n",
            " emagrecimento.txt\t 'SAD - PLAY - 2020.2 - Exercícios.pdf'\n",
            " IMAGENS\t\t 'SAD - PLAY - 2021.1.pdf'\n"
          ],
          "name": "stdout"
        }
      ]
    },
    {
      "cell_type": "code",
      "metadata": {
        "id": "XlepeCTMjkXM",
        "outputId": "c003778c-b8f5-42e8-8a5e-5b6c6ad946dc",
        "colab": {
          "base_uri": "https://localhost:8080/"
        }
      },
      "source": [
        "def individuos(arq):\r\n",
        "  arquivo = open(arq,\"r\",encoding=\"utf-8\")\r\n",
        "  texto = arquivo.read()\r\n",
        "  return tuple(arquivo)\r\n",
        "\r\n",
        "individuos (\"emagrecimento.txt\")"
      ],
      "execution_count": 192,
      "outputs": [
        {
          "output_type": "execute_result",
          "data": {
            "text/plain": [
              "()"
            ]
          },
          "metadata": {
            "tags": []
          },
          "execution_count": 192
        }
      ]
    }
  ]
}