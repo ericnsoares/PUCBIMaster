{
  "nbformat": 4,
  "nbformat_minor": 0,
  "metadata": {
    "colab": {
      "name": "Exercícios - Python Básico - Eric Soares.ipynb",
      "provenance": [],
      "collapsed_sections": [],
      "toc_visible": true,
      "authorship_tag": "ABX9TyOs4U7zL+Gc+Mmzb3oHhtNG",
      "include_colab_link": true
    },
    "kernelspec": {
      "name": "python3",
      "display_name": "Python 3"
    }
  },
  "cells": [
    {
      "cell_type": "markdown",
      "metadata": {
        "id": "view-in-github",
        "colab_type": "text"
      },
      "source": [
        "<a href=\"https://colab.research.google.com/github/ericnsoares/PUCBIMaster/blob/main/Exerc%C3%ADcios_Python_B%C3%A1sico_Eric_Soares.ipynb\" target=\"_parent\"><img src=\"https://colab.research.google.com/assets/colab-badge.svg\" alt=\"Open In Colab\"/></a>"
      ]
    },
    {
      "cell_type": "markdown",
      "metadata": {
        "id": "zrVfhcMMpyEf"
      },
      "source": [
        "# Estruturas Condicionais"
      ]
    },
    {
      "cell_type": "markdown",
      "metadata": {
        "id": "ZHHiLAuBpt2Z"
      },
      "source": [
        " **Exercício 1**\r\n",
        "\r\n",
        "Faça um programa que faça 5 perguntas para uma pessoa sobre um crime. As perguntas são:\r\n",
        "* \"Telefonou para a vítima?\"\r\n",
        "*\"Esteve no local do crime?\"\r\n",
        "*\"Mora perto da vítima?\"\r\n",
        "*\"Devia para a vítima?\"\r\n",
        "*\"Já trabalhou com a vítima?\"\r\n",
        "\r\n",
        "O programa deve no final emitir uma classificação sobre a participação da pessoa no crime. Se a pessoa responder positivamente a:\r\n",
        "* 2 questões ela deve ser classificada como \"Suspeita\", \r\n",
        "* entre 3 e 4 como \"Cúmplice\" e \r\n",
        "*5 como \"Assassino\".\r\n",
        "* Caso contrário, ele será classificado como \"Inocente\"."
      ]
    },
    {
      "cell_type": "code",
      "metadata": {
        "id": "ETW5H0iQpYZI",
        "colab": {
          "base_uri": "https://localhost:8080/"
        },
        "outputId": "cc5e9902-7a81-4a9e-f9f2-13f444c81464"
      },
      "source": [
        "perguntas=[\"Telefonou para a vítima?\",\"Esteve no local do crime?\",\"Mora perto da vítima?\",\"Devia para a vítima?\",\"Já trabalhou com a vítima?\"]\r\n",
        "contador=0\r\n",
        "\r\n",
        "for pergunta in perguntas:\r\n",
        "  resposta = input(pergunta+\" (s/n)\")\r\n",
        "  if resposta == \"s\":\r\n",
        "      contador+=1\r\n",
        "\r\n",
        "if contador == 5:\r\n",
        "    veredito = \"Assasino\"\r\n",
        "elif contador >=3:\r\n",
        "    veredito = \"Cúmplice\"\r\n",
        "elif contador == 2:\r\n",
        "    veredito = \"Suspeita\"\r\n",
        "else:\r\n",
        "    veredito = \"Inocente\"\r\n",
        "\r\n",
        "print (\"O veredito é :\", veredito)\r\n",
        "\r\n",
        "\r\n"
      ],
      "execution_count": null,
      "outputs": [
        {
          "output_type": "stream",
          "text": [
            "Telefonou para a vítima? (s/n)s\n",
            "Esteve no local do crime? (s/n)s\n",
            "Mora perto da vítima? (s/n)s\n",
            "Devia para a vítima? (s/n)\n",
            "Já trabalhou com a vítima? (s/n)\n",
            "O veredito é : Cúmplice\n"
          ],
          "name": "stdout"
        }
      ]
    },
    {
      "cell_type": "markdown",
      "metadata": {
        "id": "0rr9ldDUsArM"
      },
      "source": [
        "**Exercício 2** \r\n",
        "\r\n",
        "Um posto está vendendo combustíveis com a seguinte tabela de descontos:\r\n",
        "* Álcool:\r\n",
        ">* até 20 litros, desconto de 3% por litro\r\n",
        ">* acima de 20 litros, desconto de 5% por litro\r\n",
        "* Gasolina:\r\n",
        ">* até 20 litros, desconto de 4% por litro\r\n",
        ">* acima de 20 litros, desconto de 6% por litro\r\n",
        "\r\n",
        "Escreva um algoritmo que leia o número de litros vendidos, o tipo de combustível (codificado da seguinte forma: A- álcool, G-gasolina), calcule e imprima o valor a ser pago pelo cliente sabendo-se que o preço do litro da gasolina é 2,50 e o preço do litro do álcool é 1,90."
      ]
    },
    {
      "cell_type": "code",
      "metadata": {
        "id": "9QvMXqJisA9I",
        "colab": {
          "base_uri": "https://localhost:8080/"
        },
        "outputId": "5b044bc2-eb04-4f6d-8b6e-580f95c30aee"
      },
      "source": [
        "#inicializa as variáveis \r\n",
        "precos = {\"A\":1.90, \"G\":2.50}\r\n",
        "produtos = {\"A\":\"Álcool\", \"G\":\"Gasolina\"}\r\n",
        "\r\n",
        "desconto = 0\r\n",
        "quantidade = 0\r\n",
        "produto = \"\"\r\n",
        "\r\n",
        "#Anota o pedido\r\n",
        "produto=input(\"Qual é o produto? (A=Álcool / G=Gasolina)\").upper()\r\n",
        "if produto != \"A\" and produto !=\"G\":\r\n",
        "  print(\"Produto inválido. Usando Gasolina\\n\")\r\n",
        "  produto = \"G\"\r\n",
        "\r\n",
        "try:\r\n",
        "  quantidade = float(input(\"Qual a quantidade (litros)?\"))\r\n",
        "except:\r\n",
        "  print (\"Quantidade inválida. Usando 0.0\\n\")\r\n",
        "\r\n",
        " \r\n",
        "#Calcula o desconto\r\n",
        "if produto==\"A\":\r\n",
        "  if quantidade <=20:\r\n",
        "    desconto = 0.03\r\n",
        "  else:\r\n",
        "    desconto = 0.05\r\n",
        "\r\n",
        "elif produto==\"G\":\r\n",
        "  if quantidade <=20:\r\n",
        "    desconto = 0.04\r\n",
        "  else:\r\n",
        "    desconto = 0.06\r\n",
        "\r\n",
        "  \r\n",
        "#Calcula o total a pagar\r\n",
        "total = round(quantidade * precos[produto] * (1-desconto),2)\r\n",
        "\r\n",
        "#Mostra os resultados\r\n",
        "print(\"Produto: {prd}, Quantidade: {q}, Preço/l: R${pl}, Desconto: {d}%, Total a pagar: R${t}\".format(prd=produtos[produto], q=quantidade, pl=precos[produto], d=desconto*100, t=total))\r\n",
        "\r\n"
      ],
      "execution_count": 42,
      "outputs": [
        {
          "output_type": "stream",
          "text": [
            "Qual é o produto? (A=Álcool / G=Gasolina)a\n",
            "Qual a quantidade (litros)?34455\n",
            "Produto: Álcool, Quantidade: 34455.0, Preço/l: R$1.9, Desconto: 5.0%, Total a pagar: R$62191.27\n"
          ],
          "name": "stdout"
        }
      ]
    },
    {
      "cell_type": "markdown",
      "metadata": {
        "id": "qgszoQaSs_Tx"
      },
      "source": [
        "**Exercício 3**\r\n",
        "\r\n",
        "Faça um programa que calcule as raízes de uma equação do segundo grau, na forma ax2 + bx + c. O programa deverá pedir os valores de a, b e c e fazer as consistências, informando ao usuário nas seguintes situações:\r\n",
        "\r\n",
        "* Se o usuário informar o valor de A igual a zero, a equação não é do segundo grau e o programa não deve fazer pedir os demais valores,sendo encerrado;\r\n",
        "* Se o delta calculado for negativo,a equação não possui raizes reais. Informe ao usuário e encerre o programa;\r\n",
        "* Se o delta calculado for igual a zero a equação possui apenas uma raiz real; informe-a ao usuário;\r\n",
        "* Se o delta for positivo, a equação possui duas raiz reais; informe-as ao usuário;"
      ]
    },
    {
      "cell_type": "code",
      "metadata": {
        "id": "AHDBN0c8s_iA",
        "colab": {
          "base_uri": "https://localhost:8080/"
        },
        "outputId": "b7d1e8f7-7735-48c0-def5-3a0015ef787a"
      },
      "source": [
        "import math\r\n",
        "\r\n",
        "#equação do 2o grau: ax**2 + bx +c = 0.\r\n",
        "# x1 = -b+SQRT(Delta)/2*a\r\n",
        "# x2 = -b-SQRT(Delta)/2*a\r\n",
        "# Delta = b**2-4*a*c\r\n",
        "\r\n",
        "try:\r\n",
        "  a=float(input(\"a=\"))\r\n",
        "  b=float(input(\"b=\"))\r\n",
        "  c=float(input(\"c=\"))\r\n",
        "except:\r\n",
        "  print(\"Valores inválidos. Usando a=1, b=1, c=1\")\r\n",
        "  a=1\r\n",
        "  b=1\r\n",
        "  c=1\r\n",
        "finally:\r\n",
        "  if a==0:\r\n",
        "    print (\"Essa não é uma equação do 2o grau\")\r\n",
        "  else:\r\n",
        "    delta = (b**2)-(4*a*c)\r\n",
        "    print (\"Para a equacao {a}x2 + ({b}x) + ({c}) = 0, temos:\".format(a=a,b=b,c=c))\r\n",
        "    print (\"Delta = {d}\".format(d=delta))\r\n",
        "    if delta>=0:\r\n",
        "      x1 = (-b+math.sqrt(delta)) / (2*a)\r\n",
        "      x2 = (-b-math.sqrt(delta)) / (2*a)\r\n",
        "      if delta >0:\r\n",
        "        print (\"Duas raizes: x1 = {x1}, x2 = {x2}\".format(x1=x1,x2=x2))\r\n",
        "      else:  \r\n",
        "        print (\"Uma raiz: x = {x}\".format(x=x1))\r\n",
        "    else:\r\n",
        "      print(\"As raizes não são reais\")"
      ],
      "execution_count": 65,
      "outputs": [
        {
          "output_type": "stream",
          "text": [
            "a=2\n",
            "b=4\n",
            "c=-3\n",
            "Para a equacao 2.0x2 + (4.0x) + (-3.0) = 0, temos:\n",
            "Delta = 40.0\n",
            "Duas raizes: x1 = 0.5811388300841898, x2 = -2.58113883008419\n"
          ],
          "name": "stdout"
        }
      ]
    },
    {
      "cell_type": "markdown",
      "metadata": {
        "id": "sGc5ip09rc3M"
      },
      "source": [
        "# Estruturas de Repetição"
      ]
    },
    {
      "cell_type": "markdown",
      "metadata": {
        "id": "16NLg5xItwOR"
      },
      "source": [
        "**Exercício 1 e 4**\r\n",
        "\r\n",
        "Faça um programa que imprima na tela os números de 1 a 20, um abaixo do outro. Depois modifique o programa para que ele mostre os números um ao lado do outro."
      ]
    },
    {
      "cell_type": "code",
      "metadata": {
        "colab": {
          "base_uri": "https://localhost:8080/"
        },
        "id": "gjlvUHq2twct",
        "outputId": "5758126d-3913-42f3-9c04-e73fa617b6ba"
      },
      "source": [
        "lista= list(range(1,21))\r\n",
        "\r\n",
        "for i in lista:\r\n",
        "  print(i)\r\n",
        "\r\n",
        "print(lista)\r\n"
      ],
      "execution_count": 72,
      "outputs": [
        {
          "output_type": "stream",
          "text": [
            "1\n",
            "2\n",
            "3\n",
            "4\n",
            "5\n",
            "6\n",
            "7\n",
            "8\n",
            "9\n",
            "10\n",
            "11\n",
            "12\n",
            "13\n",
            "14\n",
            "15\n",
            "16\n",
            "17\n",
            "18\n",
            "19\n",
            "20\n",
            "[1, 2, 3, 4, 5, 6, 7, 8, 9, 10, 11, 12, 13, 14, 15, 16, 17, 18, 19, 20]\n"
          ],
          "name": "stdout"
        }
      ]
    },
    {
      "cell_type": "markdown",
      "metadata": {
        "id": "JQRdUO5MvVO2"
      },
      "source": [
        "**Exercício 2**\r\n",
        "\r\n",
        "Faça um programa que imprima na tela apenas os números ímpares entre 1 e um valor n informado pelo usuário."
      ]
    },
    {
      "cell_type": "code",
      "metadata": {
        "colab": {
          "base_uri": "https://localhost:8080/"
        },
        "id": "LFDbwUJ8vVe1",
        "outputId": "2494b368-c6b8-4721-c3cc-5c55314fadc3"
      },
      "source": [
        "try :\r\n",
        "  numero = 0\r\n",
        "  numero =int(input(\"Insira um número inteiro: \"))\r\n",
        "except:\r\n",
        "  print(\"esse não é um inteiro válido\")\r\n",
        "\r\n",
        "for i in range(1,numero+1,1):\r\n",
        "    if i%2==1:\r\n",
        "      print(i)"
      ],
      "execution_count": 79,
      "outputs": [
        {
          "output_type": "stream",
          "text": [
            "Insira um número inteiro: 12\n",
            "1\n",
            "3\n",
            "5\n",
            "7\n",
            "9\n",
            "11\n"
          ],
          "name": "stdout"
        }
      ]
    },
    {
      "cell_type": "markdown",
      "metadata": {
        "id": "b5V398Hyx7Va"
      },
      "source": [
        "**Exercício 3**\r\n",
        "\r\n",
        "Faça um programa que receba dois números quaisquer (inteiros ou reais) e imprima na tela os números inteiros que estão no intervalo compreendido por eles."
      ]
    },
    {
      "cell_type": "code",
      "metadata": {
        "colab": {
          "base_uri": "https://localhost:8080/"
        },
        "id": "P1W96x9cx7l9",
        "outputId": "b6e016a9-d14e-48bb-d399-8501a0164853"
      },
      "source": [
        "try :\r\n",
        "  numero1 =float(input(\"Insira um número inteiro: \"))\r\n",
        "  numero2 =float(input(\"Insira outro número inteiro: \"))\r\n",
        "\r\n",
        "  for i in range(int(numero1),int(numero2+1),1):\r\n",
        "    if i>= numero1 and i<=numero2:\r\n",
        "      print(i)\r\n",
        "\r\n",
        "except:\r\n",
        "  print(\"esse não é um inteiro válido\")"
      ],
      "execution_count": 85,
      "outputs": [
        {
          "output_type": "stream",
          "text": [
            "Insira um número inteiro: 10.1\n",
            "Insira outro número inteiro: 21.9\n",
            "11\n",
            "12\n",
            "13\n",
            "14\n",
            "15\n",
            "16\n",
            "17\n",
            "18\n",
            "19\n",
            "20\n",
            "21\n"
          ],
          "name": "stdout"
        }
      ]
    },
    {
      "cell_type": "markdown",
      "metadata": {
        "id": "3yVsU2E5ygf9"
      },
      "source": [
        "**Exercício 5**\r\n",
        "\r\n",
        "Faça um programa que leia uma quantidade indeterminada de números positivos e conte quantos deles estão nos seguintes intervalos: [0-25], [26-50], [51-75] e [76-100]. A entrada de dados deverá terminar quando for lido um número negativo."
      ]
    },
    {
      "cell_type": "code",
      "metadata": {
        "id": "4XH8AAdmygur",
        "colab": {
          "base_uri": "https://localhost:8080/"
        },
        "outputId": "eaf62fcc-35d8-4201-9643-079d5f3787e9"
      },
      "source": [
        "numero = 0\r\n",
        "while True:\r\n",
        "  try:\r\n",
        "    numero= float(input(\"Digite um número (para sair, digite um número negativo)\"))\r\n",
        "  except:\r\n",
        "    print (\"Valor inválido. Usando 0\")\r\n",
        "    numero = 0\r\n",
        "   \r\n",
        "  if numero < 0:\r\n",
        "    break\r\n",
        "  elif numero in range(0,26):\r\n",
        "    print (\"O numero {num} está no intervalo [0,25]\".format(num=numero))\r\n",
        "  elif numero in range(26,51):\r\n",
        "    print (\"O numero {num} está no intervalo [26,50]\".format(num=numero))\r\n",
        "  elif numero in range(51,76):\r\n",
        "    print (\"O numero {num} está no intervalo [51,75]\".format(num=numero))\r\n",
        "  elif numero in range(76,101):\r\n",
        "    print (\"O numero {num} está no intervalo [76,100]\".format(num=numero))\r\n",
        "  else:\r\n",
        "    print (\"O numero {num} está em outro intervalo\".format(num=numero))\r\n",
        "  \r\n",
        " \r\n"
      ],
      "execution_count": 102,
      "outputs": [
        {
          "output_type": "stream",
          "text": [
            "Digite um número (para sair, digite um número negativo)m, \n",
            "Valor inválido. Usando 1\n",
            "O numero 1 está no intervalo [0,25]\n",
            "Digite um número (para sair, digite um número negativo)-1\n"
          ],
          "name": "stdout"
        }
      ]
    },
    {
      "cell_type": "markdown",
      "metadata": {
        "id": "JqJj2QKRyyFl"
      },
      "source": [
        "**Exercício 6**\r\n",
        "\r\n",
        "Desenvolver um programa para verificar a nota do aluno em uma prova com 10 questões, o programa deve perguntar ao aluno a resposta de cada questão e ao final comparar com o gabarito da prova e assim calcular o total\r\n",
        "de acertos e a nota (atribuir 1 ponto por resposta certa). \r\n",
        "Após cada aluno utilizar o sistema deve ser feita uma pergunta se outro aluno vai utilizar o sistema. \r\n",
        "Após todos os alunos terem respondido informar:\r\n",
        "* Maior e Menor Acerto;\r\n",
        "* Total de Alunos que utilizaram o sistema;\r\n",
        "* A Média das Notas da Turma"
      ]
    },
    {
      "cell_type": "code",
      "metadata": {
        "id": "AmjeChRQyyWN",
        "colab": {
          "base_uri": "https://localhost:8080/"
        },
        "outputId": "6124a752-04df-4442-fa0e-0e9761692de2"
      },
      "source": [
        "perguntas = {1:\"A ou B?\", 2:\"B ou C?\", 3:\"C ou D?\", 4:\"D ou E?\", 5:\"E ou D?\", 6:\"E ou D?\", 7:\"D ou C?\", 8:\"C ou B?\", 9:\"B ou C?\", 10:\"B ou A?\" } #Respostas de A a E\r\n",
        "gabaritos = {1:\"A\", 2:\"B\", 3:\"C\", 4:\"D\", 5:\"E\", 6:\"E\", 7:\"D\", 8:\"C\", 9:\"B\", 10:\"B\" } #Respostas de A a E\r\n",
        "\r\n",
        "#DEVE HAVER UMA SOLUÇÃO MAIS ELEGANTE, MAS ACABEI USANDO TRÊS LISTAS SEPARADAS\r\n",
        "NomesAlunos = [] \r\n",
        "RespostasAlunos = []\r\n",
        "NotasAlunos = []\r\n",
        "\r\n",
        "continuaProva=True\r\n",
        "while continuaProva == True:\r\n",
        "  NomesAlunos.append(input(\"Digite seu nome:\"))\r\n",
        "  \r\n",
        "  ordemPergunta = 0\r\n",
        "  nota=0\r\n",
        "  prova = []\r\n",
        "  for pergunta in perguntas.items():\r\n",
        "    prova.append(input (\"questão {o} : {q}\".format(o=pergunta[0],q= pergunta[1])))\r\n",
        "    nota = nota + (prova[ordemPergunta]==gabaritos[ordemPergunta+1])\r\n",
        "    ordemPergunta = ordemPergunta+1\r\n",
        "\r\n",
        "  RespostasAlunos.append(prova)\r\n",
        "  NotasAlunos.append(nota)\r\n",
        "\r\n",
        "\r\n",
        "  continua = input(\"Continua? (S/N)\")\r\n",
        "  if continua ==\"S\":\r\n",
        "    continuaProva = True\r\n",
        "  else:\r\n",
        "    continuaProva = False\r\n",
        "\r\n",
        "print (\"\\n\")\r\n",
        "print (\"Total de respondentes: {n}\".format(n=len(NomesAlunos)) )\r\n",
        "print (\"Menor nota: {n}\".format(n=min(NotasAlunos)) )\r\n",
        "print (\"Maior nota: {n}\".format(n=max(NotasAlunos)) )\r\n",
        "print (\"Média das notas: {n}\".format(n=sum(NotasAlunos)/len(NomesAlunos)) )\r\n",
        "print (\"\\n\")\r\n",
        "\r\n",
        "for i in range(0,len(NomesAlunos)):\r\n",
        "  print (\"Aluno: {nm} - Nota: {nt}\".format(nm=NomesAlunos[i], nt=NotasAlunos[i]))\r\n",
        "\r\n",
        "print(\"\\nListas utilizadas\")\r\n",
        "print (NomesAlunos)\r\n",
        "print (RespostasAlunos)\r\n",
        "print(NotasAlunos)"
      ],
      "execution_count": 183,
      "outputs": [
        {
          "output_type": "stream",
          "text": [
            "Digite seu nome:ERIC\n",
            "questão 1 : A ou B?A\n",
            "questão 2 : B ou C?A\n",
            "questão 3 : C ou D?C\n",
            "questão 4 : D ou E?D\n",
            "questão 5 : E ou D?E\n",
            "questão 6 : E ou D?E\n",
            "questão 7 : D ou C?D\n",
            "questão 8 : C ou B?E\n",
            "questão 9 : B ou C?B\n",
            "questão 10 : B ou A?B\n",
            "Continua? (S/N)S\n",
            "Digite seu nome:ANA\n",
            "questão 1 : A ou B?A\n",
            "questão 2 : B ou C?A\n",
            "questão 3 : C ou D?C\n",
            "questão 4 : D ou E?D\n",
            "questão 5 : E ou D?E\n",
            "questão 6 : E ou D?E\n",
            "questão 7 : D ou C?D\n",
            "questão 8 : C ou B?C\n",
            "questão 9 : B ou C?B\n",
            "questão 10 : B ou A?A\n",
            "Continua? (S/N)MARIA\n",
            "\n",
            "\n",
            "Total de respondentes: 2\n",
            "Menor nota: 8\n",
            "Maior nota: 8\n",
            "Média das notas: 8.0\n",
            "\n",
            "\n",
            "Aluno: ERIC - Nota: 8\n",
            "Aluno: ANA - Nota: 8\n",
            "\n",
            "Listas utilizadas\n",
            "['ERIC', 'ANA']\n",
            "[['A', 'A', 'C', 'D', 'E', 'E', 'D', 'E', 'B', 'B'], ['A', 'A', 'C', 'D', 'E', 'E', 'D', 'C', 'B', 'A']]\n",
            "[8, 8]\n"
          ],
          "name": "stdout"
        }
      ]
    },
    {
      "cell_type": "markdown",
      "metadata": {
        "id": "oiFEnHm1zcHU"
      },
      "source": [
        "# Desafio"
      ]
    },
    {
      "cell_type": "markdown",
      "metadata": {
        "id": "8M0EK5xShfKd"
      },
      "source": [
        "**1.** Escreva uma função, denominada Individuos, que receba o nome de um arquivo texto como resultado da pesquisa,crie e retorne uma tupla ou lista de indivíduos, em que cada indivíduo seja representa do como uma tupla ou lista com:\r\n",
        "\r\n",
        "* (número_de_identificação,sexo, idade, medicamento, (peso1,peso2,peso3),efeitocolateral)"
      ]
    },
    {
      "cell_type": "code",
      "metadata": {
        "colab": {
          "base_uri": "https://localhost:8080/"
        },
        "id": "Dq55BkhOhgS-",
        "outputId": "d117ba21-9220-43ea-ac43-bb34a4eb66ad"
      },
      "source": [
        "#Antes de começar, vamos montar o drive \r\n",
        "from google.colab import drive\r\n",
        "drive.mount(\"/content/drive\")\r\n",
        "\r\n",
        "import os\r\n",
        "os.chdir(\"/content/drive/My Drive/Treinamento/PUCBIMaster/PYTHON\")\r\n",
        "!ls\r\n"
      ],
      "execution_count": 2,
      "outputs": [
        {
          "output_type": "stream",
          "text": [
            "Mounted at /content/drive\n",
            "'Apostila - PLAY.ipynb'  'INTRODUÇÃO A LÓGICA DE PROGRAMAÇÃO COM PYTHON'\n",
            "'Criando ambientes.pdf'  'Jupyter Notebook.pdf'\n",
            " emagrecimento.txt\t 'SAD - PLAY - 2020.2 - Exercícios.pdf'\n",
            " IMAGENS\t\t 'SAD - PLAY - 2021.1.pdf'\n"
          ],
          "name": "stdout"
        }
      ]
    },
    {
      "cell_type": "code",
      "metadata": {
        "id": "XlepeCTMjkXM"
      },
      "source": [
        "#Dicionário auxiliar\r\n",
        "campo={\"numero_identificacao\":0, \"sexo\":1, \"idade\":2, \"medicamento\":3, \"peso1\":4, \"peso2\":5, \"peso3\":6, \"efeito_colateral\":7}\r\n",
        "\r\n",
        "def individuos(arq):\r\n",
        "  dados=[]\r\n",
        "  try: \r\n",
        "    arquivo = open(arq,\"r\",encoding=\"utf-8\")\r\n",
        "    for linha in arquivo:\r\n",
        "      dados.append(arquivo.readline().strip(\"\\n\").split(\",\"))\r\n",
        "  except FileNotFoundError:\r\n",
        "    print (\"Arquivo {a} não existe\".format(a=arq))\r\n",
        "  except:\r\n",
        "    print (\"Erro ao tratar o arquivo {a}\".format(a=arq))\r\n",
        "    arquivo.close()\r\n",
        "  \r\n",
        "  return dados"
      ],
      "execution_count": 57,
      "outputs": []
    },
    {
      "cell_type": "code",
      "metadata": {
        "colab": {
          "base_uri": "https://localhost:8080/"
        },
        "id": "fzHfZob6YFuv",
        "outputId": "54d5e95a-5b06-4fc4-82d0-9c86a0f7e7ec"
      },
      "source": [
        "#teste\r\n",
        "individuos(\"emagrecimento.txt\")"
      ],
      "execution_count": 15,
      "outputs": [
        {
          "output_type": "execute_result",
          "data": {
            "text/plain": [
              "[['2020002', 'F', '21', 'X', '86.3', '84.1', '83.2', 'dor de cabeça'],\n",
              " ['2020004', 'F', '22', 'X', '86.3', '81.1', '81.2', 'náusea'],\n",
              " ['2020006', 'F', '24', 'X', '86.3', '83.1', '80.2', 'visão turva'],\n",
              " ['2020008', 'M', '21', 'X', '86.3', '82.1', '75.2', 'náusea'],\n",
              " ['2020010', 'M', '67', 'X', '86.3', '80.1', '70.2', 'náusea'],\n",
              " ['2020012', 'F', '21', 'X', '96.3', '84.1', '73.2', 'dor de cabeça'],\n",
              " ['2020014', 'M', '64', 'X', '88.3', '81.1', '81.2', 'náusea'],\n",
              " ['2020016', 'M', '23', 'X', '83.3', '83.1', '80.2', 'visão turva'],\n",
              " ['2020018', 'M', '54', 'X', '87.3', '82.1', '75.2', 'náusea'],\n",
              " ['2020020', 'M', '66', 'X', '84.3', '80.1', '70.2', 'náusea']]"
            ]
          },
          "metadata": {
            "tags": []
          },
          "execution_count": 15
        }
      ]
    },
    {
      "cell_type": "markdown",
      "metadata": {
        "id": "p1gAadWKVyFN"
      },
      "source": [
        "**2**. Escreva uma função, denominada UmEfeitoColateral, que receba a tupla ou lista de indivíduos resultante do item 1 e\r\n",
        "um efeito colateral, e retorne uma nova tupla ou lista apenas com as tuplas ou listas correspondentes aos indivíduos\r\n",
        "que tiveram esse efeito colateral. Obs: não devem ser criadas novas tuplas ou listas para os indivíduos."
      ]
    },
    {
      "cell_type": "code",
      "metadata": {
        "id": "mcr4Nck6VyO1"
      },
      "source": [
        "def umEfeitoColateral(lstEntrada, strEfeitoColateral):\r\n",
        "  individuos = list(lstEntrada)\r\n",
        "  ec = str(strEfeitoColateral)\r\n",
        "  saida = []\r\n",
        "  for individuo in individuos:\r\n",
        "    if individuo[campo['efeito colateral']]==ec:\r\n",
        "      saida.append(individuo)\r\n",
        "  \r\n",
        "  return saida\r\n"
      ],
      "execution_count": 69,
      "outputs": []
    },
    {
      "cell_type": "code",
      "metadata": {
        "colab": {
          "base_uri": "https://localhost:8080/"
        },
        "id": "o1btkWYBYKy-",
        "outputId": "63b6b0b5-8162-41de-cb73-e6a9cce48274"
      },
      "source": [
        "umEfeitoColateral(individuos(\"emagrecimento.txt\"),\"dor de cabeça\")"
      ],
      "execution_count": 70,
      "outputs": [
        {
          "output_type": "execute_result",
          "data": {
            "text/plain": [
              "[['2020002', 'F', '21', 'X', '86.3', '84.1', '83.2', 'dor de cabeça'],\n",
              " ['2020012', 'F', '21', 'X', '96.3', '84.1', '73.2', 'dor de cabeça']]"
            ]
          },
          "metadata": {
            "tags": []
          },
          "execution_count": 70
        }
      ]
    },
    {
      "cell_type": "markdown",
      "metadata": {
        "id": "17CTG8w0YcAu"
      },
      "source": [
        "**3**. Escreva uma função, denominada minMaxPerda, que receba a tupla ou lista de indivíduos resultante do item 1 e, considerando perda = peso3-peso1, retorne uma tupla ou lista com:\r\n",
        ">( (MenorPerda, indivíduoDeMenorPerda), (MaiorPerda, indivíduoDeMaiorPerda))\r\n",
        "\r\n",
        "Obs: indivíduoDeMenorPerda e indivíduoDeMaiorPerda são a tupla ou lista correspondente ao indivíduoDeMenorPerda\r\n",
        "e a tupla ou lista correspondente ao indivíduoDeMaiorPerda"
      ]
    },
    {
      "cell_type": "code",
      "metadata": {
        "id": "s_muccTFYcON"
      },
      "source": [
        "def minMaxPerda (lstEntrada):\r\n",
        "  individuos = list(lstEntrada)\r\n",
        "  saida = []\r\n",
        "  imenor = []\r\n",
        "  imaior = []\r\n",
        "  menorPerda = float(\"infinity\")\r\n",
        "  maiorPerda = -float(\"infinity\")\r\n",
        "  \r\n",
        "  for individuo in individuos:\r\n",
        "    perda = round(float(individuo[campo['peso1']])-float(individuo[campo['peso3']]),2)\r\n",
        "    if perda < menorPerda :\r\n",
        "      imenor=[perda,individuo]\r\n",
        "      menorPerda = perda\r\n",
        "    \r\n",
        "    if perda > maiorPerda:\r\n",
        "      imaior=[perda,individuo]\r\n",
        "      maiorPerda = perda\r\n",
        "\r\n",
        "\r\n",
        "  saida.append(imenor)  \r\n",
        "  saida.append(imaior)\r\n",
        "  return saida\r\n"
      ],
      "execution_count": 71,
      "outputs": []
    },
    {
      "cell_type": "code",
      "metadata": {
        "colab": {
          "base_uri": "https://localhost:8080/"
        },
        "id": "cvRQn-_cbrVh",
        "outputId": "d1b6d3f4-8cbe-43e6-e3a7-ca1d226cee53"
      },
      "source": [
        "#teste\r\n",
        "minMaxPerda(individuos(\"emagrecimento.txt\"))\r\n"
      ],
      "execution_count": 72,
      "outputs": [
        {
          "output_type": "execute_result",
          "data": {
            "text/plain": [
              "[[3.1, ['2020002', 'F', '21', 'X', '86.3', '84.1', '83.2', 'dor de cabeça']],\n",
              " [23.1, ['2020012', 'F', '21', 'X', '96.3', '84.1', '73.2', 'dor de cabeça']]]"
            ]
          },
          "metadata": {
            "tags": []
          },
          "execution_count": 72
        }
      ]
    },
    {
      "cell_type": "markdown",
      "metadata": {
        "id": "KJXv6ChBhuN6"
      },
      "source": [
        "**4.** Escreva uma função, denominada avaliacaoIndividuo, que receba uma tupla ou lista com os dados de um único indivíduo como\r\n",
        "descrito no item 1 e retorne um nova tupla ou lista com: (número_de_identificação, sexo, idade, medicamento, resultado ,\r\n",
        "efeito_colateral)\r\n",
        "> O resultado é obtido através da análise dos 3 pesos da seguinte forma: se peso3 > = peso1 então resultado é igual a “SEM\r\n",
        "PERDA” do contrário, SE peso1> peso2 E peso2 > peso3 então resultado igual a “PERDA CONTÍNUA” senão resultado igual a “PERDA OSCILANTE”"
      ]
    },
    {
      "cell_type": "code",
      "metadata": {
        "id": "jP8ijaC5huvG"
      },
      "source": [
        "def avaliacaoIndividuo (lstIndividuo):\r\n",
        "  individuo = list(lstIndividuo)\r\n",
        "  resultado = \"N/D\"\r\n",
        "\r\n",
        "  if individuo[campo['peso3']] >= individuo[campo['peso1']]:\r\n",
        "    resultado = \"SEM PERDA\"\r\n",
        "  elif individuo[campo['peso1']] > individuo[campo['peso2']] and individuo[campo['peso2']] > individuo[campo['peso3']]:\r\n",
        "    resultado = \"PERDA CONTINUA\"\r\n",
        "  else:\r\n",
        "    resultado = \"PERDA OSCILANTE\"\r\n",
        "  \r\n",
        "  individuo.append(resultado)\r\n",
        "  return individuo"
      ],
      "execution_count": 79,
      "outputs": []
    },
    {
      "cell_type": "code",
      "metadata": {
        "colab": {
          "base_uri": "https://localhost:8080/"
        },
        "id": "htZ3FB-rif4x",
        "outputId": "00c726ca-0560-4e29-dd07-008ed94a8d2c"
      },
      "source": [
        "#teste\r\n",
        "avaliacaoIndividuo(individuos(\"emagrecimento.txt\")[7])"
      ],
      "execution_count": 88,
      "outputs": [
        {
          "output_type": "execute_result",
          "data": {
            "text/plain": [
              "['2020016',\n",
              " 'M',\n",
              " '23',\n",
              " 'X',\n",
              " '83.3',\n",
              " '83.1',\n",
              " '80.2',\n",
              " 'visão turva',\n",
              " 'PERDA CONTINUA']"
            ]
          },
          "metadata": {
            "tags": []
          },
          "execution_count": 88
        }
      ]
    },
    {
      "cell_type": "markdown",
      "metadata": {
        "id": "VerRnymRuSDL"
      },
      "source": [
        "**5**. Escreva uma função, denominada criaAvaliacoes, que receba a tupla ou lista de indivíduos retornada no item 1 e retorne uma\r\n",
        "tupla de tuplas ou lista de listas correspondentes às avaliações dos resultados dos indivíduos. Para isso, deve ser utilizada a função do item 4."
      ]
    },
    {
      "cell_type": "code",
      "metadata": {
        "id": "arIkXhKjuSYh"
      },
      "source": [
        "def criaAvaliacoes(lstIndividuos):\r\n",
        "  individuos = list(lstIndividuos)\r\n",
        "  saida=[]\r\n",
        "\r\n",
        "  for individuo in individuos:\r\n",
        "    saida.append(avaliacaoIndividuo(individuo))\r\n",
        "\r\n",
        "  return saida"
      ],
      "execution_count": 93,
      "outputs": []
    },
    {
      "cell_type": "code",
      "metadata": {
        "id": "6KThtQ0FunGJ",
        "outputId": "035a77a3-df7c-4cf0-8465-6ef366c08ca5",
        "colab": {
          "base_uri": "https://localhost:8080/"
        }
      },
      "source": [
        "criaAvaliacoes(individuos(\"emagrecimento.txt\"))"
      ],
      "execution_count": 94,
      "outputs": [
        {
          "output_type": "execute_result",
          "data": {
            "text/plain": [
              "[['2020002',\n",
              "  'F',\n",
              "  '21',\n",
              "  'X',\n",
              "  '86.3',\n",
              "  '84.1',\n",
              "  '83.2',\n",
              "  'dor de cabeça',\n",
              "  'PERDA CONTINUA'],\n",
              " ['2020004',\n",
              "  'F',\n",
              "  '22',\n",
              "  'X',\n",
              "  '86.3',\n",
              "  '81.1',\n",
              "  '81.2',\n",
              "  'náusea',\n",
              "  'PERDA OSCILANTE'],\n",
              " ['2020006',\n",
              "  'F',\n",
              "  '24',\n",
              "  'X',\n",
              "  '86.3',\n",
              "  '83.1',\n",
              "  '80.2',\n",
              "  'visão turva',\n",
              "  'PERDA CONTINUA'],\n",
              " ['2020008',\n",
              "  'M',\n",
              "  '21',\n",
              "  'X',\n",
              "  '86.3',\n",
              "  '82.1',\n",
              "  '75.2',\n",
              "  'náusea',\n",
              "  'PERDA CONTINUA'],\n",
              " ['2020010',\n",
              "  'M',\n",
              "  '67',\n",
              "  'X',\n",
              "  '86.3',\n",
              "  '80.1',\n",
              "  '70.2',\n",
              "  'náusea',\n",
              "  'PERDA CONTINUA'],\n",
              " ['2020012',\n",
              "  'F',\n",
              "  '21',\n",
              "  'X',\n",
              "  '96.3',\n",
              "  '84.1',\n",
              "  '73.2',\n",
              "  'dor de cabeça',\n",
              "  'PERDA CONTINUA'],\n",
              " ['2020014',\n",
              "  'M',\n",
              "  '64',\n",
              "  'X',\n",
              "  '88.3',\n",
              "  '81.1',\n",
              "  '81.2',\n",
              "  'náusea',\n",
              "  'PERDA OSCILANTE'],\n",
              " ['2020016',\n",
              "  'M',\n",
              "  '23',\n",
              "  'X',\n",
              "  '83.3',\n",
              "  '83.1',\n",
              "  '80.2',\n",
              "  'visão turva',\n",
              "  'PERDA CONTINUA'],\n",
              " ['2020018',\n",
              "  'M',\n",
              "  '54',\n",
              "  'X',\n",
              "  '87.3',\n",
              "  '82.1',\n",
              "  '75.2',\n",
              "  'náusea',\n",
              "  'PERDA CONTINUA'],\n",
              " ['2020020',\n",
              "  'M',\n",
              "  '66',\n",
              "  'X',\n",
              "  '84.3',\n",
              "  '80.1',\n",
              "  '70.2',\n",
              "  'náusea',\n",
              "  'PERDA CONTINUA']]"
            ]
          },
          "metadata": {
            "tags": []
          },
          "execution_count": 94
        }
      ]
    },
    {
      "cell_type": "markdown",
      "metadata": {
        "id": "76p0mDrUvfCB"
      },
      "source": [
        "**6**. Escreva uma função, denominada criaDicDeMedicamento, que receba a tupla ou lista de indivíduos retornada no item 1 e retorne um dicionário em que cada elemento seja:\r\n",
        ">MEDICAMENTO: quantidade_de_individuos_desse_medicamento"
      ]
    },
    {
      "cell_type": "code",
      "metadata": {
        "id": "kAIl2yKYvfg0"
      },
      "source": [
        "def criaDicDeMedicamento(lstIndividuos):\r\n",
        "  individuos = list(lstIndividuos)\r\n",
        "  saida = {}\r\n",
        "  medicamento =\"\"\r\n",
        "\r\n",
        "  for individuo in individuos:\r\n",
        "    medicamento = individuo[campo['medicamento']]\r\n",
        "    if medicamento in saida:\r\n",
        "      saida[medicamento] = saida[medicamento]+1\r\n",
        "    else:\r\n",
        "      saida[medicamento]=1\r\n",
        "\r\n",
        "\r\n",
        "\r\n",
        "  return saida\r\n"
      ],
      "execution_count": 104,
      "outputs": []
    },
    {
      "cell_type": "code",
      "metadata": {
        "id": "ZvKa9Vsovfy3",
        "outputId": "4a6dabb2-5e9f-4fbe-f8c1-afa9e39a85de",
        "colab": {
          "base_uri": "https://localhost:8080/"
        }
      },
      "source": [
        "criaDicDeMedicamento(individuos(\"emagrecimento.txt\"))"
      ],
      "execution_count": 106,
      "outputs": [
        {
          "output_type": "execute_result",
          "data": {
            "text/plain": [
              "{'X': 10}"
            ]
          },
          "metadata": {
            "tags": []
          },
          "execution_count": 106
        }
      ]
    }
  ]
}